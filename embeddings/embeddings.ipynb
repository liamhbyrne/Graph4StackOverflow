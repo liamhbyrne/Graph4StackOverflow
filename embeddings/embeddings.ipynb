{
 "cells": [
  {
   "cell_type": "markdown",
   "source": [
    "# Embeddings"
   ],
   "metadata": {
    "collapsed": false
   }
  },
  {
   "cell_type": "code",
   "execution_count": 10,
   "outputs": [],
   "source": [
    "import itertools\n",
    "import sqlite3\n",
    "from typing import List\n",
    "import itertools\n",
    "import pandas as pd\n",
    "from typing import *"
   ],
   "metadata": {
    "collapsed": false
   }
  },
  {
   "cell_type": "code",
   "execution_count": 4,
   "outputs": [],
   "source": [
    "# Create your connection.\n",
    "db = sqlite3.connect('../stackoverflow.db')"
   ],
   "metadata": {
    "collapsed": false
   }
  },
  {
   "cell_type": "code",
   "execution_count": 5,
   "outputs": [
    {
     "data": {
      "text/plain": "            TagName    Count\nTagId                       \n1              .net   323469\n2              html  1146245\n3        javascript  2426650\n4               css   771867\n5               php  1445747\n...             ...      ...\n158156  lost-update        1\n158157  chai-subset        1\n158159       at-spi        1\n158160          oro        0\n158161       sigsci        1\n\n[63653 rows x 2 columns]",
      "text/html": "<div>\n<style scoped>\n    .dataframe tbody tr th:only-of-type {\n        vertical-align: middle;\n    }\n\n    .dataframe tbody tr th {\n        vertical-align: top;\n    }\n\n    .dataframe thead th {\n        text-align: right;\n    }\n</style>\n<table border=\"1\" class=\"dataframe\">\n  <thead>\n    <tr style=\"text-align: right;\">\n      <th></th>\n      <th>TagName</th>\n      <th>Count</th>\n    </tr>\n    <tr>\n      <th>TagId</th>\n      <th></th>\n      <th></th>\n    </tr>\n  </thead>\n  <tbody>\n    <tr>\n      <th>1</th>\n      <td>.net</td>\n      <td>323469</td>\n    </tr>\n    <tr>\n      <th>2</th>\n      <td>html</td>\n      <td>1146245</td>\n    </tr>\n    <tr>\n      <th>3</th>\n      <td>javascript</td>\n      <td>2426650</td>\n    </tr>\n    <tr>\n      <th>4</th>\n      <td>css</td>\n      <td>771867</td>\n    </tr>\n    <tr>\n      <th>5</th>\n      <td>php</td>\n      <td>1445747</td>\n    </tr>\n    <tr>\n      <th>...</th>\n      <td>...</td>\n      <td>...</td>\n    </tr>\n    <tr>\n      <th>158156</th>\n      <td>lost-update</td>\n      <td>1</td>\n    </tr>\n    <tr>\n      <th>158157</th>\n      <td>chai-subset</td>\n      <td>1</td>\n    </tr>\n    <tr>\n      <th>158159</th>\n      <td>at-spi</td>\n      <td>1</td>\n    </tr>\n    <tr>\n      <th>158160</th>\n      <td>oro</td>\n      <td>0</td>\n    </tr>\n    <tr>\n      <th>158161</th>\n      <td>sigsci</td>\n      <td>1</td>\n    </tr>\n  </tbody>\n</table>\n<p>63653 rows × 2 columns</p>\n</div>"
     },
     "execution_count": 5,
     "metadata": {},
     "output_type": "execute_result"
    }
   ],
   "source": [
    "tag_df = pd.read_sql_query(\"SELECT * FROM Tag\", db)\n",
    "tag_df.set_index('TagId', inplace=True)\n",
    "tag_df"
   ],
   "metadata": {
    "collapsed": false
   }
  },
  {
   "cell_type": "code",
   "execution_count": null,
   "outputs": [],
   "source": [
    "POST_LIMIT = 500000\n",
    "post_df = pd.read_sql_query(f\"SELECT * FROM Post LIMIT {POST_LIMIT}\", db)\n",
    "post_df.set_index('PostId', inplace=True)\n",
    "post_df"
   ],
   "metadata": {
    "collapsed": false
   }
  },
  {
   "cell_type": "code",
   "execution_count": null,
   "outputs": [],
   "source": [
    "BADGE_LIMIT = 500000\n",
    "badge_df = pd.read_sql_query(f\"SELECT * FROM badge LIMIT {BADGE_LIMIT}\", db)\n",
    "badge_df.set_index('BadgeId', inplace=True)\n",
    "badge_df"
   ],
   "metadata": {
    "collapsed": false
   }
  },
  {
   "cell_type": "code",
   "execution_count": null,
   "outputs": [],
   "source": [
    "user_LIMIT = 500000\n",
    "user_df = pd.read_sql_query(f\"SELECT * FROM user LIMIT {user_LIMIT}\", db)\n",
    "user_df.set_index('UserId', inplace=True)\n",
    "user_df"
   ],
   "metadata": {
    "collapsed": false
   }
  },
  {
   "cell_type": "code",
   "execution_count": null,
   "outputs": [],
   "source": [
    "comment_LIMIT = 500000\n",
    "comment_df = pd.read_sql_query(f\"SELECT * FROM comment LIMIT {comment_LIMIT}\", db)\n",
    "comment_df.set_index('CommentId', inplace=True)\n",
    "comment_df"
   ],
   "metadata": {
    "collapsed": false
   }
  },
  {
   "cell_type": "code",
   "execution_count": null,
   "outputs": [],
   "source": [
    "vote_LIMIT = 500000\n",
    "vote_df = pd.read_sql_query(f\"SELECT * FROM vote LIMIT {vote_LIMIT}\", db)\n",
    "vote_df.set_index('VoteId', inplace=True)\n",
    "vote_df"
   ],
   "metadata": {
    "collapsed": false
   }
  },
  {
   "cell_type": "markdown",
   "source": [
    "So, we want to build an embedding for the body of posts.\n",
    "The body of posts are stored as HTML, we need to split up the text and the code snippets so we can process them separately."
   ],
   "metadata": {
    "collapsed": false
   }
  },
  {
   "cell_type": "code",
   "execution_count": null,
   "outputs": [],
   "source": [
    "sample_post = post_df.head(1)\n",
    "sample_post"
   ],
   "metadata": {
    "collapsed": false
   }
  },
  {
   "cell_type": "markdown",
   "source": [
    "Let's process the Body first"
   ],
   "metadata": {
    "collapsed": false
   }
  },
  {
   "cell_type": "code",
   "execution_count": 25,
   "outputs": [],
   "source": [
    "from bs4 import BeautifulSoup\n",
    "import spacy\n",
    "import torch\n",
    "import torch.nn as nn\n",
    "import torch.nn.functional as F\n",
    "import torch.optim as optim\n",
    "from torchtext.vocab import GloVe\n",
    "\n",
    "en = spacy.load('en_core_web_sm')\n",
    "stopwords = en.Defaults.stop_words"
   ],
   "metadata": {
    "collapsed": false
   }
  },
  {
   "cell_type": "code",
   "execution_count": null,
   "outputs": [],
   "source": [
    "class PostEmbedding(nn.Module):\n",
    "\n",
    "    def __init__(self):\n",
    "        super().__init__()\n",
    "        self._global_vectors = GloVe(name='840B', dim=300)\n",
    "\n",
    "    def forward(self, html: str, title: str, flatten=True) -> torch.tensor:\n",
    "        soup = BeautifulSoup(html)\n",
    "        ps = self.get_paragraphs(soup, title)\n",
    "        if flatten:\n",
    "            # Treat all paragraphs the same\n",
    "            ps = [token for para in ps for token in para]\n",
    "\n",
    "        para_emb = self.to_paragraph_embedding(ps)\n",
    "\n",
    "        code = self.get_code(soup)\n",
    "        return para_emb\n",
    "\n",
    "    def preprocess(self, text: str) -> List[str]:\n",
    "        doc = en(text.lower())\n",
    "        tokens = [word.text for word in doc if not (word.is_stop or word.is_punct or word.like_num)]\n",
    "        return tokens\n",
    "\n",
    "    def get_paragraphs(self, soup: BeautifulSoup, title: str=None) -> List[List[str]]:\n",
    "        paras = [self.preprocess(x.get_text()) for x in soup.find_all('p')]\n",
    "        # If title is available add it to the paragraphs\n",
    "        if title is not None:\n",
    "            paras += self.preprocess(title)\n",
    "        return paras\n",
    "\n",
    "    def to_paragraph_embedding(self, tokens: List[str]):\n",
    "        word_embeddings = self._global_vectors.get_vecs_by_tokens(tokens)\n",
    "        return torch.sum(word_embeddings, dim=0) / len(tokens)\n",
    "\n",
    "\n",
    "    def get_code(self, soup: BeautifulSoup) -> str:\n",
    "        return \"\\n\".join([x.get_text() for x in soup.find_all('code')])\n",
    "\n",
    "\n",
    "html = sample_post['Body'].item()\n",
    "\n",
    "embedding = PostEmbedding()\n",
    "embedding(html, sample_post['Title'].item())"
   ],
   "metadata": {
    "collapsed": false
   }
  },
  {
   "cell_type": "code",
   "execution_count": null,
   "outputs": [],
   "source": [
    "pe = PostEmbedding()\n",
    "post_df['code_snippets'] = post_df['Body'].apply(lambda html: pe.get_code(BeautifulSoup(html)))\n",
    "post_df"
   ],
   "metadata": {
    "collapsed": false
   }
  },
  {
   "cell_type": "code",
   "execution_count": null,
   "outputs": [],
   "source": [
    "import re\n",
    "\n",
    "python_class_name_pattern = r\"class ([a-zA-Z_$][a-zA-Z_$0-9]*)[:(]\"\n",
    "py_func_name_pattern = r\"def ([a-zA-Z_$][a-zA-Z_$0-9]*)\\(\"\n",
    "py_import_pattern = r\"(?m)^(?:from[ ]+(\\S+)[ ]+)?import[ ]+(\\S+)(?:[ ]+as[ ]+\\S+)?[ ]*$\"\n",
    "py_variable_names = r\"([a-zA-Z_$0-9]+)[ ]=\""
   ],
   "metadata": {
    "collapsed": false
   }
  },
  {
   "cell_type": "code",
   "execution_count": null,
   "outputs": [],
   "source": [
    "def find_code_features(code_snippet: str):\n",
    "    class_names = re.findall(python_class_name_pattern, code_snippet)\n",
    "    func_names = re.findall(py_func_name_pattern, code_snippet)\n",
    "    import_names = list(sum(re.findall(py_import_pattern, code_snippet), ()))\n",
    "    var_names = re.findall(py_variable_names, code_snippet)\n",
    "    # return {\n",
    "    #     'class_names' : class_names,\n",
    "    #     'func_names' : func_names,\n",
    "    #     'import_names' : import_names,\n",
    "    #     'var_names' : var_names\n",
    "    # }\n",
    "    return import_names\n",
    "\n",
    "post_df['import_names'] = post_df['code_snippets'].apply(find_code_features)"
   ],
   "metadata": {
    "collapsed": false
   }
  },
  {
   "cell_type": "code",
   "execution_count": null,
   "outputs": [],
   "source": [
    "post_df[['code_snippets', 'import_names']]"
   ],
   "metadata": {
    "collapsed": false
   }
  },
  {
   "cell_type": "code",
   "execution_count": null,
   "outputs": [],
   "source": [
    "a = post_df[['code_snippets', 'import_names']]\n",
    "a.dtypes"
   ],
   "metadata": {
    "collapsed": false
   }
  },
  {
   "cell_type": "markdown",
   "source": [
    "## Building the graph\n",
    "We want to build a user-expertise graph"
   ],
   "metadata": {
    "collapsed": false
   }
  },
  {
   "cell_type": "code",
   "execution_count": null,
   "outputs": [],
   "source": [
    "USER_ID = 653\n",
    "user_df.loc[USER_ID]"
   ],
   "metadata": {
    "collapsed": false
   }
  },
  {
   "cell_type": "code",
   "execution_count": null,
   "outputs": [],
   "source": [
    "questions_by_user = pd.read_sql_query(f\"SELECT * FROM Post WHERE OwnerUserId={USER_ID} AND PostTypeId=1\", db)\n",
    "questions_by_user.set_index('PostId', inplace=True)\n",
    "questions_by_user"
   ],
   "metadata": {
    "collapsed": false
   }
  },
  {
   "cell_type": "code",
   "execution_count": null,
   "outputs": [],
   "source": [
    "answers_by_user = pd.read_sql_query(f\"SELECT * FROM Post WHERE OwnerUserId={USER_ID} AND PostTypeId=2\", db)\n",
    "answers_by_user.set_index('PostId', inplace=True)\n",
    "answers_by_user"
   ],
   "metadata": {
    "collapsed": false
   }
  },
  {
   "cell_type": "code",
   "execution_count": null,
   "outputs": [],
   "source": [
    "comments_by_user = pd.read_sql_query(f\"SELECT * FROM Comment WHERE UserId={USER_ID}\", db)\n",
    "comments_by_user.set_index('CommentId', inplace=True)\n",
    "comments_by_user"
   ],
   "metadata": {
    "collapsed": false
   }
  },
  {
   "cell_type": "code",
   "execution_count": 15,
   "outputs": [],
   "source": [
    "def parse_tag_list(tag_list: str) -> List[str]:\n",
    "    return tag_list[1:-1].split(\"><\")\n",
    "\n",
    "def get_parent_tags(post_id: int) -> str:\n",
    "    tags = pd.read_sql_query(f\"SELECT Tags FROM Post WHERE PostId={post_id}\", db)\n",
    "    return tags['Tags'].item()"
   ],
   "metadata": {
    "collapsed": false
   }
  },
  {
   "cell_type": "code",
   "execution_count": null,
   "outputs": [],
   "source": [
    "tag_frequency = {}\n",
    "\n",
    "for i, row in questions_by_user.iterrows():\n",
    "    tags = parse_tag_list(row.Tags)\n",
    "    for t in tags:\n",
    "        if t in tag_frequency:\n",
    "            tag_frequency[t] += 1\n",
    "        else:\n",
    "            tag_frequency[t] = 1\n",
    "\n",
    "for i, row in answers_by_user.iterrows():\n",
    "    tag_list = get_parent_tags(row.ParentId)\n",
    "    if tag_list is None:\n",
    "        continue\n",
    "    for t in parse_tag_list(tag_list):\n",
    "        if t in tag_frequency:\n",
    "            tag_frequency[t] += 1\n",
    "        else:\n",
    "            tag_frequency[t] = 1\n",
    "\n",
    "{k: v for k, v in sorted(tag_frequency.items(), key=lambda item: item[1], reverse=True)}"
   ],
   "metadata": {
    "collapsed": false
   }
  },
  {
   "cell_type": "markdown",
   "source": [
    "So we can see there are many categories and for a single user; but there is a lot of variance.\n",
    "Can we create an embedding for tags which reflect similar categories?"
   ],
   "metadata": {
    "collapsed": false
   }
  },
  {
   "cell_type": "markdown",
   "source": [
    "Step 1. Build list of Tag vocabulary"
   ],
   "metadata": {
    "collapsed": false
   }
  },
  {
   "cell_type": "code",
   "execution_count": 6,
   "outputs": [
    {
     "data": {
      "text/plain": "          TagName    Count\nTagId                     \n1            .net   323469\n2            html  1146245\n3      javascript  2426650\n4             css   771867\n5             php  1445747",
      "text/html": "<div>\n<style scoped>\n    .dataframe tbody tr th:only-of-type {\n        vertical-align: middle;\n    }\n\n    .dataframe tbody tr th {\n        vertical-align: top;\n    }\n\n    .dataframe thead th {\n        text-align: right;\n    }\n</style>\n<table border=\"1\" class=\"dataframe\">\n  <thead>\n    <tr style=\"text-align: right;\">\n      <th></th>\n      <th>TagName</th>\n      <th>Count</th>\n    </tr>\n    <tr>\n      <th>TagId</th>\n      <th></th>\n      <th></th>\n    </tr>\n  </thead>\n  <tbody>\n    <tr>\n      <th>1</th>\n      <td>.net</td>\n      <td>323469</td>\n    </tr>\n    <tr>\n      <th>2</th>\n      <td>html</td>\n      <td>1146245</td>\n    </tr>\n    <tr>\n      <th>3</th>\n      <td>javascript</td>\n      <td>2426650</td>\n    </tr>\n    <tr>\n      <th>4</th>\n      <td>css</td>\n      <td>771867</td>\n    </tr>\n    <tr>\n      <th>5</th>\n      <td>php</td>\n      <td>1445747</td>\n    </tr>\n  </tbody>\n</table>\n</div>"
     },
     "execution_count": 6,
     "metadata": {},
     "output_type": "execute_result"
    }
   ],
   "source": [
    "tag_df.head()"
   ],
   "metadata": {
    "collapsed": false
   }
  },
  {
   "cell_type": "code",
   "execution_count": 126,
   "outputs": [],
   "source": [
    "tag_df[\"TagName\"].to_csv(\"tag_vocab.csv\", index=False)\n",
    "tag_vocab = list(set(tag_df[\"TagName\"]))"
   ],
   "metadata": {
    "collapsed": false
   }
  },
  {
   "cell_type": "code",
   "execution_count": null,
   "outputs": [],
   "source": [
    "post_tags = pd.read_sql_query(f\"SELECT Tags FROM Post WHERE PostTypeId=1\", db)\n",
    "post_tags.to_csv(\"all_tags.csv\", index=False)"
   ],
   "metadata": {
    "collapsed": false
   }
  },
  {
   "cell_type": "code",
   "execution_count": 13,
   "outputs": [],
   "source": [
    "post_tags = pd.read_csv(\"all_tags.csv\")"
   ],
   "metadata": {
    "collapsed": false
   }
  },
  {
   "cell_type": "code",
   "execution_count": 16,
   "outputs": [],
   "source": [
    "tag_list_df = post_tags['Tags'].apply(lambda row: parse_tag_list(row))"
   ],
   "metadata": {
    "collapsed": false
   }
  },
  {
   "cell_type": "code",
   "execution_count": 17,
   "outputs": [],
   "source": [
    "combinations = tag_list_df.apply(lambda row: list(itertools.combinations(row, 2)))"
   ],
   "metadata": {
    "collapsed": false
   }
  },
  {
   "cell_type": "code",
   "execution_count": 18,
   "outputs": [],
   "source": [
    "combinations = combinations[combinations.astype(str) != '[]']"
   ],
   "metadata": {
    "collapsed": false
   }
  },
  {
   "cell_type": "code",
   "execution_count": 118,
   "outputs": [],
   "source": [
    "tag_pairs = []\n",
    "for i in combinations:\n",
    "    tag_pairs += i"
   ],
   "metadata": {
    "collapsed": false
   }
  },
  {
   "cell_type": "code",
   "execution_count": 119,
   "outputs": [
    {
     "data": {
      "text/plain": "device(type='cpu')"
     },
     "execution_count": 119,
     "metadata": {},
     "output_type": "execute_result"
    }
   ],
   "source": [
    "device = torch.device(\"cuda\" if torch.cuda.is_available() else \"cpu\")\n",
    "device"
   ],
   "metadata": {
    "collapsed": false
   }
  },
  {
   "cell_type": "code",
   "execution_count": 120,
   "outputs": [
    {
     "data": {
      "text/plain": "[('memory', 'buffer'),\n ('google-cloud-functions', 'google-cloud-pubsub'),\n ('php', 'polling'),\n ('jtable', 'abstracttablemodel'),\n ('qimage', 'libtiff'),\n ('arrays', 'filter'),\n ('breakpoints', 'xdebug'),\n ('node.js', 'dojo'),\n ('centos', 'selinux'),\n ('android', 'kotlin'),\n ('c++', 'g++'),\n ('wso2-api-manager', 'wso2-identity-server'),\n ('express', 'express-session'),\n ('jquery', 'html'),\n ('linq-to-sql', 'checkbox'),\n ('php', 'jquery'),\n ('ruby-on-rails-4', 'rspec'),\n ('xml', 'dom'),\n ('php', 'email'),\n ('html', 'tabulator'),\n ('objective-c', 'memory-management'),\n ('mysql', 'database'),\n ('r', 'ggplot2'),\n ('c', 'coffeescript'),\n ('performance', 'cycle'),\n ('android', 'titanium'),\n ('ggplot2', 'colorbar'),\n ('php', 'imap'),\n ('rubygems', 'easyhtmlreport'),\n ('sql-function', 'table-variable'),\n ('javascript', 'node.js'),\n ('arrays', 'string'),\n ('function', 'dplyr'),\n ('filter', 'shinydashboard'),\n ('java', 'spring'),\n ('javascript', 'signalr'),\n ('c#', 'video-encoding'),\n ('javascript', 'jquery'),\n ('javascript', 'css'),\n ('wpf', 'datagrid'),\n ('c#', 'windows-phone-7'),\n ('python', 'git-bash'),\n ('android', 'arraylist'),\n ('typo3', 'typoscript'),\n ('javascript', 'audio-streaming'),\n ('android', 'android-fragments'),\n ('python', 'eyed3'),\n ('php', 'encryption'),\n ('c++', 'observer-pattern'),\n ('actionscript', 'floating-point'),\n ('java', 'android'),\n ('c#', 'wpf'),\n ('jquery', 'video'),\n ('php', 'file-upload'),\n ('verilog', 'fpga'),\n ('python', 'python-3.x'),\n ('eclipse', 'libusb'),\n ('future', 'taskscheduler'),\n ('html', 'cordova'),\n ('azure', 'azure-mobile-services'),\n ('string', 'string-formatting'),\n ('if-statement', 'gravityforms'),\n ('c#', 'uwp'),\n ('crashlytics', 'crashlytics-beta'),\n ('function', 'macros'),\n ('date', 'time'),\n ('sql', 'database'),\n ('c++', 'windows'),\n ('eloquent', 'laravel-5.2'),\n ('c#', 'tfs'),\n ('c++', 'windows'),\n ('java', 'android'),\n ('python', 'if-statement'),\n ('python', 'keras'),\n ('visual-studio-2010', 'wpf-controls'),\n ('list', 'space'),\n ('python', 'seed'),\n ('selenium-webdriver', 'webdriver'),\n ('arrays', 'hdl'),\n ('css', 'mysql'),\n ('javascript', 'codeigniter'),\n ('html', 'popup'),\n ('ios', 'xcode'),\n ('spring-boot', 'factory-pattern'),\n ('matlab', 'root'),\n ('java', 'xpath'),\n ('sql', 'nhibernate-mapping-by-code'),\n ('string', 'string-concatenation'),\n ('javascript', 'import'),\n ('javascript', 'svg'),\n ('javascript', 'html'),\n ('java', 'ejb'),\n ('zsh', 'zshrc'),\n ('html', 'css'),\n ('json.net', 'undefined'),\n ('web', 'jekyll-paginator'),\n ('jquery', 'html'),\n ('rubygems', 'whois'),\n ('java', 'tomcat7'),\n ('lldb', 'tup'),\n ('c++', 'msdev'),\n ('swift3', 'maps'),\n ('java', 'push-notification'),\n ('json', 'soap'),\n ('javascript', 'node.js'),\n ('qml', 'qt5'),\n ('python-3.x', 'slice'),\n ('ruby', 'cookies'),\n ('android', 'samsung-mobile'),\n ('java', 'xlsx'),\n ('javascript', 'web'),\n ('c++', 'pass-by-value'),\n ('verity', 'cfsearch'),\n ('c++', 'templates'),\n ('aspnetboilerplate', 'swashbuckle.aspnetcore'),\n ('asp.net', 'encryption'),\n ('file', 'bufferedreader'),\n ('apache-spark', 'apache-spark-sql'),\n ('flash', 'actionscript-3'),\n ('swing', 'actionlistener'),\n ('struct', 'time'),\n ('spring-mvc', 'azure-active-directory'),\n ('ios', 'admob-cookieconsent'),\n ('c', 'memory-management'),\n ('selenium', 'beautifulsoup'),\n ('mongodb', 'express'),\n ('c#', 'windows'),\n ('javascript', 'jquery'),\n ('c#', '.net'),\n ('hive', 'apache-pig'),\n ('php', 'multiple-columns'),\n ('immutability', 'multimap'),\n ('c#', 'database'),\n ('python', 'python-3.x'),\n ('c++', 'bgi'),\n ('graphql', 'graphql-go'),\n ('c#', 'asp.net'),\n ('ignite', 'opendaylight'),\n ('serial-port', 'vhdl'),\n ('hibernate', 'criteria-api'),\n ('angular', 'angular4-router'),\n ('java', 'map'),\n ('unit-testing', 'asp.net-mvc-4'),\n ('sql-server', 'date'),\n ('postgresql', 'join'),\n ('python', 'odoo-10'),\n ('session', 'ncache'),\n ('database', 'postgresql'),\n ('python', 'sql-server'),\n ('google-cardboard', 'virtual-reality'),\n ('xml', 'performance'),\n ('sql', 'plsql'),\n ('c', 'escaping'),\n ('null', 'managed-property'),\n ('c#', 'websocket'),\n ('c#', 'winforms'),\n ('ruby-on-rails', 'dependency-injection'),\n ('scikit-learn', 'text-classification'),\n ('dplyr', 'tidyr'),\n ('laravel-4', 'laravel-routing'),\n ('debian', 'apache2'),\n ('azure', 'azure-webjobs'),\n ('mysql', 'network-programming'),\n ('if-statement', 'variable-assignment'),\n ('mysql', 'performance'),\n ('python', 'sql'),\n ('maven', 'jar'),\n ('php', 'html'),\n ('bash', 'unmount'),\n ('c++', 'substring'),\n ('rabbitmq', 'amqp'),\n ('c#', '.net'),\n ('html', 'vue.js'),\n ('ios', 'ios10'),\n ('java', 'stax'),\n ('logging', 'docker'),\n ('javascript', 'alert'),\n ('xaml', 'checkbox'),\n ('django', 'swagger'),\n ('java', 'generics'),\n ('android', 'responsive-design'),\n ('amazon-web-services', 'amazon-gateway'),\n ('javascript', 'firefox'),\n ('flutter', 'flutter-test'),\n ('c++', 'hashmap'),\n ('javascript', 'jquery'),\n ('memory', 'memory-leaks'),\n ('r', 'date'),\n ('sql-server', 'common-table-expression'),\n ('c#', 'json'),\n ('2d', 'sleep'),\n ('facebook-graph-api', 'real-time-updates'),\n ('angularjs', 'html'),\n ('architecture', 'collections'),\n ('reactjs', 'webpack'),\n ('mongodb', 'spring-data'),\n ('rspec-rails', 'rspec3'),\n ('jquery', 'ajax'),\n ('xml-parsing', 'parse-cloud-code'),\n ('android', 'react-native'),\n ('jasper-reports', 'textfield'),\n ('spring', 'session'),\n ('asp.net', 'amazon-s3'),\n ('node.js', 'amazon-elastic-beanstalk'),\n ('jquery', 'web-services'),\n ('typescript', 'require'),\n ('asp.net', 'try-catch'),\n ('java', 'android'),\n ('python', 'xlsx'),\n ('javascript', 'html'),\n ('while-loop', 'conditional-statements'),\n ('c#', 'image'),\n ('sharepoint', 'post'),\n ('r', 'dplyr'),\n ('qt', 'rabbitmq'),\n ('python', 'search'),\n ('c#', 'http'),\n ('c#', 'prism'),\n ('vue.js', 'compression'),\n ('sql', 'asp.net'),\n ('python', 'function'),\n ('cuda', 'nvidia-jetson'),\n ('model-view-controller', 'less'),\n ('java', 'jstl'),\n ('mongodb', 'azure-cosmosdb'),\n ('python', 'http'),\n ('bash', 'shell'),\n ('regex', 'perl'),\n ('java', 'sha'),\n ('javascript', 'forms'),\n ('python', 'python-3.x'),\n ('reactjs', 'jestjs'),\n ('sbt', 'scalatest'),\n ('javascript', 'xmlhttprequest'),\n ('asp.net', 'linq'),\n ('hyperlink', 'readonly'),\n ('python-3.x', 'conditional-statements'),\n ('basic-authentication', 'health-check'),\n ('javascript', 'html'),\n ('iphone', 'search'),\n ('python', 'pip'),\n ('group-by', 'contains'),\n ('sed', 'while-loop'),\n ('.net', 'styles'),\n ('python', 'sql'),\n ('c#', 'c#-4.0'),\n ('javascript', 'transactions'),\n ('tree', 'red-black-tree'),\n ('ios', 'uibutton'),\n ('teamcity', 'windows-server-2008'),\n ('sql', 'tsql'),\n ('visual-studio', 'cython'),\n ('jenkins', 'continuous-integration'),\n ('import', 'goland'),\n ('datagrid', 'combobox'),\n ('dataframe', 'julia'),\n ('logging', 'log4j2'),\n ('android', 'unit-testing'),\n ('c#', 'asp.net'),\n ('rss', 'mime'),\n ('angularjs', 'razor'),\n ('python', 'json'),\n ('list', 'dictionary'),\n ('linux', 'shell'),\n ('apache-kafka', 'apache-kafka-streams'),\n ('angularjs-directive', 'angularjs-ng-repeat'),\n ('c#', 'winforms'),\n ('pandas', 'ipython-notebook'),\n ('twitter-bootstrap', 'grid-system'),\n ('python', 'metaprogramming'),\n ('c#', 'for-loop'),\n ('asp.net', 'vb.net'),\n ('transpose', 'array-formulas'),\n ('python', 'sqlalchemy'),\n ('c++11', 'variadic-templates'),\n ('blender', 'modeling'),\n ('ssl', 'alexa-skills-kit'),\n ('loops', 'label'),\n ('python', 'xpath'),\n ('javascript', 'arrays'),\n ('javascript', 'next.js'),\n ('c++', 'default-arguments'),\n ('arraylist', 'collections'),\n ('ajax', 'twitter'),\n ('python', 'machine-learning'),\n ('mysql', 'refresh'),\n ('python', 'flask'),\n ('live-streaming', 'ant-media-server'),\n ('reporting-services', 'ssrs-2012'),\n ('database', 'performance'),\n ('combinations', 'combn'),\n ('internet-explorer', 'internet-explorer-8'),\n ('pandas', 'seaborn'),\n ('winforms', 'authentication'),\n ('android-layout', 'android-scrollview'),\n ('java', 'sockets'),\n ('java', 'maven'),\n ('python', 'github'),\n ('asp.net', 'episerver'),\n ('powerquery', 'powerbi-desktop'),\n ('storage', 'local-storage'),\n ('push-notification', 'phonegap-plugins'),\n ('javascript', 'google-dfp'),\n ('vector', 'copy-constructor'),\n ('pine-script', 'pine-script-v4'),\n ('c++11', 'chrono'),\n ('machine-learning', 'word2vec'),\n ('django-templates', 'django-tables2'),\n ('activerecord', 'heroku'),\n ('swing', 'awt'),\n ('android-gradle-plugin', 'android-instant-apps'),\n ('windows', 'windows-phone-7'),\n ('html', 'css'),\n ('android', 'android-recyclerview'),\n ('gcc', 'gcc4.7'),\n ('swift', 'uicollectionview'),\n ('javascript', 'meteor'),\n ('php', 'categories'),\n ('firebase', 'firebase-realtime-database'),\n ('tcp', 'tcpclient'),\n ('c#', 'linq'),\n ('objective-c', 'uitextview'),\n ('java', 'netbeans-6.9'),\n ('pyqt', 'activepython'),\n ('android-view', 'viewgroup'),\n ('angularjs', 'leaflet'),\n ('css', 'margin'),\n ('javascript', 'converter'),\n ('gimp', 'script-fu'),\n ('xml', 'xpathnavigator'),\n ('alfresco', 'alfresco-share'),\n ('primefaces', 'facelets'),\n ('jenkins-blueocean', 'monorepo'),\n ('xamarin', 'xamarin.ios'),\n ('javascript', 'html'),\n ('c', 'x86'),\n ('android', 'android-support-library'),\n ('android', 'android-fragments'),\n ('angular', 'angular5'),\n ('apache', 'httprequest'),\n ('python', 'python-3.x'),\n ('java', 'spring-security'),\n ('linq', 'automapper'),\n ('mysql', 'prepared-statement'),\n ('ruby-on-rails', 'csv'),\n ('python', 'optimization'),\n ('c#', 'ssl'),\n ('php', 'api'),\n ('html', 'django'),\n ('jquery', 'css'),\n ('objective-c', 'sprite-kit'),\n ('html', 'embed'),\n ('uiscrollview', 'uiimageview'),\n ('qr-code', 'barcode'),\n ('html', 'html5-video'),\n ('local-storage', 'lightmode'),\n ('postgresql', 'postgis'),\n ('javascript', 'node.js'),\n ('reactjs', 'webpack'),\n ('cordova', 'nuxt.js'),\n ('swift', 'sprite-kit'),\n ('php', 'jquery'),\n ('css', 'resharper-8.0'),\n ('mysql', 'linux'),\n ('jquery', 'ajax'),\n ('ehcache', 'distributed-caching'),\n ('c#', 'x86-64'),\n ('linux', 'ps'),\n ('javascript', 'handlebars.js'),\n ('amazon-web-services', 'google-cloud-composer'),\n ('asp.net-mvc', 'json'),\n ('safari', 'babeljs'),\n ('sql', 'pivot'),\n ('byte', 'short'),\n ('ios', 'core-bluetooth'),\n ('jquery', 'kendo-ui'),\n ('netbeans', 'ant'),\n ('loops', 'gdb'),\n ('iphone', 'uinavigationcontroller'),\n ('javascript', 'css'),\n ('c++', 'constructor'),\n ('javascript', 'tooltip'),\n ('laravel', 'laravel-livewire'),\n ('spring-data', 'spring-jdbc'),\n ('swing', 'netbeans'),\n ('python', 'speech-recognition'),\n ('node.js', 'events'),\n ('group-by', 'hive'),\n ('jquery', 'slider'),\n ('bash', 'select'),\n ('javascript', 'jspx'),\n ('tcp', 'connect'),\n ('ios', 'swift'),\n ('xml', 'xslt-1.0'),\n ('javascript', 'datetime'),\n ('jquery', 'maps'),\n ('x86', 'ceil'),\n ('php', 'encryption'),\n ('pyspark', 'apache-spark-sql'),\n ('ruby-on-rails', 'ruby-on-rails-4'),\n ('sql-server', 'upsert'),\n ('dataset', 'stata'),\n ('inheritance', 'superclass'),\n ('python', 'django-views'),\n ('twitter-bootstrap-3', 'breakpoints'),\n ('r', 'machine-learning'),\n ('gem', 'sinatra'),\n ('python', 'django'),\n ('pandas', 'dataframe'),\n ('android-studio', 'tensorflow-lite'),\n ('wpf', 'expression-blend'),\n ('visual-studio-2010', 'project'),\n ('json', 'swiftui'),\n ('swift', 'google-cloud-firestore'),\n ('c#', 'xml'),\n ('csv', 'export-to-excel'),\n ('html', 'local-storage'),\n ('php', 'row'),\n ('c++', 'compilation'),\n ('string', 'case'),\n ('python-import', 'python-module'),\n ('ruby-on-rails', 'mailchimp'),\n ('mariadb', 'database-performance'),\n ('java', 'webserver'),\n ('spring', 'spring-aop'),\n ('angular', 'typescript'),\n ('c#', 'c++'),\n ('entity-framework', 'entity-framework-4.1'),\n ('jquery', 'autocomplete'),\n ('java', 'jtree'),\n ('javascript', 'sass'),\n ('64-bit', 'wmi'),\n ('iphone', 'app-store-connect'),\n ('php', 'mysql'),\n ('assembly', 'reverse-engineering'),\n ('javascript', 'reactjs'),\n ('c#', 'listview'),\n ('javascript', 'extjs'),\n ('tomcat', 'plugins'),\n ('asp.net', 'iis-10'),\n ('ruby-on-rails', 'arel'),\n ('android', 'android-dialogfragment'),\n ('python', 'timedelta'),\n ('excel', 'csv'),\n ('ios', 'replace'),\n ('mysql', 'database'),\n ('ios', 'uicollectionview'),\n ('java', 'scene2d'),\n ('linux', 'ubuntu'),\n ('grails', 'intellij-idea'),\n ('css', 'scrollbar'),\n ('ruby-on-rails', 'declarative-authorization'),\n ('android', 'android-layout'),\n ('math', 'cryptography'),\n ('scala', 'ebean'),\n ('reverse', 'palindrome'),\n ('vue.js', 'vuejs2'),\n ('colors', 'system.drawing.color'),\n ('google-sheets', 'google-sheets-formula'),\n ('c', 'arrays'),\n ('asp.net-web-api', 'iis-8.5'),\n ('reactjs', 'google-maps'),\n ('lamp', 'bandwidth'),\n ('javascript', 'typescript'),\n ('c#', 'asp.net-mvc'),\n ('android-layout', 'android-view'),\n ('entity-framework', 'ado.net'),\n ('kotlin', 'google-cloud-firestore'),\n ('postgresql', 'jsonb'),\n ('asp.net-mvc', 'html.dropdownlistfor'),\n ('process', 'windows-8.1'),\n ('java', 'xml'),\n ('java', 'arraylist'),\n ('angular', 'nativescript'),\n ('assembly', 'stack'),\n ('python-3.x', 'destroy'),\n ('python', 'twilio'),\n ('reporting-services', 'sql-server-2008-r2'),\n ('merge', 'repository'),\n ('python', 'scikit-learn'),\n ('mingw', 'ntfs'),\n ('node.js', 'pug'),\n ('c#', 'linq-to-sql'),\n ('websphere-8', 'jenkins-cli'),\n ('graphql', 'graphene-python'),\n ('mask', 'image-segmentation'),\n ('linux', 'ansible'),\n ('python', 'unet-neural-network'),\n ('python', 'sqlalchemy'),\n ('ios', 'uicollectionview'),\n ('c#', 'linq'),\n ('perl', 'monkeypatching'),\n ('browser', 'abort'),\n ('android', 'ibeacon'),\n ('character', 'letters'),\n ('android', 'android-studio'),\n ('.net', 'rider'),\n ('twitter-bootstrap-3', 'datepicker'),\n ('string', 'character'),\n ('python', 'python-3.x'),\n ('angularjs', 'communication'),\n ('php', 'wordpress'),\n ('php', 'html'),\n ('java', 'for-loop'),\n ('python', 'python-3.x'),\n ('android', 'android-fragmentactivity'),\n ('java', 'infinispan'),\n ('wpf', 'adorner'),\n ('imageview', 'titanium'),\n ('java', 'try-with-resources'),\n ('r', 'graph'),\n ('smtpclient', 'episerver'),\n ('eclipse', 'osgi'),\n ('jquery', 'html'),\n ('pointers', 'crash'),\n ('java', 'jframe'),\n ('image', 'matlab'),\n ('python', 'python-2.7'),\n ('meteor', 'polymer-1.0'),\n ('youtube', 'youtube-data-api'),\n ('asp.net-mvc', 'multi-tenant'),\n ('html', 'twitter-bootstrap'),\n ('view-helpers', 'facade'),\n ('wsgi', 'gunicorn'),\n ('r', 'conditional'),\n ('jquery', 'mongodb'),\n ('html', 'flexbox'),\n ('uitableview', 'segue'),\n ('python-2.7', 'selenium-chromedriver'),\n ('android', 'retrofit'),\n ('variables', 'mod-rewrite'),\n ('compiler-errors', 'codeblocks'),\n ('real-time', 'game-physics'),\n ('sql', 'sql-server'),\n ('encryption', 'ecdsa'),\n ('java', 'jpa'),\n ('android-studio', 'android-adapter'),\n ('phpmyadmin', 'wamp'),\n ('python', 'simultaneous'),\n ('asp.net-mvc-4', 'iis-7.5'),\n ('class', 'media-queries'),\n ('html', 'java-ee-6'),\n ('reactjs', 'react-router'),\n ('windows-7', 'webbrowser-control'),\n ('android', 'accelerometer'),\n ('.net', 'xml'),\n ('html', 'knockout.js'),\n ('python', 'python-3.x'),\n ('laravel', 'laravel-5'),\n ('sql', 'sql-server'),\n ('html', 'phantomjs'),\n ('reactjs', 'typescript'),\n ('solr', 'lucene'),\n ('windows', 'docker'),\n ('php', 'jquery'),\n ('angular', 'angular-directive'),\n ('web-services', 'authentication'),\n ('tableview', 'parse-platform'),\n ('django', 'postgresql'),\n ('parameters', 'sml'),\n ('php', 'strip'),\n ('struct', 'singly-linked-list'),\n ('delphi', 'reportbuilder'),\n ('java', 'arraylist'),\n ('iphone', 'iphone-sdk-3.0'),\n ('android-progressbar', 'material-design'),\n ('shiny', 'r-markdown'),\n ('php', 'installation'),\n ('ajax', 'web-services'),\n ('file-upload', 'progress-bar'),\n ('string', 'lua'),\n ('jquery', 'css'),\n ('counter', 'decorator'),\n ('wcf', 'webdav'),\n ('python-3.x', 'django-rest-framework'),\n ('php', 'wordpress'),\n ('node.js', 'graphql'),\n ('ios', 'uiwebview'),\n ('java', 'oracle'),\n ('apache', '.htaccess'),\n ('vue.js', 'vue-composition-api'),\n ('macos', 'launchctl'),\n ('sql-server-2008-r2', 'ddl'),\n ('google-chrome', 'cross-browser'),\n ('reverse', 'tail-recursion'),\n ('mysql', 'sql'),\n ('c#', 'operators'),\n ('reactjs', 'ref'),\n ('php', 'url'),\n ('dictionary', 'robotframework'),\n ('linq', 'lambda'),\n ('asp.net-mvc', 'ckeditor'),\n ('c#', 'sql'),\n ('c#', 'asp.net'),\n ('docker', 'docker-compose'),\n ('drawing', 'draw'),\n ('eclipse', 'sonarqube'),\n ('symfony', 'symfony5'),\n ('swing', 'variables'),\n ('css', 'model-view-controller'),\n ('jquery', 'attributes'),\n ('soap', 'wsdl'),\n ('express', 'mongoose'),\n ('php', 'http-headers'),\n ('java', 'android-studio'),\n ('redux', 'react-redux'),\n ('vpn', 'google-cloud-networking'),\n ('python', 'numpy'),\n ('javascript', 'p5.js'),\n ('c#', 'bitmap'),\n ('c#', 'wpf'),\n ('matrix', 'matlab-figure'),\n ('response', 'fiddler'),\n ('loops', 'imdb'),\n ('internet-explorer-9', 'html5-video'),\n ('ef-code-first', 'entity-framework-6'),\n ('autoconf', 'nvcc'),\n ('swift', 'xcode9'),\n ('dictionary', 'idioms'),\n ('for-loop', 'if-statement'),\n ('php', 'ajax'),\n ('spring-boot', 'hibernate'),\n ('multithreading', 'ipad'),\n ('jquery', 'date-format'),\n ('google-sheets', 'array-formulas'),\n ('c++', 'segmentation-fault'),\n ('php', 'html'),\n ('java', 'json'),\n ('mysql', 'eloquent'),\n ('android', 'tablelayout'),\n ('javascript', 'html'),\n ('angular', 'ecmascript-6'),\n ('c#', 'visual-studio'),\n ('uilabel', 'nslog'),\n ('django', 'session'),\n ('apache-spark-sql', 'pyspark'),\n ('mongodb', 'graphql'),\n ('reactjs', 'reactstrap'),\n ('android', 'firebase-realtime-database'),\n ('android-custom-view', 'getview'),\n ('python', 'interactive'),\n ('c#', 'asp.net-core-webapi'),\n ('dictionary', 'nested'),\n ('iphone', 'objective-c'),\n ('javascript', 'video'),\n ('c#', 'content-length'),\n ('ios', 'swift'),\n ('iphone', 'ipad'),\n ('php', 'arrays'),\n ('android-fragments', 'android-actionbar'),\n ('xcode', 'sqlite'),\n ('language-agnostic', 'relational-algebra'),\n ('access-violation', 'asio'),\n ('ios', 'swift'),\n ('mocking', 'assertion'),\n ('postgresql', 'sockets'),\n ('sql', 'oracle'),\n ('android', 'jackson'),\n ('node.js', 'mongodb'),\n ('asp.net', 'xml'),\n ('model', 'django-rest-framework'),\n ('reactjs', 'redux'),\n ('objective-c', 'cocoa-touch'),\n ('json', 'rest'),\n ('qt', 'qwidget'),\n ('forms', 'inheritance'),\n ('c#', 'code-injection'),\n ('flutter', 'date'),\n ('asp.net-mvc', 'ef-fluent-api'),\n ('cocoa-touch', 'uiview'),\n ('firebase-realtime-database', 'google-cloud-functions'),\n ('ruby', 'memory-leaks'),\n ('wordpress', 'product'),\n ('c#', 'sdk'),\n ('plot', 'physics'),\n ('numpy', 'spyder'),\n ('javascript', 'jquery'),\n ('php', 'youtube-api'),\n ('gtk', 'right-click'),\n ('feature-detection', 'orb'),\n ('php', 'e-commerce'),\n ('php', 'paypal'),\n ('django', 'email-attachments'),\n ('c', 'space-complexity'),\n ('eclipse', 'sockets'),\n ('c#', 'sql'),\n ('oracle', 'text'),\n ('css', 'animation'),\n ('django', 'opencv'),\n ('objective-c', 'uiscrollview'),\n ('opencv', 'computer-vision'),\n ('css', 'sidebar'),\n ('c', 'arrays'),\n ('php', 'translation'),\n ('openoffice-calc', 'openoffice-writer'),\n ('design-patterns', 'object-oriented-analysis'),\n ('bluetooth', 'keyboard'),\n ('postgresql', 'docker'),\n ('plsql', 'plsqldeveloper'),\n ('c#', 'dictionary'),\n ('kernel', 'galaxy'),\n ('gradle', 'build.gradle'),\n ('angular', 'angular-material'),\n ('user-interface', 'tkinter'),\n ('c++', 'visual-studio-code'),\n ('sql-server-2008', 'desktop-application'),\n ('javascript', 'arrays'),\n ('php', 'upload'),\n ('asp.net-mvc', 'multidimensional-array'),\n ('java', 'jpa'),\n ('c++', 'qt'),\n ('linux', 'gcc'),\n ('javascript', 'vue-component'),\n ('php', 'symfony'),\n ('ios', 'uitabbarcontroller'),\n ('android', 'bufferedinputstream'),\n ('sql', 'language-agnostic'),\n ('vuejs2', 'vue-resource'),\n ('java', 'wcf'),\n ('python', 'tkinter'),\n ('jboss', 'vaadin'),\n ('dependency-injection', '.net-core'),\n ('firefox', 'opacity'),\n ('java', 'naming-conventions'),\n ('java', 'bluetooth'),\n ('azure-data-factory', 'azure-data-factory-2'),\n ('for-loop', 'pysimplegui'),\n ('reactjs', 'ecmascript-6'),\n ('namespaces', 'visual-studio-2013'),\n ('java', '2d'),\n ('entity-framework-core', 'ef-core-3.0'),\n ('css', 'web'),\n ('ios', 'facebook'),\n ('c++', 'android-ndk'),\n ('android', 'c++11'),\n ('java', 'solr'),\n ('pdo', 'amazon-rds'),\n ('react-native', 'firebase-cloud-messaging'),\n ('ruby-on-rails-4', 'form-helpers'),\n ('angular', 'angular6'),\n ('windows', 'winapi'),\n ('java', 'jai'),\n ('c#', 'wpf'),\n ('firebase', 'google-cloud-firestore'),\n ('node.js', 'angular'),\n ('subprocess', 'slurm'),\n ('python', 'encoding'),\n ('selenium-webdriver', 'selenium-extent-report'),\n ('scala', 'slick-2.0'),\n ('ajax', 'ruby-on-rails-3'),\n ('php', 'arrays'),\n ('datetime', 'woocommerce'),\n ('reactjs', 'imageloader'),\n ('python', 'python-3.x'),\n ('java', 'loops'),\n ('iphone', 'uinavigationcontroller'),\n ('actionscript-3', 'flash'),\n ('jquery', 'css'),\n ('ruby-on-rails', 'gem'),\n ('java', 'functional-programming'),\n ('ruby', 'devise'),\n ('android', 'calendar'),\n ('c', 'uart'),\n ('.net', 'datatable'),\n ('python', 'string'),\n ('javascript', 'angular-cli'),\n ('maven', 'junit'),\n ('boto3', 'digital-ocean-spaces'),\n ('pdf', 'syncfusion'),\n ('angularjs', 'date'),\n ('python', 'python-3.x'),\n ('wordpress', 'coupon'),\n ('php', 'combobox'),\n ('php', 'sqlite'),\n ('react-hooks', 'state'),\n ('csv', 'numpy'),\n ('sum', 'vlookup'),\n ('php', 'laravel-5'),\n ('multithreading', 'threadpool'),\n ('silverlight', 'datagrid'),\n ('uiview', 'xcode4.2'),\n ('pyside', 'qpixmap'),\n ('arrays', 'graph'),\n ('ruby', 'mongodb-ruby'),\n ('iphone', 'xib'),\n ('datetime', 'resampling'),\n ('c#', 'datagrid'),\n ('yield', 'type-hinting'),\n ('uiview', 'uibutton'),\n ('time', 'gmt'),\n ('wcf', 'memory-leaks'),\n ('sql-server', 'sql-server-2005'),\n ('hdfs', 'flume'),\n ('ssh', 'ssh-keys'),\n ('angularjs', 'directive'),\n ('java', 'spring-security'),\n ('sql-server', 'attachment'),\n ('jquery', 'css'),\n ('mysql', 'netbeans'),\n ('python-3.x', 'variables'),\n ('parse-platform', 'parse-dashboard'),\n ('c++', 'caching'),\n ('python', 'email'),\n ('nhibernate', 'fluent-nhibernate'),\n ('iis', 'iis-8.5'),\n ('javascript', 'mongodb'),\n ('css', 'safari'),\n ('java', 'eclipse-plugin'),\n ('django', 'amazon-web-services'),\n ('java', 'notifications'),\n ('python', 'indexing'),\n ('flask', 'bloodhound'),\n ('mongodb', 'containers'),\n ('python', 'sympy'),\n ('next.js', 'server-side-rendering'),\n ('xhtml', 'textarea'),\n ('neural-network', 'time-series'),\n ('virtual-machine', 'vps'),\n ('python', 'python-2.7'),\n ('lua', 'utc'),\n ('angular', 'debouncing'),\n ('asp.net', 'azure'),\n ('maven-failsafe-plugin', 'maven-profiles'),\n ('html', 'audio'),\n ('git', 'aws-lambda'),\n ('c#', 'linq'),\n ('objective-c', 'agent'),\n ('android', 'text-to-speech'),\n ('android', 'audio'),\n ('xml', 'python-3.6'),\n ('python-2.7', 'cmake'),\n ('sql', 'python-3.x'),\n ('computer-science', 'ones-complement'),\n ('sql', 'ruby-on-rails-3'),\n ('vim', 'omnicomplete'),\n ('css', 'safari'),\n ('java', 'connection-pooling'),\n ('layout', 'data-binding'),\n ('javascript', 'html'),\n ('function', 'null'),\n ('c#', 'mysql'),\n ('json', 'angular'),\n ('c#', 'datatable'),\n ('.net-core', 'visual-studio-2019'),\n ('django', 'content-management-system'),\n ('android', 'ionic-framework'),\n ('open-source', 'powerbi-datasource'),\n ('json', 'type-conversion'),\n ('android', 'rotation'),\n ('javascript', 'cookies'),\n ('python', 'flask'),\n ('matplotlib', 'pdf'),\n ('react-redux', 'redux-toolkit'),\n ('iphone', 'crop'),\n ('c++', 'gcc'),\n ('ios', 'youtube-api'),\n ('python', 'python-3.x'),\n ('ios', 'reactjs'),\n ('batch-file', 'cmd'),\n ('hadoop', 'mapreduce'),\n ('c++', 'lowercase'),\n ('css', 'transparent'),\n ('android', 'android-viewpager'),\n ('git', 'zsh'),\n ('python', 'python-3.x'),\n ('sse', 'inline-assembly'),\n ('cocoa-touch', 'nsoperation'),\n ('android', 'usb'),\n ('roles', 'role-base-authorization'),\n ('types', 'vinyl'),\n ('drupal', 'drupal-7'),\n ('perl', 'cyclic-reference'),\n ('powerpivot', 'powerquery'),\n ('heroku', 'runtime-error'),\n ('api', 'webpack'),\n ('html', 'canvas'),\n ('javascript', 'jquery-plugins'),\n ('android', 'firebase-realtime-database'),\n ('java', 'html-table'),\n ('c++', 'matrix'),\n ('python-imaging-library', 'scikit-image'),\n ('certificate', 'private-key'),\n ('weather-api', 'google-weather-api'),\n ('swift', 'geofencing'),\n ('php', 'mysql'),\n ('linux', 'sockets'),\n ('c#', 'argumentexception'),\n ('format', 'string-formatting'),\n ('xcode', 'macos'),\n ('c++', 'iterator'),\n ('control-flow-graph', 'pgo'),\n ('vue.js', 'vue-component'),\n ('amazon-web-services', 'amazon-s3'),\n ('parameters', 'google-analytics-api'),\n ('javascript', 'canvas'),\n ('ios', 'properties'),\n ('sass', 'neat'),\n ('javascript', 'stack-trace'),\n ('winapi', 'c++builder'),\n ('infragistics', 'xamdatagrid'),\n ('hash', 'md5'),\n ('json', 'itunes-search-api'),\n ('java', 'arrays'),\n ('javafx', 'label'),\n ('java', 'jprofiler'),\n ('javascript', 'css'),\n ('mockito', 'static-methods'),\n ('azure', 'terraform'),\n ('c#', 'il'),\n ('multithreading', 'subprocess'),\n ('lisp', 'sicp'),\n ('javafx', 'mouseevent'),\n ('sybase', 'hsqldb'),\n ('symfony', 'openapi'),\n ('c', 'struct'),\n ('reactjs', 'redux'),\n ('javascript', 'html'),\n ('ios', 'plugins'),\n ('java', 'spring-mvc'),\n ('sql-server-2008', 'entity-framework-4'),\n ('dictionary', 'set-difference'),\n ('input', 'blazor'),\n ('vue.js', 'vuex'),\n ('regex', 'url'),\n ('sql', 'relational-database'),\n ('php', 'include-path'),\n ('excel', 'ado.net'),\n ('html', 'forms'),\n ('c#', 'tor'),\n ('excel', 'tabs'),\n ('asp.net', 'iteration'),\n ('classification', 'obfuscation'),\n ('javascript', 'number-formatting'),\n ('c#', 'bit-manipulation'),\n ('image', 'swing'),\n ('casting', 'language-lawyer'),\n ('ios', 'app-store'),\n ('c#', 'list'),\n ('php', 'url'),\n ('c++', 'cocoa'),\n ('r', 'function'),\n ('hash', 'salt'),\n ('c', 'pointers'),\n ('generics', 'slick'),\n ('python', 'python-3.x'),\n ('android', 'android-layout'),\n ('c#', 'memory'),\n ('c', 'openssl'),\n ('express', 'socket.io'),\n ('c++', 'multithreading'),\n ('php', 'jquery'),\n ('javascript', 'jquery'),\n ('c++', 'design-patterns'),\n ('windows', 'pushpin'),\n ('javascript', 'google-app-maker'),\n ('vb.net', 'asp.net-3.5'),\n ('asp.net', 'entity-framework-core'),\n ('add-in', 'excel-addins'),\n ('html', 'filesystems'),\n ('numpy', 'matrix'),\n ('cluster-analysis', 'k-means'),\n ('smo', 'sqlcommand'),\n ('ruby', 'github-api'),\n ('c#', 'updates'),\n ('swift', 'firebase'),\n ('bitmap', 'delphi-2010'),\n ('selenium', 'selenium-webdriver'),\n ('html', 'twitter-bootstrap'),\n ('hadoop', 'thread-safety'),\n ('python', 'tensorflow'),\n ('java', 'nullpointerexception'),\n ('javascript', 'json'),\n ('http', 'get'),\n ('sql-server-2008', 'tsql'),\n ('soap', 'saaj'),\n ('image', 'react-native'),\n ('oracle', 'oracle-apex'),\n ('c#', 'sql-server'),\n ('json.net', 'geojson'),\n ('sql', 'codeigniter'),\n ('python', 'django-models'),\n ('c++', 'templates'),\n ('time-series', 'random-walk'),\n ('window', 'scrollbar'),\n ('java', 'php'),\n ('python', 'for-loop'),\n ('jquery', 'autocomplete'),\n ('signalr', 'owin'),\n ('css', 'ionic3'),\n ('ndef', 'nfc-p2p'),\n ('wordpress', 'image-processing'),\n ('mongodb', 'pymongo'),\n ('dom', 'webkit'),\n ('python', 'siuba'),\n ('php', 'file-upload'),\n ('c#', 'dispatcher'),\n ('garbage-collection', 'jvm'),\n ('php', 'jwplayer'),\n ('c#', 'wpf'),\n ('python', 'parallel-processing'),\n ...]"
     },
     "execution_count": 120,
     "metadata": {},
     "output_type": "execute_result"
    }
   ],
   "source": [
    "import random\n",
    "\n",
    "TRAIN_SIZE = 10000\n",
    "tag_pairs = random.sample(tag_pairs, TRAIN_SIZE)\n",
    "tag_pairs"
   ],
   "metadata": {
    "collapsed": false
   }
  },
  {
   "cell_type": "code",
   "execution_count": 121,
   "outputs": [
    {
     "data": {
      "text/plain": "(10000, 63653)"
     },
     "execution_count": 121,
     "metadata": {},
     "output_type": "execute_result"
    }
   ],
   "source": [
    "len(tag_pairs), len(tag_vocab)"
   ],
   "metadata": {
    "collapsed": false
   }
  },
  {
   "cell_type": "code",
   "execution_count": 122,
   "outputs": [],
   "source": [
    "tag_to_ix = {tag: i for i, tag in enumerate(tag_vocab)}"
   ],
   "metadata": {
    "collapsed": false
   }
  },
  {
   "cell_type": "code",
   "execution_count": 123,
   "outputs": [],
   "source": [
    "class TagEmbedding(nn.Module):\n",
    "\n",
    "    def __init__(self, vocab_size, embedding_dim):\n",
    "        super(TagEmbedding, self).__init__()\n",
    "        self.embedding = nn.Embedding(vocab_size, embedding_dim)\n",
    "        self.linear1 = nn.Linear(embedding_dim, 128)\n",
    "        self.linear2 = nn.Linear(128, vocab_size)\n",
    "\n",
    "    def forward(self, inputs):\n",
    "        embeds = self.embedding(inputs).view((1, -1))\n",
    "        out = F.relu(self.linear1(embeds))\n",
    "        out = self.linear2(out)\n",
    "        log_probs = F.log_softmax(out, dim=1)\n",
    "        return log_probs"
   ],
   "metadata": {
    "collapsed": false
   }
  },
  {
   "cell_type": "code",
   "execution_count": 124,
   "outputs": [],
   "source": [
    "losses = []\n",
    "loss_function = nn.NLLLoss()\n",
    "model = TagEmbedding(vocab_size=len(tag_vocab), embedding_dim=20).to(device)\n",
    "optimizer = optim.SGD(model.parameters(), lr=0.001)"
   ],
   "metadata": {
    "collapsed": false
   }
  },
  {
   "cell_type": "code",
   "execution_count": 125,
   "outputs": [
    {
     "name": "stderr",
     "output_type": "stream",
     "text": [
      "100%|██████████| 10000/10000 [03:48<00:00, 43.82it/s]\n"
     ]
    }
   ],
   "source": [
    "from tqdm import tqdm\n",
    "\n",
    "for epoch in range(1):\n",
    "    total_loss = 0\n",
    "    for tag_a, tag_b in tqdm(tag_pairs):\n",
    "        tag_a_id = torch.tensor(tag_to_ix[tag_a], dtype=torch.long).to(device)\n",
    "        model.zero_grad()\n",
    "        log_probs = model(tag_a_id)\n",
    "        loss = loss_function(log_probs.flatten(), torch.tensor(tag_to_ix[tag_b], dtype=torch.long).to(device))\n",
    "        loss.backward()\n",
    "        optimizer.step()\n",
    "        total_loss += loss.item()\n",
    "    losses.append(total_loss)\n"
   ],
   "metadata": {
    "collapsed": false
   }
  },
  {
   "cell_type": "code",
   "execution_count": 106,
   "outputs": [],
   "source": [
    "embd_a = model.embedding.weight[tag_to_ix[\"python\"]]\n",
    "embd_b = model.embedding.weight[tag_to_ix[\"java\"]]"
   ],
   "metadata": {
    "collapsed": false
   }
  },
  {
   "cell_type": "code",
   "execution_count": 107,
   "outputs": [
    {
     "data": {
      "text/plain": "tensor(-0.0741, grad_fn=<SumBackward1>)"
     },
     "execution_count": 107,
     "metadata": {},
     "output_type": "execute_result"
    }
   ],
   "source": [
    "sim = torch.nn.CosineSimilarity(dim=0)\n",
    "sim(embd_a, embd_b)"
   ],
   "metadata": {
    "collapsed": false
   }
  },
  {
   "cell_type": "code",
   "execution_count": 112,
   "outputs": [],
   "source": [
    "from torch.utils.tensorboard import SummaryWriter\n",
    "writer = SummaryWriter('runs/visualisation')"
   ],
   "metadata": {
    "collapsed": false
   }
  },
  {
   "cell_type": "code",
   "execution_count": 113,
   "outputs": [
    {
     "name": "stdout",
     "output_type": "stream",
     "text": [
      "warning: Embedding dir exists, did you set global_step for add_embedding()?\n"
     ]
    }
   ],
   "source": [
    "writer.add_embedding(model.embedding.weight,\n",
    "                         metadata  = tag_vocab,\n",
    "                        tag = f'Tag embedding')"
   ],
   "metadata": {
    "collapsed": false
   }
  },
  {
   "cell_type": "code",
   "execution_count": 111,
   "outputs": [],
   "source": [
    "writer.close()"
   ],
   "metadata": {
    "collapsed": false
   }
  },
  {
   "cell_type": "code",
   "execution_count": null,
   "outputs": [],
   "source": [],
   "metadata": {
    "collapsed": false
   }
  }
 ],
 "metadata": {
  "kernelspec": {
   "display_name": "Python 3",
   "language": "python",
   "name": "python3"
  },
  "language_info": {
   "codemirror_mode": {
    "name": "ipython",
    "version": 2
   },
   "file_extension": ".py",
   "mimetype": "text/x-python",
   "name": "python",
   "nbconvert_exporter": "python",
   "pygments_lexer": "ipython2",
   "version": "2.7.6"
  }
 },
 "nbformat": 4,
 "nbformat_minor": 0
}
