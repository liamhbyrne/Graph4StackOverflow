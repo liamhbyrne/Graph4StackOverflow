{
 "cells": [
  {
   "cell_type": "markdown",
   "source": [
    "# Embeddings"
   ],
   "metadata": {
    "collapsed": false
   }
  },
  {
   "cell_type": "code",
   "execution_count": 10,
   "outputs": [],
   "source": [
    "import itertools\n",
    "import sqlite3\n",
    "from typing import List\n",
    "import itertools\n",
    "import pandas as pd\n",
    "from typing import *"
   ],
   "metadata": {
    "collapsed": false
   }
  },
  {
   "cell_type": "code",
   "execution_count": 4,
   "outputs": [],
   "source": [
    "# Create your connection.\n",
    "db = sqlite3.connect('../stackoverflow.db')"
   ],
   "metadata": {
    "collapsed": false
   }
  },
  {
   "cell_type": "code",
   "execution_count": 5,
   "outputs": [
    {
     "data": {
      "text/plain": "            TagName    Count\nTagId                       \n1              .net   323469\n2              html  1146245\n3        javascript  2426650\n4               css   771867\n5               php  1445747\n...             ...      ...\n158156  lost-update        1\n158157  chai-subset        1\n158159       at-spi        1\n158160          oro        0\n158161       sigsci        1\n\n[63653 rows x 2 columns]",
      "text/html": "<div>\n<style scoped>\n    .dataframe tbody tr th:only-of-type {\n        vertical-align: middle;\n    }\n\n    .dataframe tbody tr th {\n        vertical-align: top;\n    }\n\n    .dataframe thead th {\n        text-align: right;\n    }\n</style>\n<table border=\"1\" class=\"dataframe\">\n  <thead>\n    <tr style=\"text-align: right;\">\n      <th></th>\n      <th>TagName</th>\n      <th>Count</th>\n    </tr>\n    <tr>\n      <th>TagId</th>\n      <th></th>\n      <th></th>\n    </tr>\n  </thead>\n  <tbody>\n    <tr>\n      <th>1</th>\n      <td>.net</td>\n      <td>323469</td>\n    </tr>\n    <tr>\n      <th>2</th>\n      <td>html</td>\n      <td>1146245</td>\n    </tr>\n    <tr>\n      <th>3</th>\n      <td>javascript</td>\n      <td>2426650</td>\n    </tr>\n    <tr>\n      <th>4</th>\n      <td>css</td>\n      <td>771867</td>\n    </tr>\n    <tr>\n      <th>5</th>\n      <td>php</td>\n      <td>1445747</td>\n    </tr>\n    <tr>\n      <th>...</th>\n      <td>...</td>\n      <td>...</td>\n    </tr>\n    <tr>\n      <th>158156</th>\n      <td>lost-update</td>\n      <td>1</td>\n    </tr>\n    <tr>\n      <th>158157</th>\n      <td>chai-subset</td>\n      <td>1</td>\n    </tr>\n    <tr>\n      <th>158159</th>\n      <td>at-spi</td>\n      <td>1</td>\n    </tr>\n    <tr>\n      <th>158160</th>\n      <td>oro</td>\n      <td>0</td>\n    </tr>\n    <tr>\n      <th>158161</th>\n      <td>sigsci</td>\n      <td>1</td>\n    </tr>\n  </tbody>\n</table>\n<p>63653 rows × 2 columns</p>\n</div>"
     },
     "execution_count": 5,
     "metadata": {},
     "output_type": "execute_result"
    }
   ],
   "source": [
    "tag_df = pd.read_sql_query(\"SELECT * FROM Tag\", db)\n",
    "tag_df.set_index('TagId', inplace=True)\n",
    "tag_df"
   ],
   "metadata": {
    "collapsed": false
   }
  },
  {
   "cell_type": "code",
   "execution_count": null,
   "outputs": [],
   "source": [
    "POST_LIMIT = 500000\n",
    "post_df = pd.read_sql_query(f\"SELECT * FROM Post LIMIT {POST_LIMIT}\", db)\n",
    "post_df.set_index('PostId', inplace=True)\n",
    "post_df"
   ],
   "metadata": {
    "collapsed": false
   }
  },
  {
   "cell_type": "code",
   "execution_count": null,
   "outputs": [],
   "source": [
    "BADGE_LIMIT = 500000\n",
    "badge_df = pd.read_sql_query(f\"SELECT * FROM badge LIMIT {BADGE_LIMIT}\", db)\n",
    "badge_df.set_index('BadgeId', inplace=True)\n",
    "badge_df"
   ],
   "metadata": {
    "collapsed": false
   }
  },
  {
   "cell_type": "code",
   "execution_count": null,
   "outputs": [],
   "source": [
    "user_LIMIT = 500000\n",
    "user_df = pd.read_sql_query(f\"SELECT * FROM user LIMIT {user_LIMIT}\", db)\n",
    "user_df.set_index('UserId', inplace=True)\n",
    "user_df"
   ],
   "metadata": {
    "collapsed": false
   }
  },
  {
   "cell_type": "code",
   "execution_count": null,
   "outputs": [],
   "source": [
    "comment_LIMIT = 500000\n",
    "comment_df = pd.read_sql_query(f\"SELECT * FROM comment LIMIT {comment_LIMIT}\", db)\n",
    "comment_df.set_index('CommentId', inplace=True)\n",
    "comment_df"
   ],
   "metadata": {
    "collapsed": false
   }
  },
  {
   "cell_type": "code",
   "execution_count": null,
   "outputs": [],
   "source": [
    "vote_LIMIT = 500000\n",
    "vote_df = pd.read_sql_query(f\"SELECT * FROM vote LIMIT {vote_LIMIT}\", db)\n",
    "vote_df.set_index('VoteId', inplace=True)\n",
    "vote_df"
   ],
   "metadata": {
    "collapsed": false
   }
  },
  {
   "cell_type": "markdown",
   "source": [
    "So, we want to build an embedding for the body of posts.\n",
    "The body of posts are stored as HTML, we need to split up the text and the code snippets so we can process them separately."
   ],
   "metadata": {
    "collapsed": false
   }
  },
  {
   "cell_type": "code",
   "execution_count": null,
   "outputs": [],
   "source": [
    "sample_post = post_df.head(1)\n",
    "sample_post"
   ],
   "metadata": {
    "collapsed": false
   }
  },
  {
   "cell_type": "markdown",
   "source": [
    "Let's process the Body first"
   ],
   "metadata": {
    "collapsed": false
   }
  },
  {
   "cell_type": "code",
   "execution_count": 25,
   "outputs": [],
   "source": [
    "from bs4 import BeautifulSoup\n",
    "import spacy\n",
    "import torch\n",
    "import torch.nn as nn\n",
    "import torch.nn.functional as F\n",
    "import torch.optim as optim\n",
    "from torchtext.vocab import GloVe\n",
    "\n",
    "en = spacy.load('en_core_web_sm')\n",
    "stopwords = en.Defaults.stop_words"
   ],
   "metadata": {
    "collapsed": false
   }
  },
  {
   "cell_type": "code",
   "execution_count": null,
   "outputs": [],
   "source": [
    "class PostEmbedding(nn.Module):\n",
    "\n",
    "    def __init__(self):\n",
    "        super().__init__()\n",
    "        self._global_vectors = GloVe(name='840B', dim=300)\n",
    "\n",
    "    def forward(self, html: str, title: str, flatten=True) -> torch.tensor:\n",
    "        soup = BeautifulSoup(html)\n",
    "        ps = self.get_paragraphs(soup, title)\n",
    "        if flatten:\n",
    "            # Treat all paragraphs the same\n",
    "            ps = [token for para in ps for token in para]\n",
    "\n",
    "        para_emb = self.to_paragraph_embedding(ps)\n",
    "\n",
    "        code = self.get_code(soup)\n",
    "        return para_emb\n",
    "\n",
    "    def preprocess(self, text: str) -> List[str]:\n",
    "        doc = en(text.lower())\n",
    "        tokens = [word.text for word in doc if not (word.is_stop or word.is_punct or word.like_num)]\n",
    "        return tokens\n",
    "\n",
    "    def get_paragraphs(self, soup: BeautifulSoup, title: str=None) -> List[List[str]]:\n",
    "        paras = [self.preprocess(x.get_text()) for x in soup.find_all('p')]\n",
    "        # If title is available add it to the paragraphs\n",
    "        if title is not None:\n",
    "            paras += self.preprocess(title)\n",
    "        return paras\n",
    "\n",
    "    def to_paragraph_embedding(self, tokens: List[str]):\n",
    "        word_embeddings = self._global_vectors.get_vecs_by_tokens(tokens)\n",
    "        return torch.sum(word_embeddings, dim=0) / len(tokens)\n",
    "\n",
    "\n",
    "    def get_code(self, soup: BeautifulSoup) -> str:\n",
    "        return \"\\n\".join([x.get_text() for x in soup.find_all('code')])\n",
    "\n",
    "\n",
    "html = sample_post['Body'].item()\n",
    "\n",
    "embedding = PostEmbedding()\n",
    "embedding(html, sample_post['Title'].item())"
   ],
   "metadata": {
    "collapsed": false
   }
  },
  {
   "cell_type": "code",
   "execution_count": null,
   "outputs": [],
   "source": [
    "pe = PostEmbedding()\n",
    "post_df['code_snippets'] = post_df['Body'].apply(lambda html: pe.get_code(BeautifulSoup(html)))\n",
    "post_df"
   ],
   "metadata": {
    "collapsed": false
   }
  },
  {
   "cell_type": "code",
   "execution_count": null,
   "outputs": [],
   "source": [
    "import re\n",
    "\n",
    "python_class_name_pattern = r\"class ([a-zA-Z_$][a-zA-Z_$0-9]*)[:(]\"\n",
    "py_func_name_pattern = r\"def ([a-zA-Z_$][a-zA-Z_$0-9]*)\\(\"\n",
    "py_import_pattern = r\"(?m)^(?:from[ ]+(\\S+)[ ]+)?import[ ]+(\\S+)(?:[ ]+as[ ]+\\S+)?[ ]*$\"\n",
    "py_variable_names = r\"([a-zA-Z_$0-9]+)[ ]=\""
   ],
   "metadata": {
    "collapsed": false
   }
  },
  {
   "cell_type": "code",
   "execution_count": null,
   "outputs": [],
   "source": [
    "def find_code_features(code_snippet: str):\n",
    "    class_names = re.findall(python_class_name_pattern, code_snippet)\n",
    "    func_names = re.findall(py_func_name_pattern, code_snippet)\n",
    "    import_names = list(sum(re.findall(py_import_pattern, code_snippet), ()))\n",
    "    var_names = re.findall(py_variable_names, code_snippet)\n",
    "    # return {\n",
    "    #     'class_names' : class_names,\n",
    "    #     'func_names' : func_names,\n",
    "    #     'import_names' : import_names,\n",
    "    #     'var_names' : var_names\n",
    "    # }\n",
    "    return import_names\n",
    "\n",
    "post_df['import_names'] = post_df['code_snippets'].apply(find_code_features)"
   ],
   "metadata": {
    "collapsed": false
   }
  },
  {
   "cell_type": "code",
   "execution_count": null,
   "outputs": [],
   "source": [
    "post_df[['code_snippets', 'import_names']]"
   ],
   "metadata": {
    "collapsed": false
   }
  },
  {
   "cell_type": "code",
   "execution_count": null,
   "outputs": [],
   "source": [
    "a = post_df[['code_snippets', 'import_names']]\n",
    "a.dtypes"
   ],
   "metadata": {
    "collapsed": false
   }
  },
  {
   "cell_type": "markdown",
   "source": [
    "## Building the graph\n",
    "We want to build a user-expertise graph"
   ],
   "metadata": {
    "collapsed": false
   }
  },
  {
   "cell_type": "code",
   "execution_count": null,
   "outputs": [],
   "source": [
    "USER_ID = 653\n",
    "user_df.loc[USER_ID]"
   ],
   "metadata": {
    "collapsed": false
   }
  },
  {
   "cell_type": "code",
   "execution_count": null,
   "outputs": [],
   "source": [
    "questions_by_user = pd.read_sql_query(f\"SELECT * FROM Post WHERE OwnerUserId={USER_ID} AND PostTypeId=1\", db)\n",
    "questions_by_user.set_index('PostId', inplace=True)\n",
    "questions_by_user"
   ],
   "metadata": {
    "collapsed": false
   }
  },
  {
   "cell_type": "code",
   "execution_count": null,
   "outputs": [],
   "source": [
    "answers_by_user = pd.read_sql_query(f\"SELECT * FROM Post WHERE OwnerUserId={USER_ID} AND PostTypeId=2\", db)\n",
    "answers_by_user.set_index('PostId', inplace=True)\n",
    "answers_by_user"
   ],
   "metadata": {
    "collapsed": false
   }
  },
  {
   "cell_type": "code",
   "execution_count": null,
   "outputs": [],
   "source": [
    "comments_by_user = pd.read_sql_query(f\"SELECT * FROM Comment WHERE UserId={USER_ID}\", db)\n",
    "comments_by_user.set_index('CommentId', inplace=True)\n",
    "comments_by_user"
   ],
   "metadata": {
    "collapsed": false
   }
  },
  {
   "cell_type": "code",
   "execution_count": 15,
   "outputs": [],
   "source": [
    "def parse_tag_list(tag_list: str) -> List[str]:\n",
    "    return tag_list[1:-1].split(\"><\")\n",
    "\n",
    "def get_parent_tags(post_id: int) -> str:\n",
    "    tags = pd.read_sql_query(f\"SELECT Tags FROM Post WHERE PostId={post_id}\", db)\n",
    "    return tags['Tags'].item()"
   ],
   "metadata": {
    "collapsed": false
   }
  },
  {
   "cell_type": "code",
   "execution_count": null,
   "outputs": [],
   "source": [
    "tag_frequency = {}\n",
    "\n",
    "for i, row in questions_by_user.iterrows():\n",
    "    tags = parse_tag_list(row.Tags)\n",
    "    for t in tags:\n",
    "        if t in tag_frequency:\n",
    "            tag_frequency[t] += 1\n",
    "        else:\n",
    "            tag_frequency[t] = 1\n",
    "\n",
    "for i, row in answers_by_user.iterrows():\n",
    "    tag_list = get_parent_tags(row.ParentId)\n",
    "    if tag_list is None:\n",
    "        continue\n",
    "    for t in parse_tag_list(tag_list):\n",
    "        if t in tag_frequency:\n",
    "            tag_frequency[t] += 1\n",
    "        else:\n",
    "            tag_frequency[t] = 1\n",
    "\n",
    "{k: v for k, v in sorted(tag_frequency.items(), key=lambda item: item[1], reverse=True)}"
   ],
   "metadata": {
    "collapsed": false
   }
  },
  {
   "cell_type": "markdown",
   "source": [
    "So we can see there are many categories and for a single user; but there is a lot of variance.\n",
    "Can we create an embedding for tags which reflect similar categories?"
   ],
   "metadata": {
    "collapsed": false
   }
  },
  {
   "cell_type": "markdown",
   "source": [
    "Step 1. Build list of Tag vocabulary"
   ],
   "metadata": {
    "collapsed": false
   }
  },
  {
   "cell_type": "code",
   "execution_count": 6,
   "outputs": [
    {
     "data": {
      "text/plain": "          TagName    Count\nTagId                     \n1            .net   323469\n2            html  1146245\n3      javascript  2426650\n4             css   771867\n5             php  1445747",
      "text/html": "<div>\n<style scoped>\n    .dataframe tbody tr th:only-of-type {\n        vertical-align: middle;\n    }\n\n    .dataframe tbody tr th {\n        vertical-align: top;\n    }\n\n    .dataframe thead th {\n        text-align: right;\n    }\n</style>\n<table border=\"1\" class=\"dataframe\">\n  <thead>\n    <tr style=\"text-align: right;\">\n      <th></th>\n      <th>TagName</th>\n      <th>Count</th>\n    </tr>\n    <tr>\n      <th>TagId</th>\n      <th></th>\n      <th></th>\n    </tr>\n  </thead>\n  <tbody>\n    <tr>\n      <th>1</th>\n      <td>.net</td>\n      <td>323469</td>\n    </tr>\n    <tr>\n      <th>2</th>\n      <td>html</td>\n      <td>1146245</td>\n    </tr>\n    <tr>\n      <th>3</th>\n      <td>javascript</td>\n      <td>2426650</td>\n    </tr>\n    <tr>\n      <th>4</th>\n      <td>css</td>\n      <td>771867</td>\n    </tr>\n    <tr>\n      <th>5</th>\n      <td>php</td>\n      <td>1445747</td>\n    </tr>\n  </tbody>\n</table>\n</div>"
     },
     "execution_count": 6,
     "metadata": {},
     "output_type": "execute_result"
    }
   ],
   "source": [
    "tag_df.head()"
   ],
   "metadata": {
    "collapsed": false
   }
  },
  {
   "cell_type": "code",
   "execution_count": 12,
   "outputs": [],
   "source": [
    "tag_vocab = list(set(tag_df[\"TagName\"]))"
   ],
   "metadata": {
    "collapsed": false
   }
  },
  {
   "cell_type": "code",
   "execution_count": null,
   "outputs": [],
   "source": [
    "post_tags = pd.read_sql_query(f\"SELECT Tags FROM Post WHERE PostTypeId=1\", db)\n",
    "post_tags.to_csv(\"all_tags.csv\", index=False)"
   ],
   "metadata": {
    "collapsed": false
   }
  },
  {
   "cell_type": "code",
   "execution_count": 13,
   "outputs": [],
   "source": [
    "post_tags = pd.read_csv(\"all_tags.csv\")"
   ],
   "metadata": {
    "collapsed": false
   }
  },
  {
   "cell_type": "code",
   "execution_count": 16,
   "outputs": [],
   "source": [
    "tag_list_df = post_tags['Tags'].apply(lambda row: parse_tag_list(row))"
   ],
   "metadata": {
    "collapsed": false
   }
  },
  {
   "cell_type": "code",
   "execution_count": 17,
   "outputs": [],
   "source": [
    "combinations = tag_list_df.apply(lambda row: list(itertools.combinations(row, 2)))"
   ],
   "metadata": {
    "collapsed": false
   }
  },
  {
   "cell_type": "code",
   "execution_count": 18,
   "outputs": [],
   "source": [
    "combinations = combinations[combinations.astype(str) != '[]']"
   ],
   "metadata": {
    "collapsed": false
   }
  },
  {
   "cell_type": "code",
   "execution_count": 19,
   "outputs": [],
   "source": [
    "tag_pairs = []\n",
    "for i in combinations:\n",
    "    tag_pairs += i"
   ],
   "metadata": {
    "collapsed": false
   }
  },
  {
   "cell_type": "code",
   "execution_count": 69,
   "outputs": [
    {
     "data": {
      "text/plain": "[('sql', 'vb.net'),\n ('excel', 'vb.net'),\n ('jquery', 'populate'),\n ('javascript', 'show'),\n ('python', 'opencv'),\n ('jquery', 'find'),\n ('angular', 'lumen'),\n ('gwt', 'dependency-injection'),\n ('python-3.x', 'sqlalchemy'),\n ('mysql', 'sorting'),\n ('git', 'github-actions'),\n ('python', 'axes'),\n ('memory-management', 'jfreechart'),\n ('oauth', 'react-router'),\n ('ios', 'uitabbar'),\n ('django', 'forms'),\n ('python', 'pyspark'),\n ('wordpress', 'joomla'),\n ('lisp', 'common-lisp'),\n ('jestjs', 'babel-jest'),\n ('python', 'performance'),\n ('android', 'ios'),\n ('xcode', 'xcode6'),\n ('javascript', 'visual-studio-code'),\n ('ssl', 'tls1.2'),\n ('jquery', 'carousel'),\n ('entity-framework', 'unit-testing'),\n ('linux', 'debugging'),\n ('asynchronous', 'electron'),\n ('javascript', 'jquery'),\n ('c#', 'c#-4.0'),\n ('arrays', 'leading-zero'),\n ('templates', 'static'),\n ('android', 'google-play'),\n ('qt5', 'static-libraries'),\n ('keyboard', 'microphone'),\n ('java', 'reactjs'),\n ('wsdl', 'python-requests'),\n ('c#', 'viewbox'),\n ('performance', 'sql-server-2008'),\n ('sql', 'sql-server'),\n ('java', 'jar'),\n ('xml', 'xmlserializer'),\n ('delphi', 'delphi-6'),\n ('python-3.x', 'python-internals'),\n ('dependency-injection', 'spring-mvc'),\n ('php', 'regex'),\n ('asp.net', 'asp.net-mvc'),\n ('laravel', 'eloquent'),\n ('photoviewer', 'windows-11'),\n ('java', 'listview'),\n ('c#', 'windows'),\n ('sql-server', 'sql-server-2008'),\n ('python', 'html'),\n ('google-api', 'google-oauth'),\n ('python', 'data-loss'),\n ('filesystems', 'initrd'),\n ('angularjs', 'ionic-framework'),\n ('timer', 'android-runonuithread'),\n ('sql', 'oracle-sqldeveloper'),\n ('google-cloud-platform', 'google-cloud-functions'),\n ('xmpp', 'strophe'),\n ('swing', 'jlayeredpane'),\n ('r', 'subset'),\n ('eclipse', 'include'),\n ('java', 'wildfly-8'),\n ('linux', 'file'),\n ('spring', 'tomcat'),\n ('c#', 'last.fm'),\n ('apache2.4', 'mod-php'),\n ('mocking', 'moq'),\n ('php', 'html'),\n ('html', 'overflow'),\n ('design-patterns', 'mvvm-light'),\n ('python', 'python-3.x'),\n ('google-maps', 'google-maps-api-3'),\n ('android', 'asterisk'),\n ('node.js', 'range'),\n ('ios', 'swift'),\n ('c#', 'dijkstra'),\n ('forms', 'jsp'),\n ('c#', 'asp.net-mvc-3'),\n ('rust', 'borrow-checker'),\n ('c#', 'visual-studio'),\n ('ios', 'objective-c'),\n ('hudson', 'email-ext'),\n ('python', 'dictionary'),\n ('canvas', 'seadragon'),\n ('ios', 'air'),\n ('postgresql', 'psql'),\n ('node.js', 'macos'),\n ('magento', 'indexer'),\n ('perl', 'math'),\n ('vsto', 'ribbonx'),\n ('ecmascript-6', 'find'),\n ('javascript', 'reactjs'),\n ('android', 'packet-capture'),\n ('rest', 'vue.js'),\n ('flutter', 'android-studio'),\n ('extjs', 'sencha-touch-2'),\n ('node.js', 'docker'),\n ('ios', 'swift'),\n ('excel', 'excel-formula'),\n ('sql-injection', 'web-sql'),\n ('iphone', 'uitableview'),\n ('neo4j', 'spring-data-neo4j-4'),\n ('ruby', 'ajax'),\n ('sorting', 'google-sheets-formula'),\n ('python-2.7', 'pandas'),\n ('hook-woocommerce', 'custom-taxonomy'),\n ('c#', 'wpf'),\n ('javascript', 'paypal'),\n ('image', 'image-processing'),\n ('slider', 'pageshow'),\n ('javascript', 'jquery'),\n ('angularjs', 'ngmocke2e'),\n ('javascript', 'html'),\n ('python', 'append'),\n ('jquery', 'html'),\n ('node.js', 'single-page-application'),\n ('post', 'screen-scraping'),\n ('gdb', 'windows-subsystem-for-linux'),\n ('aws-lambda', 'asp.net-core-webapi'),\n ('macos', 'macos-carbon'),\n ('angularjs', 'routing'),\n ('button', 'google-apps-script'),\n ('tomcat', 'jdbc'),\n ('jsp', 'url'),\n ('linux-kernel', 'yocto'),\n ('html', 'css-selectors'),\n ('swift', 'uinavigationcontroller'),\n ('c#', 'dictionary'),\n ('file', 'cat'),\n ('http', 'android-volley'),\n ('java', 'jcache'),\n ('python', 'eclipse'),\n ('bootstrap-modal', 'carousel'),\n ('email', 'parsing'),\n ('r', 'legend'),\n ('drag-and-drop', 'touch'),\n ('javascript', 'jquery'),\n ('java', 'double'),\n ('asp.net-mvc-3', 'path'),\n ('javascript', 'reactjs'),\n ('php', 'mysql'),\n ('webdav', 'opendocument'),\n ('java', 'hibernate'),\n ('python', 'pagination'),\n ('parsing', 'android-activity'),\n ('.net', 'asp.net-mvc-4'),\n ('sql', 'ms-access-2010'),\n ('projects-and-solutions', 'envdte'),\n ('c#', 'xml'),\n ('laravel', 'webrtc'),\n ('python', 'dataframe'),\n ('jquery', 'element'),\n ('bash', 'conditional-statements'),\n ('reactjs', 'react-hooks'),\n ('css', 'sass'),\n ('java-6', 'compiler-version'),\n ('c++', 'filestream'),\n ('firebug', 'enumerable'),\n ('machine-learning', 'computer-vision'),\n ('replace', 'echo'),\n ('jquery', 'ajax'),\n ('mysql', 'file-upload'),\n ('android-service', 'firebase-cloud-messaging'),\n ('gitlab-ci', 'pipeline'),\n ('unicode', 'uilabel'),\n ('python', 'hyperlink'),\n ('reactjs', 'arrayobject'),\n ('database', 'dblink'),\n ('html', 'css'),\n ('php', 'html'),\n ('javascript', 'css'),\n ('python', 'user-interface'),\n ('c++', 'c'),\n ('visual-studio', 'output'),\n ('angularjs', 'rest'),\n ('r', 'data.table'),\n ('calendar', 'lightswitch-2013'),\n ('javascript', 'css'),\n ('asp.net', 'database'),\n ('integration-testing', 'akka-http'),\n ('jquery', 'html'),\n ('unit-testing', 'debugging'),\n ('php', 'jquery'),\n ('php', 'sql'),\n ('if-statement', 'concurrency'),\n ('sitemap', 'robots.txt'),\n ('jboss7.x', 'ear'),\n ('string', 'return'),\n ('machine-learning', 'keras'),\n ('android', 'android-activity'),\n ('java', 'hashmap'),\n ('excel-formula', 'excel-2010'),\n ('flash', 'actionscript-3'),\n ('javascript', 'arrays'),\n ('python', 'floating-point'),\n ('mongodb', 'reactive-streams'),\n ('php', 'encoding'),\n ('postgresql', 'access-control'),\n ('c#', 'string'),\n ('javascript', 'screen'),\n ('angularjs', 'angularjs-scope'),\n ('pointers', 'sizeof'),\n ('ajax', 'json'),\n ('c#', 'async-await'),\n ('java', 'graph'),\n ('ruby-on-rails-3', 'symlink'),\n ('php', 'css'),\n ('arrays', 'numpy'),\n ('sql', 'tsql'),\n ('jakarta-ee', 'datatables'),\n ('arrays', 'double'),\n ('string', 'c++11'),\n ('php', 'mysqli'),\n ('mysql', 'mariadb'),\n ('android', 'drag-and-drop'),\n ('eclipse', 'rcp'),\n ('group-by', 'data-science'),\n ('c++', 'graphics'),\n ('ios', 'healthkit'),\n ('flutter', 'dart'),\n ('reactjs', 'deployment'),\n ('csv', 'pydicom'),\n ('c++', 'qt'),\n ('https', 'vala'),\n ('jquery', 'wordpress'),\n ('rabbitmq', 'django-celery'),\n ('push-notification', 'mpns'),\n ('objective-c', 'nsstring'),\n ('ipad', 'oauth-2.0'),\n ('sync', 'microsoft-sync-framework'),\n ('python', 'python-module'),\n ('php', 'html'),\n ('image', 'paypal'),\n ('node.js', 'reactjs'),\n ('php', 'facebook'),\n ('proxy', 'fiddler'),\n ('lightbox2', 'captions'),\n ('c#', 'reference-type'),\n ('android', 'react-native'),\n ('visual-studio-2010', 'crash'),\n ('string', 'swing'),\n ('google-maps-api-3', 'google-places-api'),\n ('flutter', 'dart'),\n ('javascript', 'rxjs5'),\n ('.net', 'dll'),\n ('python', 'tkinter'),\n ('ios', 'swift'),\n ('algorithm', 'gesture-recognition'),\n ('java', 'hibernate'),\n ('amazon-web-services', 'amazon-s3'),\n ('c#', 'spawn'),\n ('regex', 'sh'),\n ('python', 'pandas'),\n ('junit', 'mockito'),\n ('android-notifications', 'foreground-service'),\n ('c', 'winapi'),\n ('mysql', 'regex'),\n ('c#', 'asp.net'),\n ('maven-3', 'm2eclipse'),\n ('pointers', 'qwidget'),\n ('linked-list', 'queue'),\n ('spring', 'jackson'),\n ('python', 'distutils'),\n ('excel', 'office365api'),\n ('java', 'arrays'),\n ('jquery', 'asp.net'),\n ('android-activity', 'tabwidget'),\n ('python', 'sanic'),\n ('cookies', 'setcookie'),\n ('internet-explorer', 'events'),\n ('ajax', 'wcf'),\n ('javascript', 'soundcloud'),\n ('cpu-registers', 'calling-convention'),\n ('asp.net-core', 'asp.net-web-api'),\n ('asp.net', 'asp.net-mvc'),\n ('r', 'mapply'),\n ('php', 'recursion'),\n ('javascript', 'drupal-hooks'),\n ('java', 'linux'),\n ('google-api', 'blogger'),\n ('sql', 'wamp'),\n ('multithreading', 'windows-services'),\n ('jquery', 'jquery-animate'),\n ('unix', 'solaris'),\n ('macos', 'pkgbuild'),\n ('sql', 'postgresql'),\n ('google-maps', 'google-maps-api-3'),\n ('javascript', 'match'),\n ('sql', 'sql-server-2008'),\n ('salesforce', 'salesforce-lightning'),\n ('python', 'arrays'),\n ('sql-server', 'database'),\n ('unity3d', 'streaming'),\n ('wcf', 'windows-ce'),\n ('dexterity', 'plone-4.x'),\n ('python', 'multithreading'),\n ('javascript', 'meteor'),\n ('python', 'amazon-dynamodb'),\n ('eclipse', 'r.java-file'),\n ('material-ui', 'cypress'),\n ('python', 'waveform'),\n ('c++', 'string'),\n ('windows-phone-7', 'bho'),\n ('mongodb', 'flask'),\n ('spring-boot', 'import'),\n ('java', 'firebase'),\n ('sql', 'backup'),\n ('java', 'jackson'),\n ('java', 'postgresql'),\n ('ios', 'uiview'),\n ('elasticsearch', 'logstash'),\n ('c#', 'methods'),\n ('windows', 'qt5'),\n ('gpu', 'opencl'),\n ('javascript', 'angular-promise'),\n ('reactjs', 'math-functions'),\n ('callback', 'training'),\n ('hibernate', 'hql'),\n ('rm', 'python-envoy'),\n ('c++', 'c++17'),\n ('iis', 'grpc'),\n ('angular', 'angular-material'),\n ('javascript', 'button'),\n ('javascript', 'onclick'),\n ('generics', 'namespaces'),\n ('c++', 'c++builder'),\n ('asp.net-core', 'asp.net-core-1.0'),\n ('titanium', 'appcelerator-titanium'),\n ('objective-c', 'afnetworking-2'),\n ('node.js', 'cookie-session'),\n ('asp.net', 'runtime-error'),\n ('automated-tests', 'build-automation'),\n ('javascript', 'backbone-views'),\n ('powershell', 'automation'),\n ('python', 'orm'),\n ('android', 'listview'),\n ('python', 'google-cloud-run'),\n ('struct', 'stack'),\n ('user-input', 'mathematical-expressions'),\n ('java', 'spring-mvc'),\n ('visual-studio', 'windows-phone-8.1'),\n ('database', 'laravel'),\n ('ajax', 'png'),\n ('amazon-web-services', 'aws-lambda'),\n ('c#', 'arrays'),\n ('node.js', 'performance'),\n ('loops', 'spyder'),\n ('angular', 'angular2-ngmodel'),\n ('python-3.x', 'title-case'),\n ('c#', 'ef-core-2.1'),\n ('c++', 'opencl'),\n ('mysql', 'arrays'),\n ('c++', 'memory'),\n ('node.js', 'google-api'),\n ('geolocation', 'gps'),\n ('assembly', 'sse2'),\n ('spring', 'spring-social'),\n ('directory', 'cvs'),\n ('flutter', 'firebase'),\n ('javascript', 'html'),\n ('java', 'android'),\n ('service', 'notifications'),\n ('javascript', 'flask'),\n ('javascript', 'authentication'),\n ('android-viewpager', 'fragment'),\n ('python', 'matplotlib'),\n ('java', 'permissions'),\n ('file', 'io'),\n ('r', 'poisson'),\n ('php', 'wordpress'),\n ('jquery', 'radio-button'),\n ('android', 'aapt2'),\n ('keras', 'highpass-filter'),\n ('ruby', 'xml'),\n ('php', 'ffmpeg'),\n ('hash', 'hash-of-hashes'),\n ('loops', 'while-loop'),\n ('python', 'redundancy'),\n ('bluetooth-lowenergy', 'altbeacon'),\n ('java', 'android'),\n ('c#', 'regex'),\n ('logstash', 'filebeat'),\n ('shell', 'filehandle'),\n ('entity-framework', 'command-query-separation'),\n ('package', 'apk'),\n ('linux', 'heap-memory'),\n ('reactjs', 'material-ui'),\n ('ruby', 'testing'),\n ('php', 'javascript'),\n ('ruby-on-rails', 'ruby-on-rails-2'),\n ('facebook-graph-api', 'facebook-php-sdk'),\n ('parameters', 'podio'),\n ('php', 'database-connection'),\n ('java', 'bullet'),\n ('android-studio', 'android-actionbar'),\n ('huawei-mobile-services', 'huawei-developers'),\n ('javascript', 'asp.net'),\n ('swift', 'tableview'),\n ('python', 'cx-oracle'),\n ('python', 'python-3.x'),\n ('audio', 'bytearray'),\n ('windows-ce', 'managed'),\n ('python', 'bots'),\n ('php', 'xampp'),\n ('list', 'hashable'),\n ('javascript', 'version-control'),\n ('actionscript', 'actionscript-2'),\n ('ssis', 'executable'),\n ('android', 'dart'),\n ('azure', 'azureservicebus'),\n ('css', 'background-image'),\n ('eclipse', 'swing'),\n ('observablecollection', 'inotifypropertychanged'),\n ('android-studio', 'kotlin'),\n ('firefox', 'imacros'),\n ('windows-phone-7', 'message-queue'),\n ('entity-framework-core', 'dbcontext'),\n ('arrays', 'recursion'),\n ('spark-streaming', 'spark-cassandra-connector'),\n ('multithreading', 'pipe'),\n ('azure', 'kubernetes'),\n ('python', 'photoshop'),\n ('java', 'testing'),\n ('amazon-web-services', 'amazon-ecs'),\n ('xcode', 'uiimage'),\n ('ruby-on-rails', 'ruby-on-rails-3'),\n ('extjs', 'sencha-touch-2'),\n ('javascript', 'canvas'),\n ('android', 'mysql'),\n ('python', 'amazon-web-services'),\n ('ios', 'mfmailcomposeviewcontroller'),\n ('windows-phone-8', 'windows-phone'),\n ('array-map', 'react-flow'),\n ('php', 'web'),\n ('python', 'scipy'),\n ('arrays', 'cstring'),\n ('azure', 'batch-file'),\n ('pandas', 'axis-labels'),\n ('sql', 'database-backups'),\n ('java', 'aop'),\n ('sql', 'semantic-web'),\n ('python', 'web-frameworks'),\n ('python', 'dataframe'),\n ('php', 'vqmod'),\n ('ruby-on-rails-4', 'form-for'),\n ('mongodb', 'mongoexport'),\n ('docker', 'pytorch'),\n ('plot', 'lattice'),\n ('email', 'docusignapi'),\n ('c#', 'partial-views'),\n ('swift', 'string'),\n ('user-interface', 'widget'),\n ('stream', 'loading'),\n ('c', 'text'),\n ('cordova', 'ipa'),\n ('c++', 'avl-tree'),\n ('python', 'bluetooth-lowenergy'),\n ('ruby-on-rails', 'string'),\n ('ajax', 'ruby-on-rails-plugins'),\n ('stylesheet', 'transform'),\n ('javascript', 'jquery'),\n ('css', 'pyqt4'),\n ('python', 'abstract-data-type'),\n ('javascript', 'sftp'),\n ('phpunit', 'phpseclib'),\n ('swift', 'cocoapods'),\n ('excel', 'rename'),\n ('scala', 'delta-lake'),\n ('excel', 'excel-formula'),\n ('jquery', 'css'),\n ('python', 'tessellation'),\n ('php', 'sql-update'),\n ('python', 'performance'),\n ('function', 'paste'),\n ('python', 'odoo'),\n ('assembly', 'att'),\n ('mysql', 'openshift-online'),\n ('php', 'yii'),\n ('ejb', 'apache-tomee'),\n ('javascript', 'css'),\n ('delphi-10-seattle', 'tcanvas'),\n ('google-sites', 'google-sites-2016'),\n ('java', 'json'),\n ('c#', 'post'),\n ('javascript', 'reactjs'),\n ('salesforce', 'docusignapi'),\n ('objective-c', 'launching-application'),\n ('c#', '.net-4.0'),\n ('c#', 'unity3d'),\n ('cakephp', 'button'),\n ('mysql', 'spatial'),\n ('python-3.x', 'tkinter'),\n ('java', 'jsp'),\n ('jquery', 'json'),\n ('javascript', 'jquery'),\n ('docker', 'gunicorn'),\n ('neo4j', 'cypher'),\n ('css', 'compare'),\n ('rvest', 'rselenium'),\n ('html', 'image'),\n ('ruby-on-rails', 'rspec'),\n ('reactjs', 'semantic-ui'),\n ('javascript', 'email'),\n ('html', 'playcanvas'),\n ('iis', 'user-agent'),\n ('css', 'django'),\n ('callback', 'public-method'),\n ('java', 'system'),\n ('c++', 'visual-c++'),\n ('c#', 'asp.net-mvc-4'),\n ('http', 'get'),\n ('gwt', 'response'),\n ('android', 'android-layout'),\n ('ios', 'uiviewcontroller'),\n ('nginx', 'docker-network'),\n ('api', 'google-oauth'),\n ('c#', 'resharper'),\n ('objective-c', 'undo'),\n ('excel', 'excel-formula'),\n ('tensorflow', 'keras'),\n ('mysql', 'case'),\n ('variables', 'go'),\n ('subprocess', 'popen'),\n ('node.js', 'google-cloud-firestore'),\n ('ajax', 'recaptcha'),\n ('google-chrome', 'selenium-webdriver'),\n ('c#', 'linq'),\n ('python', 'mask'),\n ('node.js', 'firebase'),\n ('iphone', 'uinavigationcontroller'),\n ('c#', 'load-testing'),\n ('jquery', 'animation'),\n ('c#', 'apache-flex'),\n ('database', 'git'),\n ('memory', 'uiimageview'),\n ('android', 'android-studio'),\n ('android-studio', 'android-layout'),\n ('android-studio', 'android-layout'),\n ('c++', 'variables'),\n ('eclipse', 'eclipse-photon'),\n ('ruby-on-rails', 'average'),\n ('migration', 'recharts'),\n ('flask', 'wsgi'),\n ('python', 'mysql-python'),\n ('sharepoint-designer', 'infopath2010'),\n ('unzip', 'shell32'),\n ('ios11', 'content-security-policy'),\n ('flutter', 'dart'),\n ('list', 'logic'),\n ('wildcard', 'excel-2008'),\n ('python-3.x', 'pandas'),\n ('python', 'try-catch'),\n ('tomcat', 'root'),\n ('testing', 'adobe'),\n ('c++', 'standards'),\n ('bash', 'npm'),\n ('php', 'cakephp'),\n ('ios', 'iphone'),\n ('regex', 'perl'),\n ('c#', 'folderbrowserdialog'),\n ('numpy', 'int'),\n ('apache', 'apache2'),\n ('ruby-on-rails-4', 'modal-dialog'),\n ('bluetooth-lowenergy', 'gatt'),\n ('kubernetes', 'kubernetes-ingress'),\n ('javascript', 'd3.js'),\n ('javascript', 'jquery'),\n ('javascript', 'minify'),\n ('oracle', 'spool'),\n ('python-2.7', 'matplotlib'),\n ('reactjs', 'axios'),\n ('docker', 'diskspace'),\n ('android', 'sdk'),\n ('c++', 'exception'),\n ('c#', 'tcp'),\n ('okta', 'okta-api'),\n ('javascript', 'jquery'),\n ('python', 'exception'),\n ('c#', 'entity-framework-6'),\n ('json', 'jackson'),\n ('html', 'google-chrome'),\n ('reactjs', 'react-hooks'),\n ('python', 'pandas'),\n ('wordpress', 'iis-8'),\n ('matplotlib', 'colorbar'),\n ('xcode', 'macos'),\n ('image-processing', 'ml.net'),\n ('swift', 'swift4'),\n ('python', 'webhooks'),\n ('java', 'dom4j'),\n ('java', 'android'),\n ('arrays', 'variables'),\n ('google-maps', 'zooming'),\n ('spring', 'apache-commons-dbcp'),\n ('python', 'memory'),\n ('multithreading', 'operating-system'),\n ('xamarin', 'nuget-package'),\n ('encryption', 'aes'),\n ('model-view-controller', 'crud'),\n ('jquery', 'ajax'),\n ('jquery', 'html'),\n ('javascript', 'php'),\n ('git', 'visual-studio-code'),\n ('soap', 'node-soap'),\n ('php', 'facebook-php-sdk'),\n ('algorithm', 'graph-algorithm'),\n ('ios', 'uinavigationcontroller'),\n ('gnuplot', 'logistics'),\n ('java', 'user-interface'),\n ('reactjs', 'setstate'),\n ('php', 'database'),\n ('ios', 'objective-c'),\n ('javascript', 'ecmascript-2016'),\n ('binding', 'selectedvalue'),\n ('objective-c', 'uisegmentedcontrol'),\n ('wireshark', 'pcap'),\n ('uinavigationcontroller', 'back'),\n ('powershell', 'roles'),\n ('c++', 'gcc'),\n ('docker', 'jenkins'),\n ('tkinter', 'tkinter-canvas'),\n ('javascript', 'streaming'),\n ('jquery', 'ruby-on-rails-3'),\n ('excel', 'criteria'),\n ('proxy', 'socks'),\n ('swing', 'jscrollbar'),\n ('templates', 'generic-programming'),\n ('select', 'asp.net-web-api'),\n ('c', 'data-structures'),\n ('visual-studio-2008', 'bids'),\n ('android', 'android-graphics'),\n ('data-structures', 'find'),\n ('wpf', 'browser'),\n ('xml', 'spring'),\n ('scala', 'apache-spark'),\n ('rss', 'feed'),\n ('jquery', 'ajax'),\n ('extjs', 'combobox'),\n ('javascript', 'casperjs'),\n ('reactjs', 'next.js'),\n ('wampserver', 'mantis'),\n ('variables', 'godot'),\n ('c#', 'event-handling'),\n ('arrays', 'pointers'),\n ('android', 'http-get'),\n ('reactjs', 'jestjs'),\n ('foreign-keys', 'constraints'),\n ('apache', 'mojolicious'),\n ('casting', 'wrapper'),\n ('.net', '.net-core'),\n ('java', 'request'),\n ('html', 'css-transforms'),\n ('amazon-web-services', 'boto3'),\n ('ruby-on-rails', 'validation'),\n ('binary', 'hex'),\n ('asp.net', 'browscap'),\n ('swift', 'google-drive-api'),\n ('authentication', 'laravel'),\n ('apple-push-notifications', 'ssl-certificate'),\n ('c#', 'resx'),\n ('azure-storage', 'azure-blob-storage'),\n ('json', 'twitter-bootstrap'),\n ('reactjs', 'semantic-ui'),\n ('parsing', 'html-parsing'),\n ('logging', 'log4net-configuration'),\n ('sql', 'ssis'),\n ('text-files', 'delimiter'),\n ('pointers', 'struct'),\n ('javascript', 'angular5'),\n ('python', 'image'),\n ('jquery', 'html'),\n ('javascript', 'mysql'),\n ('css', 'button'),\n ('rotation', 'textureview'),\n ('objective-c', 'ios'),\n ('javascript', 'node.js'),\n ('android', 'android-studio'),\n ('javascript', 'compression'),\n ('sql-server', 'sql-server-2008'),\n ('c#', 'mono'),\n ('oracle', 'plsql'),\n ('android', 'host'),\n ('android-recyclerview', 'retrofit2'),\n ('redhat', 'java-web-start'),\n ('flash', 'flexbuilder'),\n ('swift', 'mvvm'),\n ('email', 'mailx'),\n ('python', 'html'),\n ('python', 'python-3.x'),\n ('angularjs', 'mean-stack'),\n ('multithreading', 'user-interface'),\n ('php', 'arrays'),\n ('html', 'font-face'),\n ('utf-8', 'sql-server-2019'),\n ('twitter-bootstrap', 'css'),\n ('typo3-6.2.x', 'tx-news'),\n ('javascript', 'python'),\n ('winforms', 'fonts'),\n ('php', 'join'),\n ('linq-to-entities', 'entity-model'),\n ('json', 'angular'),\n ('node.js', 'titanium-mobile'),\n ('join', 'hana'),\n ('android', 'loss'),\n ('xpath', 'element'),\n ('html', 'safari'),\n ('actionscript-3', 'displayobject'),\n ('android', 'facebook-graph-api'),\n ('sql-server', 'tsql'),\n ('rest', 'pdi'),\n ('facebook', 'facebook-oauth'),\n ('c#', 'asp.net'),\n ('android', 'mysql'),\n ('sockets', 'client-server'),\n ('typescript', 'recursion'),\n ('laravel', 'backend'),\n ('shell', 'clsid'),\n ('magento', 'cart'),\n ('visual-studio', 'nsight'),\n ('c#', 'asp.net-mvc'),\n ('angularjs', 'ionic-native'),\n ('jquery', 'layout'),\n ('javascript', 'node.js'),\n ('php', 'html'),\n ('picturebox', 'imagelist'),\n ('git', 'repository'),\n ('jquery', 'save'),\n ('php', 'xampp'),\n ('postgresql', 'flask'),\n ('gridview', 'visibility'),\n ('c#', 'telerik'),\n ('python', 'command-line-interface'),\n ('javascript', 'lodash'),\n ('c#', 'php'),\n ('html', 'xml'),\n ('c++', 'multithreading'),\n ('ios', 'nsdata'),\n ('promise', 'cancellation'),\n ('javascript', 'custom-dimensions'),\n ('json', 'laravel'),\n ('ruby-on-rails', 'google-sheets-api'),\n ('ios', 'uitableview'),\n ('sql', 'database'),\n ('cryptography', 'sha'),\n ('webassembly', 'blazor-webassembly'),\n ('java', 'ngresource'),\n ('wpf', 'mvvm'),\n ('mysql', 'aggregate-functions'),\n ('xml-serialization', 'constraints'),\n ('windows', 'batch-file'),\n ('ios', 'rx-swift'),\n ('c++', 'oop'),\n ('java', 'jackson'),\n ('unit-testing', 'spring-test'),\n ('javascript', 'npm'),\n ('turbo', 'turbolinks-5'),\n ('server', 'opayo'),\n ('visual-studio-2008', 'clickonce'),\n ('oop', 'class-hierarchy'),\n ('oracle-apex', 'oracle-rest-data-services'),\n ('android-fragments', 'notifications'),\n ('php', 'curl'),\n ('ldap', 'ip'),\n ('javascript', 'jquery'),\n ('nginx', 'docker-compose'),\n ('pandas', 'numpy'),\n ('cloudflare', 'custom-domain'),\n ('ios', 'mkmapview'),\n ('android', 'device'),\n ('multithreading', 'java.util.concurrent'),\n ('php', 'laravel'),\n ('testing', 'selenium-webdriver'),\n ('reactjs', 'mongodb'),\n ('android', 'mysql'),\n ('reactjs', 'asp.net-core'),\n ('javascript', 'redux-persist'),\n ('wordpress', 'joomla'),\n ('node.js', 'aggregation-framework'),\n ('symfony', 'assetic'),\n ('mysql', 'database'),\n ('tensorflow', 'machine-learning'),\n ('mysql', 'servlets'),\n ('c#', 'uwp'),\n ('.net-2.0', 'outlook-2003'),\n ('excel', 'selenium'),\n ('indexing', 'neo4j'),\n ('javascript', 'jquery'),\n ('r', 'join'),\n ('html', 'shopify'),\n ('vba', 'excel'),\n ('azure', 'azure-automation'),\n ('javascript', 'onclick'),\n ('ios', 'asynchronous'),\n ('java', 'android-studio'),\n ('java', '.net-core'),\n ('asp.net', 'ajax'),\n ('java', 'spring'),\n ('javascript', 'unit-testing'),\n ('javascript', 'asp.net'),\n ('reactjs', 'bootstrap-4'),\n ('sql', 'derby'),\n ('c++', 'c++03'),\n ('logstash', 'logstash-grok'),\n ('boost', 'boost-range'),\n ('match', 'newline'),\n ('c', 'pcap'),\n ('iphone', 'ios'),\n ('lift', 'sbt'),\n ('codeigniter', 'logging'),\n ('bash', 'onclick'),\n ('audio', 'wav'),\n ('apache-spark', 'rdd'),\n ('apache', 'config'),\n ('jquery', 'swfobject'),\n ('bitwise-operators', 'bitwise-and'),\n ('javascript', 'canvas'),\n ('categories', 'wp-list-categories'),\n ('symfony', 'datetime'),\n ('ruby-on-rails', 'routes'),\n ('c#', 'ms-word'),\n ('csv', 'extract'),\n ('git', 'git-submodules'),\n ('post', 'afnetworking'),\n ('http', 'web-scraping'),\n ('php', 'ios'),\n ('python', 'python-3.x'),\n ('python', 'quadratic'),\n ('c#', 'razor-pages'),\n ('xaml', 'menuitem'),\n ('css', 'border'),\n ('php', 'function'),\n ('python', 'python-3.x'),\n ('android-lifecycle', 'rx-java2'),\n ('javascript', 'django'),\n ('json', 'reactjs'),\n ('mysql', 'sql'),\n ('javascript', 'jquery'),\n ('firefox', 'linkbutton'),\n ('android', 'xml'),\n ('string', 'undefined'),\n ('numpy', 'classification'),\n ('amazon-web-services', 'vue.js'),\n ('asp.net', 'payment-gateway'),\n ('session', 'symfony'),\n ('ios', 'delay'),\n ('ios', 'audio'),\n ('magento', 'oauth'),\n ('haskell', 'aeson'),\n ('c', 'gcc'),\n ('afnetworking', 'urbanairship.com'),\n ('ms-access', 'ms-office'),\n ('html', 'safari10'),\n ('typescript', 'vuejs3'),\n ('shiny', 'switch-statement'),\n ('python-3.x', 'julia'),\n ('java', 'json'),\n ('proguard', 'android-studio'),\n ('forms', 'vba'),\n ('json', 'jq'),\n ('c#', 'linq-to-sql'),\n ('spring', 'jpa'),\n ('xhtml', 'jquery-events'),\n ('xcode6', 'ios8.3'),\n ('android', 'android-cardview'),\n ('shell', 'sed'),\n ('svn', 'tortoisesvn'),\n ('object', 'memory'),\n ('list', 'filter'),\n ('iphone', 'ios4'),\n ('plotly', 'plotly.js'),\n ('css', 'internet-explorer-11'),\n ('java', 'jboss'),\n ('service', 'n-tier-architecture'),\n ('android', 'dependencies'),\n ('reactjs', 'gulp'),\n ('xcode', 'swift'),\n ('xaml', 'radgridview'),\n ('javascript', 'jquery'),\n ('php', 'json'),\n ('typescript', 'vue.js'),\n ('ssl', 'certificate'),\n ('asp.net-mvc-3', 'c#-4.0'),\n ('python', 'matplotlib'),\n ('javascript', 'arrays'),\n ('focus', 'edit'),\n ('android', 'kotlin'),\n ('iis-7', 'sql-session-state'),\n ('asp.net', 'wcf'),\n ('canvas', 'sprite-sheet'),\n ('php', 'file'),\n ('google-cloud-firestore', 'bloc'),\n ('sql', 'left-join'),\n ('c#', 'swagger'),\n ('mapbox', 'mapbox-gl-js'),\n ('ios', 'properties'),\n ('android-fragments', 'fragmenttransaction'),\n ('javascript', 'html-table'),\n ('curl', 'docusignapi'),\n ('reactjs', 'ecmascript-6'),\n ('ruby-on-rails', 'ruby'),\n ('forms', 'post'),\n ('javascript', 'arrays'),\n ('python', 'object-detection'),\n ('javascript', 'lag'),\n ('elf', 'ldd'),\n ('python-3.x', 'pandas'),\n ('php', 'url-rewriting'),\n ('security', 'rsa'),\n ('visual-studio', 'azure-active-directory'),\n ('objective-c', 'uiimagepickercontroller'),\n ('macos', 'cocoa'),\n ('java', 'algorithm'),\n ('python', 'ruby'),\n ('wordpress', 'custom-post-type'),\n ('google-app-engine', 'gql'),\n ('c++', 'qt'),\n ('android', 'android-jetpack'),\n ('c#', 'office-2013'),\n ('c', 'debugging'),\n ('api', 'rally'),\n ('arrays', 'lua'),\n ('pandas', 'dataframe'),\n ('ios', 'objective-c'),\n ('c#', 'json'),\n ('jquery', 'html'),\n ('windows', 'python-venv'),\n ('node.js', 'post'),\n ('unique', 'fillna'),\n ('ios', 'web-services'),\n ('anaconda', 'miniconda'),\n ('iphone', 'ios'),\n ('cocoa-touch', 'uiscrollview'),\n ('linux', 'command-line'),\n ('php', 'sqlfiddle'),\n ('visual-studio-2012', 'resharper'),\n ('python-2.7', 'python-2.6'),\n ('twitter', 'twitter-feed'),\n ('multithreading', 'winapi'),\n ('mysql', 'dictionary'),\n ('swift', 'parse-platform'),\n ('asp.net-core', 'azure-functions'),\n ('https', 'hsts'),\n ('php', 'database'),\n ('pandas', 'seaborn'),\n ('big-o', 'time-complexity'),\n ('onclick', 'controls'),\n ('php', 'mysql'),\n ('swift', 'mkdirection'),\n ('certificate', 'imperva'),\n ('java', 'soap'),\n ('docker', 'elasticsearch'),\n ('sonarqube', 'maven-plugin'),\n ('android', 'layout'),\n ('windows', 'authentication'),\n ('ios', 'scrollview'),\n ('php', 'failover'),\n ('javascript', 'jquery'),\n ('ios', 'jssor'),\n ('jquery', 'ajax'),\n ('numpy', 'numpy-ndarray'),\n ('amazon-web-services', 'amazon-ebs'),\n ('formatting', 'derby'),\n ('angularjs', 'nginx'),\n ('query-optimization', 'firebird-3.0'),\n ('windows', 'command-prompt'),\n ('django-models', 'django-custom-user'),\n ('spring-cloud', 'netflix-eureka'),\n ('mysql', 'api'),\n ('function', 'common-lisp'),\n ('c++', 'algorithm'),\n ('ruby-on-rails', 'has-many'),\n ('activemq', 'consumer'),\n ('.net', 'collections'),\n ('css', 'resize'),\n ('height', 'popupwindow'),\n ('karma-runner', 'systemjs'),\n ('mysql', 'rest'),\n ('javascript', 'charts'),\n ('ios', 'xamarin.ios'),\n ('django', 'django-admin'),\n ('python', 'amazon-web-services'),\n ('responsive-design', 'mobile-development'),\n ('wpf', 'datagrid'),\n ('vba', 'powerpoint'),\n ('function', 'variables'),\n ('javadoc', 'false-positive'),\n ('php', 'google-maps'),\n ('ajax', 'rest'),\n ('android', 'kotlin'),\n ('javascript', 'xpages'),\n ('javascript', 'html'),\n ('java', 'string'),\n ('mysql', 'dbeaver'),\n ('r', 'time'),\n ('javascript', 'node.js'),\n ('pyspark', 'spark-streaming'),\n ...]"
     },
     "execution_count": 69,
     "metadata": {},
     "output_type": "execute_result"
    }
   ],
   "source": [
    "import random\n",
    "\n",
    "TRAIN_SIZE = 100000\n",
    "tag_pairs = random.sample(tag_pairs, TRAIN_SIZE)\n",
    "tag_pairs"
   ],
   "metadata": {
    "collapsed": false
   }
  },
  {
   "cell_type": "code",
   "execution_count": 70,
   "outputs": [
    {
     "data": {
      "text/plain": "(10000, 63653)"
     },
     "execution_count": 70,
     "metadata": {},
     "output_type": "execute_result"
    }
   ],
   "source": [
    "len(tag_pairs), len(tag_vocab)"
   ],
   "metadata": {
    "collapsed": false
   }
  },
  {
   "cell_type": "code",
   "execution_count": 71,
   "outputs": [],
   "source": [
    "tag_to_ix = {tag: i for i, tag in enumerate(tag_vocab)}"
   ],
   "metadata": {
    "collapsed": false
   }
  },
  {
   "cell_type": "code",
   "execution_count": 72,
   "outputs": [],
   "source": [
    "class TagEmbedding(nn.Module):\n",
    "\n",
    "    def __init__(self, vocab_size, embedding_dim):\n",
    "        super(TagEmbedding, self).__init__()\n",
    "        self.embedding = nn.Embedding(vocab_size, embedding_dim)\n",
    "        self.linear1 = nn.Linear(embedding_dim, 128)\n",
    "        self.linear2 = nn.Linear(128, vocab_size)\n",
    "\n",
    "    def forward(self, inputs):\n",
    "        embeds = self.embedding(inputs).view((1, -1))\n",
    "        out = F.relu(self.linear1(embeds))\n",
    "        out = self.linear2(out)\n",
    "        log_probs = F.log_softmax(out, dim=1)\n",
    "        return log_probs"
   ],
   "metadata": {
    "collapsed": false
   }
  },
  {
   "cell_type": "code",
   "execution_count": 73,
   "outputs": [],
   "source": [
    "losses = []\n",
    "loss_function = nn.NLLLoss()\n",
    "model = TagEmbedding(vocab_size=len(tag_vocab), embedding_dim=20)\n",
    "optimizer = optim.SGD(model.parameters(), lr=0.001)"
   ],
   "metadata": {
    "collapsed": false
   }
  },
  {
   "cell_type": "code",
   "execution_count": 74,
   "outputs": [
    {
     "name": "stderr",
     "output_type": "stream",
     "text": [
      "100%|██████████| 10000/10000 [03:42<00:00, 44.91it/s]\n"
     ]
    }
   ],
   "source": [
    "from tqdm import tqdm\n",
    "\n",
    "for epoch in range(1):\n",
    "    total_loss = 0\n",
    "    for tag_a, tag_b in tqdm(tag_pairs):\n",
    "        tag_a_id = torch.tensor(tag_to_ix[tag_a], dtype=torch.long)\n",
    "        model.zero_grad()\n",
    "        log_probs = model(tag_a_id)\n",
    "        loss = loss_function(log_probs.flatten(), torch.tensor(tag_to_ix[tag_b], dtype=torch.long))\n",
    "        loss.backward()\n",
    "        optimizer.step()\n",
    "        total_loss += loss.item()\n",
    "    losses.append(total_loss)\n"
   ],
   "metadata": {
    "collapsed": false
   }
  },
  {
   "cell_type": "code",
   "execution_count": 106,
   "outputs": [],
   "source": [
    "embd_a = model.embedding.weight[tag_to_ix[\"python\"]]\n",
    "embd_b = model.embedding.weight[tag_to_ix[\"java\"]]"
   ],
   "metadata": {
    "collapsed": false
   }
  },
  {
   "cell_type": "code",
   "execution_count": 107,
   "outputs": [
    {
     "data": {
      "text/plain": "tensor(-0.0741, grad_fn=<SumBackward1>)"
     },
     "execution_count": 107,
     "metadata": {},
     "output_type": "execute_result"
    }
   ],
   "source": [
    "sim = torch.nn.CosineSimilarity(dim=0)\n",
    "sim(embd_a, embd_b)"
   ],
   "metadata": {
    "collapsed": false
   }
  },
  {
   "cell_type": "code",
   "execution_count": 112,
   "outputs": [],
   "source": [
    "from torch.utils.tensorboard import SummaryWriter\n",
    "writer = SummaryWriter('runs/visualisation')"
   ],
   "metadata": {
    "collapsed": false
   }
  },
  {
   "cell_type": "code",
   "execution_count": 113,
   "outputs": [
    {
     "name": "stdout",
     "output_type": "stream",
     "text": [
      "warning: Embedding dir exists, did you set global_step for add_embedding()?\n"
     ]
    }
   ],
   "source": [
    "writer.add_embedding(model.embedding.weight,\n",
    "                         metadata  = tag_vocab,\n",
    "                        tag = f'Tag embedding')"
   ],
   "metadata": {
    "collapsed": false
   }
  },
  {
   "cell_type": "code",
   "execution_count": 111,
   "outputs": [],
   "source": [
    "writer.close()"
   ],
   "metadata": {
    "collapsed": false
   }
  },
  {
   "cell_type": "code",
   "execution_count": null,
   "outputs": [],
   "source": [],
   "metadata": {
    "collapsed": false
   }
  }
 ],
 "metadata": {
  "kernelspec": {
   "display_name": "Python 3",
   "language": "python",
   "name": "python3"
  },
  "language_info": {
   "codemirror_mode": {
    "name": "ipython",
    "version": 2
   },
   "file_extension": ".py",
   "mimetype": "text/x-python",
   "name": "python",
   "nbconvert_exporter": "python",
   "pygments_lexer": "ipython2",
   "version": "2.7.6"
  }
 },
 "nbformat": 4,
 "nbformat_minor": 0
}
