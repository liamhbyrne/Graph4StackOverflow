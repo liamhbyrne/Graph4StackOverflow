{
 "cells": [
  {
   "cell_type": "markdown",
   "source": [
    "# Embeddings"
   ],
   "metadata": {
    "collapsed": false
   }
  },
  {
   "cell_type": "code",
   "execution_count": 30,
   "outputs": [],
   "source": [
    "import sqlite3\n",
    "from typing import List\n",
    "\n",
    "import pandas as pd\n",
    "from typing import *"
   ],
   "metadata": {
    "collapsed": false
   }
  },
  {
   "cell_type": "code",
   "execution_count": 31,
   "outputs": [],
   "source": [
    "# Create your connection.\n",
    "db = sqlite3.connect('../stackoverflow.db')"
   ],
   "metadata": {
    "collapsed": false
   }
  },
  {
   "cell_type": "code",
   "execution_count": 32,
   "outputs": [
    {
     "data": {
      "text/plain": "            TagName    Count\nTagId                       \n1              .net   323469\n2              html  1146245\n3        javascript  2426650\n4               css   771867\n5               php  1445747\n...             ...      ...\n158156  lost-update        1\n158157  chai-subset        1\n158159       at-spi        1\n158160          oro        0\n158161       sigsci        1\n\n[63653 rows x 2 columns]",
      "text/html": "<div>\n<style scoped>\n    .dataframe tbody tr th:only-of-type {\n        vertical-align: middle;\n    }\n\n    .dataframe tbody tr th {\n        vertical-align: top;\n    }\n\n    .dataframe thead th {\n        text-align: right;\n    }\n</style>\n<table border=\"1\" class=\"dataframe\">\n  <thead>\n    <tr style=\"text-align: right;\">\n      <th></th>\n      <th>TagName</th>\n      <th>Count</th>\n    </tr>\n    <tr>\n      <th>TagId</th>\n      <th></th>\n      <th></th>\n    </tr>\n  </thead>\n  <tbody>\n    <tr>\n      <th>1</th>\n      <td>.net</td>\n      <td>323469</td>\n    </tr>\n    <tr>\n      <th>2</th>\n      <td>html</td>\n      <td>1146245</td>\n    </tr>\n    <tr>\n      <th>3</th>\n      <td>javascript</td>\n      <td>2426650</td>\n    </tr>\n    <tr>\n      <th>4</th>\n      <td>css</td>\n      <td>771867</td>\n    </tr>\n    <tr>\n      <th>5</th>\n      <td>php</td>\n      <td>1445747</td>\n    </tr>\n    <tr>\n      <th>...</th>\n      <td>...</td>\n      <td>...</td>\n    </tr>\n    <tr>\n      <th>158156</th>\n      <td>lost-update</td>\n      <td>1</td>\n    </tr>\n    <tr>\n      <th>158157</th>\n      <td>chai-subset</td>\n      <td>1</td>\n    </tr>\n    <tr>\n      <th>158159</th>\n      <td>at-spi</td>\n      <td>1</td>\n    </tr>\n    <tr>\n      <th>158160</th>\n      <td>oro</td>\n      <td>0</td>\n    </tr>\n    <tr>\n      <th>158161</th>\n      <td>sigsci</td>\n      <td>1</td>\n    </tr>\n  </tbody>\n</table>\n<p>63653 rows × 2 columns</p>\n</div>"
     },
     "execution_count": 32,
     "metadata": {},
     "output_type": "execute_result"
    }
   ],
   "source": [
    "tag_df = pd.read_sql_query(\"SELECT * FROM Tag\", db)\n",
    "tag_df.set_index('TagId', inplace=True)\n",
    "tag_df"
   ],
   "metadata": {
    "collapsed": false
   }
  },
  {
   "cell_type": "code",
   "execution_count": 33,
   "outputs": [
    {
     "data": {
      "text/plain": "        PostTypeId  AcceptedAnswerId             CreationDate  Score  \\\nPostId                                                                 \n1                1               7.0  2008-07-31T21:42:52.667    781   \n2                1              31.0  2008-07-31T22:08:08.620    318   \n3                2               NaN  2008-07-31T22:17:57.883    517   \n4                1            1404.0  2008-07-31T23:40:59.743   2161   \n5                1            1248.0  2008-07-31T23:55:37.967   1629   \n...            ...               ...                      ...    ...   \n499996           2               NaN  2009-04-03T02:10:35.270      2   \n499997           2               NaN  2009-04-03T02:10:49.060      1   \n499998           1          799526.0  2009-04-03T02:11:16.237      4   \n499999           2               NaN  2009-04-03T02:14:04.293      5   \n500000           2               NaN  2009-04-03T02:15:39.347      1   \n\n        ViewCount                                               Body  \\\nPostId                                                                 \n1         67914.0  <p>I want to assign the decimal variable &quot...   \n2         23047.0  <p>I have an absolutely positioned <code>div</...   \n3             NaN  <p>An explicit cast to <code>double</code> lik...   \n4        757897.0  <p>Given a <code>DateTime</code> representing ...   \n5        193525.0  <p>Given a specific <code>DateTime</code> valu...   \n...           ...                                                ...   \n499996        NaN  <p>If we can assume that:</p>\\n\\n<ul>\\n<li>the...   \n499997        NaN  <p>Change:</p>\\n\\n<pre><code>for ansSeries in ...   \n499998     3611.0  <p>Here are the first few lines of my page:</p...   \n499999        NaN  <p>Since, in general, there is more than one p...   \n500000        NaN  <p>Ugh. Short of writing your own authenticati...   \n\n        OwnerUserId  LastEditorUserId LastEditorDisplayName  \\\nPostId                                                        \n1               8.0        16124033.0                Rich B   \n2               9.0         9134576.0          user14723686   \n3               9.0         5496973.0                  None   \n4               1.0         3524942.0                Rich B   \n5               1.0        16790137.0           user2370523   \n...             ...               ...                   ...   \n499996      72990.0               NaN                  None   \n499997       9940.0               NaN                  None   \n499998      63887.0               NaN                  None   \n499999      15168.0               NaN                  None   \n500000      85863.0               NaN                  None   \n\n                   LastEditDate  \\\nPostId                            \n1       2022-09-08T05:07:26.033   \n2       2021-01-29T18:46:45.963   \n3       2019-10-21T14:03:54.607   \n4       2022-07-27T22:34:36.320   \n5       2022-07-10T00:19:55.237   \n...                         ...   \n499996                     None   \n499997                     None   \n499998                     None   \n499999                     None   \n500000                     None   \n\n                                                    Title  \\\nPostId                                                      \n1                 How to convert Decimal to Double in C#?   \n2       Why did the width collapse in the percentage w...   \n3                                                    None   \n4       How do I calculate someone's age based on a Da...   \n5                           Calculate relative time in C#   \n...                                                   ...   \n499996                                               None   \n499997                                               None   \n499998  Why can't I use session_start() in my php scri...   \n499999                                               None   \n500000                                               None   \n\n                                                     Tags  AnswerCount  \\\nPostId                                                                   \n1       <c#><floating-point><type-conversion><double><...         14.0   \n2                        <html><css><internet-explorer-7>          7.0   \n3                                                    None          NaN   \n4                                    <c#><.net><datetime>         71.0   \n5       <c#><datetime><time><datediff><relative-time-s...         41.0   \n...                                                   ...          ...   \n499996                                               None          NaN   \n499997                                               None          NaN   \n499998                    <php><session><cookies><header>          2.0   \n499999                                               None          NaN   \n500000                                               None          NaN   \n\n        CommentCount  FavoriteCount       CommunityOwnedDate ContentLicense  \\\nPostId                                                                        \n1                  6           60.0  2012-10-31T16:42:47.213   CC BY-SA 4.0   \n2                  0           13.0                     None   CC BY-SA 4.0   \n3                  1            NaN                     None   CC BY-SA 4.0   \n4                 10          492.0  2011-08-16T19:40:43.080   CC BY-SA 4.0   \n5                  3          552.0  2009-09-04T13:15:59.820   CC BY-SA 4.0   \n...              ...            ...                      ...            ...   \n499996             0            NaN                     None   CC BY-SA 2.5   \n499997             0            NaN                     None   CC BY-SA 2.5   \n499998             2            NaN                     None   CC BY-SA 2.5   \n499999             1            NaN                     None   CC BY-SA 2.5   \n500000             1            NaN                     None   CC BY-SA 2.5   \n\n        ParentId  \nPostId            \n1            NaN  \n2            NaN  \n3            4.0  \n4            NaN  \n5            NaN  \n...          ...  \n499996  712186.0  \n499997  712225.0  \n499998       NaN  \n499999  712322.0  \n500000  712023.0  \n\n[500000 rows x 18 columns]",
      "text/html": "<div>\n<style scoped>\n    .dataframe tbody tr th:only-of-type {\n        vertical-align: middle;\n    }\n\n    .dataframe tbody tr th {\n        vertical-align: top;\n    }\n\n    .dataframe thead th {\n        text-align: right;\n    }\n</style>\n<table border=\"1\" class=\"dataframe\">\n  <thead>\n    <tr style=\"text-align: right;\">\n      <th></th>\n      <th>PostTypeId</th>\n      <th>AcceptedAnswerId</th>\n      <th>CreationDate</th>\n      <th>Score</th>\n      <th>ViewCount</th>\n      <th>Body</th>\n      <th>OwnerUserId</th>\n      <th>LastEditorUserId</th>\n      <th>LastEditorDisplayName</th>\n      <th>LastEditDate</th>\n      <th>Title</th>\n      <th>Tags</th>\n      <th>AnswerCount</th>\n      <th>CommentCount</th>\n      <th>FavoriteCount</th>\n      <th>CommunityOwnedDate</th>\n      <th>ContentLicense</th>\n      <th>ParentId</th>\n    </tr>\n    <tr>\n      <th>PostId</th>\n      <th></th>\n      <th></th>\n      <th></th>\n      <th></th>\n      <th></th>\n      <th></th>\n      <th></th>\n      <th></th>\n      <th></th>\n      <th></th>\n      <th></th>\n      <th></th>\n      <th></th>\n      <th></th>\n      <th></th>\n      <th></th>\n      <th></th>\n      <th></th>\n    </tr>\n  </thead>\n  <tbody>\n    <tr>\n      <th>1</th>\n      <td>1</td>\n      <td>7.0</td>\n      <td>2008-07-31T21:42:52.667</td>\n      <td>781</td>\n      <td>67914.0</td>\n      <td>&lt;p&gt;I want to assign the decimal variable &amp;quot...</td>\n      <td>8.0</td>\n      <td>16124033.0</td>\n      <td>Rich B</td>\n      <td>2022-09-08T05:07:26.033</td>\n      <td>How to convert Decimal to Double in C#?</td>\n      <td>&lt;c#&gt;&lt;floating-point&gt;&lt;type-conversion&gt;&lt;double&gt;&lt;...</td>\n      <td>14.0</td>\n      <td>6</td>\n      <td>60.0</td>\n      <td>2012-10-31T16:42:47.213</td>\n      <td>CC BY-SA 4.0</td>\n      <td>NaN</td>\n    </tr>\n    <tr>\n      <th>2</th>\n      <td>1</td>\n      <td>31.0</td>\n      <td>2008-07-31T22:08:08.620</td>\n      <td>318</td>\n      <td>23047.0</td>\n      <td>&lt;p&gt;I have an absolutely positioned &lt;code&gt;div&lt;/...</td>\n      <td>9.0</td>\n      <td>9134576.0</td>\n      <td>user14723686</td>\n      <td>2021-01-29T18:46:45.963</td>\n      <td>Why did the width collapse in the percentage w...</td>\n      <td>&lt;html&gt;&lt;css&gt;&lt;internet-explorer-7&gt;</td>\n      <td>7.0</td>\n      <td>0</td>\n      <td>13.0</td>\n      <td>None</td>\n      <td>CC BY-SA 4.0</td>\n      <td>NaN</td>\n    </tr>\n    <tr>\n      <th>3</th>\n      <td>2</td>\n      <td>NaN</td>\n      <td>2008-07-31T22:17:57.883</td>\n      <td>517</td>\n      <td>NaN</td>\n      <td>&lt;p&gt;An explicit cast to &lt;code&gt;double&lt;/code&gt; lik...</td>\n      <td>9.0</td>\n      <td>5496973.0</td>\n      <td>None</td>\n      <td>2019-10-21T14:03:54.607</td>\n      <td>None</td>\n      <td>None</td>\n      <td>NaN</td>\n      <td>1</td>\n      <td>NaN</td>\n      <td>None</td>\n      <td>CC BY-SA 4.0</td>\n      <td>4.0</td>\n    </tr>\n    <tr>\n      <th>4</th>\n      <td>1</td>\n      <td>1404.0</td>\n      <td>2008-07-31T23:40:59.743</td>\n      <td>2161</td>\n      <td>757897.0</td>\n      <td>&lt;p&gt;Given a &lt;code&gt;DateTime&lt;/code&gt; representing ...</td>\n      <td>1.0</td>\n      <td>3524942.0</td>\n      <td>Rich B</td>\n      <td>2022-07-27T22:34:36.320</td>\n      <td>How do I calculate someone's age based on a Da...</td>\n      <td>&lt;c#&gt;&lt;.net&gt;&lt;datetime&gt;</td>\n      <td>71.0</td>\n      <td>10</td>\n      <td>492.0</td>\n      <td>2011-08-16T19:40:43.080</td>\n      <td>CC BY-SA 4.0</td>\n      <td>NaN</td>\n    </tr>\n    <tr>\n      <th>5</th>\n      <td>1</td>\n      <td>1248.0</td>\n      <td>2008-07-31T23:55:37.967</td>\n      <td>1629</td>\n      <td>193525.0</td>\n      <td>&lt;p&gt;Given a specific &lt;code&gt;DateTime&lt;/code&gt; valu...</td>\n      <td>1.0</td>\n      <td>16790137.0</td>\n      <td>user2370523</td>\n      <td>2022-07-10T00:19:55.237</td>\n      <td>Calculate relative time in C#</td>\n      <td>&lt;c#&gt;&lt;datetime&gt;&lt;time&gt;&lt;datediff&gt;&lt;relative-time-s...</td>\n      <td>41.0</td>\n      <td>3</td>\n      <td>552.0</td>\n      <td>2009-09-04T13:15:59.820</td>\n      <td>CC BY-SA 4.0</td>\n      <td>NaN</td>\n    </tr>\n    <tr>\n      <th>...</th>\n      <td>...</td>\n      <td>...</td>\n      <td>...</td>\n      <td>...</td>\n      <td>...</td>\n      <td>...</td>\n      <td>...</td>\n      <td>...</td>\n      <td>...</td>\n      <td>...</td>\n      <td>...</td>\n      <td>...</td>\n      <td>...</td>\n      <td>...</td>\n      <td>...</td>\n      <td>...</td>\n      <td>...</td>\n      <td>...</td>\n    </tr>\n    <tr>\n      <th>499996</th>\n      <td>2</td>\n      <td>NaN</td>\n      <td>2009-04-03T02:10:35.270</td>\n      <td>2</td>\n      <td>NaN</td>\n      <td>&lt;p&gt;If we can assume that:&lt;/p&gt;\\n\\n&lt;ul&gt;\\n&lt;li&gt;the...</td>\n      <td>72990.0</td>\n      <td>NaN</td>\n      <td>None</td>\n      <td>None</td>\n      <td>None</td>\n      <td>None</td>\n      <td>NaN</td>\n      <td>0</td>\n      <td>NaN</td>\n      <td>None</td>\n      <td>CC BY-SA 2.5</td>\n      <td>712186.0</td>\n    </tr>\n    <tr>\n      <th>499997</th>\n      <td>2</td>\n      <td>NaN</td>\n      <td>2009-04-03T02:10:49.060</td>\n      <td>1</td>\n      <td>NaN</td>\n      <td>&lt;p&gt;Change:&lt;/p&gt;\\n\\n&lt;pre&gt;&lt;code&gt;for ansSeries in ...</td>\n      <td>9940.0</td>\n      <td>NaN</td>\n      <td>None</td>\n      <td>None</td>\n      <td>None</td>\n      <td>None</td>\n      <td>NaN</td>\n      <td>0</td>\n      <td>NaN</td>\n      <td>None</td>\n      <td>CC BY-SA 2.5</td>\n      <td>712225.0</td>\n    </tr>\n    <tr>\n      <th>499998</th>\n      <td>1</td>\n      <td>799526.0</td>\n      <td>2009-04-03T02:11:16.237</td>\n      <td>4</td>\n      <td>3611.0</td>\n      <td>&lt;p&gt;Here are the first few lines of my page:&lt;/p...</td>\n      <td>63887.0</td>\n      <td>NaN</td>\n      <td>None</td>\n      <td>None</td>\n      <td>Why can't I use session_start() in my php scri...</td>\n      <td>&lt;php&gt;&lt;session&gt;&lt;cookies&gt;&lt;header&gt;</td>\n      <td>2.0</td>\n      <td>2</td>\n      <td>NaN</td>\n      <td>None</td>\n      <td>CC BY-SA 2.5</td>\n      <td>NaN</td>\n    </tr>\n    <tr>\n      <th>499999</th>\n      <td>2</td>\n      <td>NaN</td>\n      <td>2009-04-03T02:14:04.293</td>\n      <td>5</td>\n      <td>NaN</td>\n      <td>&lt;p&gt;Since, in general, there is more than one p...</td>\n      <td>15168.0</td>\n      <td>NaN</td>\n      <td>None</td>\n      <td>None</td>\n      <td>None</td>\n      <td>None</td>\n      <td>NaN</td>\n      <td>1</td>\n      <td>NaN</td>\n      <td>None</td>\n      <td>CC BY-SA 2.5</td>\n      <td>712322.0</td>\n    </tr>\n    <tr>\n      <th>500000</th>\n      <td>2</td>\n      <td>NaN</td>\n      <td>2009-04-03T02:15:39.347</td>\n      <td>1</td>\n      <td>NaN</td>\n      <td>&lt;p&gt;Ugh. Short of writing your own authenticati...</td>\n      <td>85863.0</td>\n      <td>NaN</td>\n      <td>None</td>\n      <td>None</td>\n      <td>None</td>\n      <td>None</td>\n      <td>NaN</td>\n      <td>1</td>\n      <td>NaN</td>\n      <td>None</td>\n      <td>CC BY-SA 2.5</td>\n      <td>712023.0</td>\n    </tr>\n  </tbody>\n</table>\n<p>500000 rows × 18 columns</p>\n</div>"
     },
     "execution_count": 33,
     "metadata": {},
     "output_type": "execute_result"
    }
   ],
   "source": [
    "POST_LIMIT = 500000\n",
    "post_df = pd.read_sql_query(f\"SELECT * FROM Post LIMIT {POST_LIMIT}\", db)\n",
    "post_df.set_index('PostId', inplace=True)\n",
    "post_df"
   ],
   "metadata": {
    "collapsed": false
   }
  },
  {
   "cell_type": "code",
   "execution_count": 34,
   "outputs": [
    {
     "data": {
      "text/plain": "         UserId              Name             CreationDate  Class TagBased\nBadgeId                                                                   \n1          3718           Teacher  2008-09-15T08:55:03.923      3    False\n2           994           Teacher  2008-09-15T08:55:03.957      3    False\n3          3893           Teacher  2008-09-15T08:55:03.957      3    False\n4          4591           Teacher  2008-09-15T08:55:03.957      3    False\n5          5196           Teacher  2008-09-15T08:55:03.957      3    False\n...         ...               ...                      ...    ...      ...\n499996    51452       Good Answer  2010-02-15T12:27:33.500      2    False\n499997   250648            Critic  2010-02-15T12:32:31.950      3    False\n499998   162569       Commentator  2010-02-15T12:32:32.713      3    False\n499999   116388  Popular Question  2010-02-15T12:32:32.930      3    False\n500000   267503        Tumbleweed  2010-02-15T12:32:35.007      3    False\n\n[500000 rows x 5 columns]",
      "text/html": "<div>\n<style scoped>\n    .dataframe tbody tr th:only-of-type {\n        vertical-align: middle;\n    }\n\n    .dataframe tbody tr th {\n        vertical-align: top;\n    }\n\n    .dataframe thead th {\n        text-align: right;\n    }\n</style>\n<table border=\"1\" class=\"dataframe\">\n  <thead>\n    <tr style=\"text-align: right;\">\n      <th></th>\n      <th>UserId</th>\n      <th>Name</th>\n      <th>CreationDate</th>\n      <th>Class</th>\n      <th>TagBased</th>\n    </tr>\n    <tr>\n      <th>BadgeId</th>\n      <th></th>\n      <th></th>\n      <th></th>\n      <th></th>\n      <th></th>\n    </tr>\n  </thead>\n  <tbody>\n    <tr>\n      <th>1</th>\n      <td>3718</td>\n      <td>Teacher</td>\n      <td>2008-09-15T08:55:03.923</td>\n      <td>3</td>\n      <td>False</td>\n    </tr>\n    <tr>\n      <th>2</th>\n      <td>994</td>\n      <td>Teacher</td>\n      <td>2008-09-15T08:55:03.957</td>\n      <td>3</td>\n      <td>False</td>\n    </tr>\n    <tr>\n      <th>3</th>\n      <td>3893</td>\n      <td>Teacher</td>\n      <td>2008-09-15T08:55:03.957</td>\n      <td>3</td>\n      <td>False</td>\n    </tr>\n    <tr>\n      <th>4</th>\n      <td>4591</td>\n      <td>Teacher</td>\n      <td>2008-09-15T08:55:03.957</td>\n      <td>3</td>\n      <td>False</td>\n    </tr>\n    <tr>\n      <th>5</th>\n      <td>5196</td>\n      <td>Teacher</td>\n      <td>2008-09-15T08:55:03.957</td>\n      <td>3</td>\n      <td>False</td>\n    </tr>\n    <tr>\n      <th>...</th>\n      <td>...</td>\n      <td>...</td>\n      <td>...</td>\n      <td>...</td>\n      <td>...</td>\n    </tr>\n    <tr>\n      <th>499996</th>\n      <td>51452</td>\n      <td>Good Answer</td>\n      <td>2010-02-15T12:27:33.500</td>\n      <td>2</td>\n      <td>False</td>\n    </tr>\n    <tr>\n      <th>499997</th>\n      <td>250648</td>\n      <td>Critic</td>\n      <td>2010-02-15T12:32:31.950</td>\n      <td>3</td>\n      <td>False</td>\n    </tr>\n    <tr>\n      <th>499998</th>\n      <td>162569</td>\n      <td>Commentator</td>\n      <td>2010-02-15T12:32:32.713</td>\n      <td>3</td>\n      <td>False</td>\n    </tr>\n    <tr>\n      <th>499999</th>\n      <td>116388</td>\n      <td>Popular Question</td>\n      <td>2010-02-15T12:32:32.930</td>\n      <td>3</td>\n      <td>False</td>\n    </tr>\n    <tr>\n      <th>500000</th>\n      <td>267503</td>\n      <td>Tumbleweed</td>\n      <td>2010-02-15T12:32:35.007</td>\n      <td>3</td>\n      <td>False</td>\n    </tr>\n  </tbody>\n</table>\n<p>500000 rows × 5 columns</p>\n</div>"
     },
     "execution_count": 34,
     "metadata": {},
     "output_type": "execute_result"
    }
   ],
   "source": [
    "BADGE_LIMIT = 500000\n",
    "badge_df = pd.read_sql_query(f\"SELECT * FROM badge LIMIT {BADGE_LIMIT}\", db)\n",
    "badge_df.set_index('BadgeId', inplace=True)\n",
    "badge_df"
   ],
   "metadata": {
    "collapsed": false
   }
  },
  {
   "cell_type": "code",
   "execution_count": 35,
   "outputs": [
    {
     "data": {
      "text/plain": "         Reputation             CreationDate   DisplayName  \\\nUserId                                                       \n-1009             1  2022-05-17T15:06:54.890          WSO2   \n-1008             1  2022-01-31T19:45:27.477        Twilio   \n-1007             1  2021-09-30T18:39:12.143  AudioBubble2   \n-1006             1  2021-09-27T19:40:44.437         Intel   \n-1005             1  2021-07-29T14:07:57.580        GitLab   \n...             ...                      ...           ...   \n 884592          31  2011-08-08T18:18:02.387           Ann   \n 884593         335  2011-08-08T18:19:27.857         ymliu   \n 884595         123  2011-08-08T18:20:03.193    Neil Woods   \n 884597          21  2011-08-08T18:21:27.077      Nathan B   \n 884599          31  2011-08-08T18:22:16.987       Quaitex   \n\n                  LastAccessDate WebsiteUrl Location  \\\nUserId                                                 \n-1009    2022-05-17T15:06:54.890       None     None   \n-1008    2022-01-31T19:45:27.477       None     None   \n-1007    2021-09-30T18:39:12.143       None     None   \n-1006    2021-09-27T19:40:44.437       None     None   \n-1005    2021-07-29T14:07:57.580       None     None   \n...                          ...        ...      ...   \n 884592  2011-08-08T18:18:02.387       None     None   \n 884593  2020-04-23T00:04:46.763                None   \n 884595  2021-09-08T11:14:32.143                None   \n 884597  2022-09-22T20:23:45.923                None   \n 884599  2011-09-01T14:16:54.883       None     None   \n\n                                                   AboutMe  Views  UpVotes  \\\nUserId                                                                       \n-1009    <p>WSO2 solutions give enterprises the flexibi...      0        0   \n-1008    <p>Twilio has democratized channels like voice...      0        0   \n-1007    <p>Official Q&amp;A support for AudioBubble2</...      0        0   \n-1006    <p>A space for developers to collaborate on In...      0        0   \n-1005    <p>GitLab is the open DevOps platform, deliver...      0        0   \n...                                                    ...    ...      ...   \n 884592                                               None      0        0   \n 884593                                                        33        8   \n 884595                                                         6        3   \n 884597                                                        14       28   \n 884599                                               None      5        0   \n\n         DownVotes                      ProfileImageUrl  AccountId  \nUserId                                                              \n-1009            0                                 None        NaN  \n-1008            0                                 None        NaN  \n-1007            0                                 None        NaN  \n-1006            0                                 None        NaN  \n-1005            0                                 None        NaN  \n...            ...                                  ...        ...  \n 884592          0                                 None   802774.0  \n 884593          0  https://i.stack.imgur.com/jMCNj.jpg   474725.0  \n 884595          0                                 None   802775.0  \n 884597          0  https://i.stack.imgur.com/CMmBO.jpg   474727.0  \n 884599          0                                 None   796823.0  \n\n[500000 rows x 12 columns]",
      "text/html": "<div>\n<style scoped>\n    .dataframe tbody tr th:only-of-type {\n        vertical-align: middle;\n    }\n\n    .dataframe tbody tr th {\n        vertical-align: top;\n    }\n\n    .dataframe thead th {\n        text-align: right;\n    }\n</style>\n<table border=\"1\" class=\"dataframe\">\n  <thead>\n    <tr style=\"text-align: right;\">\n      <th></th>\n      <th>Reputation</th>\n      <th>CreationDate</th>\n      <th>DisplayName</th>\n      <th>LastAccessDate</th>\n      <th>WebsiteUrl</th>\n      <th>Location</th>\n      <th>AboutMe</th>\n      <th>Views</th>\n      <th>UpVotes</th>\n      <th>DownVotes</th>\n      <th>ProfileImageUrl</th>\n      <th>AccountId</th>\n    </tr>\n    <tr>\n      <th>UserId</th>\n      <th></th>\n      <th></th>\n      <th></th>\n      <th></th>\n      <th></th>\n      <th></th>\n      <th></th>\n      <th></th>\n      <th></th>\n      <th></th>\n      <th></th>\n      <th></th>\n    </tr>\n  </thead>\n  <tbody>\n    <tr>\n      <th>-1009</th>\n      <td>1</td>\n      <td>2022-05-17T15:06:54.890</td>\n      <td>WSO2</td>\n      <td>2022-05-17T15:06:54.890</td>\n      <td>None</td>\n      <td>None</td>\n      <td>&lt;p&gt;WSO2 solutions give enterprises the flexibi...</td>\n      <td>0</td>\n      <td>0</td>\n      <td>0</td>\n      <td>None</td>\n      <td>NaN</td>\n    </tr>\n    <tr>\n      <th>-1008</th>\n      <td>1</td>\n      <td>2022-01-31T19:45:27.477</td>\n      <td>Twilio</td>\n      <td>2022-01-31T19:45:27.477</td>\n      <td>None</td>\n      <td>None</td>\n      <td>&lt;p&gt;Twilio has democratized channels like voice...</td>\n      <td>0</td>\n      <td>0</td>\n      <td>0</td>\n      <td>None</td>\n      <td>NaN</td>\n    </tr>\n    <tr>\n      <th>-1007</th>\n      <td>1</td>\n      <td>2021-09-30T18:39:12.143</td>\n      <td>AudioBubble2</td>\n      <td>2021-09-30T18:39:12.143</td>\n      <td>None</td>\n      <td>None</td>\n      <td>&lt;p&gt;Official Q&amp;amp;A support for AudioBubble2&lt;/...</td>\n      <td>0</td>\n      <td>0</td>\n      <td>0</td>\n      <td>None</td>\n      <td>NaN</td>\n    </tr>\n    <tr>\n      <th>-1006</th>\n      <td>1</td>\n      <td>2021-09-27T19:40:44.437</td>\n      <td>Intel</td>\n      <td>2021-09-27T19:40:44.437</td>\n      <td>None</td>\n      <td>None</td>\n      <td>&lt;p&gt;A space for developers to collaborate on In...</td>\n      <td>0</td>\n      <td>0</td>\n      <td>0</td>\n      <td>None</td>\n      <td>NaN</td>\n    </tr>\n    <tr>\n      <th>-1005</th>\n      <td>1</td>\n      <td>2021-07-29T14:07:57.580</td>\n      <td>GitLab</td>\n      <td>2021-07-29T14:07:57.580</td>\n      <td>None</td>\n      <td>None</td>\n      <td>&lt;p&gt;GitLab is the open DevOps platform, deliver...</td>\n      <td>0</td>\n      <td>0</td>\n      <td>0</td>\n      <td>None</td>\n      <td>NaN</td>\n    </tr>\n    <tr>\n      <th>...</th>\n      <td>...</td>\n      <td>...</td>\n      <td>...</td>\n      <td>...</td>\n      <td>...</td>\n      <td>...</td>\n      <td>...</td>\n      <td>...</td>\n      <td>...</td>\n      <td>...</td>\n      <td>...</td>\n      <td>...</td>\n    </tr>\n    <tr>\n      <th>884592</th>\n      <td>31</td>\n      <td>2011-08-08T18:18:02.387</td>\n      <td>Ann</td>\n      <td>2011-08-08T18:18:02.387</td>\n      <td>None</td>\n      <td>None</td>\n      <td>None</td>\n      <td>0</td>\n      <td>0</td>\n      <td>0</td>\n      <td>None</td>\n      <td>802774.0</td>\n    </tr>\n    <tr>\n      <th>884593</th>\n      <td>335</td>\n      <td>2011-08-08T18:19:27.857</td>\n      <td>ymliu</td>\n      <td>2020-04-23T00:04:46.763</td>\n      <td></td>\n      <td>None</td>\n      <td></td>\n      <td>33</td>\n      <td>8</td>\n      <td>0</td>\n      <td>https://i.stack.imgur.com/jMCNj.jpg</td>\n      <td>474725.0</td>\n    </tr>\n    <tr>\n      <th>884595</th>\n      <td>123</td>\n      <td>2011-08-08T18:20:03.193</td>\n      <td>Neil Woods</td>\n      <td>2021-09-08T11:14:32.143</td>\n      <td></td>\n      <td>None</td>\n      <td></td>\n      <td>6</td>\n      <td>3</td>\n      <td>0</td>\n      <td>None</td>\n      <td>802775.0</td>\n    </tr>\n    <tr>\n      <th>884597</th>\n      <td>21</td>\n      <td>2011-08-08T18:21:27.077</td>\n      <td>Nathan B</td>\n      <td>2022-09-22T20:23:45.923</td>\n      <td></td>\n      <td>None</td>\n      <td></td>\n      <td>14</td>\n      <td>28</td>\n      <td>0</td>\n      <td>https://i.stack.imgur.com/CMmBO.jpg</td>\n      <td>474727.0</td>\n    </tr>\n    <tr>\n      <th>884599</th>\n      <td>31</td>\n      <td>2011-08-08T18:22:16.987</td>\n      <td>Quaitex</td>\n      <td>2011-09-01T14:16:54.883</td>\n      <td>None</td>\n      <td>None</td>\n      <td>None</td>\n      <td>5</td>\n      <td>0</td>\n      <td>0</td>\n      <td>None</td>\n      <td>796823.0</td>\n    </tr>\n  </tbody>\n</table>\n<p>500000 rows × 12 columns</p>\n</div>"
     },
     "execution_count": 35,
     "metadata": {},
     "output_type": "execute_result"
    }
   ],
   "source": [
    "user_LIMIT = 500000\n",
    "user_df = pd.read_sql_query(f\"SELECT * FROM user LIMIT {user_LIMIT}\", db)\n",
    "user_df.set_index('UserId', inplace=True)\n",
    "user_df"
   ],
   "metadata": {
    "collapsed": false
   }
  },
  {
   "cell_type": "code",
   "execution_count": 36,
   "outputs": [
    {
     "data": {
      "text/plain": "            PostId  Score                                               Body  \\\nCommentId                                                                      \n1            45651      6  It will help if you give some details of which...   \n2            47428      3  One of the things that make a url user-friendl...   \n3            47481      0  I agree, both CodeRush and RefactorPro are vis...   \n4            47373      0  Just wanted to mention that this is an excelle...   \n5            47497      1  Indeed, the only way to do this is get the ser...   \n...            ...    ...                                                ...   \n499996     1044179      0  The index is there already. How can I force or...   \n499997     1047464      0  are you sure you can rewrite to a URL on anoth...   \n499998     1045341      0  Not sure if I understood correctly. \\nWhere's ...   \n499999     1047471      0  Is there a way to remove that selected class f...   \n500000     1043743      0  I've added some XSLT that does the necessary c...   \n\n                      CreationDate    UserId ContentLicense  \nCommentId                                                    \n1          2008-09-06T13:38:23.647     242.0   CC BY-SA 2.5  \n2          2008-09-06T13:51:47.843    4642.0   CC BY-SA 2.5  \n3          2008-09-06T14:15:46.897    4642.0   CC BY-SA 2.5  \n4          2008-09-06T14:30:40.217    2495.0   CC BY-SA 2.5  \n5          2008-09-06T14:42:35.303    4642.0   CC BY-SA 2.5  \n...                            ...       ...            ...  \n499996     2009-06-26T05:43:11.223   87248.0   CC BY-SA 2.5  \n499997     2009-06-26T05:43:42.253  109102.0   CC BY-SA 2.5  \n499998     2009-06-26T05:46:21.890   73715.0   CC BY-SA 2.5  \n499999     2009-06-26T05:46:23.497   86038.0   CC BY-SA 2.5  \n500000     2009-06-26T05:48:48.330   18771.0   CC BY-SA 2.5  \n\n[500000 rows x 6 columns]",
      "text/html": "<div>\n<style scoped>\n    .dataframe tbody tr th:only-of-type {\n        vertical-align: middle;\n    }\n\n    .dataframe tbody tr th {\n        vertical-align: top;\n    }\n\n    .dataframe thead th {\n        text-align: right;\n    }\n</style>\n<table border=\"1\" class=\"dataframe\">\n  <thead>\n    <tr style=\"text-align: right;\">\n      <th></th>\n      <th>PostId</th>\n      <th>Score</th>\n      <th>Body</th>\n      <th>CreationDate</th>\n      <th>UserId</th>\n      <th>ContentLicense</th>\n    </tr>\n    <tr>\n      <th>CommentId</th>\n      <th></th>\n      <th></th>\n      <th></th>\n      <th></th>\n      <th></th>\n      <th></th>\n    </tr>\n  </thead>\n  <tbody>\n    <tr>\n      <th>1</th>\n      <td>45651</td>\n      <td>6</td>\n      <td>It will help if you give some details of which...</td>\n      <td>2008-09-06T13:38:23.647</td>\n      <td>242.0</td>\n      <td>CC BY-SA 2.5</td>\n    </tr>\n    <tr>\n      <th>2</th>\n      <td>47428</td>\n      <td>3</td>\n      <td>One of the things that make a url user-friendl...</td>\n      <td>2008-09-06T13:51:47.843</td>\n      <td>4642.0</td>\n      <td>CC BY-SA 2.5</td>\n    </tr>\n    <tr>\n      <th>3</th>\n      <td>47481</td>\n      <td>0</td>\n      <td>I agree, both CodeRush and RefactorPro are vis...</td>\n      <td>2008-09-06T14:15:46.897</td>\n      <td>4642.0</td>\n      <td>CC BY-SA 2.5</td>\n    </tr>\n    <tr>\n      <th>4</th>\n      <td>47373</td>\n      <td>0</td>\n      <td>Just wanted to mention that this is an excelle...</td>\n      <td>2008-09-06T14:30:40.217</td>\n      <td>2495.0</td>\n      <td>CC BY-SA 2.5</td>\n    </tr>\n    <tr>\n      <th>5</th>\n      <td>47497</td>\n      <td>1</td>\n      <td>Indeed, the only way to do this is get the ser...</td>\n      <td>2008-09-06T14:42:35.303</td>\n      <td>4642.0</td>\n      <td>CC BY-SA 2.5</td>\n    </tr>\n    <tr>\n      <th>...</th>\n      <td>...</td>\n      <td>...</td>\n      <td>...</td>\n      <td>...</td>\n      <td>...</td>\n      <td>...</td>\n    </tr>\n    <tr>\n      <th>499996</th>\n      <td>1044179</td>\n      <td>0</td>\n      <td>The index is there already. How can I force or...</td>\n      <td>2009-06-26T05:43:11.223</td>\n      <td>87248.0</td>\n      <td>CC BY-SA 2.5</td>\n    </tr>\n    <tr>\n      <th>499997</th>\n      <td>1047464</td>\n      <td>0</td>\n      <td>are you sure you can rewrite to a URL on anoth...</td>\n      <td>2009-06-26T05:43:42.253</td>\n      <td>109102.0</td>\n      <td>CC BY-SA 2.5</td>\n    </tr>\n    <tr>\n      <th>499998</th>\n      <td>1045341</td>\n      <td>0</td>\n      <td>Not sure if I understood correctly. \\nWhere's ...</td>\n      <td>2009-06-26T05:46:21.890</td>\n      <td>73715.0</td>\n      <td>CC BY-SA 2.5</td>\n    </tr>\n    <tr>\n      <th>499999</th>\n      <td>1047471</td>\n      <td>0</td>\n      <td>Is there a way to remove that selected class f...</td>\n      <td>2009-06-26T05:46:23.497</td>\n      <td>86038.0</td>\n      <td>CC BY-SA 2.5</td>\n    </tr>\n    <tr>\n      <th>500000</th>\n      <td>1043743</td>\n      <td>0</td>\n      <td>I've added some XSLT that does the necessary c...</td>\n      <td>2009-06-26T05:48:48.330</td>\n      <td>18771.0</td>\n      <td>CC BY-SA 2.5</td>\n    </tr>\n  </tbody>\n</table>\n<p>500000 rows × 6 columns</p>\n</div>"
     },
     "execution_count": 36,
     "metadata": {},
     "output_type": "execute_result"
    }
   ],
   "source": [
    "comment_LIMIT = 500000\n",
    "comment_df = pd.read_sql_query(f\"SELECT * FROM comment LIMIT {comment_LIMIT}\", db)\n",
    "comment_df.set_index('CommentId', inplace=True)\n",
    "comment_df"
   ],
   "metadata": {
    "collapsed": false
   }
  },
  {
   "cell_type": "code",
   "execution_count": 37,
   "outputs": [
    {
     "data": {
      "text/plain": "        PostId  VoteTypeId             CreationDate\nVoteId                                             \n1            1           2  2008-07-31T00:00:00.000\n2            3           2  2008-07-31T00:00:00.000\n3            2           2  2008-07-31T00:00:00.000\n4            4           2  2008-07-31T00:00:00.000\n5            6           2  2008-07-31T00:00:00.000\n...        ...         ...                      ...\n499996  231200           2  2008-10-23T00:00:00.000\n499997  231274           2  2008-10-23T00:00:00.000\n499998  230845           5  2008-10-23T00:00:00.000\n499999  231245           2  2008-10-23T00:00:00.000\n500000  149397           2  2008-10-23T00:00:00.000\n\n[500000 rows x 3 columns]",
      "text/html": "<div>\n<style scoped>\n    .dataframe tbody tr th:only-of-type {\n        vertical-align: middle;\n    }\n\n    .dataframe tbody tr th {\n        vertical-align: top;\n    }\n\n    .dataframe thead th {\n        text-align: right;\n    }\n</style>\n<table border=\"1\" class=\"dataframe\">\n  <thead>\n    <tr style=\"text-align: right;\">\n      <th></th>\n      <th>PostId</th>\n      <th>VoteTypeId</th>\n      <th>CreationDate</th>\n    </tr>\n    <tr>\n      <th>VoteId</th>\n      <th></th>\n      <th></th>\n      <th></th>\n    </tr>\n  </thead>\n  <tbody>\n    <tr>\n      <th>1</th>\n      <td>1</td>\n      <td>2</td>\n      <td>2008-07-31T00:00:00.000</td>\n    </tr>\n    <tr>\n      <th>2</th>\n      <td>3</td>\n      <td>2</td>\n      <td>2008-07-31T00:00:00.000</td>\n    </tr>\n    <tr>\n      <th>3</th>\n      <td>2</td>\n      <td>2</td>\n      <td>2008-07-31T00:00:00.000</td>\n    </tr>\n    <tr>\n      <th>4</th>\n      <td>4</td>\n      <td>2</td>\n      <td>2008-07-31T00:00:00.000</td>\n    </tr>\n    <tr>\n      <th>5</th>\n      <td>6</td>\n      <td>2</td>\n      <td>2008-07-31T00:00:00.000</td>\n    </tr>\n    <tr>\n      <th>...</th>\n      <td>...</td>\n      <td>...</td>\n      <td>...</td>\n    </tr>\n    <tr>\n      <th>499996</th>\n      <td>231200</td>\n      <td>2</td>\n      <td>2008-10-23T00:00:00.000</td>\n    </tr>\n    <tr>\n      <th>499997</th>\n      <td>231274</td>\n      <td>2</td>\n      <td>2008-10-23T00:00:00.000</td>\n    </tr>\n    <tr>\n      <th>499998</th>\n      <td>230845</td>\n      <td>5</td>\n      <td>2008-10-23T00:00:00.000</td>\n    </tr>\n    <tr>\n      <th>499999</th>\n      <td>231245</td>\n      <td>2</td>\n      <td>2008-10-23T00:00:00.000</td>\n    </tr>\n    <tr>\n      <th>500000</th>\n      <td>149397</td>\n      <td>2</td>\n      <td>2008-10-23T00:00:00.000</td>\n    </tr>\n  </tbody>\n</table>\n<p>500000 rows × 3 columns</p>\n</div>"
     },
     "execution_count": 37,
     "metadata": {},
     "output_type": "execute_result"
    }
   ],
   "source": [
    "vote_LIMIT = 500000\n",
    "vote_df = pd.read_sql_query(f\"SELECT * FROM vote LIMIT {vote_LIMIT}\", db)\n",
    "vote_df.set_index('VoteId', inplace=True)\n",
    "vote_df"
   ],
   "metadata": {
    "collapsed": false
   }
  },
  {
   "cell_type": "markdown",
   "source": [
    "So, we want to build an embedding for the body of posts.\n",
    "The body of posts are stored as HTML, we need to split up the text and the code snippets so we can process them separately."
   ],
   "metadata": {
    "collapsed": false
   }
  },
  {
   "cell_type": "code",
   "execution_count": 38,
   "outputs": [
    {
     "data": {
      "text/plain": "                                                     Body  \\\nPostId                                                      \n1       <p>I want to assign the decimal variable &quot...   \n\n                                          Title  \nPostId                                           \n1       How to convert Decimal to Double in C#?  ",
      "text/html": "<div>\n<style scoped>\n    .dataframe tbody tr th:only-of-type {\n        vertical-align: middle;\n    }\n\n    .dataframe tbody tr th {\n        vertical-align: top;\n    }\n\n    .dataframe thead th {\n        text-align: right;\n    }\n</style>\n<table border=\"1\" class=\"dataframe\">\n  <thead>\n    <tr style=\"text-align: right;\">\n      <th></th>\n      <th>Body</th>\n      <th>Title</th>\n    </tr>\n    <tr>\n      <th>PostId</th>\n      <th></th>\n      <th></th>\n    </tr>\n  </thead>\n  <tbody>\n    <tr>\n      <th>1</th>\n      <td>&lt;p&gt;I want to assign the decimal variable &amp;quot...</td>\n      <td>How to convert Decimal to Double in C#?</td>\n    </tr>\n  </tbody>\n</table>\n</div>"
     },
     "execution_count": 38,
     "metadata": {},
     "output_type": "execute_result"
    }
   ],
   "source": [
    "sample_post = post_df.head(1)\n",
    "sample_post = sample_post[['Body', 'Title']]  # Questions also have a title that has useful information\n",
    "sample_post"
   ],
   "metadata": {
    "collapsed": false
   }
  },
  {
   "cell_type": "markdown",
   "source": [
    "Let's process the Body first"
   ],
   "metadata": {
    "collapsed": false
   }
  },
  {
   "cell_type": "code",
   "execution_count": 39,
   "outputs": [],
   "source": [
    "from bs4 import BeautifulSoup\n",
    "import spacy\n",
    "import torch\n",
    "import torch.nn as nn\n",
    "import torch.nn.functional as F\n",
    "import torch.optim as optim\n",
    "from torchtext.vocab import GloVe\n",
    "\n",
    "en = spacy.load('en_core_web_sm')\n",
    "stopwords = en.Defaults.stop_words"
   ],
   "metadata": {
    "collapsed": false
   }
  },
  {
   "cell_type": "code",
   "execution_count": 103,
   "outputs": [
    {
     "data": {
      "text/plain": "tensor([ 1.0931e-01,  1.2610e-01, -1.5278e-01,  1.1698e-01,  6.2754e-02,\n         3.4803e-02,  1.1569e-01, -3.8018e-02, -6.4326e-02,  1.0196e+00,\n         4.5568e-03, -3.6842e-02, -1.9556e-02,  8.6903e-02, -3.4653e-02,\n         8.7839e-03, -2.5284e-01,  1.6704e+00, -1.0373e-01, -1.6457e-02,\n        -3.8628e-01, -8.1090e-02, -2.7426e-02,  7.5557e-02,  4.2064e-02,\n        -1.3982e-01,  8.5474e-02, -1.6217e-01,  2.0487e-01, -7.5565e-02,\n         1.8346e-01,  1.6887e-01,  1.4478e-01,  6.3668e-02,  2.2488e-01,\n         5.9721e-02,  8.0042e-02, -1.1098e-01, -7.7400e-02, -2.4690e-01,\n         1.5362e-01, -1.3278e-01,  1.4780e-02, -7.2382e-02, -9.9370e-02,\n         1.9138e-02,  1.7202e-02,  1.6036e-01, -4.6851e-02,  8.9678e-02,\n        -1.9148e-01,  1.2787e-01, -2.9617e-02, -8.5206e-02,  7.8354e-02,\n        -1.5131e-01, -2.4181e-03, -1.9167e-02,  2.7161e-02, -8.4863e-02,\n         8.4997e-03,  7.1553e-02, -7.6828e-02,  1.3112e-01,  1.5192e-01,\n         1.2668e-02,  1.1250e-01,  2.9470e-02,  2.1780e-01,  8.1155e-02,\n         2.1953e-01,  2.2848e-01,  1.6714e-01, -2.8283e-01,  2.2868e-01,\n         7.6762e-02,  4.5675e-02, -1.6795e-01,  7.5653e-02,  2.2656e-01,\n        -1.9469e-01, -9.0845e-02, -5.0811e-02,  4.6891e-02,  7.0726e-02,\n         6.8273e-02,  2.9864e-01, -1.1378e-01,  2.3121e-01, -5.2206e-02,\n        -1.5224e-01,  4.6867e-02,  1.8976e-03, -9.6941e-02,  4.9463e-02,\n        -3.2109e-02, -6.3274e-02,  1.1205e-01,  1.7320e-01,  2.2084e-01,\n        -1.4554e-01, -1.1414e-01,  1.2291e-02,  9.2317e-02,  1.2259e-01,\n        -1.2108e+00,  1.9100e-01,  1.0448e-01, -1.4816e-01,  1.2592e-01,\n        -1.3363e-01, -8.2307e-02, -5.7979e-02, -1.1213e-02, -1.1485e-01,\n         8.1295e-02, -7.1676e-02,  7.5275e-02, -2.3727e-01,  7.5090e-02,\n         1.6785e-01, -2.3031e-01,  1.7246e-02,  1.9417e-01, -2.8899e-02,\n        -7.3494e-02,  1.4515e-01, -6.0397e-02, -5.4972e-02, -1.8426e-01,\n        -2.6181e-02,  6.3002e-01,  1.1992e-01,  1.1797e-01, -4.8645e-03,\n         3.9525e-02,  1.5820e-01, -5.3394e-03, -5.9891e-02, -4.3569e-02,\n        -7.1708e-01, -1.3365e-01,  6.6174e-02, -7.6563e-02, -5.0075e-02,\n        -1.0541e-01,  3.8985e-02, -1.0467e-01, -5.2304e-02, -1.5903e-01,\n         1.3674e-01,  1.3844e-01, -3.1471e-02,  5.6846e-02,  1.4457e-02,\n        -2.1621e-01, -1.4627e-01,  2.7161e-02,  4.7155e-02,  4.9466e-02,\n        -3.4438e-02,  1.5096e-01,  7.0697e-02, -1.6120e-01, -2.5096e-01,\n        -6.1193e-02, -1.4704e-01,  5.6926e-02,  4.4866e-02,  8.8031e-02,\n        -2.3500e-02,  1.0913e-01, -8.2882e-02, -2.5317e-01,  1.9121e-01,\n         7.2988e-02,  1.4737e-01, -8.6635e-02,  8.3758e-04, -2.1706e-02,\n         1.2725e-01,  1.1650e-02, -9.8828e-02, -9.2759e-02, -1.8527e-01,\n         2.6852e-03, -1.9819e-01,  5.6634e-02, -1.7908e-01,  1.0638e-03,\n        -1.6784e-01,  9.8166e-02, -3.1964e-02,  5.4221e-02,  2.9465e-01,\n        -1.3291e-01, -4.6357e-02, -8.8160e-02, -7.0656e-02,  1.5407e-01,\n        -1.4128e-01, -2.4495e-01, -2.2299e-02,  1.6500e-01, -4.3963e-02,\n        -1.0041e-01, -8.2377e-02,  3.0481e-02,  4.9456e-02,  1.7720e-01,\n        -2.3581e-02, -6.4775e-02, -4.2465e-02, -1.4065e-01, -1.5325e-01,\n        -1.1591e-01, -1.8391e-01,  1.1468e-01, -3.1303e-01, -3.3980e-03,\n         1.7664e-01,  9.0756e-02,  7.9576e-02,  5.4273e-02,  1.5271e-01,\n         9.3236e-02,  7.9372e-02, -7.5205e-02,  1.3660e-01,  1.7959e-02,\n         4.3504e-02, -1.4188e-01,  2.3157e-01,  1.7846e-01, -1.4263e-01,\n         1.0843e-02, -1.2146e-01,  1.9680e-01, -1.2686e-01,  3.0785e-01,\n         1.2027e-01, -3.4294e-02,  1.6297e-01,  9.7336e-02,  2.0758e-01,\n        -3.9200e-01,  1.2264e-01,  2.3721e-02, -7.6239e-02, -1.1716e-02,\n         3.1938e-02,  1.1971e-02, -5.1685e-02, -1.3507e-01, -1.0892e-01,\n         2.5933e-01, -2.9177e-02,  2.8444e-04,  1.3021e-01, -1.4353e-01,\n        -2.2893e-02,  1.1850e-01, -1.8109e-02,  9.3596e-03,  1.2715e-01,\n         1.5203e-03,  7.5841e-02,  1.9156e-01,  6.5335e-01, -1.8910e-02,\n         2.3467e-02, -2.4085e-01,  2.0167e-01, -1.8984e-01, -1.1093e-01,\n        -1.7719e-01,  1.2169e-01,  4.8399e-02,  3.1458e-02, -3.4046e-02,\n         5.3605e-03,  2.1578e-01,  1.1490e-01,  2.8380e-02, -1.0495e-01,\n        -1.8348e-01, -4.5021e-02, -1.4953e-01,  1.6652e-01,  1.5448e-02,\n         1.6209e-01,  5.6159e-02, -1.0245e-01,  1.7785e-01,  2.9540e-02,\n        -7.0813e-02, -3.4092e-01, -9.8885e-02,  1.2751e-03, -1.3382e-01])"
     },
     "execution_count": 103,
     "metadata": {},
     "output_type": "execute_result"
    }
   ],
   "source": [
    "class PostEmbedding(nn.Module):\n",
    "\n",
    "    def __init__(self):\n",
    "        super().__init__()\n",
    "        self._global_vectors = GloVe(name='840B', dim=300)\n",
    "\n",
    "    def forward(self, html, flatten=True) -> torch.tensor:\n",
    "        soup = BeautifulSoup(html)\n",
    "        ps = self.get_paragraphs(soup)\n",
    "        if flatten:\n",
    "            ps = [token for para in ps for token in para]\n",
    "\n",
    "        para_emb = self.to_paragraph_embedding(ps)\n",
    "\n",
    "        code = self.get_code(soup)\n",
    "        return para_emb\n",
    "\n",
    "    def preprocess(self, text: str) -> List[str]:\n",
    "        doc = en(text.lower())\n",
    "        tokens = [word.text for word in doc if not (word.is_stop or word.is_punct or word.like_num)]\n",
    "        return tokens\n",
    "\n",
    "    def get_paragraphs(self, soup: BeautifulSoup) -> List[List[str]]:\n",
    "        return [self.preprocess(x.get_text()) for x in soup.find_all('p')]\n",
    "\n",
    "    def to_paragraph_embedding(self, tokens: List[str]):\n",
    "        word_embeddings = self._global_vectors.get_vecs_by_tokens(tokens)\n",
    "        return torch.sum(word_embeddings, dim=0) / len(tokens)\n",
    "\n",
    "\n",
    "    def get_code(self, soup: BeautifulSoup) -> str:\n",
    "        return \"\\n\".join([x.get_text() for x in soup.find_all('code')])\n",
    "\n",
    "\n",
    "html = sample_post['Body'].item()\n",
    "embedding = PostEmbedding()\n",
    "embedding(html)"
   ],
   "metadata": {
    "collapsed": false
   }
  },
  {
   "cell_type": "code",
   "execution_count": 115,
   "outputs": [
    {
     "data": {
      "text/plain": "        PostTypeId  AcceptedAnswerId             CreationDate  Score  \\\nPostId                                                                 \n1                1               7.0  2008-07-31T21:42:52.667    781   \n2                1              31.0  2008-07-31T22:08:08.620    318   \n3                2               NaN  2008-07-31T22:17:57.883    517   \n4                1            1404.0  2008-07-31T23:40:59.743   2161   \n5                1            1248.0  2008-07-31T23:55:37.967   1629   \n...            ...               ...                      ...    ...   \n499996           2               NaN  2009-04-03T02:10:35.270      2   \n499997           2               NaN  2009-04-03T02:10:49.060      1   \n499998           1          799526.0  2009-04-03T02:11:16.237      4   \n499999           2               NaN  2009-04-03T02:14:04.293      5   \n500000           2               NaN  2009-04-03T02:15:39.347      1   \n\n        ViewCount                                               Body  \\\nPostId                                                                 \n1         67914.0  <p>I want to assign the decimal variable &quot...   \n2         23047.0  <p>I have an absolutely positioned <code>div</...   \n3             NaN  <p>An explicit cast to <code>double</code> lik...   \n4        757897.0  <p>Given a <code>DateTime</code> representing ...   \n5        193525.0  <p>Given a specific <code>DateTime</code> valu...   \n...           ...                                                ...   \n499996        NaN  <p>If we can assume that:</p>\\n\\n<ul>\\n<li>the...   \n499997        NaN  <p>Change:</p>\\n\\n<pre><code>for ansSeries in ...   \n499998     3611.0  <p>Here are the first few lines of my page:</p...   \n499999        NaN  <p>Since, in general, there is more than one p...   \n500000        NaN  <p>Ugh. Short of writing your own authenticati...   \n\n        OwnerUserId  LastEditorUserId LastEditorDisplayName  \\\nPostId                                                        \n1               8.0        16124033.0                Rich B   \n2               9.0         9134576.0          user14723686   \n3               9.0         5496973.0                  None   \n4               1.0         3524942.0                Rich B   \n5               1.0        16790137.0           user2370523   \n...             ...               ...                   ...   \n499996      72990.0               NaN                  None   \n499997       9940.0               NaN                  None   \n499998      63887.0               NaN                  None   \n499999      15168.0               NaN                  None   \n500000      85863.0               NaN                  None   \n\n                   LastEditDate  \\\nPostId                            \n1       2022-09-08T05:07:26.033   \n2       2021-01-29T18:46:45.963   \n3       2019-10-21T14:03:54.607   \n4       2022-07-27T22:34:36.320   \n5       2022-07-10T00:19:55.237   \n...                         ...   \n499996                     None   \n499997                     None   \n499998                     None   \n499999                     None   \n500000                     None   \n\n                                                    Title  \\\nPostId                                                      \n1                 How to convert Decimal to Double in C#?   \n2       Why did the width collapse in the percentage w...   \n3                                                    None   \n4       How do I calculate someone's age based on a Da...   \n5                           Calculate relative time in C#   \n...                                                   ...   \n499996                                               None   \n499997                                               None   \n499998  Why can't I use session_start() in my php scri...   \n499999                                               None   \n500000                                               None   \n\n                                                     Tags  AnswerCount  \\\nPostId                                                                   \n1       <c#><floating-point><type-conversion><double><...         14.0   \n2                        <html><css><internet-explorer-7>          7.0   \n3                                                    None          NaN   \n4                                    <c#><.net><datetime>         71.0   \n5       <c#><datetime><time><datediff><relative-time-s...         41.0   \n...                                                   ...          ...   \n499996                                               None          NaN   \n499997                                               None          NaN   \n499998                    <php><session><cookies><header>          2.0   \n499999                                               None          NaN   \n500000                                               None          NaN   \n\n        CommentCount  FavoriteCount       CommunityOwnedDate ContentLicense  \\\nPostId                                                                        \n1                  6           60.0  2012-10-31T16:42:47.213   CC BY-SA 4.0   \n2                  0           13.0                     None   CC BY-SA 4.0   \n3                  1            NaN                     None   CC BY-SA 4.0   \n4                 10          492.0  2011-08-16T19:40:43.080   CC BY-SA 4.0   \n5                  3          552.0  2009-09-04T13:15:59.820   CC BY-SA 4.0   \n...              ...            ...                      ...            ...   \n499996             0            NaN                     None   CC BY-SA 2.5   \n499997             0            NaN                     None   CC BY-SA 2.5   \n499998             2            NaN                     None   CC BY-SA 2.5   \n499999             1            NaN                     None   CC BY-SA 2.5   \n500000             1            NaN                     None   CC BY-SA 2.5   \n\n        ParentId                                      code_snippets  \nPostId                                                               \n1            NaN  decimal trans = trackBar1.Value / 5000;\\nthis....  \n2            NaN  div\\ndiv\\npercentage-based width\\ndiv\\n0 width...  \n3            4.0  double\\ndouble trans = (double) trackBar1.Valu...  \n4            NaN                                           DateTime  \n5            NaN     DateTime\\n2 hours ago\\n3 days ago\\na month ago  \n...          ...                                                ...  \n499996  712186.0  $round_count = 0;\\n$header_printed = false;\\n$...  \n499997  712225.0  for ansSeries in notmatched:\\n\\nfor ansSeries ...  \n499998       NaN  <!DOCTYPE html PUBLIC \"-//W3C//DTD HTML 4.01 T...  \n499999  712322.0                                                     \n500000  712023.0   X-LIGHTTPD-send-file\\nX-sendfile\\nmod proxy scgi  \n\n[500000 rows x 19 columns]",
      "text/html": "<div>\n<style scoped>\n    .dataframe tbody tr th:only-of-type {\n        vertical-align: middle;\n    }\n\n    .dataframe tbody tr th {\n        vertical-align: top;\n    }\n\n    .dataframe thead th {\n        text-align: right;\n    }\n</style>\n<table border=\"1\" class=\"dataframe\">\n  <thead>\n    <tr style=\"text-align: right;\">\n      <th></th>\n      <th>PostTypeId</th>\n      <th>AcceptedAnswerId</th>\n      <th>CreationDate</th>\n      <th>Score</th>\n      <th>ViewCount</th>\n      <th>Body</th>\n      <th>OwnerUserId</th>\n      <th>LastEditorUserId</th>\n      <th>LastEditorDisplayName</th>\n      <th>LastEditDate</th>\n      <th>Title</th>\n      <th>Tags</th>\n      <th>AnswerCount</th>\n      <th>CommentCount</th>\n      <th>FavoriteCount</th>\n      <th>CommunityOwnedDate</th>\n      <th>ContentLicense</th>\n      <th>ParentId</th>\n      <th>code_snippets</th>\n    </tr>\n    <tr>\n      <th>PostId</th>\n      <th></th>\n      <th></th>\n      <th></th>\n      <th></th>\n      <th></th>\n      <th></th>\n      <th></th>\n      <th></th>\n      <th></th>\n      <th></th>\n      <th></th>\n      <th></th>\n      <th></th>\n      <th></th>\n      <th></th>\n      <th></th>\n      <th></th>\n      <th></th>\n      <th></th>\n    </tr>\n  </thead>\n  <tbody>\n    <tr>\n      <th>1</th>\n      <td>1</td>\n      <td>7.0</td>\n      <td>2008-07-31T21:42:52.667</td>\n      <td>781</td>\n      <td>67914.0</td>\n      <td>&lt;p&gt;I want to assign the decimal variable &amp;quot...</td>\n      <td>8.0</td>\n      <td>16124033.0</td>\n      <td>Rich B</td>\n      <td>2022-09-08T05:07:26.033</td>\n      <td>How to convert Decimal to Double in C#?</td>\n      <td>&lt;c#&gt;&lt;floating-point&gt;&lt;type-conversion&gt;&lt;double&gt;&lt;...</td>\n      <td>14.0</td>\n      <td>6</td>\n      <td>60.0</td>\n      <td>2012-10-31T16:42:47.213</td>\n      <td>CC BY-SA 4.0</td>\n      <td>NaN</td>\n      <td>decimal trans = trackBar1.Value / 5000;\\nthis....</td>\n    </tr>\n    <tr>\n      <th>2</th>\n      <td>1</td>\n      <td>31.0</td>\n      <td>2008-07-31T22:08:08.620</td>\n      <td>318</td>\n      <td>23047.0</td>\n      <td>&lt;p&gt;I have an absolutely positioned &lt;code&gt;div&lt;/...</td>\n      <td>9.0</td>\n      <td>9134576.0</td>\n      <td>user14723686</td>\n      <td>2021-01-29T18:46:45.963</td>\n      <td>Why did the width collapse in the percentage w...</td>\n      <td>&lt;html&gt;&lt;css&gt;&lt;internet-explorer-7&gt;</td>\n      <td>7.0</td>\n      <td>0</td>\n      <td>13.0</td>\n      <td>None</td>\n      <td>CC BY-SA 4.0</td>\n      <td>NaN</td>\n      <td>div\\ndiv\\npercentage-based width\\ndiv\\n0 width...</td>\n    </tr>\n    <tr>\n      <th>3</th>\n      <td>2</td>\n      <td>NaN</td>\n      <td>2008-07-31T22:17:57.883</td>\n      <td>517</td>\n      <td>NaN</td>\n      <td>&lt;p&gt;An explicit cast to &lt;code&gt;double&lt;/code&gt; lik...</td>\n      <td>9.0</td>\n      <td>5496973.0</td>\n      <td>None</td>\n      <td>2019-10-21T14:03:54.607</td>\n      <td>None</td>\n      <td>None</td>\n      <td>NaN</td>\n      <td>1</td>\n      <td>NaN</td>\n      <td>None</td>\n      <td>CC BY-SA 4.0</td>\n      <td>4.0</td>\n      <td>double\\ndouble trans = (double) trackBar1.Valu...</td>\n    </tr>\n    <tr>\n      <th>4</th>\n      <td>1</td>\n      <td>1404.0</td>\n      <td>2008-07-31T23:40:59.743</td>\n      <td>2161</td>\n      <td>757897.0</td>\n      <td>&lt;p&gt;Given a &lt;code&gt;DateTime&lt;/code&gt; representing ...</td>\n      <td>1.0</td>\n      <td>3524942.0</td>\n      <td>Rich B</td>\n      <td>2022-07-27T22:34:36.320</td>\n      <td>How do I calculate someone's age based on a Da...</td>\n      <td>&lt;c#&gt;&lt;.net&gt;&lt;datetime&gt;</td>\n      <td>71.0</td>\n      <td>10</td>\n      <td>492.0</td>\n      <td>2011-08-16T19:40:43.080</td>\n      <td>CC BY-SA 4.0</td>\n      <td>NaN</td>\n      <td>DateTime</td>\n    </tr>\n    <tr>\n      <th>5</th>\n      <td>1</td>\n      <td>1248.0</td>\n      <td>2008-07-31T23:55:37.967</td>\n      <td>1629</td>\n      <td>193525.0</td>\n      <td>&lt;p&gt;Given a specific &lt;code&gt;DateTime&lt;/code&gt; valu...</td>\n      <td>1.0</td>\n      <td>16790137.0</td>\n      <td>user2370523</td>\n      <td>2022-07-10T00:19:55.237</td>\n      <td>Calculate relative time in C#</td>\n      <td>&lt;c#&gt;&lt;datetime&gt;&lt;time&gt;&lt;datediff&gt;&lt;relative-time-s...</td>\n      <td>41.0</td>\n      <td>3</td>\n      <td>552.0</td>\n      <td>2009-09-04T13:15:59.820</td>\n      <td>CC BY-SA 4.0</td>\n      <td>NaN</td>\n      <td>DateTime\\n2 hours ago\\n3 days ago\\na month ago</td>\n    </tr>\n    <tr>\n      <th>...</th>\n      <td>...</td>\n      <td>...</td>\n      <td>...</td>\n      <td>...</td>\n      <td>...</td>\n      <td>...</td>\n      <td>...</td>\n      <td>...</td>\n      <td>...</td>\n      <td>...</td>\n      <td>...</td>\n      <td>...</td>\n      <td>...</td>\n      <td>...</td>\n      <td>...</td>\n      <td>...</td>\n      <td>...</td>\n      <td>...</td>\n      <td>...</td>\n    </tr>\n    <tr>\n      <th>499996</th>\n      <td>2</td>\n      <td>NaN</td>\n      <td>2009-04-03T02:10:35.270</td>\n      <td>2</td>\n      <td>NaN</td>\n      <td>&lt;p&gt;If we can assume that:&lt;/p&gt;\\n\\n&lt;ul&gt;\\n&lt;li&gt;the...</td>\n      <td>72990.0</td>\n      <td>NaN</td>\n      <td>None</td>\n      <td>None</td>\n      <td>None</td>\n      <td>None</td>\n      <td>NaN</td>\n      <td>0</td>\n      <td>NaN</td>\n      <td>None</td>\n      <td>CC BY-SA 2.5</td>\n      <td>712186.0</td>\n      <td>$round_count = 0;\\n$header_printed = false;\\n$...</td>\n    </tr>\n    <tr>\n      <th>499997</th>\n      <td>2</td>\n      <td>NaN</td>\n      <td>2009-04-03T02:10:49.060</td>\n      <td>1</td>\n      <td>NaN</td>\n      <td>&lt;p&gt;Change:&lt;/p&gt;\\n\\n&lt;pre&gt;&lt;code&gt;for ansSeries in ...</td>\n      <td>9940.0</td>\n      <td>NaN</td>\n      <td>None</td>\n      <td>None</td>\n      <td>None</td>\n      <td>None</td>\n      <td>NaN</td>\n      <td>0</td>\n      <td>NaN</td>\n      <td>None</td>\n      <td>CC BY-SA 2.5</td>\n      <td>712225.0</td>\n      <td>for ansSeries in notmatched:\\n\\nfor ansSeries ...</td>\n    </tr>\n    <tr>\n      <th>499998</th>\n      <td>1</td>\n      <td>799526.0</td>\n      <td>2009-04-03T02:11:16.237</td>\n      <td>4</td>\n      <td>3611.0</td>\n      <td>&lt;p&gt;Here are the first few lines of my page:&lt;/p...</td>\n      <td>63887.0</td>\n      <td>NaN</td>\n      <td>None</td>\n      <td>None</td>\n      <td>Why can't I use session_start() in my php scri...</td>\n      <td>&lt;php&gt;&lt;session&gt;&lt;cookies&gt;&lt;header&gt;</td>\n      <td>2.0</td>\n      <td>2</td>\n      <td>NaN</td>\n      <td>None</td>\n      <td>CC BY-SA 2.5</td>\n      <td>NaN</td>\n      <td>&lt;!DOCTYPE html PUBLIC \"-//W3C//DTD HTML 4.01 T...</td>\n    </tr>\n    <tr>\n      <th>499999</th>\n      <td>2</td>\n      <td>NaN</td>\n      <td>2009-04-03T02:14:04.293</td>\n      <td>5</td>\n      <td>NaN</td>\n      <td>&lt;p&gt;Since, in general, there is more than one p...</td>\n      <td>15168.0</td>\n      <td>NaN</td>\n      <td>None</td>\n      <td>None</td>\n      <td>None</td>\n      <td>None</td>\n      <td>NaN</td>\n      <td>1</td>\n      <td>NaN</td>\n      <td>None</td>\n      <td>CC BY-SA 2.5</td>\n      <td>712322.0</td>\n      <td></td>\n    </tr>\n    <tr>\n      <th>500000</th>\n      <td>2</td>\n      <td>NaN</td>\n      <td>2009-04-03T02:15:39.347</td>\n      <td>1</td>\n      <td>NaN</td>\n      <td>&lt;p&gt;Ugh. Short of writing your own authenticati...</td>\n      <td>85863.0</td>\n      <td>NaN</td>\n      <td>None</td>\n      <td>None</td>\n      <td>None</td>\n      <td>None</td>\n      <td>NaN</td>\n      <td>1</td>\n      <td>NaN</td>\n      <td>None</td>\n      <td>CC BY-SA 2.5</td>\n      <td>712023.0</td>\n      <td>X-LIGHTTPD-send-file\\nX-sendfile\\nmod proxy scgi</td>\n    </tr>\n  </tbody>\n</table>\n<p>500000 rows × 19 columns</p>\n</div>"
     },
     "execution_count": 115,
     "metadata": {},
     "output_type": "execute_result"
    }
   ],
   "source": [
    "pe = PostEmbedding()\n",
    "post_df['code_snippets'] = post_df['Body'].apply(lambda html: pe.get_code(BeautifulSoup(html)))\n",
    "post_df"
   ],
   "metadata": {
    "collapsed": false
   }
  },
  {
   "cell_type": "code",
   "execution_count": 109,
   "outputs": [],
   "source": [
    "import re\n",
    "\n",
    "python_class_name_pattern = r\"class ([a-zA-Z_$][a-zA-Z_$0-9]*)[:(]\"\n",
    "py_func_name_pattern = r\"def ([a-zA-Z_$][a-zA-Z_$0-9]*)\\(\"\n",
    "py_import_pattern = r\"(?m)^(?:from[ ]+(\\S+)[ ]+)?import[ ]+(\\S+)(?:[ ]+as[ ]+\\S+)?[ ]*$\"\n",
    "py_variable_names = r\"([a-zA-Z_$0-9]+)[ ]=\""
   ],
   "metadata": {
    "collapsed": false
   }
  },
  {
   "cell_type": "code",
   "execution_count": 120,
   "outputs": [],
   "source": [
    "def find_code_features(code_snippet: str):\n",
    "    class_names = re.findall(python_class_name_pattern, code_snippet)\n",
    "    func_names = re.findall(py_func_name_pattern, code_snippet)\n",
    "    import_names = list(sum(re.findall(py_import_pattern, code_snippet), ()))\n",
    "    var_names = re.findall(py_variable_names, code_snippet)\n",
    "    # return {\n",
    "    #     'class_names' : class_names,\n",
    "    #     'func_names' : func_names,\n",
    "    #     'import_names' : import_names,\n",
    "    #     'var_names' : var_names\n",
    "    # }\n",
    "    return import_names\n",
    "\n",
    "post_df['import_names'] = post_df['code_snippets'].apply(find_code_features)"
   ],
   "metadata": {
    "collapsed": false
   }
  },
  {
   "cell_type": "code",
   "execution_count": 121,
   "outputs": [
    {
     "data": {
      "text/plain": "                                            code_snippets import_names\nPostId                                                                \n1       decimal trans = trackBar1.Value / 5000;\\nthis....           []\n2       div\\ndiv\\npercentage-based width\\ndiv\\n0 width...           []\n3       double\\ndouble trans = (double) trackBar1.Valu...           []\n4                                                DateTime           []\n5          DateTime\\n2 hours ago\\n3 days ago\\na month ago           []\n...                                                   ...          ...\n499996  $round_count = 0;\\n$header_printed = false;\\n$...           []\n499997  for ansSeries in notmatched:\\n\\nfor ansSeries ...           []\n499998  <!DOCTYPE html PUBLIC \"-//W3C//DTD HTML 4.01 T...           []\n499999                                                              []\n500000   X-LIGHTTPD-send-file\\nX-sendfile\\nmod proxy scgi           []\n\n[500000 rows x 2 columns]",
      "text/html": "<div>\n<style scoped>\n    .dataframe tbody tr th:only-of-type {\n        vertical-align: middle;\n    }\n\n    .dataframe tbody tr th {\n        vertical-align: top;\n    }\n\n    .dataframe thead th {\n        text-align: right;\n    }\n</style>\n<table border=\"1\" class=\"dataframe\">\n  <thead>\n    <tr style=\"text-align: right;\">\n      <th></th>\n      <th>code_snippets</th>\n      <th>import_names</th>\n    </tr>\n    <tr>\n      <th>PostId</th>\n      <th></th>\n      <th></th>\n    </tr>\n  </thead>\n  <tbody>\n    <tr>\n      <th>1</th>\n      <td>decimal trans = trackBar1.Value / 5000;\\nthis....</td>\n      <td>[]</td>\n    </tr>\n    <tr>\n      <th>2</th>\n      <td>div\\ndiv\\npercentage-based width\\ndiv\\n0 width...</td>\n      <td>[]</td>\n    </tr>\n    <tr>\n      <th>3</th>\n      <td>double\\ndouble trans = (double) trackBar1.Valu...</td>\n      <td>[]</td>\n    </tr>\n    <tr>\n      <th>4</th>\n      <td>DateTime</td>\n      <td>[]</td>\n    </tr>\n    <tr>\n      <th>5</th>\n      <td>DateTime\\n2 hours ago\\n3 days ago\\na month ago</td>\n      <td>[]</td>\n    </tr>\n    <tr>\n      <th>...</th>\n      <td>...</td>\n      <td>...</td>\n    </tr>\n    <tr>\n      <th>499996</th>\n      <td>$round_count = 0;\\n$header_printed = false;\\n$...</td>\n      <td>[]</td>\n    </tr>\n    <tr>\n      <th>499997</th>\n      <td>for ansSeries in notmatched:\\n\\nfor ansSeries ...</td>\n      <td>[]</td>\n    </tr>\n    <tr>\n      <th>499998</th>\n      <td>&lt;!DOCTYPE html PUBLIC \"-//W3C//DTD HTML 4.01 T...</td>\n      <td>[]</td>\n    </tr>\n    <tr>\n      <th>499999</th>\n      <td></td>\n      <td>[]</td>\n    </tr>\n    <tr>\n      <th>500000</th>\n      <td>X-LIGHTTPD-send-file\\nX-sendfile\\nmod proxy scgi</td>\n      <td>[]</td>\n    </tr>\n  </tbody>\n</table>\n<p>500000 rows × 2 columns</p>\n</div>"
     },
     "execution_count": 121,
     "metadata": {},
     "output_type": "execute_result"
    }
   ],
   "source": [
    "post_df[['code_snippets', 'import_names']]"
   ],
   "metadata": {
    "collapsed": false
   }
  },
  {
   "cell_type": "code",
   "execution_count": 132,
   "outputs": [
    {
     "data": {
      "text/plain": "code_snippets    object\nimport_names     object\ndtype: object"
     },
     "execution_count": 132,
     "metadata": {},
     "output_type": "execute_result"
    }
   ],
   "source": [
    "a = post_df[['code_snippets', 'import_names']]\n",
    "a.dtypes"
   ],
   "metadata": {
    "collapsed": false
   }
  },
  {
   "cell_type": "code",
   "execution_count": 134,
   "outputs": [
    {
     "ename": "KeyError",
     "evalue": "'True: boolean label can not be used without a boolean index'",
     "output_type": "error",
     "traceback": [
      "\u001B[1;31m---------------------------------------------------------------------------\u001B[0m",
      "\u001B[1;31mKeyError\u001B[0m                                  Traceback (most recent call last)",
      "Cell \u001B[1;32mIn [134], line 1\u001B[0m\n\u001B[1;32m----> 1\u001B[0m \u001B[43ma\u001B[49m\u001B[38;5;241;43m.\u001B[39;49m\u001B[43mloc\u001B[49m\u001B[43m[\u001B[49m\u001B[38;5;28;43mlen\u001B[39;49m\u001B[43m(\u001B[49m\u001B[43ma\u001B[49m\u001B[43m[\u001B[49m\u001B[38;5;124;43m'\u001B[39;49m\u001B[38;5;124;43mimport_names\u001B[39;49m\u001B[38;5;124;43m'\u001B[39;49m\u001B[43m]\u001B[49m\u001B[43m)\u001B[49m\u001B[43m \u001B[49m\u001B[38;5;241;43m>\u001B[39;49m\u001B[43m \u001B[49m\u001B[38;5;241;43m0\u001B[39;49m\u001B[43m]\u001B[49m\n",
      "File \u001B[1;32m~\\Documents\\graph4stackoverflow\\venv\\lib\\site-packages\\pandas\\core\\indexing.py:1073\u001B[0m, in \u001B[0;36m_LocationIndexer.__getitem__\u001B[1;34m(self, key)\u001B[0m\n\u001B[0;32m   1070\u001B[0m axis \u001B[38;5;241m=\u001B[39m \u001B[38;5;28mself\u001B[39m\u001B[38;5;241m.\u001B[39maxis \u001B[38;5;129;01mor\u001B[39;00m \u001B[38;5;241m0\u001B[39m\n\u001B[0;32m   1072\u001B[0m maybe_callable \u001B[38;5;241m=\u001B[39m com\u001B[38;5;241m.\u001B[39mapply_if_callable(key, \u001B[38;5;28mself\u001B[39m\u001B[38;5;241m.\u001B[39mobj)\n\u001B[1;32m-> 1073\u001B[0m \u001B[38;5;28;01mreturn\u001B[39;00m \u001B[38;5;28;43mself\u001B[39;49m\u001B[38;5;241;43m.\u001B[39;49m\u001B[43m_getitem_axis\u001B[49m\u001B[43m(\u001B[49m\u001B[43mmaybe_callable\u001B[49m\u001B[43m,\u001B[49m\u001B[43m \u001B[49m\u001B[43maxis\u001B[49m\u001B[38;5;241;43m=\u001B[39;49m\u001B[43maxis\u001B[49m\u001B[43m)\u001B[49m\n",
      "File \u001B[1;32m~\\Documents\\graph4stackoverflow\\venv\\lib\\site-packages\\pandas\\core\\indexing.py:1311\u001B[0m, in \u001B[0;36m_LocIndexer._getitem_axis\u001B[1;34m(self, key, axis)\u001B[0m\n\u001B[0;32m   1308\u001B[0m         \u001B[38;5;28;01mreturn\u001B[39;00m \u001B[38;5;28mself\u001B[39m\u001B[38;5;241m.\u001B[39mobj\u001B[38;5;241m.\u001B[39miloc[\u001B[38;5;28mtuple\u001B[39m(indexer)]\n\u001B[0;32m   1310\u001B[0m \u001B[38;5;66;03m# fall thru to straight lookup\u001B[39;00m\n\u001B[1;32m-> 1311\u001B[0m \u001B[38;5;28;43mself\u001B[39;49m\u001B[38;5;241;43m.\u001B[39;49m\u001B[43m_validate_key\u001B[49m\u001B[43m(\u001B[49m\u001B[43mkey\u001B[49m\u001B[43m,\u001B[49m\u001B[43m \u001B[49m\u001B[43maxis\u001B[49m\u001B[43m)\u001B[49m\n\u001B[0;32m   1312\u001B[0m \u001B[38;5;28;01mreturn\u001B[39;00m \u001B[38;5;28mself\u001B[39m\u001B[38;5;241m.\u001B[39m_get_label(key, axis\u001B[38;5;241m=\u001B[39maxis)\n",
      "File \u001B[1;32m~\\Documents\\graph4stackoverflow\\venv\\lib\\site-packages\\pandas\\core\\indexing.py:1118\u001B[0m, in \u001B[0;36m_LocIndexer._validate_key\u001B[1;34m(self, key, axis)\u001B[0m\n\u001B[0;32m   1108\u001B[0m \u001B[38;5;129m@doc\u001B[39m(_LocationIndexer\u001B[38;5;241m.\u001B[39m_validate_key)\n\u001B[0;32m   1109\u001B[0m \u001B[38;5;28;01mdef\u001B[39;00m \u001B[38;5;21m_validate_key\u001B[39m(\u001B[38;5;28mself\u001B[39m, key, axis: \u001B[38;5;28mint\u001B[39m):\n\u001B[0;32m   1110\u001B[0m     \u001B[38;5;66;03m# valid for a collection of labels (we check their presence later)\u001B[39;00m\n\u001B[0;32m   1111\u001B[0m     \u001B[38;5;66;03m# slice of labels (where start-end in labels)\u001B[39;00m\n\u001B[0;32m   1112\u001B[0m     \u001B[38;5;66;03m# slice of integers (only if in the labels)\u001B[39;00m\n\u001B[0;32m   1113\u001B[0m     \u001B[38;5;66;03m# boolean not in slice and with boolean index\u001B[39;00m\n\u001B[0;32m   1114\u001B[0m     \u001B[38;5;28;01mif\u001B[39;00m \u001B[38;5;28misinstance\u001B[39m(key, \u001B[38;5;28mbool\u001B[39m) \u001B[38;5;129;01mand\u001B[39;00m \u001B[38;5;129;01mnot\u001B[39;00m (\n\u001B[0;32m   1115\u001B[0m         is_bool_dtype(\u001B[38;5;28mself\u001B[39m\u001B[38;5;241m.\u001B[39mobj\u001B[38;5;241m.\u001B[39m_get_axis(axis))\n\u001B[0;32m   1116\u001B[0m         \u001B[38;5;129;01mor\u001B[39;00m \u001B[38;5;28mself\u001B[39m\u001B[38;5;241m.\u001B[39mobj\u001B[38;5;241m.\u001B[39m_get_axis(axis)\u001B[38;5;241m.\u001B[39mdtype\u001B[38;5;241m.\u001B[39mname \u001B[38;5;241m==\u001B[39m \u001B[38;5;124m\"\u001B[39m\u001B[38;5;124mboolean\u001B[39m\u001B[38;5;124m\"\u001B[39m\n\u001B[0;32m   1117\u001B[0m     ):\n\u001B[1;32m-> 1118\u001B[0m         \u001B[38;5;28;01mraise\u001B[39;00m \u001B[38;5;167;01mKeyError\u001B[39;00m(\n\u001B[0;32m   1119\u001B[0m             \u001B[38;5;124mf\u001B[39m\u001B[38;5;124m\"\u001B[39m\u001B[38;5;132;01m{\u001B[39;00mkey\u001B[38;5;132;01m}\u001B[39;00m\u001B[38;5;124m: boolean label can not be used without a boolean index\u001B[39m\u001B[38;5;124m\"\u001B[39m\n\u001B[0;32m   1120\u001B[0m         )\n\u001B[0;32m   1122\u001B[0m     \u001B[38;5;28;01mif\u001B[39;00m \u001B[38;5;28misinstance\u001B[39m(key, \u001B[38;5;28mslice\u001B[39m) \u001B[38;5;129;01mand\u001B[39;00m (\n\u001B[0;32m   1123\u001B[0m         \u001B[38;5;28misinstance\u001B[39m(key\u001B[38;5;241m.\u001B[39mstart, \u001B[38;5;28mbool\u001B[39m) \u001B[38;5;129;01mor\u001B[39;00m \u001B[38;5;28misinstance\u001B[39m(key\u001B[38;5;241m.\u001B[39mstop, \u001B[38;5;28mbool\u001B[39m)\n\u001B[0;32m   1124\u001B[0m     ):\n\u001B[0;32m   1125\u001B[0m         \u001B[38;5;28;01mraise\u001B[39;00m \u001B[38;5;167;01mTypeError\u001B[39;00m(\u001B[38;5;124mf\u001B[39m\u001B[38;5;124m\"\u001B[39m\u001B[38;5;132;01m{\u001B[39;00mkey\u001B[38;5;132;01m}\u001B[39;00m\u001B[38;5;124m: boolean values can not be used in a slice\u001B[39m\u001B[38;5;124m\"\u001B[39m)\n",
      "\u001B[1;31mKeyError\u001B[0m: 'True: boolean label can not be used without a boolean index'"
     ]
    }
   ],
   "source": [
    "a.loc[len(a['import_names']) > 0]"
   ],
   "metadata": {
    "collapsed": false
   }
  },
  {
   "cell_type": "markdown",
   "source": [
    "Building the graph"
   ],
   "metadata": {
    "collapsed": false
   }
  },
  {
   "cell_type": "code",
   "execution_count": null,
   "outputs": [],
   "source": [],
   "metadata": {
    "collapsed": false
   }
  }
 ],
 "metadata": {
  "kernelspec": {
   "display_name": "Python 3",
   "language": "python",
   "name": "python3"
  },
  "language_info": {
   "codemirror_mode": {
    "name": "ipython",
    "version": 2
   },
   "file_extension": ".py",
   "mimetype": "text/x-python",
   "name": "python",
   "nbconvert_exporter": "python",
   "pygments_lexer": "ipython2",
   "version": "2.7.6"
  }
 },
 "nbformat": 4,
 "nbformat_minor": 0
}
