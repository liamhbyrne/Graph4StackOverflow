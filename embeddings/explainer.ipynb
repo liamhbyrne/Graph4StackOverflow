{
 "cells": [
  {
   "cell_type": "code",
   "execution_count": 10,
   "metadata": {
    "collapsed": true
   },
   "outputs": [],
   "source": [
    "from torch_geometric.explain import Explainer, GNNExplainer"
   ]
  },
  {
   "cell_type": "code",
   "execution_count": 11,
   "outputs": [],
   "source": [
    "import torch\n",
    "from hetero_GAT import HeteroGAT"
   ],
   "metadata": {
    "collapsed": false
   }
  },
  {
   "cell_type": "code",
   "execution_count": 15,
   "outputs": [
    {
     "ename": "RuntimeError",
     "evalue": "Error(s) in loading state_dict for HeteroGAT:\n\tsize mismatch for convs.0.convs.tag__describes__question.lin_l.weight: copying a param with shape torch.Size([64, 50]) from checkpoint, the shape in current model is torch.Size([384, 50]).\n\tsize mismatch for convs.0.convs.tag__describes__question.lin_l.bias: copying a param with shape torch.Size([64]) from checkpoint, the shape in current model is torch.Size([384]).\n\tsize mismatch for convs.0.convs.tag__describes__question.lin_r.weight: copying a param with shape torch.Size([64, 1536]) from checkpoint, the shape in current model is torch.Size([384, 1536]).\n\tsize mismatch for convs.0.convs.tag__describes__answer.lin_l.weight: copying a param with shape torch.Size([64, 50]) from checkpoint, the shape in current model is torch.Size([384, 50]).\n\tsize mismatch for convs.0.convs.tag__describes__answer.lin_l.bias: copying a param with shape torch.Size([64]) from checkpoint, the shape in current model is torch.Size([384]).\n\tsize mismatch for convs.0.convs.tag__describes__answer.lin_r.weight: copying a param with shape torch.Size([64, 1536]) from checkpoint, the shape in current model is torch.Size([384, 1536]).\n\tsize mismatch for convs.0.convs.tag__describes__comment.lin_l.weight: copying a param with shape torch.Size([64, 50]) from checkpoint, the shape in current model is torch.Size([384, 50]).\n\tsize mismatch for convs.0.convs.tag__describes__comment.lin_l.bias: copying a param with shape torch.Size([64]) from checkpoint, the shape in current model is torch.Size([384]).\n\tsize mismatch for convs.0.convs.tag__describes__comment.lin_r.weight: copying a param with shape torch.Size([64, 768]) from checkpoint, the shape in current model is torch.Size([384, 768]).\n\tsize mismatch for convs.0.convs.module__imported_in__question.lin_l.weight: copying a param with shape torch.Size([64, 30]) from checkpoint, the shape in current model is torch.Size([384, 30]).\n\tsize mismatch for convs.0.convs.module__imported_in__question.lin_l.bias: copying a param with shape torch.Size([64]) from checkpoint, the shape in current model is torch.Size([384]).\n\tsize mismatch for convs.0.convs.module__imported_in__question.lin_r.weight: copying a param with shape torch.Size([64, 1536]) from checkpoint, the shape in current model is torch.Size([384, 1536]).\n\tsize mismatch for convs.0.convs.module__imported_in__answer.lin_l.weight: copying a param with shape torch.Size([64, 30]) from checkpoint, the shape in current model is torch.Size([384, 30]).\n\tsize mismatch for convs.0.convs.module__imported_in__answer.lin_l.bias: copying a param with shape torch.Size([64]) from checkpoint, the shape in current model is torch.Size([384]).\n\tsize mismatch for convs.0.convs.module__imported_in__answer.lin_r.weight: copying a param with shape torch.Size([64, 1536]) from checkpoint, the shape in current model is torch.Size([384, 1536]).\n\tsize mismatch for convs.0.convs.question__rev_describes__tag.lin_l.weight: copying a param with shape torch.Size([64, 1536]) from checkpoint, the shape in current model is torch.Size([384, 1536]).\n\tsize mismatch for convs.0.convs.question__rev_describes__tag.lin_l.bias: copying a param with shape torch.Size([64]) from checkpoint, the shape in current model is torch.Size([384]).\n\tsize mismatch for convs.0.convs.question__rev_describes__tag.lin_r.weight: copying a param with shape torch.Size([64, 50]) from checkpoint, the shape in current model is torch.Size([384, 50]).\n\tsize mismatch for convs.0.convs.answer__rev_describes__tag.lin_l.weight: copying a param with shape torch.Size([64, 1536]) from checkpoint, the shape in current model is torch.Size([384, 1536]).\n\tsize mismatch for convs.0.convs.answer__rev_describes__tag.lin_l.bias: copying a param with shape torch.Size([64]) from checkpoint, the shape in current model is torch.Size([384]).\n\tsize mismatch for convs.0.convs.answer__rev_describes__tag.lin_r.weight: copying a param with shape torch.Size([64, 50]) from checkpoint, the shape in current model is torch.Size([384, 50]).\n\tsize mismatch for convs.0.convs.comment__rev_describes__tag.lin_l.weight: copying a param with shape torch.Size([64, 768]) from checkpoint, the shape in current model is torch.Size([384, 768]).\n\tsize mismatch for convs.0.convs.comment__rev_describes__tag.lin_l.bias: copying a param with shape torch.Size([64]) from checkpoint, the shape in current model is torch.Size([384]).\n\tsize mismatch for convs.0.convs.comment__rev_describes__tag.lin_r.weight: copying a param with shape torch.Size([64, 50]) from checkpoint, the shape in current model is torch.Size([384, 50]).\n\tsize mismatch for convs.0.convs.question__rev_imported_in__module.lin_l.weight: copying a param with shape torch.Size([64, 1536]) from checkpoint, the shape in current model is torch.Size([384, 1536]).\n\tsize mismatch for convs.0.convs.question__rev_imported_in__module.lin_l.bias: copying a param with shape torch.Size([64]) from checkpoint, the shape in current model is torch.Size([384]).\n\tsize mismatch for convs.0.convs.question__rev_imported_in__module.lin_r.weight: copying a param with shape torch.Size([64, 30]) from checkpoint, the shape in current model is torch.Size([384, 30]).\n\tsize mismatch for convs.0.convs.answer__rev_imported_in__module.lin_l.weight: copying a param with shape torch.Size([64, 1536]) from checkpoint, the shape in current model is torch.Size([384, 1536]).\n\tsize mismatch for convs.0.convs.answer__rev_imported_in__module.lin_l.bias: copying a param with shape torch.Size([64]) from checkpoint, the shape in current model is torch.Size([384]).\n\tsize mismatch for convs.0.convs.answer__rev_imported_in__module.lin_r.weight: copying a param with shape torch.Size([64, 30]) from checkpoint, the shape in current model is torch.Size([384, 30]).\n\tsize mismatch for convs.1.convs.tag__describes__question.lin_l.weight: copying a param with shape torch.Size([64, 64]) from checkpoint, the shape in current model is torch.Size([384, 64]).\n\tsize mismatch for convs.1.convs.tag__describes__question.lin_l.bias: copying a param with shape torch.Size([64]) from checkpoint, the shape in current model is torch.Size([384]).\n\tsize mismatch for convs.1.convs.tag__describes__question.lin_r.weight: copying a param with shape torch.Size([64, 64]) from checkpoint, the shape in current model is torch.Size([384, 64]).\n\tsize mismatch for convs.1.convs.tag__describes__answer.lin_l.weight: copying a param with shape torch.Size([64, 64]) from checkpoint, the shape in current model is torch.Size([384, 64]).\n\tsize mismatch for convs.1.convs.tag__describes__answer.lin_l.bias: copying a param with shape torch.Size([64]) from checkpoint, the shape in current model is torch.Size([384]).\n\tsize mismatch for convs.1.convs.tag__describes__answer.lin_r.weight: copying a param with shape torch.Size([64, 64]) from checkpoint, the shape in current model is torch.Size([384, 64]).\n\tsize mismatch for convs.1.convs.tag__describes__comment.lin_l.weight: copying a param with shape torch.Size([64, 64]) from checkpoint, the shape in current model is torch.Size([384, 64]).\n\tsize mismatch for convs.1.convs.tag__describes__comment.lin_l.bias: copying a param with shape torch.Size([64]) from checkpoint, the shape in current model is torch.Size([384]).\n\tsize mismatch for convs.1.convs.tag__describes__comment.lin_r.weight: copying a param with shape torch.Size([64, 64]) from checkpoint, the shape in current model is torch.Size([384, 64]).\n\tsize mismatch for convs.1.convs.module__imported_in__question.lin_l.weight: copying a param with shape torch.Size([64, 64]) from checkpoint, the shape in current model is torch.Size([384, 64]).\n\tsize mismatch for convs.1.convs.module__imported_in__question.lin_l.bias: copying a param with shape torch.Size([64]) from checkpoint, the shape in current model is torch.Size([384]).\n\tsize mismatch for convs.1.convs.module__imported_in__question.lin_r.weight: copying a param with shape torch.Size([64, 64]) from checkpoint, the shape in current model is torch.Size([384, 64]).\n\tsize mismatch for convs.1.convs.module__imported_in__answer.lin_l.weight: copying a param with shape torch.Size([64, 64]) from checkpoint, the shape in current model is torch.Size([384, 64]).\n\tsize mismatch for convs.1.convs.module__imported_in__answer.lin_l.bias: copying a param with shape torch.Size([64]) from checkpoint, the shape in current model is torch.Size([384]).\n\tsize mismatch for convs.1.convs.module__imported_in__answer.lin_r.weight: copying a param with shape torch.Size([64, 64]) from checkpoint, the shape in current model is torch.Size([384, 64]).\n\tsize mismatch for convs.1.convs.question__rev_describes__tag.lin_l.weight: copying a param with shape torch.Size([64, 64]) from checkpoint, the shape in current model is torch.Size([384, 64]).\n\tsize mismatch for convs.1.convs.question__rev_describes__tag.lin_l.bias: copying a param with shape torch.Size([64]) from checkpoint, the shape in current model is torch.Size([384]).\n\tsize mismatch for convs.1.convs.question__rev_describes__tag.lin_r.weight: copying a param with shape torch.Size([64, 64]) from checkpoint, the shape in current model is torch.Size([384, 64]).\n\tsize mismatch for convs.1.convs.answer__rev_describes__tag.lin_l.weight: copying a param with shape torch.Size([64, 64]) from checkpoint, the shape in current model is torch.Size([384, 64]).\n\tsize mismatch for convs.1.convs.answer__rev_describes__tag.lin_l.bias: copying a param with shape torch.Size([64]) from checkpoint, the shape in current model is torch.Size([384]).\n\tsize mismatch for convs.1.convs.answer__rev_describes__tag.lin_r.weight: copying a param with shape torch.Size([64, 64]) from checkpoint, the shape in current model is torch.Size([384, 64]).\n\tsize mismatch for convs.1.convs.comment__rev_describes__tag.lin_l.weight: copying a param with shape torch.Size([64, 64]) from checkpoint, the shape in current model is torch.Size([384, 64]).\n\tsize mismatch for convs.1.convs.comment__rev_describes__tag.lin_l.bias: copying a param with shape torch.Size([64]) from checkpoint, the shape in current model is torch.Size([384]).\n\tsize mismatch for convs.1.convs.comment__rev_describes__tag.lin_r.weight: copying a param with shape torch.Size([64, 64]) from checkpoint, the shape in current model is torch.Size([384, 64]).\n\tsize mismatch for convs.1.convs.question__rev_imported_in__module.lin_l.weight: copying a param with shape torch.Size([64, 64]) from checkpoint, the shape in current model is torch.Size([384, 64]).\n\tsize mismatch for convs.1.convs.question__rev_imported_in__module.lin_l.bias: copying a param with shape torch.Size([64]) from checkpoint, the shape in current model is torch.Size([384]).\n\tsize mismatch for convs.1.convs.question__rev_imported_in__module.lin_r.weight: copying a param with shape torch.Size([64, 64]) from checkpoint, the shape in current model is torch.Size([384, 64]).\n\tsize mismatch for convs.1.convs.answer__rev_imported_in__module.lin_l.weight: copying a param with shape torch.Size([64, 64]) from checkpoint, the shape in current model is torch.Size([384, 64]).\n\tsize mismatch for convs.1.convs.answer__rev_imported_in__module.lin_l.bias: copying a param with shape torch.Size([64]) from checkpoint, the shape in current model is torch.Size([384]).\n\tsize mismatch for convs.1.convs.answer__rev_imported_in__module.lin_r.weight: copying a param with shape torch.Size([64, 64]) from checkpoint, the shape in current model is torch.Size([384, 64]).",
     "output_type": "error",
     "traceback": [
      "\u001B[1;31m---------------------------------------------------------------------------\u001B[0m",
      "\u001B[1;31mRuntimeError\u001B[0m                              Traceback (most recent call last)",
      "Cell \u001B[1;32mIn [15], line 3\u001B[0m\n\u001B[0;32m      1\u001B[0m \u001B[38;5;66;03m# Load model (EXP 1)\u001B[39;00m\n\u001B[0;32m      2\u001B[0m model \u001B[38;5;241m=\u001B[39m HeteroGAT(out_channels\u001B[38;5;241m=\u001B[39m\u001B[38;5;241m2\u001B[39m, num_layers\u001B[38;5;241m=\u001B[39m\u001B[38;5;241m2\u001B[39m, hidden_channels\u001B[38;5;241m=\u001B[39m\u001B[38;5;241m64\u001B[39m)\n\u001B[1;32m----> 3\u001B[0m \u001B[43mmodel\u001B[49m\u001B[38;5;241;43m.\u001B[39;49m\u001B[43mload_state_dict\u001B[49m\u001B[43m(\u001B[49m\u001B[43mtorch\u001B[49m\u001B[38;5;241;43m.\u001B[39;49m\u001B[43mload\u001B[49m\u001B[43m(\u001B[49m\u001B[38;5;124;43m'\u001B[39;49m\u001B[38;5;124;43m../models/gat_qa_10e_64h_3l.pt\u001B[39;49m\u001B[38;5;124;43m'\u001B[39;49m\u001B[43m,\u001B[49m\u001B[43m \u001B[49m\u001B[43mmap_location\u001B[49m\u001B[38;5;241;43m=\u001B[39;49m\u001B[43mtorch\u001B[49m\u001B[38;5;241;43m.\u001B[39;49m\u001B[43mdevice\u001B[49m\u001B[43m(\u001B[49m\u001B[38;5;124;43m'\u001B[39;49m\u001B[38;5;124;43mcpu\u001B[39;49m\u001B[38;5;124;43m'\u001B[39;49m\u001B[43m)\u001B[49m\u001B[43m)\u001B[49m\u001B[43m,\u001B[49m\u001B[43m \u001B[49m\u001B[43mstrict\u001B[49m\u001B[38;5;241;43m=\u001B[39;49m\u001B[38;5;28;43;01mFalse\u001B[39;49;00m\u001B[43m)\u001B[49m\n\u001B[0;32m      4\u001B[0m model\u001B[38;5;241m.\u001B[39meval()\n",
      "File \u001B[1;32m~\\Documents\\graph4stackoverflow\\venv\\lib\\site-packages\\torch\\nn\\modules\\module.py:1667\u001B[0m, in \u001B[0;36mModule.load_state_dict\u001B[1;34m(self, state_dict, strict)\u001B[0m\n\u001B[0;32m   1662\u001B[0m         error_msgs\u001B[38;5;241m.\u001B[39minsert(\n\u001B[0;32m   1663\u001B[0m             \u001B[38;5;241m0\u001B[39m, \u001B[38;5;124m'\u001B[39m\u001B[38;5;124mMissing key(s) in state_dict: \u001B[39m\u001B[38;5;132;01m{}\u001B[39;00m\u001B[38;5;124m. \u001B[39m\u001B[38;5;124m'\u001B[39m\u001B[38;5;241m.\u001B[39mformat(\n\u001B[0;32m   1664\u001B[0m                 \u001B[38;5;124m'\u001B[39m\u001B[38;5;124m, \u001B[39m\u001B[38;5;124m'\u001B[39m\u001B[38;5;241m.\u001B[39mjoin(\u001B[38;5;124m'\u001B[39m\u001B[38;5;124m\"\u001B[39m\u001B[38;5;132;01m{}\u001B[39;00m\u001B[38;5;124m\"\u001B[39m\u001B[38;5;124m'\u001B[39m\u001B[38;5;241m.\u001B[39mformat(k) \u001B[38;5;28;01mfor\u001B[39;00m k \u001B[38;5;129;01min\u001B[39;00m missing_keys)))\n\u001B[0;32m   1666\u001B[0m \u001B[38;5;28;01mif\u001B[39;00m \u001B[38;5;28mlen\u001B[39m(error_msgs) \u001B[38;5;241m>\u001B[39m \u001B[38;5;241m0\u001B[39m:\n\u001B[1;32m-> 1667\u001B[0m     \u001B[38;5;28;01mraise\u001B[39;00m \u001B[38;5;167;01mRuntimeError\u001B[39;00m(\u001B[38;5;124m'\u001B[39m\u001B[38;5;124mError(s) in loading state_dict for \u001B[39m\u001B[38;5;132;01m{}\u001B[39;00m\u001B[38;5;124m:\u001B[39m\u001B[38;5;130;01m\\n\u001B[39;00m\u001B[38;5;130;01m\\t\u001B[39;00m\u001B[38;5;132;01m{}\u001B[39;00m\u001B[38;5;124m'\u001B[39m\u001B[38;5;241m.\u001B[39mformat(\n\u001B[0;32m   1668\u001B[0m                        \u001B[38;5;28mself\u001B[39m\u001B[38;5;241m.\u001B[39m\u001B[38;5;18m__class__\u001B[39m\u001B[38;5;241m.\u001B[39m\u001B[38;5;18m__name__\u001B[39m, \u001B[38;5;124m\"\u001B[39m\u001B[38;5;130;01m\\n\u001B[39;00m\u001B[38;5;130;01m\\t\u001B[39;00m\u001B[38;5;124m\"\u001B[39m\u001B[38;5;241m.\u001B[39mjoin(error_msgs)))\n\u001B[0;32m   1669\u001B[0m \u001B[38;5;28;01mreturn\u001B[39;00m _IncompatibleKeys(missing_keys, unexpected_keys)\n",
      "\u001B[1;31mRuntimeError\u001B[0m: Error(s) in loading state_dict for HeteroGAT:\n\tsize mismatch for convs.0.convs.tag__describes__question.lin_l.weight: copying a param with shape torch.Size([64, 50]) from checkpoint, the shape in current model is torch.Size([384, 50]).\n\tsize mismatch for convs.0.convs.tag__describes__question.lin_l.bias: copying a param with shape torch.Size([64]) from checkpoint, the shape in current model is torch.Size([384]).\n\tsize mismatch for convs.0.convs.tag__describes__question.lin_r.weight: copying a param with shape torch.Size([64, 1536]) from checkpoint, the shape in current model is torch.Size([384, 1536]).\n\tsize mismatch for convs.0.convs.tag__describes__answer.lin_l.weight: copying a param with shape torch.Size([64, 50]) from checkpoint, the shape in current model is torch.Size([384, 50]).\n\tsize mismatch for convs.0.convs.tag__describes__answer.lin_l.bias: copying a param with shape torch.Size([64]) from checkpoint, the shape in current model is torch.Size([384]).\n\tsize mismatch for convs.0.convs.tag__describes__answer.lin_r.weight: copying a param with shape torch.Size([64, 1536]) from checkpoint, the shape in current model is torch.Size([384, 1536]).\n\tsize mismatch for convs.0.convs.tag__describes__comment.lin_l.weight: copying a param with shape torch.Size([64, 50]) from checkpoint, the shape in current model is torch.Size([384, 50]).\n\tsize mismatch for convs.0.convs.tag__describes__comment.lin_l.bias: copying a param with shape torch.Size([64]) from checkpoint, the shape in current model is torch.Size([384]).\n\tsize mismatch for convs.0.convs.tag__describes__comment.lin_r.weight: copying a param with shape torch.Size([64, 768]) from checkpoint, the shape in current model is torch.Size([384, 768]).\n\tsize mismatch for convs.0.convs.module__imported_in__question.lin_l.weight: copying a param with shape torch.Size([64, 30]) from checkpoint, the shape in current model is torch.Size([384, 30]).\n\tsize mismatch for convs.0.convs.module__imported_in__question.lin_l.bias: copying a param with shape torch.Size([64]) from checkpoint, the shape in current model is torch.Size([384]).\n\tsize mismatch for convs.0.convs.module__imported_in__question.lin_r.weight: copying a param with shape torch.Size([64, 1536]) from checkpoint, the shape in current model is torch.Size([384, 1536]).\n\tsize mismatch for convs.0.convs.module__imported_in__answer.lin_l.weight: copying a param with shape torch.Size([64, 30]) from checkpoint, the shape in current model is torch.Size([384, 30]).\n\tsize mismatch for convs.0.convs.module__imported_in__answer.lin_l.bias: copying a param with shape torch.Size([64]) from checkpoint, the shape in current model is torch.Size([384]).\n\tsize mismatch for convs.0.convs.module__imported_in__answer.lin_r.weight: copying a param with shape torch.Size([64, 1536]) from checkpoint, the shape in current model is torch.Size([384, 1536]).\n\tsize mismatch for convs.0.convs.question__rev_describes__tag.lin_l.weight: copying a param with shape torch.Size([64, 1536]) from checkpoint, the shape in current model is torch.Size([384, 1536]).\n\tsize mismatch for convs.0.convs.question__rev_describes__tag.lin_l.bias: copying a param with shape torch.Size([64]) from checkpoint, the shape in current model is torch.Size([384]).\n\tsize mismatch for convs.0.convs.question__rev_describes__tag.lin_r.weight: copying a param with shape torch.Size([64, 50]) from checkpoint, the shape in current model is torch.Size([384, 50]).\n\tsize mismatch for convs.0.convs.answer__rev_describes__tag.lin_l.weight: copying a param with shape torch.Size([64, 1536]) from checkpoint, the shape in current model is torch.Size([384, 1536]).\n\tsize mismatch for convs.0.convs.answer__rev_describes__tag.lin_l.bias: copying a param with shape torch.Size([64]) from checkpoint, the shape in current model is torch.Size([384]).\n\tsize mismatch for convs.0.convs.answer__rev_describes__tag.lin_r.weight: copying a param with shape torch.Size([64, 50]) from checkpoint, the shape in current model is torch.Size([384, 50]).\n\tsize mismatch for convs.0.convs.comment__rev_describes__tag.lin_l.weight: copying a param with shape torch.Size([64, 768]) from checkpoint, the shape in current model is torch.Size([384, 768]).\n\tsize mismatch for convs.0.convs.comment__rev_describes__tag.lin_l.bias: copying a param with shape torch.Size([64]) from checkpoint, the shape in current model is torch.Size([384]).\n\tsize mismatch for convs.0.convs.comment__rev_describes__tag.lin_r.weight: copying a param with shape torch.Size([64, 50]) from checkpoint, the shape in current model is torch.Size([384, 50]).\n\tsize mismatch for convs.0.convs.question__rev_imported_in__module.lin_l.weight: copying a param with shape torch.Size([64, 1536]) from checkpoint, the shape in current model is torch.Size([384, 1536]).\n\tsize mismatch for convs.0.convs.question__rev_imported_in__module.lin_l.bias: copying a param with shape torch.Size([64]) from checkpoint, the shape in current model is torch.Size([384]).\n\tsize mismatch for convs.0.convs.question__rev_imported_in__module.lin_r.weight: copying a param with shape torch.Size([64, 30]) from checkpoint, the shape in current model is torch.Size([384, 30]).\n\tsize mismatch for convs.0.convs.answer__rev_imported_in__module.lin_l.weight: copying a param with shape torch.Size([64, 1536]) from checkpoint, the shape in current model is torch.Size([384, 1536]).\n\tsize mismatch for convs.0.convs.answer__rev_imported_in__module.lin_l.bias: copying a param with shape torch.Size([64]) from checkpoint, the shape in current model is torch.Size([384]).\n\tsize mismatch for convs.0.convs.answer__rev_imported_in__module.lin_r.weight: copying a param with shape torch.Size([64, 30]) from checkpoint, the shape in current model is torch.Size([384, 30]).\n\tsize mismatch for convs.1.convs.tag__describes__question.lin_l.weight: copying a param with shape torch.Size([64, 64]) from checkpoint, the shape in current model is torch.Size([384, 64]).\n\tsize mismatch for convs.1.convs.tag__describes__question.lin_l.bias: copying a param with shape torch.Size([64]) from checkpoint, the shape in current model is torch.Size([384]).\n\tsize mismatch for convs.1.convs.tag__describes__question.lin_r.weight: copying a param with shape torch.Size([64, 64]) from checkpoint, the shape in current model is torch.Size([384, 64]).\n\tsize mismatch for convs.1.convs.tag__describes__answer.lin_l.weight: copying a param with shape torch.Size([64, 64]) from checkpoint, the shape in current model is torch.Size([384, 64]).\n\tsize mismatch for convs.1.convs.tag__describes__answer.lin_l.bias: copying a param with shape torch.Size([64]) from checkpoint, the shape in current model is torch.Size([384]).\n\tsize mismatch for convs.1.convs.tag__describes__answer.lin_r.weight: copying a param with shape torch.Size([64, 64]) from checkpoint, the shape in current model is torch.Size([384, 64]).\n\tsize mismatch for convs.1.convs.tag__describes__comment.lin_l.weight: copying a param with shape torch.Size([64, 64]) from checkpoint, the shape in current model is torch.Size([384, 64]).\n\tsize mismatch for convs.1.convs.tag__describes__comment.lin_l.bias: copying a param with shape torch.Size([64]) from checkpoint, the shape in current model is torch.Size([384]).\n\tsize mismatch for convs.1.convs.tag__describes__comment.lin_r.weight: copying a param with shape torch.Size([64, 64]) from checkpoint, the shape in current model is torch.Size([384, 64]).\n\tsize mismatch for convs.1.convs.module__imported_in__question.lin_l.weight: copying a param with shape torch.Size([64, 64]) from checkpoint, the shape in current model is torch.Size([384, 64]).\n\tsize mismatch for convs.1.convs.module__imported_in__question.lin_l.bias: copying a param with shape torch.Size([64]) from checkpoint, the shape in current model is torch.Size([384]).\n\tsize mismatch for convs.1.convs.module__imported_in__question.lin_r.weight: copying a param with shape torch.Size([64, 64]) from checkpoint, the shape in current model is torch.Size([384, 64]).\n\tsize mismatch for convs.1.convs.module__imported_in__answer.lin_l.weight: copying a param with shape torch.Size([64, 64]) from checkpoint, the shape in current model is torch.Size([384, 64]).\n\tsize mismatch for convs.1.convs.module__imported_in__answer.lin_l.bias: copying a param with shape torch.Size([64]) from checkpoint, the shape in current model is torch.Size([384]).\n\tsize mismatch for convs.1.convs.module__imported_in__answer.lin_r.weight: copying a param with shape torch.Size([64, 64]) from checkpoint, the shape in current model is torch.Size([384, 64]).\n\tsize mismatch for convs.1.convs.question__rev_describes__tag.lin_l.weight: copying a param with shape torch.Size([64, 64]) from checkpoint, the shape in current model is torch.Size([384, 64]).\n\tsize mismatch for convs.1.convs.question__rev_describes__tag.lin_l.bias: copying a param with shape torch.Size([64]) from checkpoint, the shape in current model is torch.Size([384]).\n\tsize mismatch for convs.1.convs.question__rev_describes__tag.lin_r.weight: copying a param with shape torch.Size([64, 64]) from checkpoint, the shape in current model is torch.Size([384, 64]).\n\tsize mismatch for convs.1.convs.answer__rev_describes__tag.lin_l.weight: copying a param with shape torch.Size([64, 64]) from checkpoint, the shape in current model is torch.Size([384, 64]).\n\tsize mismatch for convs.1.convs.answer__rev_describes__tag.lin_l.bias: copying a param with shape torch.Size([64]) from checkpoint, the shape in current model is torch.Size([384]).\n\tsize mismatch for convs.1.convs.answer__rev_describes__tag.lin_r.weight: copying a param with shape torch.Size([64, 64]) from checkpoint, the shape in current model is torch.Size([384, 64]).\n\tsize mismatch for convs.1.convs.comment__rev_describes__tag.lin_l.weight: copying a param with shape torch.Size([64, 64]) from checkpoint, the shape in current model is torch.Size([384, 64]).\n\tsize mismatch for convs.1.convs.comment__rev_describes__tag.lin_l.bias: copying a param with shape torch.Size([64]) from checkpoint, the shape in current model is torch.Size([384]).\n\tsize mismatch for convs.1.convs.comment__rev_describes__tag.lin_r.weight: copying a param with shape torch.Size([64, 64]) from checkpoint, the shape in current model is torch.Size([384, 64]).\n\tsize mismatch for convs.1.convs.question__rev_imported_in__module.lin_l.weight: copying a param with shape torch.Size([64, 64]) from checkpoint, the shape in current model is torch.Size([384, 64]).\n\tsize mismatch for convs.1.convs.question__rev_imported_in__module.lin_l.bias: copying a param with shape torch.Size([64]) from checkpoint, the shape in current model is torch.Size([384]).\n\tsize mismatch for convs.1.convs.question__rev_imported_in__module.lin_r.weight: copying a param with shape torch.Size([64, 64]) from checkpoint, the shape in current model is torch.Size([384, 64]).\n\tsize mismatch for convs.1.convs.answer__rev_imported_in__module.lin_l.weight: copying a param with shape torch.Size([64, 64]) from checkpoint, the shape in current model is torch.Size([384, 64]).\n\tsize mismatch for convs.1.convs.answer__rev_imported_in__module.lin_l.bias: copying a param with shape torch.Size([64]) from checkpoint, the shape in current model is torch.Size([384]).\n\tsize mismatch for convs.1.convs.answer__rev_imported_in__module.lin_r.weight: copying a param with shape torch.Size([64, 64]) from checkpoint, the shape in current model is torch.Size([384, 64])."
     ]
    }
   ],
   "source": [
    "\n",
    "# Load model (EXP 1)\n",
    "model = HeteroGAT(out_channels=2, num_layers=2, hidden_channels=64)\n",
    "model.load_state_dict(torch.load('../models/gat_qa_10e_64h_3l.pt', map_location=torch.device('cpu')), strict=False)\n",
    "model.eval()"
   ],
   "metadata": {
    "collapsed": false
   }
  },
  {
   "cell_type": "code",
   "execution_count": null,
   "outputs": [],
   "source": [
    "from dataset_in_memory import UserGraphDatasetInMemory\n",
    "\n",
    "train_dataset = UserGraphDatasetInMemory(root=\"../data\", file_name_out='train-4175-qs.pt', question_ids=[])\n",
    "\n",
    "test_dataset = UserGraphDatasetInMemory(root=\"../data\", file_name_out='test-1790-qs.pt', question_ids=[])"
   ],
   "metadata": {
    "collapsed": false
   }
  },
  {
   "cell_type": "code",
   "execution_count": null,
   "outputs": [],
   "source": [
    "from torch_geometric.explain import HeteroExplanation\n",
    "\n",
    "explainer = Explainer(\n",
    "    model=model,\n",
    "    algorithm=GNNExplainer(epochs=200),\n",
    "    explanation_type='model',\n",
    "    node_mask_type='attributes',\n",
    "    model_config=dict(\n",
    "        mode='binary_classification',\n",
    "        task_level='graph',\n",
    "        return_type='probs',\n",
    "    )\n",
    ")"
   ],
   "metadata": {
    "collapsed": false
   }
  },
  {
   "cell_type": "code",
   "execution_count": null,
   "outputs": [],
   "source": [
    "from torch_geometric.loader import DataLoader\n",
    "\n",
    "dataloader = DataLoader(train_dataset, batch_size=1, shuffle=False)\n",
    "data = next(iter(dataloader))"
   ],
   "metadata": {
    "collapsed": false
   }
  },
  {
   "cell_type": "code",
   "execution_count": null,
   "outputs": [],
   "source": [
    "post_emb = torch.cat([data.question_emb, data.answer_emb], dim=0)\n",
    "post_emb.shape"
   ],
   "metadata": {
    "collapsed": false
   }
  },
  {
   "cell_type": "code",
   "execution_count": null,
   "outputs": [],
   "source": [
    "explanation = explainer(data.x_dict, data.edge_index_dict, batch_dict=data.batch_dict, post_emb=post_emb)\n",
    "print(f'Generated explanations in {explanation.available_explanations}')\n",
    "\n",
    "path = 'feature_importance.png'\n",
    "explanation.visualize_feature_importance(path, top_k=10)\n",
    "print(f\"Feature importance plot has been saved to '{path}'\")\n",
    "\n",
    "path = 'subgraph.pdf'\n",
    "explanation.visualize_graph(path)\n",
    "print(f\"Subgraph visualization plot has been saved to '{path}'\")"
   ],
   "metadata": {
    "collapsed": false
   }
  },
  {
   "cell_type": "code",
   "execution_count": null,
   "outputs": [],
   "source": [],
   "metadata": {
    "collapsed": false
   }
  }
 ],
 "metadata": {
  "kernelspec": {
   "display_name": "Python 3",
   "language": "python",
   "name": "python3"
  },
  "language_info": {
   "codemirror_mode": {
    "name": "ipython",
    "version": 2
   },
   "file_extension": ".py",
   "mimetype": "text/x-python",
   "name": "python",
   "nbconvert_exporter": "python",
   "pygments_lexer": "ipython2",
   "version": "2.7.6"
  }
 },
 "nbformat": 4,
 "nbformat_minor": 0
}
