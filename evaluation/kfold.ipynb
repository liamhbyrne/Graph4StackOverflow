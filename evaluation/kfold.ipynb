{
 "cells": [
  {
   "cell_type": "markdown",
   "source": [
    "## 5-fold cross validation"
   ],
   "metadata": {
    "collapsed": false
   }
  },
  {
   "cell_type": "code",
   "execution_count": 1,
   "outputs": [
    {
     "data": {
      "text/plain": "dict_keys(['accuracy', 'f1-score', 'loss', 'table', 'preds', 'trues'])"
     },
     "execution_count": 1,
     "metadata": {},
     "output_type": "execute_result"
    }
   ],
   "source": [
    "# load in k-fold cross validation results\n",
    "import pickle\n",
    "import numpy as np\n",
    "\n",
    "model_configuration = {}\n",
    "\n",
    "with open('../results/q+a_kf_results.pkl', 'rb') as f:\n",
    "    model_configuration['with_answer'] = pickle.load(f)\n",
    "\n",
    "with open('../results/q_kf_results.pkl', 'rb') as f:\n",
    "    model_configuration['without_answer'] = pickle.load(f)\n",
    "\n",
    "with open('../results/baseline_q_kf_results.pkl', 'rb') as f:\n",
    "    model_configuration['baseline'] = pickle.load(f)\n",
    "\n",
    "with open('../results/baseline_q_a_kf_results.pkl', 'rb') as f:\n",
    "    model_configuration['baseline_q+a'] = pickle.load(f)\n",
    "\n",
    "model_configuration['with_answer'][0].keys()"
   ],
   "metadata": {
    "collapsed": false
   }
  },
  {
   "cell_type": "code",
   "execution_count": 2,
   "outputs": [
    {
     "data": {
      "text/plain": "[0.7379937163375224,\n 0.7423181872108198,\n 0.7391304347826086,\n 0.7803654604084558,\n 0.7387200736648251]"
     },
     "execution_count": 2,
     "metadata": {},
     "output_type": "execute_result"
    }
   ],
   "source": [
    "[x['accuracy'] for x in model_configuration['with_answer']]"
   ],
   "metadata": {
    "collapsed": false
   }
  },
  {
   "cell_type": "code",
   "execution_count": 3,
   "outputs": [
    {
     "data": {
      "text/plain": "[0.7512742475843565,\n 0.756445407195294,\n 0.7525616000605592,\n 0.7709828880147491,\n 0.7516097705290494]"
     },
     "execution_count": 3,
     "metadata": {},
     "output_type": "execute_result"
    }
   ],
   "source": [
    "[x['f1-score'] for x in model_configuration['with_answer']]"
   ],
   "metadata": {
    "collapsed": false
   }
  },
  {
   "cell_type": "code",
   "execution_count": 4,
   "outputs": [
    {
     "data": {
      "text/plain": "'with_answer_mean: 0.7565747826768016'"
     },
     "execution_count": 4,
     "metadata": {},
     "output_type": "execute_result"
    }
   ],
   "source": [
    "with_answer_mean = np.mean([x['f1-score'] for x in model_configuration['with_answer']])\n",
    "\"with_answer_mean: {}\".format(with_answer_mean)"
   ],
   "metadata": {
    "collapsed": false
   }
  },
  {
   "cell_type": "code",
   "execution_count": 5,
   "outputs": [
    {
     "data": {
      "text/plain": "'with_answer_f1_std: 0.007435897928959041'"
     },
     "execution_count": 5,
     "metadata": {},
     "output_type": "execute_result"
    }
   ],
   "source": [
    "with_answer_f1_std = np.std([x['f1-score'] for x in model_configuration['with_answer']])\n",
    "\"with_answer_f1_std: {}\".format(with_answer_f1_std)"
   ],
   "metadata": {
    "collapsed": false
   }
  },
  {
   "cell_type": "code",
   "execution_count": 6,
   "outputs": [
    {
     "data": {
      "text/plain": "'with_answer_acc_mean: 0.7477055744808464'"
     },
     "execution_count": 6,
     "metadata": {},
     "output_type": "execute_result"
    }
   ],
   "source": [
    "with_answer_acc_mean = np.mean([x['accuracy'] for x in model_configuration['with_answer']])\n",
    "\"with_answer_acc_mean: {}\".format(with_answer_acc_mean)"
   ],
   "metadata": {
    "collapsed": false
   }
  },
  {
   "cell_type": "code",
   "execution_count": 7,
   "outputs": [
    {
     "data": {
      "text/plain": "'with_answer_acc_std: 0.01639685655701582'"
     },
     "execution_count": 7,
     "metadata": {},
     "output_type": "execute_result"
    }
   ],
   "source": [
    "with_answer_acc_std = np.std([x['accuracy'] for x in model_configuration['with_answer']])\n",
    "\"with_answer_acc_std: {}\".format(with_answer_acc_std)"
   ],
   "metadata": {
    "collapsed": false
   }
  },
  {
   "cell_type": "markdown",
   "source": [
    "Without answer"
   ],
   "metadata": {
    "collapsed": false
   }
  },
  {
   "cell_type": "code",
   "execution_count": 8,
   "outputs": [
    {
     "data": {
      "text/plain": "'without_answer_mean: 0.7415956073374264'"
     },
     "execution_count": 8,
     "metadata": {},
     "output_type": "execute_result"
    }
   ],
   "source": [
    "without_answer_mean = np.mean([x['f1-score'] for x in model_configuration['without_answer']])\n",
    "\"without_answer_mean: {}\".format(without_answer_mean)"
   ],
   "metadata": {
    "collapsed": false
   }
  },
  {
   "cell_type": "code",
   "execution_count": 8,
   "outputs": [],
   "source": [],
   "metadata": {
    "collapsed": false,
    "pycharm": {
     "name": "#%%md dsa\n"
    }
   }
  },
  {
   "cell_type": "code",
   "execution_count": 9,
   "outputs": [
    {
     "data": {
      "text/plain": "'without_answer_f1_std: 0.013542289619057327'"
     },
     "execution_count": 9,
     "metadata": {},
     "output_type": "execute_result"
    }
   ],
   "source": [
    "without_answer_f1_std = np.std([x['f1-score'] for x in model_configuration['without_answer']])\n",
    "\"without_answer_f1_std: {}\".format(without_answer_f1_std)"
   ],
   "metadata": {
    "collapsed": false
   }
  },
  {
   "cell_type": "code",
   "execution_count": 10,
   "outputs": [
    {
     "data": {
      "text/plain": "'without_answer_acc_mean: 0.7242812904540414'"
     },
     "execution_count": 10,
     "metadata": {},
     "output_type": "execute_result"
    }
   ],
   "source": [
    "without_answer_acc_mean = np.mean([x['accuracy'] for x in model_configuration['without_answer']])\n",
    "\"without_answer_acc_mean: {}\".format(without_answer_acc_mean)"
   ],
   "metadata": {
    "collapsed": false
   }
  },
  {
   "cell_type": "code",
   "execution_count": 11,
   "outputs": [
    {
     "data": {
      "text/plain": "'without_answer_acc_std: 0.022591115206426343'"
     },
     "execution_count": 11,
     "metadata": {},
     "output_type": "execute_result"
    }
   ],
   "source": [
    "without_answer_acc_std = np.std([x['accuracy'] for x in model_configuration['without_answer']])\n",
    "\"without_answer_acc_std: {}\".format(without_answer_acc_std)"
   ],
   "metadata": {
    "collapsed": false
   }
  },
  {
   "cell_type": "code",
   "execution_count": 12,
   "outputs": [
    {
     "data": {
      "text/plain": "'baseline_mean: 0.5932625792315823'"
     },
     "execution_count": 12,
     "metadata": {},
     "output_type": "execute_result"
    }
   ],
   "source": [
    "baseline_mean = np.mean([x['f1-score'] for x in model_configuration['baseline']])\n",
    "\"baseline_mean: {}\".format(baseline_mean)"
   ],
   "metadata": {
    "collapsed": false
   }
  },
  {
   "cell_type": "code",
   "execution_count": 13,
   "outputs": [
    {
     "data": {
      "text/plain": "'baseline_f1_std: 0.013771579781591175'"
     },
     "execution_count": 13,
     "metadata": {},
     "output_type": "execute_result"
    }
   ],
   "source": [
    "baseline_f1_std = np.std([x['f1-score'] for x in model_configuration['baseline']])\n",
    "\"baseline_f1_std: {}\".format(baseline_f1_std)"
   ],
   "metadata": {
    "collapsed": false
   }
  },
  {
   "cell_type": "code",
   "execution_count": 14,
   "outputs": [
    {
     "data": {
      "text/plain": "'baseline_acc_mean: 0.5322964826260776'"
     },
     "execution_count": 14,
     "metadata": {},
     "output_type": "execute_result"
    }
   ],
   "source": [
    "baseline_acc_mean = np.mean([x['accuracy'] for x in model_configuration['baseline']])\n",
    "\"baseline_acc_mean: {}\".format(baseline_acc_mean)"
   ],
   "metadata": {
    "collapsed": false
   }
  },
  {
   "cell_type": "code",
   "execution_count": 15,
   "outputs": [
    {
     "data": {
      "text/plain": "'baseline_acc_std: 0.013924542846840398'"
     },
     "execution_count": 15,
     "metadata": {},
     "output_type": "execute_result"
    }
   ],
   "source": [
    "baseline_acc_std = np.std([x['accuracy'] for x in model_configuration['baseline']])\n",
    "\"baseline_acc_std: {}\".format(baseline_acc_std)"
   ],
   "metadata": {
    "collapsed": false
   }
  },
  {
   "cell_type": "code",
   "execution_count": 16,
   "outputs": [
    {
     "data": {
      "text/plain": "'baseline_q_a_mean: 0.6811436034349465'"
     },
     "execution_count": 16,
     "metadata": {},
     "output_type": "execute_result"
    }
   ],
   "source": [
    "baseline_q_a_mean = np.mean([x['f1-score'] for x in model_configuration['baseline_q+a']])\n",
    "\"baseline_q_a_mean: {}\".format(baseline_q_a_mean)"
   ],
   "metadata": {
    "collapsed": false
   }
  },
  {
   "cell_type": "code",
   "execution_count": 17,
   "outputs": [
    {
     "data": {
      "text/plain": "'baseline_q_a_f1_std: 0.012979131440191199'"
     },
     "execution_count": 17,
     "metadata": {},
     "output_type": "execute_result"
    }
   ],
   "source": [
    "baseline_q_a_f1_std = np.std([x['f1-score'] for x in model_configuration['baseline_q+a']])\n",
    "\"baseline_q_a_f1_std: {}\".format(baseline_q_a_f1_std)"
   ],
   "metadata": {
    "collapsed": false
   }
  },
  {
   "cell_type": "code",
   "execution_count": 18,
   "outputs": [
    {
     "data": {
      "text/plain": "'baseline_q_a_acc_mean: 0.6342233558340953'"
     },
     "execution_count": 18,
     "metadata": {},
     "output_type": "execute_result"
    }
   ],
   "source": [
    "baseline_q_a_acc_mean = np.mean([x['accuracy'] for x in model_configuration['baseline_q+a']])\n",
    "\"baseline_q_a_acc_mean: {}\".format(baseline_q_a_acc_mean)"
   ],
   "metadata": {
    "collapsed": false
   }
  },
  {
   "cell_type": "code",
   "execution_count": 19,
   "outputs": [
    {
     "data": {
      "text/plain": "'baseline_q_a_acc_std: 0.015827420428804348'"
     },
     "execution_count": 19,
     "metadata": {},
     "output_type": "execute_result"
    }
   ],
   "source": [
    "baseline_q_a_acc_std = np.std([x['accuracy'] for x in model_configuration['baseline_q+a']])\n",
    "\"baseline_q_a_acc_std: {}\".format(baseline_q_a_acc_std)"
   ],
   "metadata": {
    "collapsed": false
   }
  },
  {
   "cell_type": "code",
   "execution_count": 20,
   "outputs": [],
   "source": [
    "from tabulate import tabulate"
   ],
   "metadata": {
    "collapsed": false
   }
  },
  {
   "cell_type": "code",
   "execution_count": 21,
   "outputs": [
    {
     "name": "stdout",
     "output_type": "stream",
     "text": [
      "model             f1-score    f1-score std    accuracy    accuracy std\n",
      "--------------  ----------  --------------  ----------  --------------\n",
      "with_answer       0.756575       0.0074359    0.747706       0.0163969\n",
      "without_answer    0.741596       0.0135423    0.724281       0.0225911\n",
      "baseline          0.593263       0.0137716    0.532296       0.0139245\n",
      "baseline_q+a      0.681144       0.0129791    0.634223       0.0158274\n"
     ]
    }
   ],
   "source": [
    "print(tabulate([['with_answer', with_answer_mean, with_answer_f1_std, with_answer_acc_mean, with_answer_acc_std],\n",
    "                ['without_answer', without_answer_mean, without_answer_f1_std, without_answer_acc_mean, without_answer_acc_std],\n",
    "                ['baseline', baseline_mean, baseline_f1_std, baseline_acc_mean, baseline_acc_std],\n",
    "                ['baseline_q+a', baseline_q_a_mean, baseline_q_a_f1_std, baseline_q_a_acc_mean, baseline_q_a_acc_std]],\n",
    "               headers=['model', 'f1-score', 'f1-score std', 'accuracy', 'accuracy std']))"
   ],
   "metadata": {
    "collapsed": false
   }
  },
  {
   "cell_type": "code",
   "execution_count": 21,
   "outputs": [],
   "source": [],
   "metadata": {
    "collapsed": false
   }
  }
 ],
 "metadata": {
  "kernelspec": {
   "display_name": "Python 3",
   "language": "python",
   "name": "python3"
  },
  "language_info": {
   "codemirror_mode": {
    "name": "ipython",
    "version": 2
   },
   "file_extension": ".py",
   "mimetype": "text/x-python",
   "name": "python",
   "nbconvert_exporter": "python",
   "pygments_lexer": "ipython2",
   "version": "2.7.6"
  }
 },
 "nbformat": 4,
 "nbformat_minor": 0
}
