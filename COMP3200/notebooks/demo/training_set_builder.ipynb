{
 "cells": [
  {
   "cell_type": "code",
   "execution_count": 1,
   "metadata": {
    "collapsed": true
   },
   "outputs": [],
   "source": [
    "import sqlite3\n",
    "import pandas as pd\n",
    "import logging\n",
    "import pickle\n",
    "logging.basicConfig()\n",
    "logging.getLogger().setLevel(logging.INFO)\n",
    "log = logging.getLogger(\"training-set-builder\")\n",
    "\n",
    "# Create your connection.\n",
    "db = sqlite3.connect('../stackoverflow.db')"
   ]
  },
  {
   "cell_type": "code",
   "execution_count": 2,
   "outputs": [],
   "source": [
    "QUESTIONS_RETREIVED = 10000"
   ],
   "metadata": {
    "collapsed": false
   }
  },
  {
   "cell_type": "code",
   "execution_count": 3,
   "outputs": [
    {
     "data": {
      "text/plain": "      post_id                                      question_body  \\\n0         337  <p>I am about to build a piece of a project th...   \n1         469  <p>I am using the Photoshop's javascript API t...   \n2         502  <p>I have a cross-platform (Python) applicatio...   \n3         535  <p>I am starting to work on a hobby project wi...   \n4         594  <p>There are several ways to iterate over a re...   \n...       ...                                                ...   \n9995  3483718  <p>Today I have come across a surprising defin...   \n9996  3483723  <p>I was wondering if anyone can explain why a...   \n9997  3484019  <p>Given a python class <code>class Student():...   \n9998  3484149  <p>I am trying to output the first 255 charact...   \n9999  3484293  <p>I've been trying to make a <code>dict</code...   \n\n                                         question_title  question_user_id  \n0                              XML Processing in Python             111.0  \n1     How can I find the full path to a font from it...             147.0  \n2               Get a preview JPEG of a PDF on Windows?             147.0  \n3     Continuous Integration System for a Python Cod...             154.0  \n4        cx_Oracle: How do I iterate over a result set?             116.0  \n...                                                 ...               ...  \n9995  When to inline definitions of metaclass in Pyt...          336455.0  \n9996     Python interactive mode history and arrow keys           71809.0  \n9997               Python list to store class instance?          413897.0  \n9998  Limit number of characters with Django Templat...          206506.0  \n9999  Is there a description of how __cmp__ works fo...          420501.0  \n\n[10000 rows x 4 columns]",
      "text/html": "<div>\n<style scoped>\n    .dataframe tbody tr th:only-of-type {\n        vertical-align: middle;\n    }\n\n    .dataframe tbody tr th {\n        vertical-align: top;\n    }\n\n    .dataframe thead th {\n        text-align: right;\n    }\n</style>\n<table border=\"1\" class=\"dataframe\">\n  <thead>\n    <tr style=\"text-align: right;\">\n      <th></th>\n      <th>post_id</th>\n      <th>question_body</th>\n      <th>question_title</th>\n      <th>question_user_id</th>\n    </tr>\n  </thead>\n  <tbody>\n    <tr>\n      <th>0</th>\n      <td>337</td>\n      <td>&lt;p&gt;I am about to build a piece of a project th...</td>\n      <td>XML Processing in Python</td>\n      <td>111.0</td>\n    </tr>\n    <tr>\n      <th>1</th>\n      <td>469</td>\n      <td>&lt;p&gt;I am using the Photoshop's javascript API t...</td>\n      <td>How can I find the full path to a font from it...</td>\n      <td>147.0</td>\n    </tr>\n    <tr>\n      <th>2</th>\n      <td>502</td>\n      <td>&lt;p&gt;I have a cross-platform (Python) applicatio...</td>\n      <td>Get a preview JPEG of a PDF on Windows?</td>\n      <td>147.0</td>\n    </tr>\n    <tr>\n      <th>3</th>\n      <td>535</td>\n      <td>&lt;p&gt;I am starting to work on a hobby project wi...</td>\n      <td>Continuous Integration System for a Python Cod...</td>\n      <td>154.0</td>\n    </tr>\n    <tr>\n      <th>4</th>\n      <td>594</td>\n      <td>&lt;p&gt;There are several ways to iterate over a re...</td>\n      <td>cx_Oracle: How do I iterate over a result set?</td>\n      <td>116.0</td>\n    </tr>\n    <tr>\n      <th>...</th>\n      <td>...</td>\n      <td>...</td>\n      <td>...</td>\n      <td>...</td>\n    </tr>\n    <tr>\n      <th>9995</th>\n      <td>3483718</td>\n      <td>&lt;p&gt;Today I have come across a surprising defin...</td>\n      <td>When to inline definitions of metaclass in Pyt...</td>\n      <td>336455.0</td>\n    </tr>\n    <tr>\n      <th>9996</th>\n      <td>3483723</td>\n      <td>&lt;p&gt;I was wondering if anyone can explain why a...</td>\n      <td>Python interactive mode history and arrow keys</td>\n      <td>71809.0</td>\n    </tr>\n    <tr>\n      <th>9997</th>\n      <td>3484019</td>\n      <td>&lt;p&gt;Given a python class &lt;code&gt;class Student():...</td>\n      <td>Python list to store class instance?</td>\n      <td>413897.0</td>\n    </tr>\n    <tr>\n      <th>9998</th>\n      <td>3484149</td>\n      <td>&lt;p&gt;I am trying to output the first 255 charact...</td>\n      <td>Limit number of characters with Django Templat...</td>\n      <td>206506.0</td>\n    </tr>\n    <tr>\n      <th>9999</th>\n      <td>3484293</td>\n      <td>&lt;p&gt;I've been trying to make a &lt;code&gt;dict&lt;/code...</td>\n      <td>Is there a description of how __cmp__ works fo...</td>\n      <td>420501.0</td>\n    </tr>\n  </tbody>\n</table>\n<p>10000 rows × 4 columns</p>\n</div>"
     },
     "execution_count": 3,
     "metadata": {},
     "output_type": "execute_result"
    }
   ],
   "source": [
    "valid_questions = pd.read_sql_query(f\"\"\"\n",
    "        SELECT Q.PostId, Q.Body, Q.Title, Q.OwnerUserId FROM Post Q\n",
    "        INNER JOIN Post A ON Q.PostId = A.ParentId\n",
    "        WHERE (Q.Tags LIKE '%<python>%')\n",
    "        GROUP BY A.ParentId\n",
    "        HAVING SUM(A.Score) > 15\n",
    "        LIMIT {QUESTIONS_RETREIVED}\n",
    "\"\"\", db)\n",
    "valid_questions.columns = ['post_id', 'question_body', 'question_title', 'question_user_id']\n",
    "valid_questions"
   ],
   "metadata": {
    "collapsed": false
   }
  },
  {
   "cell_type": "code",
   "execution_count": 4,
   "outputs": [
    {
     "data": {
      "text/plain": "'Number of unique users in training set: 4567'"
     },
     "execution_count": 4,
     "metadata": {},
     "output_type": "execute_result"
    }
   ],
   "source": [
    "\"Number of unique users in training set: {}\".format(valid_questions['question_user_id'].nunique())"
   ],
   "metadata": {
    "collapsed": false
   }
  },
  {
   "cell_type": "code",
   "execution_count": 4,
   "outputs": [],
   "source": [
    "save = True\n",
    "if save:\n",
    "    with open(\"../data/raw/valid_questions.pkl\", \"wb\") as f:\n",
    "        pickle.dump(valid_questions['post_id'].to_list(), f)"
   ],
   "metadata": {
    "collapsed": false
   }
  },
  {
   "cell_type": "code",
   "execution_count": 4,
   "outputs": [],
   "source": [
    "def fetch_questions_by_user(user_id: int, db):\n",
    "    questions_df = pd.read_sql_query(f\"\"\"\n",
    "            SELECT *\n",
    "            FROM Post\n",
    "            WHERE Tags LIKE '%python%' AND (PostTypeId = 1) AND ((LastEditorUserId = {user_id}) OR (OwnerUserId = {user_id}))\n",
    "    \"\"\", db)\n",
    "    questions_df.set_index('PostId', inplace=True)\n",
    "    return questions_df"
   ],
   "metadata": {
    "collapsed": false
   }
  },
  {
   "cell_type": "code",
   "execution_count": 5,
   "outputs": [],
   "source": [
    "def fetch_answers_by_user(user_id: int, db):\n",
    "    answers_df = pd.read_sql_query(f\"\"\"\n",
    "            SELECT A.Tags, B.*\n",
    "            FROM Post A\n",
    "                INNER JOIN Post B ON (B.ParentId = A.PostId) AND (B.ParentId IS NOT NULL)\n",
    "            WHERE A.Tags LIKE '%python%' AND (B.PostTypeId = 2) AND ((B.LastEditorUserId = {user_id}) OR (B.OwnerUserId = {user_id}))\n",
    "    \"\"\", db)\n",
    "    answers_df = answers_df.loc[:, ~answers_df.columns.duplicated()].copy()\n",
    "    answers_df.set_index('PostId', inplace=True)\n",
    "    return answers_df"
   ],
   "metadata": {
    "collapsed": false
   }
  },
  {
   "cell_type": "code",
   "execution_count": 6,
   "outputs": [],
   "source": [
    "def fetch_answers_for_question(question_post_id: int, db):\n",
    "    answers_df = pd.read_sql_query(f\"\"\"\n",
    "            SELECT Body, OwnerUserId, Score\n",
    "            FROM Post\n",
    "            WHERE ParentId = {question_post_id}\n",
    "    \"\"\", db)\n",
    "    answers_df = answers_df.dropna()\n",
    "    return answers_df"
   ],
   "metadata": {
    "collapsed": false
   }
  },
  {
   "cell_type": "code",
   "execution_count": 7,
   "outputs": [],
   "source": [
    "def fetch_comments_by_user(user_id: int, db):\n",
    "    comments_on_questions_df = pd.read_sql_query(f\"\"\"\n",
    "            SELECT A.Tags, B.*\n",
    "            FROM Post A\n",
    "                INNER JOIN Comment B ON (B.PostId = A.PostId)\n",
    "            WHERE A.Tags LIKE '%python%' AND (B.UserId = {user_id}) AND (A.PostTypeId = 1)\n",
    "    \"\"\", db)\n",
    "    comments_on_questions_df.set_index('CommentId', inplace=True)\n",
    "\n",
    "    comments_on_answers_df = pd.read_sql_query(f\"\"\"\n",
    "        SELECT A.Tags, C.*\n",
    "        FROM Post A\n",
    "            INNER JOIN Post B ON (B.ParentId = A.PostId) AND (B.ParentId IS NOT NULL)\n",
    "            INNER JOIN Comment C ON (B.PostId = C.PostId)\n",
    "        WHERE A.Tags LIKE '%python%' AND (C.UserId = {user_id}) AND (B.PostTypeId = 2)\n",
    "    \"\"\", db)\n",
    "    comments_on_answers_df.set_index('CommentId', inplace=True)\n",
    "\n",
    "    return pd.concat([comments_on_questions_df, comments_on_answers_df])"
   ],
   "metadata": {
    "collapsed": false
   }
  },
  {
   "cell_type": "code",
   "execution_count": 8,
   "outputs": [],
   "source": [
    "def construct_graph(user_id, db):\n",
    "    graph_constructor = StaticGraphConstruction()\n",
    "    qs = fetch_questions_by_user(user_id, db)\n",
    "    ans = fetch_answers_by_user(user_id, db)\n",
    "    cs = fetch_comments_by_user(user_id, db)\n",
    "    return graph_constructor.construct(questions=qs, answers=ans, comments=cs)"
   ],
   "metadata": {
    "collapsed": false
   }
  },
  {
   "cell_type": "code",
   "execution_count": 9,
   "outputs": [
    {
     "name": "stderr",
     "output_type": "stream",
     "text": [
      "INFO:post_embedding_builder:PostEmbedding instantiated!\n",
      "INFO:torchtext.vocab.vectors:Loading vectors from .vector_cache\\glove.840B.300d.txt.pt\n",
      "Some weights of the model checkpoint at bert-base-uncased were not used when initializing BertModel: ['cls.predictions.bias', 'cls.seq_relationship.bias', 'cls.seq_relationship.weight', 'cls.predictions.transform.LayerNorm.weight', 'cls.predictions.transform.LayerNorm.bias', 'cls.predictions.decoder.weight', 'cls.predictions.transform.dense.weight', 'cls.predictions.transform.dense.bias']\n",
      "- This IS expected if you are initializing BertModel from the checkpoint of a model trained on another task or with another architecture (e.g. initializing a BertForSequenceClassification model from a BertForPreTraining model).\n",
      "- This IS NOT expected if you are initializing BertModel from the checkpoint of a model that you expect to be exactly identical (initializing a BertForSequenceClassification model from a BertForSequenceClassification model).\n",
      "INFO:post_embedding_builder:PostEmbedding instantiated!\n",
      "INFO:torchtext.vocab.vectors:Loading vectors from .vector_cache\\glove.840B.300d.txt.pt\n",
      "Some weights of the model checkpoint at bert-base-uncased were not used when initializing BertModel: ['cls.predictions.bias', 'cls.seq_relationship.bias', 'cls.seq_relationship.weight', 'cls.predictions.transform.LayerNorm.weight', 'cls.predictions.transform.LayerNorm.bias', 'cls.predictions.decoder.weight', 'cls.predictions.transform.dense.weight', 'cls.predictions.transform.dense.bias']\n",
      "- This IS expected if you are initializing BertModel from the checkpoint of a model trained on another task or with another architecture (e.g. initializing a BertForSequenceClassification model from a BertForPreTraining model).\n",
      "- This IS NOT expected if you are initializing BertModel from the checkpoint of a model that you expect to be exactly identical (initializing a BertForSequenceClassification model from a BertForSequenceClassification model).\n",
      "INFO:training-set-builder:processing question 1\n",
      "INFO:training-set-builder:processing answer 1\n",
      "INFO:training-set-builder:processing answer 2\n",
      "INFO:training-set-builder:processing answer 3\n",
      "INFO:training-set-builder:processing answer 4\n",
      "C:\\Users\\liamb\\Documents\\graph4stackoverflow\\venv\\lib\\site-packages\\bs4\\__init__.py:435: MarkupResemblesLocatorWarning: The input looks more like a filename than markup. You may want to open this file and pass the filehandle into Beautiful Soup.\n",
      "  warnings.warn(\n",
      "INFO:training-set-builder:processing answer 5\n",
      "INFO:training-set-builder:processing answer 6\n",
      "INFO:training-set-builder:processing answer 7\n",
      "INFO:training-set-builder:processing answer 8\n",
      "C:\\Users\\liamb\\Documents\\graph4stackoverflow\\venv\\lib\\site-packages\\bs4\\__init__.py:435: MarkupResemblesLocatorWarning: The input looks more like a filename than markup. You may want to open this file and pass the filehandle into Beautiful Soup.\n",
      "  warnings.warn(\n",
      "INFO:training-set-builder:processing answer 9\n",
      "C:\\Users\\liamb\\Documents\\graph4stackoverflow\\venv\\lib\\site-packages\\bs4\\__init__.py:435: MarkupResemblesLocatorWarning: The input looks more like a filename than markup. You may want to open this file and pass the filehandle into Beautiful Soup.\n",
      "  warnings.warn(\n",
      "INFO:training-set-builder:processing answer 10\n",
      "INFO:training-set-builder:writing batch to file\n",
      "INFO:training-set-builder:processing answer 11\n",
      "Token indices sequence length is longer than the specified maximum sequence length for this model (1056 > 512). Running this sequence through the model will result in indexing errors\n",
      "INFO:training-set-builder:processing question 2\n",
      "INFO:training-set-builder:processing answer 1\n",
      "C:\\Users\\liamb\\Documents\\graph4stackoverflow\\venv\\lib\\site-packages\\bs4\\__init__.py:435: MarkupResemblesLocatorWarning: The input looks more like a filename than markup. You may want to open this file and pass the filehandle into Beautiful Soup.\n",
      "  warnings.warn(\n",
      "INFO:training-set-builder:processing answer 2\n",
      "INFO:training-set-builder:processing answer 3\n",
      "INFO:training-set-builder:processing answer 4\n",
      "C:\\Users\\liamb\\Documents\\graph4stackoverflow\\venv\\lib\\site-packages\\bs4\\__init__.py:435: MarkupResemblesLocatorWarning: The input looks more like a filename than markup. You may want to open this file and pass the filehandle into Beautiful Soup.\n",
      "  warnings.warn(\n",
      "INFO:training-set-builder:processing question 3\n",
      "INFO:training-set-builder:processing answer 1\n",
      "C:\\Users\\liamb\\Documents\\graph4stackoverflow\\venv\\lib\\site-packages\\bs4\\__init__.py:435: MarkupResemblesLocatorWarning: The input looks more like a filename than markup. You may want to open this file and pass the filehandle into Beautiful Soup.\n",
      "  warnings.warn(\n",
      "INFO:training-set-builder:processing answer 2\n",
      "INFO:training-set-builder:processing answer 3\n",
      "C:\\Users\\liamb\\Documents\\graph4stackoverflow\\venv\\lib\\site-packages\\bs4\\__init__.py:435: MarkupResemblesLocatorWarning: The input looks more like a filename than markup. You may want to open this file and pass the filehandle into Beautiful Soup.\n",
      "  warnings.warn(\n",
      "INFO:training-set-builder:processing question 4\n",
      "INFO:training-set-builder:processing answer 1\n",
      "INFO:training-set-builder:processing answer 2\n",
      "C:\\Users\\liamb\\Documents\\graph4stackoverflow\\venv\\lib\\site-packages\\bs4\\__init__.py:404: MarkupResemblesLocatorWarning: The input looks more like a URL than markup. You may want to use an HTTP client like requests to get the document behind the URL, and feed that document to Beautiful Soup.\n",
      "  warnings.warn(\n",
      "C:\\Users\\liamb\\Documents\\graph4stackoverflow\\venv\\lib\\site-packages\\bs4\\__init__.py:435: MarkupResemblesLocatorWarning: The input looks more like a filename than markup. You may want to open this file and pass the filehandle into Beautiful Soup.\n",
      "  warnings.warn(\n",
      "INFO:training-set-builder:writing batch to file\n",
      "INFO:training-set-builder:processing answer 3\n",
      "INFO:training-set-builder:processing answer 4\n",
      "C:\\Users\\liamb\\Documents\\graph4stackoverflow\\venv\\lib\\site-packages\\bs4\\__init__.py:435: MarkupResemblesLocatorWarning: The input looks more like a filename than markup. You may want to open this file and pass the filehandle into Beautiful Soup.\n",
      "  warnings.warn(\n",
      "INFO:training-set-builder:processing answer 5\n",
      "INFO:training-set-builder:processing answer 6\n",
      "C:\\Users\\liamb\\Documents\\graph4stackoverflow\\venv\\lib\\site-packages\\bs4\\__init__.py:435: MarkupResemblesLocatorWarning: The input looks more like a filename than markup. You may want to open this file and pass the filehandle into Beautiful Soup.\n",
      "  warnings.warn(\n",
      "INFO:training-set-builder:processing question 5\n",
      "INFO:training-set-builder:processing answer 1\n",
      "INFO:training-set-builder:processing answer 2\n",
      "C:\\Users\\liamb\\Documents\\graph4stackoverflow\\venv\\lib\\site-packages\\bs4\\__init__.py:435: MarkupResemblesLocatorWarning: The input looks more like a filename than markup. You may want to open this file and pass the filehandle into Beautiful Soup.\n",
      "  warnings.warn(\n",
      "INFO:training-set-builder:processing answer 3\n",
      "INFO:training-set-builder:processing question 6\n",
      "INFO:training-set-builder:processing answer 1\n",
      "INFO:training-set-builder:processing answer 2\n",
      "INFO:training-set-builder:processing answer 3\n",
      "INFO:training-set-builder:writing batch to file\n",
      "INFO:training-set-builder:processing answer 4\n",
      "INFO:training-set-builder:processing answer 5\n",
      "INFO:training-set-builder:processing answer 6\n",
      "INFO:training-set-builder:processing answer 7\n",
      "INFO:training-set-builder:processing answer 8\n",
      "INFO:training-set-builder:processing question 7\n",
      "INFO:training-set-builder:processing answer 1\n",
      "INFO:training-set-builder:processing answer 2\n",
      "INFO:training-set-builder:processing answer 3\n",
      "C:\\Users\\liamb\\Documents\\graph4stackoverflow\\venv\\lib\\site-packages\\bs4\\__init__.py:435: MarkupResemblesLocatorWarning: The input looks more like a filename than markup. You may want to open this file and pass the filehandle into Beautiful Soup.\n",
      "  warnings.warn(\n",
      "INFO:training-set-builder:processing answer 4\n",
      "INFO:training-set-builder:processing answer 5\n",
      "C:\\Users\\liamb\\Documents\\graph4stackoverflow\\venv\\lib\\site-packages\\bs4\\__init__.py:435: MarkupResemblesLocatorWarning: The input looks more like a filename than markup. You may want to open this file and pass the filehandle into Beautiful Soup.\n",
      "  warnings.warn(\n",
      "INFO:training-set-builder:writing batch to file\n",
      "INFO:training-set-builder:processing answer 6\n",
      "C:\\Users\\liamb\\Documents\\graph4stackoverflow\\venv\\lib\\site-packages\\bs4\\__init__.py:435: MarkupResemblesLocatorWarning: The input looks more like a filename than markup. You may want to open this file and pass the filehandle into Beautiful Soup.\n",
      "  warnings.warn(\n",
      "INFO:training-set-builder:processing answer 7\n",
      "INFO:training-set-builder:processing answer 8\n",
      "INFO:training-set-builder:processing question 8\n",
      "INFO:training-set-builder:processing answer 1\n",
      "INFO:training-set-builder:processing answer 2\n",
      "INFO:training-set-builder:processing answer 3\n",
      "INFO:training-set-builder:processing answer 4\n",
      "INFO:training-set-builder:processing answer 5\n",
      "INFO:training-set-builder:processing answer 6\n",
      "INFO:training-set-builder:processing question 9\n",
      "INFO:training-set-builder:processing answer 1\n",
      "INFO:training-set-builder:writing batch to file\n",
      "INFO:training-set-builder:processing answer 2\n",
      "INFO:training-set-builder:processing answer 3\n",
      "C:\\Users\\liamb\\Documents\\graph4stackoverflow\\venv\\lib\\site-packages\\bs4\\__init__.py:435: MarkupResemblesLocatorWarning: The input looks more like a filename than markup. You may want to open this file and pass the filehandle into Beautiful Soup.\n",
      "  warnings.warn(\n",
      "INFO:training-set-builder:processing answer 4\n",
      "INFO:training-set-builder:processing answer 5\n",
      "INFO:training-set-builder:processing answer 6\n",
      "INFO:training-set-builder:processing answer 7\n",
      "C:\\Users\\liamb\\Documents\\graph4stackoverflow\\venv\\lib\\site-packages\\bs4\\__init__.py:435: MarkupResemblesLocatorWarning: The input looks more like a filename than markup. You may want to open this file and pass the filehandle into Beautiful Soup.\n",
      "  warnings.warn(\n",
      "INFO:training-set-builder:processing answer 8\n",
      "C:\\Users\\liamb\\Documents\\graph4stackoverflow\\venv\\lib\\site-packages\\bs4\\__init__.py:435: MarkupResemblesLocatorWarning: The input looks more like a filename than markup. You may want to open this file and pass the filehandle into Beautiful Soup.\n",
      "  warnings.warn(\n",
      "INFO:training-set-builder:processing answer 9\n",
      "INFO:training-set-builder:processing answer 10\n",
      "INFO:training-set-builder:processing answer 11\n",
      "C:\\Users\\liamb\\Documents\\graph4stackoverflow\\venv\\lib\\site-packages\\bs4\\__init__.py:435: MarkupResemblesLocatorWarning: The input looks more like a filename than markup. You may want to open this file and pass the filehandle into Beautiful Soup.\n",
      "  warnings.warn(\n",
      "INFO:training-set-builder:writing batch to file\n",
      "INFO:training-set-builder:processing answer 12\n",
      "INFO:training-set-builder:processing answer 13\n",
      "C:\\Users\\liamb\\Documents\\graph4stackoverflow\\venv\\lib\\site-packages\\bs4\\__init__.py:435: MarkupResemblesLocatorWarning: The input looks more like a filename than markup. You may want to open this file and pass the filehandle into Beautiful Soup.\n",
      "  warnings.warn(\n",
      "INFO:training-set-builder:processing answer 14\n",
      "INFO:training-set-builder:processing question 10\n",
      "INFO:training-set-builder:processing answer 1\n",
      "INFO:training-set-builder:processing answer 2\n",
      "INFO:training-set-builder:processing answer 3\n",
      "C:\\Users\\liamb\\Documents\\graph4stackoverflow\\venv\\lib\\site-packages\\bs4\\__init__.py:435: MarkupResemblesLocatorWarning: The input looks more like a filename than markup. You may want to open this file and pass the filehandle into Beautiful Soup.\n",
      "  warnings.warn(\n",
      "INFO:training-set-builder:processing answer 4\n",
      "INFO:training-set-builder:processing answer 5\n",
      "C:\\Users\\liamb\\Documents\\graph4stackoverflow\\venv\\lib\\site-packages\\bs4\\__init__.py:435: MarkupResemblesLocatorWarning: The input looks more like a filename than markup. You may want to open this file and pass the filehandle into Beautiful Soup.\n",
      "  warnings.warn(\n",
      "INFO:training-set-builder:processing answer 6\n",
      "C:\\Users\\liamb\\Documents\\graph4stackoverflow\\venv\\lib\\site-packages\\bs4\\__init__.py:435: MarkupResemblesLocatorWarning: The input looks more like a filename than markup. You may want to open this file and pass the filehandle into Beautiful Soup.\n",
      "  warnings.warn(\n",
      "INFO:training-set-builder:processing answer 7\n",
      "Token indices sequence length is longer than the specified maximum sequence length for this model (879 > 512). Running this sequence through the model will result in indexing errors\n",
      "C:\\Users\\liamb\\Documents\\graph4stackoverflow\\venv\\lib\\site-packages\\bs4\\__init__.py:435: MarkupResemblesLocatorWarning: The input looks more like a filename than markup. You may want to open this file and pass the filehandle into Beautiful Soup.\n",
      "  warnings.warn(\n",
      "INFO:training-set-builder:writing batch to file\n",
      "INFO:training-set-builder:processing answer 8\n",
      "INFO:training-set-builder:processing answer 9\n",
      "C:\\Users\\liamb\\Documents\\graph4stackoverflow\\venv\\lib\\site-packages\\bs4\\__init__.py:404: MarkupResemblesLocatorWarning: The input looks more like a URL than markup. You may want to use an HTTP client like requests to get the document behind the URL, and feed that document to Beautiful Soup.\n",
      "  warnings.warn(\n",
      "INFO:training-set-builder:processing answer 10\n",
      "C:\\Users\\liamb\\Documents\\graph4stackoverflow\\venv\\lib\\site-packages\\bs4\\__init__.py:435: MarkupResemblesLocatorWarning: The input looks more like a filename than markup. You may want to open this file and pass the filehandle into Beautiful Soup.\n",
      "  warnings.warn(\n",
      "INFO:training-set-builder:processing answer 11\n",
      "INFO:training-set-builder:processing answer 12\n",
      "C:\\Users\\liamb\\Documents\\graph4stackoverflow\\venv\\lib\\site-packages\\bs4\\__init__.py:435: MarkupResemblesLocatorWarning: The input looks more like a filename than markup. You may want to open this file and pass the filehandle into Beautiful Soup.\n",
      "  warnings.warn(\n",
      "INFO:training-set-builder:processing answer 13\n",
      "C:\\Users\\liamb\\Documents\\graph4stackoverflow\\venv\\lib\\site-packages\\bs4\\__init__.py:435: MarkupResemblesLocatorWarning: The input looks more like a filename than markup. You may want to open this file and pass the filehandle into Beautiful Soup.\n",
      "  warnings.warn(\n",
      "INFO:training-set-builder:processing answer 14\n",
      "INFO:training-set-builder:processing answer 15\n",
      "INFO:training-set-builder:processing answer 16\n",
      "INFO:training-set-builder:processing answer 17\n",
      "C:\\Users\\liamb\\Documents\\graph4stackoverflow\\venv\\lib\\site-packages\\bs4\\__init__.py:435: MarkupResemblesLocatorWarning: The input looks more like a filename than markup. You may want to open this file and pass the filehandle into Beautiful Soup.\n",
      "  warnings.warn(\n",
      "INFO:training-set-builder:writing batch to file\n",
      "INFO:training-set-builder:processing answer 18\n",
      "INFO:training-set-builder:processing answer 19\n",
      "INFO:training-set-builder:processing question 11\n",
      "INFO:training-set-builder:processing answer 1\n",
      "INFO:training-set-builder:processing answer 2\n",
      "C:\\Users\\liamb\\Documents\\graph4stackoverflow\\venv\\lib\\site-packages\\bs4\\__init__.py:435: MarkupResemblesLocatorWarning: The input looks more like a filename than markup. You may want to open this file and pass the filehandle into Beautiful Soup.\n",
      "  warnings.warn(\n",
      "INFO:training-set-builder:processing answer 3\n",
      "INFO:training-set-builder:processing answer 4\n",
      "INFO:training-set-builder:processing answer 5\n",
      "C:\\Users\\liamb\\Documents\\graph4stackoverflow\\venv\\lib\\site-packages\\bs4\\__init__.py:435: MarkupResemblesLocatorWarning: The input looks more like a filename than markup. You may want to open this file and pass the filehandle into Beautiful Soup.\n",
      "  warnings.warn(\n",
      "INFO:training-set-builder:processing answer 6\n",
      "C:\\Users\\liamb\\Documents\\graph4stackoverflow\\venv\\lib\\site-packages\\bs4\\__init__.py:435: MarkupResemblesLocatorWarning: The input looks more like a filename than markup. You may want to open this file and pass the filehandle into Beautiful Soup.\n",
      "  warnings.warn(\n",
      "INFO:training-set-builder:processing answer 7\n",
      "C:\\Users\\liamb\\Documents\\graph4stackoverflow\\venv\\lib\\site-packages\\bs4\\__init__.py:435: MarkupResemblesLocatorWarning: The input looks more like a filename than markup. You may want to open this file and pass the filehandle into Beautiful Soup.\n",
      "  warnings.warn(\n",
      "INFO:training-set-builder:processing question 12\n",
      "INFO:training-set-builder:processing answer 1\n",
      "INFO:training-set-builder:writing batch to file\n",
      "INFO:training-set-builder:processing answer 2\n",
      "INFO:training-set-builder:processing answer 3\n",
      "INFO:training-set-builder:processing answer 4\n",
      "INFO:training-set-builder:processing answer 5\n",
      "C:\\Users\\liamb\\Documents\\graph4stackoverflow\\venv\\lib\\site-packages\\bs4\\__init__.py:435: MarkupResemblesLocatorWarning: The input looks more like a filename than markup. You may want to open this file and pass the filehandle into Beautiful Soup.\n",
      "  warnings.warn(\n",
      "INFO:training-set-builder:processing answer 6\n",
      "INFO:training-set-builder:processing answer 7\n",
      "C:\\Users\\liamb\\Documents\\graph4stackoverflow\\venv\\lib\\site-packages\\bs4\\__init__.py:435: MarkupResemblesLocatorWarning: The input looks more like a filename than markup. You may want to open this file and pass the filehandle into Beautiful Soup.\n",
      "  warnings.warn(\n",
      "INFO:training-set-builder:processing answer 8\n"
     ]
    }
   ],
   "source": [
    "import torch\n",
    "from datetime import date\n",
    "from post_embedding_builder import PostEmbedding\n",
    "from static_graph_construction import StaticGraphConstruction\n",
    "import pickle\n",
    "\n",
    "post_embedding_builder = PostEmbedding()\n",
    "\n",
    "FILE_BATCH_SIZE = 10\n",
    "\n",
    "data = {\"graphs\":[], \"questions\": [], \"answers\": [], \"labels\": []}\n",
    "\n",
    "question_c = 1\n",
    "answer_c = 1\n",
    "\n",
    "for row in valid_questions.itertuples():\n",
    "    log.info(f\"processing question {question_c}\")\n",
    "    # Build Question embedding\n",
    "    question_word_emb, question_code_emb, _ = post_embedding_builder(\n",
    "        row.question_body,\n",
    "        use_bert=True,\n",
    "        title=row.question_title\n",
    "    )\n",
    "    question_emb = torch.concat((question_word_emb, question_code_emb))\n",
    "    # Build Answer embeddings\n",
    "    for _, answer_body, answer_user_id, score in fetch_answers_for_question(row.post_id, db).itertuples():\n",
    "        log.info(f\"processing answer {answer_c}\")\n",
    "        answer_word_emb, answer_code_emb, _  = post_embedding_builder(\n",
    "            answer_body, use_bert=True\n",
    "        )\n",
    "        answer_emb = torch.concat((answer_word_emb, answer_code_emb))\n",
    "        # Construct User Graph\n",
    "        ug = construct_graph(answer_user_id, db)\n",
    "\n",
    "        data[\"graphs\"].append(ug)\n",
    "        data[\"questions\"].append(question_emb)\n",
    "        data[\"answers\"].append(answer_emb)\n",
    "        data[\"labels\"].append(1 if score > 0 else 0)\n",
    "\n",
    "        # Dataset will grow larger than memory, so batch in pickle files\n",
    "        with open(f\"../data/raw/batch{date.today():%m-%d-%Y}.pkl\", \"wb\") as f:\n",
    "            pickle.dump(data, f)\n",
    "\n",
    "            data = {\"graphs\":[], \"questions\": [], \"answers\": [], \"labels\": []}\n",
    "\n",
    "        answer_c += 1\n",
    "\n",
    "    question_c += 1\n",
    "    answer_c = 1\n"
   ],
   "metadata": {
    "collapsed": false
   }
  },
  {
   "cell_type": "code",
   "execution_count": 10,
   "outputs": [
    {
     "ename": "NameError",
     "evalue": "name 'X_raw' is not defined",
     "output_type": "error",
     "traceback": [
      "\u001B[1;31m---------------------------------------------------------------------------\u001B[0m",
      "\u001B[1;31mNameError\u001B[0m                                 Traceback (most recent call last)",
      "Cell \u001B[1;32mIn [10], line 1\u001B[0m\n\u001B[1;32m----> 1\u001B[0m \u001B[43mX_raw\u001B[49m[\u001B[38;5;241m0\u001B[39m]\n",
      "\u001B[1;31mNameError\u001B[0m: name 'X_raw' is not defined"
     ]
    }
   ],
   "source": [
    "X_raw[0]"
   ],
   "metadata": {
    "collapsed": false
   }
  },
  {
   "cell_type": "code",
   "execution_count": null,
   "outputs": [],
   "source": [
    "X_raw[10]"
   ],
   "metadata": {
    "collapsed": false
   }
  },
  {
   "cell_type": "code",
   "execution_count": null,
   "outputs": [],
   "source": [],
   "metadata": {
    "collapsed": false
   }
  }
 ],
 "metadata": {
  "kernelspec": {
   "display_name": "Python 3",
   "language": "python",
   "name": "python3"
  },
  "language_info": {
   "codemirror_mode": {
    "name": "ipython",
    "version": 2
   },
   "file_extension": ".py",
   "mimetype": "text/x-python",
   "name": "python",
   "nbconvert_exporter": "python",
   "pygments_lexer": "ipython2",
   "version": "2.7.6"
  }
 },
 "nbformat": 4,
 "nbformat_minor": 0
}
