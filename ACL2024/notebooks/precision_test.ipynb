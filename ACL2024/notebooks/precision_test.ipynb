{
 "cells": [
  {
   "cell_type": "code",
   "execution_count": 2,
   "outputs": [],
   "source": [
    "import os\n",
    "\n",
    "from ACL2024.modules.dataset.user_graph_dataset import UserGraphDataset\n",
    "from ACL2024.modules.dataset.compile_dataset import UserGraphDatasetInMemory\n",
    "from ACL2024.modules.dataset.compile_dataset import fetch_question_ids\n",
    "from ACL2024.modules.util.get_root_dir import get_project_root"
   ],
   "metadata": {
    "collapsed": false
   }
  },
  {
   "cell_type": "code",
   "execution_count": 3,
   "outputs": [],
   "source": [
    "ROOT = os.path.join(get_project_root(), 'data')\n",
    "MODEL = os.path.join(get_project_root(), 'modules', 'models', 'out', 'MODEL_OUT.pt')\n",
    "DB_ADDRESS = os.path.join(get_project_root(), 'data', 'raw', 'g4so.db')"
   ],
   "metadata": {
    "collapsed": false
   }
  },
  {
   "cell_type": "code",
   "execution_count": 4,
   "outputs": [],
   "source": [
    "import sqlite3\n",
    "\n",
    "db = sqlite3.connect(DB_ADDRESS)"
   ],
   "metadata": {
    "collapsed": false
   }
  },
  {
   "cell_type": "code",
   "execution_count": 5,
   "outputs": [
    {
     "name": "stdout",
     "output_type": "stream",
     "text": [
      "2023-08-27 20:31:32 INFO     MODEL: GAT\n"
     ]
    },
    {
     "data": {
      "text/plain": "HeteroGAT(\n  (convs): ModuleList(\n    (0): HeteroConv(num_relations=10)\n    (1): HeteroConv(num_relations=10)\n  )\n  (lin1): Linear(4992, 64, bias=True)\n  (lin2): Linear(64, 2, bias=True)\n  (softmax): Softmax(dim=-1)\n)"
     },
     "execution_count": 5,
     "metadata": {},
     "output_type": "execute_result"
    }
   ],
   "source": [
    "from ACL2024.modules.models.GNNs.hetero_GAT import HeteroGAT\n",
    "import torch\n",
    "# Load model (EXP 1)\n",
    "model = HeteroGAT(out_channels=2, num_layers=2, hidden_channels=64, dropout=0.3, vertex_types=['question', 'answer', 'comment', 'tag', 'module'], device=torch.device(\"cuda\" if torch.cuda.is_available() else \"cpu\"))\n",
    "model.load_state_dict(torch.load(MODEL, map_location=torch.device('cpu')), strict=False)\n",
    "model.eval()"
   ],
   "metadata": {
    "collapsed": false
   }
  },
  {
   "cell_type": "code",
   "execution_count": 6,
   "outputs": [
    {
     "data": {
      "text/plain": "5956"
     },
     "execution_count": 6,
     "metadata": {},
     "output_type": "execute_result"
    }
   ],
   "source": [
    "question_ids = fetch_question_ids(ROOT)\n",
    "train_ids = list(question_ids)[:int(len(question_ids) * 0.8)]\n",
    "test_ids = [x for x in question_ids if x not in train_ids]\n",
    "len(train_ids)"
   ],
   "metadata": {
    "collapsed": false
   }
  },
  {
   "cell_type": "code",
   "execution_count": 7,
   "outputs": [],
   "source": [
    "import torch\n",
    "import re\n",
    "import os\n",
    "\n",
    "\n",
    "def fetch_answer_files(question_id: int):\n",
    "    for f in os.listdir(os.path.join(ROOT, 'processed')):\n",
    "        question_id_search = re.search(r\"id_(\\d+)\", f)\n",
    "        if question_id_search:\n",
    "            if int(question_id_search.group(1)) == question_id:\n",
    "                yield torch.load(os.path.join(ROOT, 'processed', f))\n"
   ],
   "metadata": {
    "collapsed": false
   }
  },
  {
   "cell_type": "code",
   "execution_count": 30,
   "outputs": [
    {
     "name": "stdout",
     "output_type": "stream",
     "text": [
      "Question ID: 2319838\n",
      "Question ID: 2090464\n",
      "Question ID: 648675\n",
      "Question ID: 1893867\n",
      "Question ID: 2090479\n",
      "Question ID: 2483696\n",
      "Question ID: 255476\n",
      "Question ID: 189943\n",
      "Question ID: 1697273\n",
      "Question ID: 1828345\n",
      "Question ID: 321024\n",
      "Question ID: 714242\n",
      "Question ID: 419334\n",
      "Question ID: 452104\n",
      "Question ID: 976395\n",
      "Question ID: 1762831\n",
      "Question ID: 1271320\n",
      "Question ID: 157211\n",
      "Question ID: 1828379\n",
      "Question ID: 222752\n",
      "Question ID: 1271337\n",
      "Question ID: 550446\n",
      "Question ID: 1500718\n",
      "Question ID: 583216\n",
      "Question ID: 2319928\n",
      "Question ID: 1566266\n",
      "Question ID: 190010\n",
      "Question ID: 878143\n",
      "Question ID: 2090564\n",
      "Question ID: 550474\n",
      "Question ID: 910930\n",
      "Question ID: 1271378\n",
      "Question ID: 2090582\n",
      "Question ID: 1369697\n",
      "Question ID: 1205863\n",
      "Question ID: 2123369\n",
      "Question ID: 1631855\n",
      "Question ID: 2582138\n",
      "Question ID: 222877\n",
      "Question ID: 91810\n",
      "Question ID: 157359\n",
      "Question ID: 452283\n",
      "Question ID: 976577\n",
      "Question ID: 386753\n",
      "Question ID: 452300\n",
      "Question ID: 452305\n",
      "Question ID: 2483924\n",
      "Question ID: 779989\n",
      "Question ID: 255700\n",
      "Question ID: 976599\n",
      "Question ID: 1697501\n",
      "Question ID: 2352870\n",
      "Question ID: 714475\n",
      "Question ID: 812781\n",
      "Question ID: 157424\n",
      "Question ID: 354038\n",
      "Question ID: 616187\n",
      "Question ID: 550653\n",
      "Question ID: 976639\n",
      "Question ID: 1435415\n",
      "Question ID: 321304\n",
      "Question ID: 780057\n",
      "Question ID: 288546\n",
      "Question ID: 517923\n",
      "Question ID: 1697571\n",
      "Question ID: 2189098\n",
      "Question ID: 1730351\n",
      "Question ID: 354097\n",
      "Question ID: 2123585\n",
      "Question ID: 2090820\n",
      "Question ID: 649029\n",
      "Question ID: 812870\n",
      "Question ID: 1664840\n",
      "Question ID: 1271631\n",
      "Question ID: 1861457\n",
      "Question ID: 517970\n",
      "Question ID: 2320210\n",
      "Question ID: 2090840\n",
      "Question ID: 2385762\n",
      "Question ID: 2254694\n",
      "Question ID: 812911\n",
      "Question ID: 1107826\n",
      "Question ID: 1894269\n",
      "Question ID: 1697663\n",
      "Question ID: 1959811\n",
      "Question ID: 518021\n",
      "Question ID: 583557\n",
      "Question ID: 2025353\n",
      "Question ID: 2418570\n",
      "Question ID: 1107858\n",
      "Question ID: 1107865\n",
      "Question ID: 976796\n",
      "Question ID: 1730466\n",
      "Question ID: 1632170\n",
      "Question ID: 1861555\n",
      "Question ID: 288695\n",
      "Question ID: 2451386\n",
      "Question ID: 2484156\n",
      "Question ID: 1501118\n",
      "Question ID: 2385855\n",
      "Question ID: 1796053\n",
      "Question ID: 1042391\n",
      "Question ID: 681953\n",
      "Question ID: 26595\n",
      "Question ID: 1632234\n",
      "Question ID: 976882\n",
      "Question ID: 2549746\n",
      "Question ID: 616440\n",
      "Question ID: 1239035\n",
      "Question ID: 452610\n",
      "Question ID: 1959944\n",
      "Question ID: 256021\n",
      "Question ID: 1009686\n",
      "Question ID: 616480\n",
      "Question ID: 2418722\n",
      "Question ID: 1730600\n",
      "Question ID: 2025513\n",
      "Question ID: 321582\n",
      "Question ID: 1632304\n",
      "Question ID: 1402933\n",
      "Question ID: 845887\n",
      "Question ID: 419908\n",
      "Question ID: 92230\n",
      "Question ID: 2189393\n",
      "Question ID: 1271892\n",
      "Question ID: 1796180\n",
      "Question ID: 1730649\n",
      "Question ID: 125019\n",
      "Question ID: 780390\n",
      "Question ID: 1337446\n",
      "Question ID: 1075304\n",
      "Question ID: 125034\n",
      "Question ID: 2222189\n",
      "Question ID: 354421\n",
      "Question ID: 1534070\n",
      "Question ID: 551038\n",
      "Question ID: 714881\n",
      "Question ID: 2517129\n",
      "Question ID: 2123925\n",
      "Question ID: 1566878\n",
      "Question ID: 1042596\n",
      "Question ID: 1009831\n",
      "Question ID: 1140908\n",
      "Question ID: 583857\n",
      "Question ID: 2549939\n",
      "Question ID: 1894591\n",
      "Question ID: 1009860\n",
      "Question ID: 616645\n",
      "Question ID: 1894598\n",
      "Question ID: 2484420\n",
      "Question ID: 288968\n",
      "Question ID: 1861836\n",
      "Question ID: 944336\n",
      "Question ID: 1566936\n",
      "Question ID: 1468634\n",
      "Question ID: 1763549\n",
      "Question ID: 1140958\n",
      "Question ID: 2484445\n",
      "Question ID: 256222\n",
      "Question ID: 1665260\n",
      "Question ID: 157938\n",
      "Question ID: 1698036\n",
      "Question ID: 59648\n",
      "Question ID: 1534210\n",
      "Question ID: 321795\n",
      "Question ID: 747781\n",
      "Question ID: 1173767\n",
      "Question ID: 2353416\n",
      "Question ID: 1599754\n",
      "Question ID: 747793\n",
      "Question ID: 2582803\n",
      "Question ID: 2451732\n",
      "Question ID: 92438\n",
      "Question ID: 2189600\n",
      "Question ID: 1173798\n",
      "Question ID: 911655\n",
      "Question ID: 125222\n",
      "Question ID: 2484527\n",
      "Question ID: 2058544\n",
      "Question ID: 583986\n",
      "Question ID: 1894711\n",
      "Question ID: 911672\n",
      "Question ID: 551227\n",
      "Question ID: 846139\n",
      "Question ID: 1042751\n",
      "Question ID: 2451776\n",
      "Question ID: 223559\n",
      "Question ID: 2255177\n",
      "Question ID: 1272138\n",
      "Question ID: 649549\n",
      "Question ID: 2582863\n",
      "Question ID: 1042778\n",
      "Question ID: 2156892\n",
      "Question ID: 878943\n",
      "Question ID: 2484578\n",
      "Question ID: 1993064\n",
      "Question ID: 452969\n",
      "Question ID: 1468780\n",
      "Question ID: 1141101\n",
      "Question ID: 2451821\n",
      "Precision@1: 0.0\n"
     ]
    }
   ],
   "source": [
    "from ACL2024.modules.util.db_query import fetch_answers_for_question\n",
    "from torch_geometric.loader import DataLoader\n",
    "from sklearn.metrics import ndcg_score\n",
    "\n",
    "\n",
    "for _ in range(1):\n",
    "    results = []\n",
    "\n",
    "    for i in test_ids[:200]:\n",
    "        graph_files = list(fetch_answer_files(i))\n",
    "        dataloader = DataLoader(graph_files, batch_size=1, shuffle=False)\n",
    "        print(f'Question ID: {i}')\n",
    "        for i, data in enumerate(dataloader):\n",
    "            # For each answer, predict whether it is the accepted answer\n",
    "            post_emb = torch.cat([data.question_emb, data.answer_emb], dim=1)\n",
    "\n",
    "            out = model(data.x_dict, data.edge_index_dict, data.batch_dict, post_emb)  # Perform a single forward pass.\n",
    "            results.append((out[0][1].item(), data.score.item()))\n",
    "\n",
    "\n",
    "    CORRECT = 0\n",
    "    COUNT = 0\n",
    "\n",
    "    if len(results) > 1:\n",
    "\n",
    "        # calculate precision@1\n",
    "        results.sort(key=lambda x: x[0], reverse=True)\n",
    "\n",
    "        if results[0][1] >= max([x[1] for x in results[1:]]):\n",
    "            CORRECT += 1\n",
    "\n",
    "        COUNT += 1\n",
    "\n",
    "    # Precicison@1\n",
    "    print(f'Precision@1: {CORRECT / COUNT}')\n",
    "\n",
    "# TODO: Because accepted answer indicator is wrong, we can see which answer ids are accepted and which are not from the database\n"
   ],
   "metadata": {
    "collapsed": false
   }
  },
  {
   "cell_type": "code",
   "execution_count": 9,
   "outputs": [
    {
     "data": {
      "text/plain": "'\\nDUMPING GROUND\\n'"
     },
     "execution_count": 9,
     "metadata": {},
     "output_type": "execute_result"
    }
   ],
   "source": [
    "\"\"\"\n",
    "DUMPING GROUND\n",
    "\"\"\"\n",
    "results = []\n",
    "for answer, graph in zip(fetch_answers_for_question(i, db).itertuples(), dataloader):\n",
    "\n",
    "    post_emb = torch.cat([graph.question_emb, graph.answer_emb], dim=1)\n",
    "\n",
    "    out = model(graph.x_dict, graph.edge_index_dict, graph.batch_dict, post_emb)  # Perform a single forward pass.\n",
    "    results.append((out[0][1].item(), answer.Score))\n",
    "if len(results) > 1:\n",
    "    # calculate ndcg\n",
    "    results.sort(key=lambda x: x[0], reverse=True)\n",
    "    NDCGS.append(ndcg_score([[x[1] for x in results]], [[x[0] for x in results]], k=5))\n",
    "\n",
    "    # calculate precision@1\n",
    "    results.sort(key=lambda x: x[0], reverse=True)\n",
    "    if results[0][1] >= max([x[1] for x in results[1:]]):\n",
    "        #print('Correct')\n",
    "        CORRECT += 1\n",
    "    else:\n",
    "        #print('Incorrect')\n",
    "        pass\n",
    "    COUNT += 1"
   ],
   "metadata": {
    "collapsed": false
   }
  }
 ],
 "metadata": {
  "kernelspec": {
   "display_name": "Python 3",
   "language": "python",
   "name": "python3"
  },
  "language_info": {
   "codemirror_mode": {
    "name": "ipython",
    "version": 2
   },
   "file_extension": ".py",
   "mimetype": "text/x-python",
   "name": "python",
   "nbconvert_exporter": "python",
   "pygments_lexer": "ipython2",
   "version": "2.7.6"
  }
 },
 "nbformat": 4,
 "nbformat_minor": 0
}
