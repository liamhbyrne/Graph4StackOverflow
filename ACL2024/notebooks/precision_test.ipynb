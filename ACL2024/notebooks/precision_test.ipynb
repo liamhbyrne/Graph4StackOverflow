{
 "cells": [
  {
   "cell_type": "code",
   "execution_count": 1,
   "outputs": [],
   "source": [
    "import os\n",
    "\n",
    "from ACL2024.modules.dataset.user_graph_dataset import UserGraphDataset\n",
    "from ACL2024.modules.dataset.compile_dataset import UserGraphDatasetInMemory\n",
    "from ACL2024.modules.dataset.compile_dataset import fetch_question_ids\n",
    "from ACL2024.modules.util.get_root_dir import get_project_root"
   ],
   "metadata": {
    "collapsed": false
   }
  },
  {
   "cell_type": "code",
   "execution_count": 2,
   "outputs": [],
   "source": [
    "ROOT = os.path.join(get_project_root(), 'data_tmp')\n",
    "MODEL = os.path.join(get_project_root(), 'modules', 'models', 'out', 'UPVOTE_MODEL_BAD_METADATA.pt')\n",
    "DB_ADDRESS = os.path.join(get_project_root(), 'data', 'raw', 'g4so.db')"
   ],
   "metadata": {
    "collapsed": false
   }
  },
  {
   "cell_type": "code",
   "execution_count": 3,
   "outputs": [],
   "source": [
    "import sqlite3\n",
    "\n",
    "db = sqlite3.connect(DB_ADDRESS)"
   ],
   "metadata": {
    "collapsed": false
   }
  },
  {
   "cell_type": "code",
   "execution_count": 6,
   "outputs": [
    {
     "name": "stdout",
     "output_type": "stream",
     "text": [
      "2023-10-31 22:33:54 INFO     MODEL: GraphSAGE\n"
     ]
    },
    {
     "data": {
      "text/plain": "HeteroGraphSAGE(\n  (convs): ModuleList(\n    (0): HeteroConv(num_relations=10)\n    (1): HeteroConv(num_relations=10)\n    (2): HeteroConv(num_relations=10)\n  )\n  (lin1): Linear(3716, 128, bias=True)\n  (lin2): Linear(128, 128, bias=True)\n  (lin3): Linear(128, 2, bias=True)\n  (softmax): Softmax(dim=-1)\n)"
     },
     "execution_count": 6,
     "metadata": {},
     "output_type": "execute_result"
    }
   ],
   "source": [
    "from ACL2024.modules.models.GNNs.hetero_GraphSAGE import HeteroGraphSAGE\n",
    "from ACL2024.modules.models.GNNs.hetero_GAT import HeteroGAT\n",
    "import torch\n",
    "# Load model (EXP 1)\n",
    "model = HeteroGraphSAGE(out_channels=2, num_layers=3, hidden_channels=128, dropout=0.3, vertex_types=['question', 'answer', 'comment', 'tag', 'module'], device=torch.device(\"cuda\" if torch.cuda.is_available() else \"cpu\"))\n",
    "model.load_state_dict(torch.load(MODEL, map_location=torch.device('cpu')), strict=False)\n",
    "model.eval()"
   ],
   "metadata": {
    "collapsed": false
   }
  },
  {
   "cell_type": "code",
   "execution_count": null,
   "outputs": [],
   "source": [
    "question_ids = fetch_question_ids(ROOT)\n",
    "train_ids = list(question_ids)[:int(len(question_ids) * 0.8)]\n",
    "test_ids = [x for x in question_ids if x not in train_ids]\n",
    "len(train_ids)"
   ],
   "metadata": {
    "collapsed": false
   }
  },
  {
   "cell_type": "code",
   "execution_count": null,
   "outputs": [],
   "source": [
    "import torch\n",
    "import re\n",
    "import os\n",
    "\n",
    "\n",
    "def fetch_answer_files(question_id: int):\n",
    "    for f in os.listdir(os.path.join(ROOT, 'processed')):\n",
    "        question_id_search = re.search(r\"id_(\\d+)\", f)\n",
    "        if question_id_search:\n",
    "            if int(question_id_search.group(1)) == question_id:\n",
    "                yield torch.load(os.path.join(ROOT, 'processed', f))\n"
   ],
   "metadata": {
    "collapsed": false
   }
  },
  {
   "cell_type": "code",
   "execution_count": null,
   "outputs": [],
   "source": [
    "from ACL2024.modules.util.db_query import fetch_answers_for_question\n",
    "from torch_geometric.loader import DataLoader\n",
    "from sklearn.metrics import ndcg_score\n",
    "\n",
    "\n",
    "for _ in range(1):\n",
    "    CORRECT = 0\n",
    "    COUNT = 0\n",
    "\n",
    "    for i in test_ids[:200]:\n",
    "        results = []\n",
    "        accepted_answer = None\n",
    "\n",
    "        graph_files = list(fetch_answer_files(i))\n",
    "        dataloader = DataLoader(graph_files, batch_size=1, shuffle=False)\n",
    "        print(f'Question ID: {i}')\n",
    "        for i, data in enumerate(dataloader):\n",
    "            if data.accepted:\n",
    "                accepted_answer = i\n",
    "\n",
    "            # For each answer, predict whether it is the accepted answer\n",
    "            post_emb = torch.cat([data.question_emb, data.answer_emb], dim=1)\n",
    "\n",
    "            out = model(data.x_dict, data.edge_index_dict, data.batch_dict, post_emb, None, None, None)  # Perform a single forward pass.\n",
    "            results.append((i, out[0][1].item()))\n",
    "\n",
    "\n",
    "        if len(results) > 1 and accepted_answer is not None:\n",
    "\n",
    "            # calculate precision@1\n",
    "            results.sort(key=lambda x: x[1], reverse=True)\n",
    "\n",
    "            pred_index, pred_confidence = results[0]\n",
    "            if pred_index == accepted_answer:\n",
    "                CORRECT += 1\n",
    "\n",
    "            print(results, accepted_answer)\n",
    "\n",
    "            COUNT += 1\n",
    "\n",
    "    # Precicison@1\n",
    "    print(f'Precision@1: {CORRECT / COUNT}')\n",
    "\n",
    "# TODO: Because accepted answer indicator is wrong, we can see which answer ids are accepted and which are not from the database\n"
   ],
   "metadata": {
    "collapsed": false
   }
  },
  {
   "cell_type": "code",
   "execution_count": 8,
   "outputs": [],
   "source": [
    "\"\"\"\n",
    "DUMPING GROUND\n",
    "\"\"\"\n",
    "results = []\n",
    "for answer, graph in zip(fetch_answers_for_question(i, db).itertuples(), dataloader):\n",
    "\n",
    "    post_emb = torch.cat([graph.question_emb, graph.answer_emb], dim=1)\n",
    "\n",
    "    out = model(graph.x_dict, graph.edge_index_dict, graph.batch_dict, post_emb)  # Perform a single forward pass.\n",
    "    results.append((out[0][1].item(), answer.Score))\n",
    "if len(results) > 1:\n",
    "    # calculate ndcg\n",
    "    results.sort(key=lambda x: x[0], reverse=True)\n",
    "    NDCGS.append(ndcg_score([[x[1] for x in results]], [[x[0] for x in results]], k=5))\n",
    "\n",
    "    # calculate precision@1\n",
    "    results.sort(key=lambda x: x[0], reverse=True)\n",
    "    if results[0][1] >= max([x[1] for x in results[1:]]):\n",
    "        #print('Correct')\n",
    "        CORRECT += 1\n",
    "    else:\n",
    "        #print('Incorrect')\n",
    "        pass\n",
    "    COUNT += 1"
   ],
   "metadata": {
    "collapsed": false
   }
  }
 ],
 "metadata": {
  "kernelspec": {
   "display_name": "Python 3",
   "language": "python",
   "name": "python3"
  },
  "language_info": {
   "codemirror_mode": {
    "name": "ipython",
    "version": 2
   },
   "file_extension": ".py",
   "mimetype": "text/x-python",
   "name": "python",
   "nbconvert_exporter": "python",
   "pygments_lexer": "ipython2",
   "version": "2.7.6"
  }
 },
 "nbformat": 4,
 "nbformat_minor": 0
}
