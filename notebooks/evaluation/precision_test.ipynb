{
 "cells": [
  {
   "cell_type": "code",
   "execution_count": 51,
   "outputs": [],
   "source": [
    "import os\n",
    "\n",
    "from dataset import UserGraphDataset\n",
    "from dataset_in_memory import UserGraphDatasetInMemory\n",
    "from dataset_in_memory import fetch_question_ids"
   ],
   "metadata": {
    "collapsed": false
   }
  },
  {
   "cell_type": "code",
   "execution_count": 52,
   "outputs": [],
   "source": [
    "ROOT = '../data/'\n",
    "MODEL = '../models/SAGE_3l_60e_64h.pt'"
   ],
   "metadata": {
    "collapsed": false
   }
  },
  {
   "cell_type": "code",
   "execution_count": 53,
   "outputs": [
    {
     "data": {
      "text/plain": "HeteroGAT(\n  (convs): ModuleList(\n    (0): HeteroConv(num_relations=10)\n    (1): HeteroConv(num_relations=10)\n  )\n  (lin1): Linear(3392, 64, bias=True)\n  (lin2): Linear(64, 2, bias=True)\n  (softmax): Softmax(dim=-1)\n)"
     },
     "execution_count": 53,
     "metadata": {},
     "output_type": "execute_result"
    }
   ],
   "source": [
    "from hetero_GAT import HeteroGAT\n",
    "import torch\n",
    "# Load model (EXP 1)\n",
    "model = HeteroGAT(out_channels=2, num_layers=2, hidden_channels=64)\n",
    "model.load_state_dict(torch.load(MODEL, map_location=torch.device('cpu')), strict=False)\n",
    "model.eval()"
   ],
   "metadata": {
    "collapsed": false
   }
  },
  {
   "cell_type": "code",
   "execution_count": 54,
   "outputs": [],
   "source": [
    "question_ids = fetch_question_ids(ROOT)\n",
    "train_ids = list(question_ids)[:int(len(question_ids) * 0.8)]\n",
    "test_ids = [x for x in question_ids if x not in train_ids]"
   ],
   "metadata": {
    "collapsed": false
   }
  },
  {
   "cell_type": "code",
   "execution_count": 55,
   "outputs": [
    {
     "name": "stdout",
     "output_type": "stream",
     "text": [
      "2023-04-16 20:08:39 INFO     PostEmbedding instantiated!\n"
     ]
    },
    {
     "name": "stderr",
     "output_type": "stream",
     "text": [
      "Some weights of the model checkpoint at bert-base-uncased were not used when initializing BertModel: ['cls.predictions.transform.dense.bias', 'cls.predictions.bias', 'cls.predictions.decoder.weight', 'cls.predictions.transform.LayerNorm.weight', 'cls.predictions.transform.dense.weight', 'cls.seq_relationship.bias', 'cls.predictions.transform.LayerNorm.bias', 'cls.seq_relationship.weight']\n",
      "- This IS expected if you are initializing BertModel from the checkpoint of a model trained on another task or with another architecture (e.g. initializing a BertForSequenceClassification model from a BertForPreTraining model).\n",
      "- This IS NOT expected if you are initializing BertModel from the checkpoint of a model that you expect to be exactly identical (initializing a BertForSequenceClassification model from a BertForSequenceClassification model).\n"
     ]
    }
   ],
   "source": [
    "# Instantiate the dataset class for access to database\n",
    "ugd = UserGraphDataset(ROOT, db_address='../stackoverflow.db', skip_processing=True)"
   ],
   "metadata": {
    "collapsed": false
   }
  },
  {
   "cell_type": "code",
   "execution_count": 56,
   "outputs": [],
   "source": [
    "import torch\n",
    "import re\n",
    "import os\n",
    "\n",
    "\n",
    "def fetch_answer_files(question_id: int):\n",
    "    for f in os.listdir(os.path.join(ROOT, 'processed')):\n",
    "        question_id_search = re.search(r\"id_(\\d+)\", f)\n",
    "        if question_id_search:\n",
    "            if int(question_id_search.group(1)) == question_id:\n",
    "                yield torch.load(os.path.join(ROOT, 'processed', f))\n"
   ],
   "metadata": {
    "collapsed": false
   }
  },
  {
   "cell_type": "code",
   "execution_count": 57,
   "outputs": [
    {
     "name": "stdout",
     "output_type": "stream",
     "text": [
      "Precision@1: 0.36915077989601386\n"
     ]
    }
   ],
   "source": [
    "from torch_geometric.loader import DataLoader\n",
    "from sklearn.metrics import ndcg_score\n",
    "\n",
    "for _ in range(1):\n",
    "    NDCGS = []\n",
    "    CORRECT = 0\n",
    "    COUNT = 0\n",
    "    for i in test_ids[:600]:\n",
    "        graph_files = list(fetch_answer_files(i))\n",
    "        dataloader = DataLoader(graph_files, batch_size=1, shuffle=False)\n",
    "\n",
    "        results = []\n",
    "        for answer, graph in zip(ugd.fetch_answers_for_question(i).itertuples(), dataloader):\n",
    "\n",
    "            post_emb = torch.cat([graph.question_emb, graph.answer_emb], dim=1)\n",
    "\n",
    "            out = model(graph.x_dict, graph.edge_index_dict, graph.batch_dict, post_emb)  # Perform a single forward pass.\n",
    "            results.append((out[0][1].item(), answer.Score))\n",
    "        if len(results) > 1:\n",
    "            # calculate ndcg\n",
    "            results.sort(key=lambda x: x[0], reverse=True)\n",
    "            NDCGS.append(ndcg_score([[x[1] for x in results]], [[x[0] for x in results]], k=5))\n",
    "\n",
    "            # calculate precision@1\n",
    "            results.sort(key=lambda x: x[0], reverse=True)\n",
    "            if results[0][1] >= max([x[1] for x in results[1:]]):\n",
    "                #print('Correct')\n",
    "                CORRECT += 1\n",
    "            else:\n",
    "                #print('Incorrect')\n",
    "                pass\n",
    "            COUNT += 1\n",
    "    print(f'Precision@1: {CORRECT / COUNT}')\n",
    "\n"
   ],
   "metadata": {
    "collapsed": false
   }
  },
  {
   "cell_type": "code",
   "execution_count": 58,
   "outputs": [
    {
     "data": {
      "text/plain": "0.7361403483124718"
     },
     "execution_count": 58,
     "metadata": {},
     "output_type": "execute_result"
    }
   ],
   "source": [
    "sum(NDCGS)/ len(NDCGS)"
   ],
   "metadata": {
    "collapsed": false
   }
  },
  {
   "cell_type": "code",
   "execution_count": 58,
   "outputs": [],
   "source": [],
   "metadata": {
    "collapsed": false
   }
  },
  {
   "cell_type": "code",
   "execution_count": 59,
   "outputs": [
    {
     "data": {
      "text/plain": "213"
     },
     "execution_count": 59,
     "metadata": {},
     "output_type": "execute_result"
    }
   ],
   "source": [
    "CORRECT"
   ],
   "metadata": {
    "collapsed": false
   }
  },
  {
   "cell_type": "code",
   "execution_count": 60,
   "outputs": [
    {
     "data": {
      "text/plain": "0.36915077989601386"
     },
     "execution_count": 60,
     "metadata": {},
     "output_type": "execute_result"
    }
   ],
   "source": [
    "CORRECT/ COUNT"
   ],
   "metadata": {
    "collapsed": false
   }
  },
  {
   "cell_type": "code",
   "execution_count": 60,
   "outputs": [],
   "source": [],
   "metadata": {
    "collapsed": false
   }
  }
 ],
 "metadata": {
  "kernelspec": {
   "display_name": "Python 3",
   "language": "python",
   "name": "python3"
  },
  "language_info": {
   "codemirror_mode": {
    "name": "ipython",
    "version": 2
   },
   "file_extension": ".py",
   "mimetype": "text/x-python",
   "name": "python",
   "nbconvert_exporter": "python",
   "pygments_lexer": "ipython2",
   "version": "2.7.6"
  }
 },
 "nbformat": 4,
 "nbformat_minor": 0
}
