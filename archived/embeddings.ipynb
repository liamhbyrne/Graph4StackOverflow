{
 "cells": [
  {
   "cell_type": "markdown",
   "source": [
    "# Embeddings\n",
    "Exploration into how different embeddings can be used to represent posts."
   ],
   "metadata": {
    "collapsed": false
   }
  },
  {
   "cell_type": "code",
   "execution_count": 1,
   "outputs": [],
   "source": [
    "import itertools\n",
    "import sqlite3\n",
    "from typing import List\n",
    "import itertools\n",
    "import pandas as pd\n",
    "from typing import *"
   ],
   "metadata": {
    "collapsed": false
   }
  },
  {
   "cell_type": "code",
   "execution_count": 2,
   "outputs": [],
   "source": [
    "# Create your connection.\n",
    "db = sqlite3.connect('../stackoverflow.db')"
   ],
   "metadata": {
    "collapsed": false
   }
  },
  {
   "cell_type": "code",
   "execution_count": 3,
   "outputs": [
    {
     "data": {
      "text/plain": "            TagName    Count\nTagId                       \n1              .net   323469\n2              html  1146245\n3        javascript  2426650\n4               css   771867\n5               php  1445747\n...             ...      ...\n158156  lost-update        1\n158157  chai-subset        1\n158159       at-spi        1\n158160          oro        0\n158161       sigsci        1\n\n[63653 rows x 2 columns]",
      "text/html": "<div>\n<style scoped>\n    .dataframe tbody tr th:only-of-type {\n        vertical-align: middle;\n    }\n\n    .dataframe tbody tr th {\n        vertical-align: top;\n    }\n\n    .dataframe thead th {\n        text-align: right;\n    }\n</style>\n<table border=\"1\" class=\"dataframe\">\n  <thead>\n    <tr style=\"text-align: right;\">\n      <th></th>\n      <th>TagName</th>\n      <th>Count</th>\n    </tr>\n    <tr>\n      <th>TagId</th>\n      <th></th>\n      <th></th>\n    </tr>\n  </thead>\n  <tbody>\n    <tr>\n      <th>1</th>\n      <td>.net</td>\n      <td>323469</td>\n    </tr>\n    <tr>\n      <th>2</th>\n      <td>html</td>\n      <td>1146245</td>\n    </tr>\n    <tr>\n      <th>3</th>\n      <td>javascript</td>\n      <td>2426650</td>\n    </tr>\n    <tr>\n      <th>4</th>\n      <td>css</td>\n      <td>771867</td>\n    </tr>\n    <tr>\n      <th>5</th>\n      <td>php</td>\n      <td>1445747</td>\n    </tr>\n    <tr>\n      <th>...</th>\n      <td>...</td>\n      <td>...</td>\n    </tr>\n    <tr>\n      <th>158156</th>\n      <td>lost-update</td>\n      <td>1</td>\n    </tr>\n    <tr>\n      <th>158157</th>\n      <td>chai-subset</td>\n      <td>1</td>\n    </tr>\n    <tr>\n      <th>158159</th>\n      <td>at-spi</td>\n      <td>1</td>\n    </tr>\n    <tr>\n      <th>158160</th>\n      <td>oro</td>\n      <td>0</td>\n    </tr>\n    <tr>\n      <th>158161</th>\n      <td>sigsci</td>\n      <td>1</td>\n    </tr>\n  </tbody>\n</table>\n<p>63653 rows × 2 columns</p>\n</div>"
     },
     "execution_count": 3,
     "metadata": {},
     "output_type": "execute_result"
    }
   ],
   "source": [
    "tag_df = pd.read_sql_query(\"SELECT * FROM Tag\", db)\n",
    "tag_df.set_index('TagId', inplace=True)\n",
    "tag_df"
   ],
   "metadata": {
    "collapsed": false
   }
  },
  {
   "cell_type": "code",
   "execution_count": 4,
   "outputs": [
    {
     "data": {
      "text/plain": "        PostTypeId  AcceptedAnswerId             CreationDate  Score  \\\nPostId                                                                 \n1                1               7.0  2008-07-31T21:42:52.667    781   \n2                1              31.0  2008-07-31T22:08:08.620    318   \n3                2               NaN  2008-07-31T22:17:57.883    517   \n4                1            1404.0  2008-07-31T23:40:59.743   2161   \n5                1            1248.0  2008-07-31T23:55:37.967   1629   \n...            ...               ...                      ...    ...   \n499996           2               NaN  2009-04-03T02:10:35.270      2   \n499997           2               NaN  2009-04-03T02:10:49.060      1   \n499998           1          799526.0  2009-04-03T02:11:16.237      4   \n499999           2               NaN  2009-04-03T02:14:04.293      5   \n500000           2               NaN  2009-04-03T02:15:39.347      1   \n\n        ViewCount                                               Body  \\\nPostId                                                                 \n1         67914.0  <p>I want to assign the decimal variable &quot...   \n2         23047.0  <p>I have an absolutely positioned <code>div</...   \n3             NaN  <p>An explicit cast to <code>double</code> lik...   \n4        757897.0  <p>Given a <code>DateTime</code> representing ...   \n5        193525.0  <p>Given a specific <code>DateTime</code> valu...   \n...           ...                                                ...   \n499996        NaN  <p>If we can assume that:</p>\\n\\n<ul>\\n<li>the...   \n499997        NaN  <p>Change:</p>\\n\\n<pre><code>for ansSeries in ...   \n499998     3611.0  <p>Here are the first few lines of my page:</p...   \n499999        NaN  <p>Since, in general, there is more than one p...   \n500000        NaN  <p>Ugh. Short of writing your own authenticati...   \n\n        OwnerUserId  LastEditorUserId LastEditorDisplayName  \\\nPostId                                                        \n1               8.0        16124033.0                Rich B   \n2               9.0         9134576.0          user14723686   \n3               9.0         5496973.0                  None   \n4               1.0         3524942.0                Rich B   \n5               1.0        16790137.0           user2370523   \n...             ...               ...                   ...   \n499996      72990.0               NaN                  None   \n499997       9940.0               NaN                  None   \n499998      63887.0               NaN                  None   \n499999      15168.0               NaN                  None   \n500000      85863.0               NaN                  None   \n\n                   LastEditDate  \\\nPostId                            \n1       2022-09-08T05:07:26.033   \n2       2021-01-29T18:46:45.963   \n3       2019-10-21T14:03:54.607   \n4       2022-07-27T22:34:36.320   \n5       2022-07-10T00:19:55.237   \n...                         ...   \n499996                     None   \n499997                     None   \n499998                     None   \n499999                     None   \n500000                     None   \n\n                                                    Title  \\\nPostId                                                      \n1                 How to convert Decimal to Double in C#?   \n2       Why did the width collapse in the percentage w...   \n3                                                    None   \n4       How do I calculate someone's age based on a Da...   \n5                           Calculate relative time in C#   \n...                                                   ...   \n499996                                               None   \n499997                                               None   \n499998  Why can't I use session_start() in my php scri...   \n499999                                               None   \n500000                                               None   \n\n                                                     Tags  AnswerCount  \\\nPostId                                                                   \n1       <c#><floating-point><type-conversion><double><...         14.0   \n2                        <html><css><internet-explorer-7>          7.0   \n3                                                    None          NaN   \n4                                    <c#><.net><datetime>         71.0   \n5       <c#><datetime><time><datediff><relative-time-s...         41.0   \n...                                                   ...          ...   \n499996                                               None          NaN   \n499997                                               None          NaN   \n499998                    <php><session><cookies><header>          2.0   \n499999                                               None          NaN   \n500000                                               None          NaN   \n\n        CommentCount  FavoriteCount       CommunityOwnedDate ContentLicense  \\\nPostId                                                                        \n1                  6           60.0  2012-10-31T16:42:47.213   CC BY-SA 4.0   \n2                  0           13.0                     None   CC BY-SA 4.0   \n3                  1            NaN                     None   CC BY-SA 4.0   \n4                 10          492.0  2011-08-16T19:40:43.080   CC BY-SA 4.0   \n5                  3          552.0  2009-09-04T13:15:59.820   CC BY-SA 4.0   \n...              ...            ...                      ...            ...   \n499996             0            NaN                     None   CC BY-SA 2.5   \n499997             0            NaN                     None   CC BY-SA 2.5   \n499998             2            NaN                     None   CC BY-SA 2.5   \n499999             1            NaN                     None   CC BY-SA 2.5   \n500000             1            NaN                     None   CC BY-SA 2.5   \n\n        ParentId  \nPostId            \n1            NaN  \n2            NaN  \n3            4.0  \n4            NaN  \n5            NaN  \n...          ...  \n499996  712186.0  \n499997  712225.0  \n499998       NaN  \n499999  712322.0  \n500000  712023.0  \n\n[500000 rows x 18 columns]",
      "text/html": "<div>\n<style scoped>\n    .dataframe tbody tr th:only-of-type {\n        vertical-align: middle;\n    }\n\n    .dataframe tbody tr th {\n        vertical-align: top;\n    }\n\n    .dataframe thead th {\n        text-align: right;\n    }\n</style>\n<table border=\"1\" class=\"dataframe\">\n  <thead>\n    <tr style=\"text-align: right;\">\n      <th></th>\n      <th>PostTypeId</th>\n      <th>AcceptedAnswerId</th>\n      <th>CreationDate</th>\n      <th>Score</th>\n      <th>ViewCount</th>\n      <th>Body</th>\n      <th>OwnerUserId</th>\n      <th>LastEditorUserId</th>\n      <th>LastEditorDisplayName</th>\n      <th>LastEditDate</th>\n      <th>Title</th>\n      <th>Tags</th>\n      <th>AnswerCount</th>\n      <th>CommentCount</th>\n      <th>FavoriteCount</th>\n      <th>CommunityOwnedDate</th>\n      <th>ContentLicense</th>\n      <th>ParentId</th>\n    </tr>\n    <tr>\n      <th>PostId</th>\n      <th></th>\n      <th></th>\n      <th></th>\n      <th></th>\n      <th></th>\n      <th></th>\n      <th></th>\n      <th></th>\n      <th></th>\n      <th></th>\n      <th></th>\n      <th></th>\n      <th></th>\n      <th></th>\n      <th></th>\n      <th></th>\n      <th></th>\n      <th></th>\n    </tr>\n  </thead>\n  <tbody>\n    <tr>\n      <th>1</th>\n      <td>1</td>\n      <td>7.0</td>\n      <td>2008-07-31T21:42:52.667</td>\n      <td>781</td>\n      <td>67914.0</td>\n      <td>&lt;p&gt;I want to assign the decimal variable &amp;quot...</td>\n      <td>8.0</td>\n      <td>16124033.0</td>\n      <td>Rich B</td>\n      <td>2022-09-08T05:07:26.033</td>\n      <td>How to convert Decimal to Double in C#?</td>\n      <td>&lt;c#&gt;&lt;floating-point&gt;&lt;type-conversion&gt;&lt;double&gt;&lt;...</td>\n      <td>14.0</td>\n      <td>6</td>\n      <td>60.0</td>\n      <td>2012-10-31T16:42:47.213</td>\n      <td>CC BY-SA 4.0</td>\n      <td>NaN</td>\n    </tr>\n    <tr>\n      <th>2</th>\n      <td>1</td>\n      <td>31.0</td>\n      <td>2008-07-31T22:08:08.620</td>\n      <td>318</td>\n      <td>23047.0</td>\n      <td>&lt;p&gt;I have an absolutely positioned &lt;code&gt;div&lt;/...</td>\n      <td>9.0</td>\n      <td>9134576.0</td>\n      <td>user14723686</td>\n      <td>2021-01-29T18:46:45.963</td>\n      <td>Why did the width collapse in the percentage w...</td>\n      <td>&lt;html&gt;&lt;css&gt;&lt;internet-explorer-7&gt;</td>\n      <td>7.0</td>\n      <td>0</td>\n      <td>13.0</td>\n      <td>None</td>\n      <td>CC BY-SA 4.0</td>\n      <td>NaN</td>\n    </tr>\n    <tr>\n      <th>3</th>\n      <td>2</td>\n      <td>NaN</td>\n      <td>2008-07-31T22:17:57.883</td>\n      <td>517</td>\n      <td>NaN</td>\n      <td>&lt;p&gt;An explicit cast to &lt;code&gt;double&lt;/code&gt; lik...</td>\n      <td>9.0</td>\n      <td>5496973.0</td>\n      <td>None</td>\n      <td>2019-10-21T14:03:54.607</td>\n      <td>None</td>\n      <td>None</td>\n      <td>NaN</td>\n      <td>1</td>\n      <td>NaN</td>\n      <td>None</td>\n      <td>CC BY-SA 4.0</td>\n      <td>4.0</td>\n    </tr>\n    <tr>\n      <th>4</th>\n      <td>1</td>\n      <td>1404.0</td>\n      <td>2008-07-31T23:40:59.743</td>\n      <td>2161</td>\n      <td>757897.0</td>\n      <td>&lt;p&gt;Given a &lt;code&gt;DateTime&lt;/code&gt; representing ...</td>\n      <td>1.0</td>\n      <td>3524942.0</td>\n      <td>Rich B</td>\n      <td>2022-07-27T22:34:36.320</td>\n      <td>How do I calculate someone's age based on a Da...</td>\n      <td>&lt;c#&gt;&lt;.net&gt;&lt;datetime&gt;</td>\n      <td>71.0</td>\n      <td>10</td>\n      <td>492.0</td>\n      <td>2011-08-16T19:40:43.080</td>\n      <td>CC BY-SA 4.0</td>\n      <td>NaN</td>\n    </tr>\n    <tr>\n      <th>5</th>\n      <td>1</td>\n      <td>1248.0</td>\n      <td>2008-07-31T23:55:37.967</td>\n      <td>1629</td>\n      <td>193525.0</td>\n      <td>&lt;p&gt;Given a specific &lt;code&gt;DateTime&lt;/code&gt; valu...</td>\n      <td>1.0</td>\n      <td>16790137.0</td>\n      <td>user2370523</td>\n      <td>2022-07-10T00:19:55.237</td>\n      <td>Calculate relative time in C#</td>\n      <td>&lt;c#&gt;&lt;datetime&gt;&lt;time&gt;&lt;datediff&gt;&lt;relative-time-s...</td>\n      <td>41.0</td>\n      <td>3</td>\n      <td>552.0</td>\n      <td>2009-09-04T13:15:59.820</td>\n      <td>CC BY-SA 4.0</td>\n      <td>NaN</td>\n    </tr>\n    <tr>\n      <th>...</th>\n      <td>...</td>\n      <td>...</td>\n      <td>...</td>\n      <td>...</td>\n      <td>...</td>\n      <td>...</td>\n      <td>...</td>\n      <td>...</td>\n      <td>...</td>\n      <td>...</td>\n      <td>...</td>\n      <td>...</td>\n      <td>...</td>\n      <td>...</td>\n      <td>...</td>\n      <td>...</td>\n      <td>...</td>\n      <td>...</td>\n    </tr>\n    <tr>\n      <th>499996</th>\n      <td>2</td>\n      <td>NaN</td>\n      <td>2009-04-03T02:10:35.270</td>\n      <td>2</td>\n      <td>NaN</td>\n      <td>&lt;p&gt;If we can assume that:&lt;/p&gt;\\n\\n&lt;ul&gt;\\n&lt;li&gt;the...</td>\n      <td>72990.0</td>\n      <td>NaN</td>\n      <td>None</td>\n      <td>None</td>\n      <td>None</td>\n      <td>None</td>\n      <td>NaN</td>\n      <td>0</td>\n      <td>NaN</td>\n      <td>None</td>\n      <td>CC BY-SA 2.5</td>\n      <td>712186.0</td>\n    </tr>\n    <tr>\n      <th>499997</th>\n      <td>2</td>\n      <td>NaN</td>\n      <td>2009-04-03T02:10:49.060</td>\n      <td>1</td>\n      <td>NaN</td>\n      <td>&lt;p&gt;Change:&lt;/p&gt;\\n\\n&lt;pre&gt;&lt;code&gt;for ansSeries in ...</td>\n      <td>9940.0</td>\n      <td>NaN</td>\n      <td>None</td>\n      <td>None</td>\n      <td>None</td>\n      <td>None</td>\n      <td>NaN</td>\n      <td>0</td>\n      <td>NaN</td>\n      <td>None</td>\n      <td>CC BY-SA 2.5</td>\n      <td>712225.0</td>\n    </tr>\n    <tr>\n      <th>499998</th>\n      <td>1</td>\n      <td>799526.0</td>\n      <td>2009-04-03T02:11:16.237</td>\n      <td>4</td>\n      <td>3611.0</td>\n      <td>&lt;p&gt;Here are the first few lines of my page:&lt;/p...</td>\n      <td>63887.0</td>\n      <td>NaN</td>\n      <td>None</td>\n      <td>None</td>\n      <td>Why can't I use session_start() in my php scri...</td>\n      <td>&lt;php&gt;&lt;session&gt;&lt;cookies&gt;&lt;header&gt;</td>\n      <td>2.0</td>\n      <td>2</td>\n      <td>NaN</td>\n      <td>None</td>\n      <td>CC BY-SA 2.5</td>\n      <td>NaN</td>\n    </tr>\n    <tr>\n      <th>499999</th>\n      <td>2</td>\n      <td>NaN</td>\n      <td>2009-04-03T02:14:04.293</td>\n      <td>5</td>\n      <td>NaN</td>\n      <td>&lt;p&gt;Since, in general, there is more than one p...</td>\n      <td>15168.0</td>\n      <td>NaN</td>\n      <td>None</td>\n      <td>None</td>\n      <td>None</td>\n      <td>None</td>\n      <td>NaN</td>\n      <td>1</td>\n      <td>NaN</td>\n      <td>None</td>\n      <td>CC BY-SA 2.5</td>\n      <td>712322.0</td>\n    </tr>\n    <tr>\n      <th>500000</th>\n      <td>2</td>\n      <td>NaN</td>\n      <td>2009-04-03T02:15:39.347</td>\n      <td>1</td>\n      <td>NaN</td>\n      <td>&lt;p&gt;Ugh. Short of writing your own authenticati...</td>\n      <td>85863.0</td>\n      <td>NaN</td>\n      <td>None</td>\n      <td>None</td>\n      <td>None</td>\n      <td>None</td>\n      <td>NaN</td>\n      <td>1</td>\n      <td>NaN</td>\n      <td>None</td>\n      <td>CC BY-SA 2.5</td>\n      <td>712023.0</td>\n    </tr>\n  </tbody>\n</table>\n<p>500000 rows × 18 columns</p>\n</div>"
     },
     "execution_count": 4,
     "metadata": {},
     "output_type": "execute_result"
    }
   ],
   "source": [
    "POST_LIMIT = 500000\n",
    "post_df = pd.read_sql_query(f\"SELECT * FROM Post LIMIT {POST_LIMIT}\", db)\n",
    "post_df.set_index('PostId', inplace=True)\n",
    "post_df"
   ],
   "metadata": {
    "collapsed": false
   }
  },
  {
   "cell_type": "code",
   "execution_count": 5,
   "outputs": [
    {
     "data": {
      "text/plain": "         UserId              Name             CreationDate  Class TagBased\nBadgeId                                                                   \n1          3718           Teacher  2008-09-15T08:55:03.923      3    False\n2           994           Teacher  2008-09-15T08:55:03.957      3    False\n3          3893           Teacher  2008-09-15T08:55:03.957      3    False\n4          4591           Teacher  2008-09-15T08:55:03.957      3    False\n5          5196           Teacher  2008-09-15T08:55:03.957      3    False\n...         ...               ...                      ...    ...      ...\n499996    51452       Good Answer  2010-02-15T12:27:33.500      2    False\n499997   250648            Critic  2010-02-15T12:32:31.950      3    False\n499998   162569       Commentator  2010-02-15T12:32:32.713      3    False\n499999   116388  Popular Question  2010-02-15T12:32:32.930      3    False\n500000   267503        Tumbleweed  2010-02-15T12:32:35.007      3    False\n\n[500000 rows x 5 columns]",
      "text/html": "<div>\n<style scoped>\n    .dataframe tbody tr th:only-of-type {\n        vertical-align: middle;\n    }\n\n    .dataframe tbody tr th {\n        vertical-align: top;\n    }\n\n    .dataframe thead th {\n        text-align: right;\n    }\n</style>\n<table border=\"1\" class=\"dataframe\">\n  <thead>\n    <tr style=\"text-align: right;\">\n      <th></th>\n      <th>UserId</th>\n      <th>Name</th>\n      <th>CreationDate</th>\n      <th>Class</th>\n      <th>TagBased</th>\n    </tr>\n    <tr>\n      <th>BadgeId</th>\n      <th></th>\n      <th></th>\n      <th></th>\n      <th></th>\n      <th></th>\n    </tr>\n  </thead>\n  <tbody>\n    <tr>\n      <th>1</th>\n      <td>3718</td>\n      <td>Teacher</td>\n      <td>2008-09-15T08:55:03.923</td>\n      <td>3</td>\n      <td>False</td>\n    </tr>\n    <tr>\n      <th>2</th>\n      <td>994</td>\n      <td>Teacher</td>\n      <td>2008-09-15T08:55:03.957</td>\n      <td>3</td>\n      <td>False</td>\n    </tr>\n    <tr>\n      <th>3</th>\n      <td>3893</td>\n      <td>Teacher</td>\n      <td>2008-09-15T08:55:03.957</td>\n      <td>3</td>\n      <td>False</td>\n    </tr>\n    <tr>\n      <th>4</th>\n      <td>4591</td>\n      <td>Teacher</td>\n      <td>2008-09-15T08:55:03.957</td>\n      <td>3</td>\n      <td>False</td>\n    </tr>\n    <tr>\n      <th>5</th>\n      <td>5196</td>\n      <td>Teacher</td>\n      <td>2008-09-15T08:55:03.957</td>\n      <td>3</td>\n      <td>False</td>\n    </tr>\n    <tr>\n      <th>...</th>\n      <td>...</td>\n      <td>...</td>\n      <td>...</td>\n      <td>...</td>\n      <td>...</td>\n    </tr>\n    <tr>\n      <th>499996</th>\n      <td>51452</td>\n      <td>Good Answer</td>\n      <td>2010-02-15T12:27:33.500</td>\n      <td>2</td>\n      <td>False</td>\n    </tr>\n    <tr>\n      <th>499997</th>\n      <td>250648</td>\n      <td>Critic</td>\n      <td>2010-02-15T12:32:31.950</td>\n      <td>3</td>\n      <td>False</td>\n    </tr>\n    <tr>\n      <th>499998</th>\n      <td>162569</td>\n      <td>Commentator</td>\n      <td>2010-02-15T12:32:32.713</td>\n      <td>3</td>\n      <td>False</td>\n    </tr>\n    <tr>\n      <th>499999</th>\n      <td>116388</td>\n      <td>Popular Question</td>\n      <td>2010-02-15T12:32:32.930</td>\n      <td>3</td>\n      <td>False</td>\n    </tr>\n    <tr>\n      <th>500000</th>\n      <td>267503</td>\n      <td>Tumbleweed</td>\n      <td>2010-02-15T12:32:35.007</td>\n      <td>3</td>\n      <td>False</td>\n    </tr>\n  </tbody>\n</table>\n<p>500000 rows × 5 columns</p>\n</div>"
     },
     "execution_count": 5,
     "metadata": {},
     "output_type": "execute_result"
    }
   ],
   "source": [
    "BADGE_LIMIT = 500000\n",
    "badge_df = pd.read_sql_query(f\"SELECT * FROM badge LIMIT {BADGE_LIMIT}\", db)\n",
    "badge_df.set_index('BadgeId', inplace=True)\n",
    "badge_df"
   ],
   "metadata": {
    "collapsed": false
   }
  },
  {
   "cell_type": "code",
   "execution_count": 6,
   "outputs": [
    {
     "data": {
      "text/plain": "         Reputation             CreationDate   DisplayName  \\\nUserId                                                       \n-1009             1  2022-05-17T15:06:54.890          WSO2   \n-1008             1  2022-01-31T19:45:27.477        Twilio   \n-1007             1  2021-09-30T18:39:12.143  AudioBubble2   \n-1006             1  2021-09-27T19:40:44.437         Intel   \n-1005             1  2021-07-29T14:07:57.580        GitLab   \n...             ...                      ...           ...   \n 884592          31  2011-08-08T18:18:02.387           Ann   \n 884593         335  2011-08-08T18:19:27.857         ymliu   \n 884595         123  2011-08-08T18:20:03.193    Neil Woods   \n 884597          21  2011-08-08T18:21:27.077      Nathan B   \n 884599          31  2011-08-08T18:22:16.987       Quaitex   \n\n                  LastAccessDate WebsiteUrl Location  \\\nUserId                                                 \n-1009    2022-05-17T15:06:54.890       None     None   \n-1008    2022-01-31T19:45:27.477       None     None   \n-1007    2021-09-30T18:39:12.143       None     None   \n-1006    2021-09-27T19:40:44.437       None     None   \n-1005    2021-07-29T14:07:57.580       None     None   \n...                          ...        ...      ...   \n 884592  2011-08-08T18:18:02.387       None     None   \n 884593  2020-04-23T00:04:46.763                None   \n 884595  2021-09-08T11:14:32.143                None   \n 884597  2022-09-22T20:23:45.923                None   \n 884599  2011-09-01T14:16:54.883       None     None   \n\n                                                   AboutMe  Views  UpVotes  \\\nUserId                                                                       \n-1009    <p>WSO2 solutions give enterprises the flexibi...      0        0   \n-1008    <p>Twilio has democratized channels like voice...      0        0   \n-1007    <p>Official Q&amp;A support for AudioBubble2</...      0        0   \n-1006    <p>A space for developers to collaborate on In...      0        0   \n-1005    <p>GitLab is the open DevOps platform, deliver...      0        0   \n...                                                    ...    ...      ...   \n 884592                                               None      0        0   \n 884593                                                        33        8   \n 884595                                                         6        3   \n 884597                                                        14       28   \n 884599                                               None      5        0   \n\n         DownVotes                      ProfileImageUrl  AccountId  \nUserId                                                              \n-1009            0                                 None        NaN  \n-1008            0                                 None        NaN  \n-1007            0                                 None        NaN  \n-1006            0                                 None        NaN  \n-1005            0                                 None        NaN  \n...            ...                                  ...        ...  \n 884592          0                                 None   802774.0  \n 884593          0  https://i.stack.imgur.com/jMCNj.jpg   474725.0  \n 884595          0                                 None   802775.0  \n 884597          0  https://i.stack.imgur.com/CMmBO.jpg   474727.0  \n 884599          0                                 None   796823.0  \n\n[500000 rows x 12 columns]",
      "text/html": "<div>\n<style scoped>\n    .dataframe tbody tr th:only-of-type {\n        vertical-align: middle;\n    }\n\n    .dataframe tbody tr th {\n        vertical-align: top;\n    }\n\n    .dataframe thead th {\n        text-align: right;\n    }\n</style>\n<table border=\"1\" class=\"dataframe\">\n  <thead>\n    <tr style=\"text-align: right;\">\n      <th></th>\n      <th>Reputation</th>\n      <th>CreationDate</th>\n      <th>DisplayName</th>\n      <th>LastAccessDate</th>\n      <th>WebsiteUrl</th>\n      <th>Location</th>\n      <th>AboutMe</th>\n      <th>Views</th>\n      <th>UpVotes</th>\n      <th>DownVotes</th>\n      <th>ProfileImageUrl</th>\n      <th>AccountId</th>\n    </tr>\n    <tr>\n      <th>UserId</th>\n      <th></th>\n      <th></th>\n      <th></th>\n      <th></th>\n      <th></th>\n      <th></th>\n      <th></th>\n      <th></th>\n      <th></th>\n      <th></th>\n      <th></th>\n      <th></th>\n    </tr>\n  </thead>\n  <tbody>\n    <tr>\n      <th>-1009</th>\n      <td>1</td>\n      <td>2022-05-17T15:06:54.890</td>\n      <td>WSO2</td>\n      <td>2022-05-17T15:06:54.890</td>\n      <td>None</td>\n      <td>None</td>\n      <td>&lt;p&gt;WSO2 solutions give enterprises the flexibi...</td>\n      <td>0</td>\n      <td>0</td>\n      <td>0</td>\n      <td>None</td>\n      <td>NaN</td>\n    </tr>\n    <tr>\n      <th>-1008</th>\n      <td>1</td>\n      <td>2022-01-31T19:45:27.477</td>\n      <td>Twilio</td>\n      <td>2022-01-31T19:45:27.477</td>\n      <td>None</td>\n      <td>None</td>\n      <td>&lt;p&gt;Twilio has democratized channels like voice...</td>\n      <td>0</td>\n      <td>0</td>\n      <td>0</td>\n      <td>None</td>\n      <td>NaN</td>\n    </tr>\n    <tr>\n      <th>-1007</th>\n      <td>1</td>\n      <td>2021-09-30T18:39:12.143</td>\n      <td>AudioBubble2</td>\n      <td>2021-09-30T18:39:12.143</td>\n      <td>None</td>\n      <td>None</td>\n      <td>&lt;p&gt;Official Q&amp;amp;A support for AudioBubble2&lt;/...</td>\n      <td>0</td>\n      <td>0</td>\n      <td>0</td>\n      <td>None</td>\n      <td>NaN</td>\n    </tr>\n    <tr>\n      <th>-1006</th>\n      <td>1</td>\n      <td>2021-09-27T19:40:44.437</td>\n      <td>Intel</td>\n      <td>2021-09-27T19:40:44.437</td>\n      <td>None</td>\n      <td>None</td>\n      <td>&lt;p&gt;A space for developers to collaborate on In...</td>\n      <td>0</td>\n      <td>0</td>\n      <td>0</td>\n      <td>None</td>\n      <td>NaN</td>\n    </tr>\n    <tr>\n      <th>-1005</th>\n      <td>1</td>\n      <td>2021-07-29T14:07:57.580</td>\n      <td>GitLab</td>\n      <td>2021-07-29T14:07:57.580</td>\n      <td>None</td>\n      <td>None</td>\n      <td>&lt;p&gt;GitLab is the open DevOps platform, deliver...</td>\n      <td>0</td>\n      <td>0</td>\n      <td>0</td>\n      <td>None</td>\n      <td>NaN</td>\n    </tr>\n    <tr>\n      <th>...</th>\n      <td>...</td>\n      <td>...</td>\n      <td>...</td>\n      <td>...</td>\n      <td>...</td>\n      <td>...</td>\n      <td>...</td>\n      <td>...</td>\n      <td>...</td>\n      <td>...</td>\n      <td>...</td>\n      <td>...</td>\n    </tr>\n    <tr>\n      <th>884592</th>\n      <td>31</td>\n      <td>2011-08-08T18:18:02.387</td>\n      <td>Ann</td>\n      <td>2011-08-08T18:18:02.387</td>\n      <td>None</td>\n      <td>None</td>\n      <td>None</td>\n      <td>0</td>\n      <td>0</td>\n      <td>0</td>\n      <td>None</td>\n      <td>802774.0</td>\n    </tr>\n    <tr>\n      <th>884593</th>\n      <td>335</td>\n      <td>2011-08-08T18:19:27.857</td>\n      <td>ymliu</td>\n      <td>2020-04-23T00:04:46.763</td>\n      <td></td>\n      <td>None</td>\n      <td></td>\n      <td>33</td>\n      <td>8</td>\n      <td>0</td>\n      <td>https://i.stack.imgur.com/jMCNj.jpg</td>\n      <td>474725.0</td>\n    </tr>\n    <tr>\n      <th>884595</th>\n      <td>123</td>\n      <td>2011-08-08T18:20:03.193</td>\n      <td>Neil Woods</td>\n      <td>2021-09-08T11:14:32.143</td>\n      <td></td>\n      <td>None</td>\n      <td></td>\n      <td>6</td>\n      <td>3</td>\n      <td>0</td>\n      <td>None</td>\n      <td>802775.0</td>\n    </tr>\n    <tr>\n      <th>884597</th>\n      <td>21</td>\n      <td>2011-08-08T18:21:27.077</td>\n      <td>Nathan B</td>\n      <td>2022-09-22T20:23:45.923</td>\n      <td></td>\n      <td>None</td>\n      <td></td>\n      <td>14</td>\n      <td>28</td>\n      <td>0</td>\n      <td>https://i.stack.imgur.com/CMmBO.jpg</td>\n      <td>474727.0</td>\n    </tr>\n    <tr>\n      <th>884599</th>\n      <td>31</td>\n      <td>2011-08-08T18:22:16.987</td>\n      <td>Quaitex</td>\n      <td>2011-09-01T14:16:54.883</td>\n      <td>None</td>\n      <td>None</td>\n      <td>None</td>\n      <td>5</td>\n      <td>0</td>\n      <td>0</td>\n      <td>None</td>\n      <td>796823.0</td>\n    </tr>\n  </tbody>\n</table>\n<p>500000 rows × 12 columns</p>\n</div>"
     },
     "execution_count": 6,
     "metadata": {},
     "output_type": "execute_result"
    }
   ],
   "source": [
    "user_LIMIT = 500000\n",
    "user_df = pd.read_sql_query(f\"SELECT * FROM user LIMIT {user_LIMIT}\", db)\n",
    "user_df.set_index('UserId', inplace=True)\n",
    "user_df"
   ],
   "metadata": {
    "collapsed": false
   }
  },
  {
   "cell_type": "code",
   "execution_count": 7,
   "outputs": [
    {
     "data": {
      "text/plain": "            PostId  Score                                               Body  \\\nCommentId                                                                      \n1            45651      6  It will help if you give some details of which...   \n2            47428      3  One of the things that make a url user-friendl...   \n3            47481      0  I agree, both CodeRush and RefactorPro are vis...   \n4            47373      0  Just wanted to mention that this is an excelle...   \n5            47497      1  Indeed, the only way to do this is get the ser...   \n...            ...    ...                                                ...   \n499996     1044179      0  The index is there already. How can I force or...   \n499997     1047464      0  are you sure you can rewrite to a URL on anoth...   \n499998     1045341      0  Not sure if I understood correctly. \\nWhere's ...   \n499999     1047471      0  Is there a way to remove that selected class f...   \n500000     1043743      0  I've added some XSLT that does the necessary c...   \n\n                      CreationDate    UserId ContentLicense  \nCommentId                                                    \n1          2008-09-06T13:38:23.647     242.0   CC BY-SA 2.5  \n2          2008-09-06T13:51:47.843    4642.0   CC BY-SA 2.5  \n3          2008-09-06T14:15:46.897    4642.0   CC BY-SA 2.5  \n4          2008-09-06T14:30:40.217    2495.0   CC BY-SA 2.5  \n5          2008-09-06T14:42:35.303    4642.0   CC BY-SA 2.5  \n...                            ...       ...            ...  \n499996     2009-06-26T05:43:11.223   87248.0   CC BY-SA 2.5  \n499997     2009-06-26T05:43:42.253  109102.0   CC BY-SA 2.5  \n499998     2009-06-26T05:46:21.890   73715.0   CC BY-SA 2.5  \n499999     2009-06-26T05:46:23.497   86038.0   CC BY-SA 2.5  \n500000     2009-06-26T05:48:48.330   18771.0   CC BY-SA 2.5  \n\n[500000 rows x 6 columns]",
      "text/html": "<div>\n<style scoped>\n    .dataframe tbody tr th:only-of-type {\n        vertical-align: middle;\n    }\n\n    .dataframe tbody tr th {\n        vertical-align: top;\n    }\n\n    .dataframe thead th {\n        text-align: right;\n    }\n</style>\n<table border=\"1\" class=\"dataframe\">\n  <thead>\n    <tr style=\"text-align: right;\">\n      <th></th>\n      <th>PostId</th>\n      <th>Score</th>\n      <th>Body</th>\n      <th>CreationDate</th>\n      <th>UserId</th>\n      <th>ContentLicense</th>\n    </tr>\n    <tr>\n      <th>CommentId</th>\n      <th></th>\n      <th></th>\n      <th></th>\n      <th></th>\n      <th></th>\n      <th></th>\n    </tr>\n  </thead>\n  <tbody>\n    <tr>\n      <th>1</th>\n      <td>45651</td>\n      <td>6</td>\n      <td>It will help if you give some details of which...</td>\n      <td>2008-09-06T13:38:23.647</td>\n      <td>242.0</td>\n      <td>CC BY-SA 2.5</td>\n    </tr>\n    <tr>\n      <th>2</th>\n      <td>47428</td>\n      <td>3</td>\n      <td>One of the things that make a url user-friendl...</td>\n      <td>2008-09-06T13:51:47.843</td>\n      <td>4642.0</td>\n      <td>CC BY-SA 2.5</td>\n    </tr>\n    <tr>\n      <th>3</th>\n      <td>47481</td>\n      <td>0</td>\n      <td>I agree, both CodeRush and RefactorPro are vis...</td>\n      <td>2008-09-06T14:15:46.897</td>\n      <td>4642.0</td>\n      <td>CC BY-SA 2.5</td>\n    </tr>\n    <tr>\n      <th>4</th>\n      <td>47373</td>\n      <td>0</td>\n      <td>Just wanted to mention that this is an excelle...</td>\n      <td>2008-09-06T14:30:40.217</td>\n      <td>2495.0</td>\n      <td>CC BY-SA 2.5</td>\n    </tr>\n    <tr>\n      <th>5</th>\n      <td>47497</td>\n      <td>1</td>\n      <td>Indeed, the only way to do this is get the ser...</td>\n      <td>2008-09-06T14:42:35.303</td>\n      <td>4642.0</td>\n      <td>CC BY-SA 2.5</td>\n    </tr>\n    <tr>\n      <th>...</th>\n      <td>...</td>\n      <td>...</td>\n      <td>...</td>\n      <td>...</td>\n      <td>...</td>\n      <td>...</td>\n    </tr>\n    <tr>\n      <th>499996</th>\n      <td>1044179</td>\n      <td>0</td>\n      <td>The index is there already. How can I force or...</td>\n      <td>2009-06-26T05:43:11.223</td>\n      <td>87248.0</td>\n      <td>CC BY-SA 2.5</td>\n    </tr>\n    <tr>\n      <th>499997</th>\n      <td>1047464</td>\n      <td>0</td>\n      <td>are you sure you can rewrite to a URL on anoth...</td>\n      <td>2009-06-26T05:43:42.253</td>\n      <td>109102.0</td>\n      <td>CC BY-SA 2.5</td>\n    </tr>\n    <tr>\n      <th>499998</th>\n      <td>1045341</td>\n      <td>0</td>\n      <td>Not sure if I understood correctly. \\nWhere's ...</td>\n      <td>2009-06-26T05:46:21.890</td>\n      <td>73715.0</td>\n      <td>CC BY-SA 2.5</td>\n    </tr>\n    <tr>\n      <th>499999</th>\n      <td>1047471</td>\n      <td>0</td>\n      <td>Is there a way to remove that selected class f...</td>\n      <td>2009-06-26T05:46:23.497</td>\n      <td>86038.0</td>\n      <td>CC BY-SA 2.5</td>\n    </tr>\n    <tr>\n      <th>500000</th>\n      <td>1043743</td>\n      <td>0</td>\n      <td>I've added some XSLT that does the necessary c...</td>\n      <td>2009-06-26T05:48:48.330</td>\n      <td>18771.0</td>\n      <td>CC BY-SA 2.5</td>\n    </tr>\n  </tbody>\n</table>\n<p>500000 rows × 6 columns</p>\n</div>"
     },
     "execution_count": 7,
     "metadata": {},
     "output_type": "execute_result"
    }
   ],
   "source": [
    "comment_LIMIT = 500000\n",
    "comment_df = pd.read_sql_query(f\"SELECT * FROM comment LIMIT {comment_LIMIT}\", db)\n",
    "comment_df.set_index('CommentId', inplace=True)\n",
    "comment_df"
   ],
   "metadata": {
    "collapsed": false
   }
  },
  {
   "cell_type": "code",
   "execution_count": 8,
   "outputs": [
    {
     "data": {
      "text/plain": "        PostId  VoteTypeId             CreationDate\nVoteId                                             \n1            1           2  2008-07-31T00:00:00.000\n2            3           2  2008-07-31T00:00:00.000\n3            2           2  2008-07-31T00:00:00.000\n4            4           2  2008-07-31T00:00:00.000\n5            6           2  2008-07-31T00:00:00.000\n...        ...         ...                      ...\n499996  231200           2  2008-10-23T00:00:00.000\n499997  231274           2  2008-10-23T00:00:00.000\n499998  230845           5  2008-10-23T00:00:00.000\n499999  231245           2  2008-10-23T00:00:00.000\n500000  149397           2  2008-10-23T00:00:00.000\n\n[500000 rows x 3 columns]",
      "text/html": "<div>\n<style scoped>\n    .dataframe tbody tr th:only-of-type {\n        vertical-align: middle;\n    }\n\n    .dataframe tbody tr th {\n        vertical-align: top;\n    }\n\n    .dataframe thead th {\n        text-align: right;\n    }\n</style>\n<table border=\"1\" class=\"dataframe\">\n  <thead>\n    <tr style=\"text-align: right;\">\n      <th></th>\n      <th>PostId</th>\n      <th>VoteTypeId</th>\n      <th>CreationDate</th>\n    </tr>\n    <tr>\n      <th>VoteId</th>\n      <th></th>\n      <th></th>\n      <th></th>\n    </tr>\n  </thead>\n  <tbody>\n    <tr>\n      <th>1</th>\n      <td>1</td>\n      <td>2</td>\n      <td>2008-07-31T00:00:00.000</td>\n    </tr>\n    <tr>\n      <th>2</th>\n      <td>3</td>\n      <td>2</td>\n      <td>2008-07-31T00:00:00.000</td>\n    </tr>\n    <tr>\n      <th>3</th>\n      <td>2</td>\n      <td>2</td>\n      <td>2008-07-31T00:00:00.000</td>\n    </tr>\n    <tr>\n      <th>4</th>\n      <td>4</td>\n      <td>2</td>\n      <td>2008-07-31T00:00:00.000</td>\n    </tr>\n    <tr>\n      <th>5</th>\n      <td>6</td>\n      <td>2</td>\n      <td>2008-07-31T00:00:00.000</td>\n    </tr>\n    <tr>\n      <th>...</th>\n      <td>...</td>\n      <td>...</td>\n      <td>...</td>\n    </tr>\n    <tr>\n      <th>499996</th>\n      <td>231200</td>\n      <td>2</td>\n      <td>2008-10-23T00:00:00.000</td>\n    </tr>\n    <tr>\n      <th>499997</th>\n      <td>231274</td>\n      <td>2</td>\n      <td>2008-10-23T00:00:00.000</td>\n    </tr>\n    <tr>\n      <th>499998</th>\n      <td>230845</td>\n      <td>5</td>\n      <td>2008-10-23T00:00:00.000</td>\n    </tr>\n    <tr>\n      <th>499999</th>\n      <td>231245</td>\n      <td>2</td>\n      <td>2008-10-23T00:00:00.000</td>\n    </tr>\n    <tr>\n      <th>500000</th>\n      <td>149397</td>\n      <td>2</td>\n      <td>2008-10-23T00:00:00.000</td>\n    </tr>\n  </tbody>\n</table>\n<p>500000 rows × 3 columns</p>\n</div>"
     },
     "execution_count": 8,
     "metadata": {},
     "output_type": "execute_result"
    }
   ],
   "source": [
    "vote_LIMIT = 500000\n",
    "vote_df = pd.read_sql_query(f\"SELECT * FROM vote LIMIT {vote_LIMIT}\", db)\n",
    "vote_df.set_index('VoteId', inplace=True)\n",
    "vote_df"
   ],
   "metadata": {
    "collapsed": false
   }
  },
  {
   "cell_type": "markdown",
   "source": [
    "So, we want to build an embedding for the body of posts.\n",
    "The body of posts are stored as HTML, we need to split up the text and the code snippets so we can process them separately."
   ],
   "metadata": {
    "collapsed": false
   }
  },
  {
   "cell_type": "code",
   "execution_count": 9,
   "outputs": [
    {
     "data": {
      "text/plain": "        PostTypeId  AcceptedAnswerId             CreationDate  Score  \\\nPostId                                                                 \n1                1               7.0  2008-07-31T21:42:52.667    781   \n\n        ViewCount                                               Body  \\\nPostId                                                                 \n1         67914.0  <p>I want to assign the decimal variable &quot...   \n\n        OwnerUserId  LastEditorUserId LastEditorDisplayName  \\\nPostId                                                        \n1               8.0        16124033.0                Rich B   \n\n                   LastEditDate                                    Title  \\\nPostId                                                                     \n1       2022-09-08T05:07:26.033  How to convert Decimal to Double in C#?   \n\n                                                     Tags  AnswerCount  \\\nPostId                                                                   \n1       <c#><floating-point><type-conversion><double><...         14.0   \n\n        CommentCount  FavoriteCount       CommunityOwnedDate ContentLicense  \\\nPostId                                                                        \n1                  6           60.0  2012-10-31T16:42:47.213   CC BY-SA 4.0   \n\n        ParentId  \nPostId            \n1            NaN  ",
      "text/html": "<div>\n<style scoped>\n    .dataframe tbody tr th:only-of-type {\n        vertical-align: middle;\n    }\n\n    .dataframe tbody tr th {\n        vertical-align: top;\n    }\n\n    .dataframe thead th {\n        text-align: right;\n    }\n</style>\n<table border=\"1\" class=\"dataframe\">\n  <thead>\n    <tr style=\"text-align: right;\">\n      <th></th>\n      <th>PostTypeId</th>\n      <th>AcceptedAnswerId</th>\n      <th>CreationDate</th>\n      <th>Score</th>\n      <th>ViewCount</th>\n      <th>Body</th>\n      <th>OwnerUserId</th>\n      <th>LastEditorUserId</th>\n      <th>LastEditorDisplayName</th>\n      <th>LastEditDate</th>\n      <th>Title</th>\n      <th>Tags</th>\n      <th>AnswerCount</th>\n      <th>CommentCount</th>\n      <th>FavoriteCount</th>\n      <th>CommunityOwnedDate</th>\n      <th>ContentLicense</th>\n      <th>ParentId</th>\n    </tr>\n    <tr>\n      <th>PostId</th>\n      <th></th>\n      <th></th>\n      <th></th>\n      <th></th>\n      <th></th>\n      <th></th>\n      <th></th>\n      <th></th>\n      <th></th>\n      <th></th>\n      <th></th>\n      <th></th>\n      <th></th>\n      <th></th>\n      <th></th>\n      <th></th>\n      <th></th>\n      <th></th>\n    </tr>\n  </thead>\n  <tbody>\n    <tr>\n      <th>1</th>\n      <td>1</td>\n      <td>7.0</td>\n      <td>2008-07-31T21:42:52.667</td>\n      <td>781</td>\n      <td>67914.0</td>\n      <td>&lt;p&gt;I want to assign the decimal variable &amp;quot...</td>\n      <td>8.0</td>\n      <td>16124033.0</td>\n      <td>Rich B</td>\n      <td>2022-09-08T05:07:26.033</td>\n      <td>How to convert Decimal to Double in C#?</td>\n      <td>&lt;c#&gt;&lt;floating-point&gt;&lt;type-conversion&gt;&lt;double&gt;&lt;...</td>\n      <td>14.0</td>\n      <td>6</td>\n      <td>60.0</td>\n      <td>2012-10-31T16:42:47.213</td>\n      <td>CC BY-SA 4.0</td>\n      <td>NaN</td>\n    </tr>\n  </tbody>\n</table>\n</div>"
     },
     "execution_count": 9,
     "metadata": {},
     "output_type": "execute_result"
    }
   ],
   "source": [
    "sample_post = post_df.head(1)\n",
    "sample_post"
   ],
   "metadata": {
    "collapsed": false
   }
  },
  {
   "cell_type": "markdown",
   "source": [
    "Let's process the Body first"
   ],
   "metadata": {
    "collapsed": false
   }
  },
  {
   "cell_type": "code",
   "execution_count": 10,
   "outputs": [],
   "source": [
    "from bs4 import BeautifulSoup\n",
    "import spacy\n",
    "import torch\n",
    "import torch.nn as nn\n",
    "import torch.nn.functional as F\n",
    "import torch.optim as optim\n",
    "from torchtext.vocab import GloVe\n",
    "\n",
    "en = spacy.load('en_core_web_sm')\n",
    "stopwords = en.Defaults.stop_words"
   ],
   "metadata": {
    "collapsed": false
   }
  },
  {
   "cell_type": "code",
   "execution_count": 11,
   "outputs": [
    {
     "data": {
      "text/plain": "tensor([-3.6374e-02,  1.1305e-01, -2.9251e-01,  4.6058e-03,  1.1432e-01,\n         1.3817e-01,  1.8094e-01, -1.4077e-01, -2.9465e-02,  8.6996e-01,\n        -2.4227e-01,  1.7903e-03, -9.0644e-02, -2.6434e-02, -1.1753e-02,\n        -1.5881e-01, -3.0371e-01,  1.7912e+00, -2.6080e-01,  6.3705e-02,\n         3.3689e-02, -6.7376e-02, -1.3606e-01,  5.8075e-02,  2.3817e-01,\n        -2.1051e-01, -2.0274e-01, -1.2007e-01,  1.9419e-01,  4.3345e-02,\n        -1.2157e-01, -2.8792e-02,  2.0707e-01,  5.3248e-02,  1.3090e-01,\n        -7.3865e-02,  8.7552e-02, -5.2587e-02, -2.5966e-01, -1.7451e-01,\n         9.2528e-02, -2.5121e-01,  1.5754e-02,  9.7943e-03, -2.0923e-01,\n        -6.1129e-03,  4.2967e-03,  1.8417e-01, -4.4229e-02,  1.0786e-01,\n        -7.7416e-02,  2.1915e-01,  9.1229e-02, -4.5503e-02,  6.1583e-02,\n        -6.6497e-02,  4.0271e-02, -8.5584e-02,  9.0862e-02, -3.6905e-02,\n        -3.1869e-02,  1.5599e-01, -1.6684e-01,  9.5459e-02,  8.6566e-03,\n         6.3764e-02,  1.6507e-01, -5.7868e-02,  1.2635e-01,  3.5084e-02,\n        -1.8181e-02,  2.0929e-01,  6.1381e-03, -2.1185e-01,  2.0875e-01,\n        -5.7877e-03, -1.6763e-01, -1.6657e-03,  1.3546e-01, -1.2922e-03,\n         2.5813e-02,  1.4587e-01, -6.0748e-02,  2.7971e-01, -1.3223e-01,\n         1.3441e-02,  5.1517e-01, -4.5957e-01,  7.1570e-02,  6.0031e-03,\n        -1.2266e-01,  5.8546e-02,  2.6375e-02, -2.4059e-01,  1.6735e-01,\n         1.4737e-01,  3.9753e-02,  1.4721e-02,  4.8923e-03,  5.5796e-02,\n        -4.4108e-02,  9.2886e-02, -4.7641e-02,  4.8820e-02, -5.5781e-02,\n        -4.1948e-01,  2.4288e-01, -3.7417e-02, -1.4816e-01,  1.0308e-01,\n        -6.9336e-02, -1.0844e-01, -3.7208e-02, -6.5000e-02, -4.8448e-02,\n         1.1080e-01, -7.3346e-02, -3.0539e-02, -8.7169e-02,  4.4503e-02,\n         2.0317e-01, -9.4962e-02, -3.5851e-02,  2.5206e-02, -2.0442e-01,\n         1.0963e-01,  2.9626e-01,  3.5071e-02,  1.8693e-02, -1.6769e-01,\n        -2.1641e-02,  4.6062e-01, -3.1421e-02,  4.2701e-02,  1.0721e-01,\n         9.8857e-02, -4.1678e-02, -2.0927e-01, -1.5136e-01, -1.9112e-01,\n        -1.0427e+00, -1.0529e-01,  1.0680e-01, -6.5143e-02,  2.9127e-02,\n        -1.4307e-01,  5.1208e-02,  2.0857e-01, -2.7466e-01, -1.9018e-01,\n         1.1354e-01, -6.2476e-03,  1.4769e-01, -4.5229e-03,  3.1324e-02,\n        -1.8422e-01, -1.8878e-01,  8.4901e-02,  2.4357e-01,  1.4580e-03,\n         1.5736e-01,  6.7952e-02, -2.9599e-02, -6.6300e-02, -1.1379e-01,\n        -3.6832e-02, -1.5733e-01, -2.2460e-02, -1.2680e-03,  1.7554e-01,\n        -9.7585e-02,  6.3587e-02, -1.9106e-01, -2.6922e-01,  1.4811e-01,\n        -8.2532e-02,  3.1161e-02,  1.0939e-01, -1.3534e-01,  1.1171e-02,\n         1.3951e-01,  1.9110e-02,  1.8764e-02, -1.1597e-01, -2.3729e-01,\n         1.9230e-01, -3.1623e-01,  6.5513e-02,  1.3013e-01,  1.4497e-02,\n        -3.7088e-02,  9.2073e-02, -2.3112e-01, -1.1719e-01,  2.6579e-01,\n        -1.1962e-01, -2.8811e-02, -4.5259e-01, -1.5807e-01,  1.2421e-03,\n         1.0005e-01, -6.1528e-02,  9.2894e-02,  2.4100e-01, -6.6927e-02,\n        -1.3903e-01, -6.5851e-02,  2.1972e-03, -9.3033e-02,  5.3871e-02,\n        -3.8980e-02,  1.3120e-01, -4.9600e-02, -3.3595e-02, -6.8743e-02,\n         5.2723e-02, -1.5917e-01,  1.4971e-01, -2.5889e-01,  1.3380e-01,\n         1.1774e-01,  1.4271e-01,  2.0470e-02,  9.0111e-02, -8.0654e-02,\n         2.9188e-01, -1.5516e-01, -1.0624e-01,  1.2108e-01, -1.9307e-02,\n        -1.8038e-01, -2.6928e-01,  1.1441e-01,  6.6768e-02, -2.8219e-01,\n        -1.0843e-01, -1.0348e-01,  1.0993e-01, -4.2919e-01,  2.3482e-01,\n         2.0702e-01,  1.3197e-01,  2.0704e-01,  1.7429e-01,  1.2611e-01,\n        -1.0745e-01,  2.4112e-01,  3.3692e-02, -2.5452e-01, -6.9537e-02,\n         1.7775e-01, -3.3938e-02, -2.2522e-02, -6.8234e-02, -1.1130e-01,\n         2.4902e-01, -1.0053e-01, -2.7356e-02,  7.4078e-02, -4.5249e-02,\n        -7.9914e-02,  1.1117e-01,  2.0239e-02,  8.5573e-02,  2.5660e-02,\n        -1.8129e-01,  7.2276e-02,  9.7285e-02,  4.3870e-01, -2.6918e-01,\n         1.7922e-02, -7.1145e-02,  2.9965e-02,  6.9102e-02, -8.5326e-02,\n        -8.6552e-02,  1.1103e-02,  1.2541e-03, -6.9890e-02,  1.5100e-01,\n         2.1181e-02,  1.4036e-01,  1.0159e-01,  1.2323e-01, -7.2754e-02,\n        -2.5326e-01,  2.0318e-01,  6.6203e-03,  1.9592e-01, -9.0636e-03,\n         2.0394e-01, -1.5663e-01, -3.1973e-01, -6.1289e-02,  3.1670e-01,\n        -1.1282e-01, -1.6557e-01, -1.2395e-01,  5.8688e-02,  6.2929e-02])"
     },
     "execution_count": 11,
     "metadata": {},
     "output_type": "execute_result"
    }
   ],
   "source": [
    "class PostEmbedding(nn.Module):\n",
    "\n",
    "    def __init__(self):\n",
    "        super().__init__()\n",
    "        self._global_vectors = GloVe(name='840B', dim=300)\n",
    "\n",
    "    def forward(self, html: str, title: str, flatten=True) -> torch.tensor:\n",
    "        soup = BeautifulSoup(html)\n",
    "        ps = self.get_paragraphs(soup, title)\n",
    "        if flatten:\n",
    "            # Treat all paragraphs the same\n",
    "            ps = [token for para in ps for token in para]\n",
    "\n",
    "        para_emb = self.to_paragraph_embedding(ps)\n",
    "\n",
    "        code = self.get_code(soup)\n",
    "        return para_emb\n",
    "\n",
    "    def preprocess(self, text: str) -> List[str]:\n",
    "        doc = en(text.lower())\n",
    "        tokens = [word.text for word in doc if not (word.is_stop or word.is_punct or word.like_num)]\n",
    "        return tokens\n",
    "\n",
    "    def get_paragraphs(self, soup: BeautifulSoup, title: str=None) -> List[List[str]]:\n",
    "        paras = [self.preprocess(x.get_text()) for x in soup.find_all('p')]\n",
    "        # If title is available add it to the paragraphs\n",
    "        if title is not None:\n",
    "            paras += self.preprocess(title)\n",
    "        return paras\n",
    "\n",
    "    def to_paragraph_embedding(self, tokens: List[str]):\n",
    "        word_embeddings = self._global_vectors.get_vecs_by_tokens(tokens)\n",
    "        return torch.sum(word_embeddings, dim=0) / len(tokens)\n",
    "\n",
    "\n",
    "    def get_code(self, soup: BeautifulSoup) -> str:\n",
    "        return \"\\n\".join([x.get_text() for x in soup.find_all('code')])\n",
    "\n",
    "\n",
    "html = sample_post['Body'].item()\n",
    "\n",
    "embedding = PostEmbedding()\n",
    "embedding(html, sample_post['Title'].item())"
   ],
   "metadata": {
    "collapsed": false
   }
  },
  {
   "cell_type": "markdown",
   "source": [
    "## Extracting features from code snippets\n",
    "Since supervisor meeting on 7th November, we decided to constrain it to Python.\n",
    "This means that the `ast` library can be used, rather than RegEx for all languages."
   ],
   "metadata": {
    "collapsed": false
   }
  },
  {
   "cell_type": "code",
   "execution_count": 14,
   "outputs": [
    {
     "data": {
      "text/plain": "        PostTypeId  AcceptedAnswerId             CreationDate  Score  \\\nPostId                                                                 \n1                1               7.0  2008-07-31T21:42:52.667    781   \n2                1              31.0  2008-07-31T22:08:08.620    318   \n3                2               NaN  2008-07-31T22:17:57.883    517   \n4                1            1404.0  2008-07-31T23:40:59.743   2161   \n5                1            1248.0  2008-07-31T23:55:37.967   1629   \n...            ...               ...                      ...    ...   \n499996           2               NaN  2009-04-03T02:10:35.270      2   \n499997           2               NaN  2009-04-03T02:10:49.060      1   \n499998           1          799526.0  2009-04-03T02:11:16.237      4   \n499999           2               NaN  2009-04-03T02:14:04.293      5   \n500000           2               NaN  2009-04-03T02:15:39.347      1   \n\n        ViewCount                                               Body  \\\nPostId                                                                 \n1         67914.0  <p>I want to assign the decimal variable &quot...   \n2         23047.0  <p>I have an absolutely positioned <code>div</...   \n3             NaN  <p>An explicit cast to <code>double</code> lik...   \n4        757897.0  <p>Given a <code>DateTime</code> representing ...   \n5        193525.0  <p>Given a specific <code>DateTime</code> valu...   \n...           ...                                                ...   \n499996        NaN  <p>If we can assume that:</p>\\n\\n<ul>\\n<li>the...   \n499997        NaN  <p>Change:</p>\\n\\n<pre><code>for ansSeries in ...   \n499998     3611.0  <p>Here are the first few lines of my page:</p...   \n499999        NaN  <p>Since, in general, there is more than one p...   \n500000        NaN  <p>Ugh. Short of writing your own authenticati...   \n\n        OwnerUserId  LastEditorUserId LastEditorDisplayName  \\\nPostId                                                        \n1               8.0        16124033.0                Rich B   \n2               9.0         9134576.0          user14723686   \n3               9.0         5496973.0                  None   \n4               1.0         3524942.0                Rich B   \n5               1.0        16790137.0           user2370523   \n...             ...               ...                   ...   \n499996      72990.0               NaN                  None   \n499997       9940.0               NaN                  None   \n499998      63887.0               NaN                  None   \n499999      15168.0               NaN                  None   \n500000      85863.0               NaN                  None   \n\n                   LastEditDate  \\\nPostId                            \n1       2022-09-08T05:07:26.033   \n2       2021-01-29T18:46:45.963   \n3       2019-10-21T14:03:54.607   \n4       2022-07-27T22:34:36.320   \n5       2022-07-10T00:19:55.237   \n...                         ...   \n499996                     None   \n499997                     None   \n499998                     None   \n499999                     None   \n500000                     None   \n\n                                                    Title  \\\nPostId                                                      \n1                 How to convert Decimal to Double in C#?   \n2       Why did the width collapse in the percentage w...   \n3                                                    None   \n4       How do I calculate someone's age based on a Da...   \n5                           Calculate relative time in C#   \n...                                                   ...   \n499996                                               None   \n499997                                               None   \n499998  Why can't I use session_start() in my php scri...   \n499999                                               None   \n500000                                               None   \n\n                                                     Tags  AnswerCount  \\\nPostId                                                                   \n1       <c#><floating-point><type-conversion><double><...         14.0   \n2                        <html><css><internet-explorer-7>          7.0   \n3                                                    None          NaN   \n4                                    <c#><.net><datetime>         71.0   \n5       <c#><datetime><time><datediff><relative-time-s...         41.0   \n...                                                   ...          ...   \n499996                                               None          NaN   \n499997                                               None          NaN   \n499998                    <php><session><cookies><header>          2.0   \n499999                                               None          NaN   \n500000                                               None          NaN   \n\n        CommentCount  FavoriteCount       CommunityOwnedDate ContentLicense  \\\nPostId                                                                        \n1                  6           60.0  2012-10-31T16:42:47.213   CC BY-SA 4.0   \n2                  0           13.0                     None   CC BY-SA 4.0   \n3                  1            NaN                     None   CC BY-SA 4.0   \n4                 10          492.0  2011-08-16T19:40:43.080   CC BY-SA 4.0   \n5                  3          552.0  2009-09-04T13:15:59.820   CC BY-SA 4.0   \n...              ...            ...                      ...            ...   \n499996             0            NaN                     None   CC BY-SA 2.5   \n499997             0            NaN                     None   CC BY-SA 2.5   \n499998             2            NaN                     None   CC BY-SA 2.5   \n499999             1            NaN                     None   CC BY-SA 2.5   \n500000             1            NaN                     None   CC BY-SA 2.5   \n\n        ParentId                                      code_snippets  \nPostId                                                               \n1            NaN  decimal trans = trackBar1.Value / 5000;\\nthis....  \n2            NaN  div\\ndiv\\npercentage-based width\\ndiv\\n0 width...  \n3            4.0  double\\ndouble trans = (double) trackBar1.Valu...  \n4            NaN                                           DateTime  \n5            NaN     DateTime\\n2 hours ago\\n3 days ago\\na month ago  \n...          ...                                                ...  \n499996  712186.0  $round_count = 0;\\n$header_printed = false;\\n$...  \n499997  712225.0  for ansSeries in notmatched:\\n\\nfor ansSeries ...  \n499998       NaN  <!DOCTYPE html PUBLIC \"-//W3C//DTD HTML 4.01 T...  \n499999  712322.0                                                     \n500000  712023.0   X-LIGHTTPD-send-file\\nX-sendfile\\nmod proxy scgi  \n\n[500000 rows x 19 columns]",
      "text/html": "<div>\n<style scoped>\n    .dataframe tbody tr th:only-of-type {\n        vertical-align: middle;\n    }\n\n    .dataframe tbody tr th {\n        vertical-align: top;\n    }\n\n    .dataframe thead th {\n        text-align: right;\n    }\n</style>\n<table border=\"1\" class=\"dataframe\">\n  <thead>\n    <tr style=\"text-align: right;\">\n      <th></th>\n      <th>PostTypeId</th>\n      <th>AcceptedAnswerId</th>\n      <th>CreationDate</th>\n      <th>Score</th>\n      <th>ViewCount</th>\n      <th>Body</th>\n      <th>OwnerUserId</th>\n      <th>LastEditorUserId</th>\n      <th>LastEditorDisplayName</th>\n      <th>LastEditDate</th>\n      <th>Title</th>\n      <th>Tags</th>\n      <th>AnswerCount</th>\n      <th>CommentCount</th>\n      <th>FavoriteCount</th>\n      <th>CommunityOwnedDate</th>\n      <th>ContentLicense</th>\n      <th>ParentId</th>\n      <th>code_snippets</th>\n    </tr>\n    <tr>\n      <th>PostId</th>\n      <th></th>\n      <th></th>\n      <th></th>\n      <th></th>\n      <th></th>\n      <th></th>\n      <th></th>\n      <th></th>\n      <th></th>\n      <th></th>\n      <th></th>\n      <th></th>\n      <th></th>\n      <th></th>\n      <th></th>\n      <th></th>\n      <th></th>\n      <th></th>\n      <th></th>\n    </tr>\n  </thead>\n  <tbody>\n    <tr>\n      <th>1</th>\n      <td>1</td>\n      <td>7.0</td>\n      <td>2008-07-31T21:42:52.667</td>\n      <td>781</td>\n      <td>67914.0</td>\n      <td>&lt;p&gt;I want to assign the decimal variable &amp;quot...</td>\n      <td>8.0</td>\n      <td>16124033.0</td>\n      <td>Rich B</td>\n      <td>2022-09-08T05:07:26.033</td>\n      <td>How to convert Decimal to Double in C#?</td>\n      <td>&lt;c#&gt;&lt;floating-point&gt;&lt;type-conversion&gt;&lt;double&gt;&lt;...</td>\n      <td>14.0</td>\n      <td>6</td>\n      <td>60.0</td>\n      <td>2012-10-31T16:42:47.213</td>\n      <td>CC BY-SA 4.0</td>\n      <td>NaN</td>\n      <td>decimal trans = trackBar1.Value / 5000;\\nthis....</td>\n    </tr>\n    <tr>\n      <th>2</th>\n      <td>1</td>\n      <td>31.0</td>\n      <td>2008-07-31T22:08:08.620</td>\n      <td>318</td>\n      <td>23047.0</td>\n      <td>&lt;p&gt;I have an absolutely positioned &lt;code&gt;div&lt;/...</td>\n      <td>9.0</td>\n      <td>9134576.0</td>\n      <td>user14723686</td>\n      <td>2021-01-29T18:46:45.963</td>\n      <td>Why did the width collapse in the percentage w...</td>\n      <td>&lt;html&gt;&lt;css&gt;&lt;internet-explorer-7&gt;</td>\n      <td>7.0</td>\n      <td>0</td>\n      <td>13.0</td>\n      <td>None</td>\n      <td>CC BY-SA 4.0</td>\n      <td>NaN</td>\n      <td>div\\ndiv\\npercentage-based width\\ndiv\\n0 width...</td>\n    </tr>\n    <tr>\n      <th>3</th>\n      <td>2</td>\n      <td>NaN</td>\n      <td>2008-07-31T22:17:57.883</td>\n      <td>517</td>\n      <td>NaN</td>\n      <td>&lt;p&gt;An explicit cast to &lt;code&gt;double&lt;/code&gt; lik...</td>\n      <td>9.0</td>\n      <td>5496973.0</td>\n      <td>None</td>\n      <td>2019-10-21T14:03:54.607</td>\n      <td>None</td>\n      <td>None</td>\n      <td>NaN</td>\n      <td>1</td>\n      <td>NaN</td>\n      <td>None</td>\n      <td>CC BY-SA 4.0</td>\n      <td>4.0</td>\n      <td>double\\ndouble trans = (double) trackBar1.Valu...</td>\n    </tr>\n    <tr>\n      <th>4</th>\n      <td>1</td>\n      <td>1404.0</td>\n      <td>2008-07-31T23:40:59.743</td>\n      <td>2161</td>\n      <td>757897.0</td>\n      <td>&lt;p&gt;Given a &lt;code&gt;DateTime&lt;/code&gt; representing ...</td>\n      <td>1.0</td>\n      <td>3524942.0</td>\n      <td>Rich B</td>\n      <td>2022-07-27T22:34:36.320</td>\n      <td>How do I calculate someone's age based on a Da...</td>\n      <td>&lt;c#&gt;&lt;.net&gt;&lt;datetime&gt;</td>\n      <td>71.0</td>\n      <td>10</td>\n      <td>492.0</td>\n      <td>2011-08-16T19:40:43.080</td>\n      <td>CC BY-SA 4.0</td>\n      <td>NaN</td>\n      <td>DateTime</td>\n    </tr>\n    <tr>\n      <th>5</th>\n      <td>1</td>\n      <td>1248.0</td>\n      <td>2008-07-31T23:55:37.967</td>\n      <td>1629</td>\n      <td>193525.0</td>\n      <td>&lt;p&gt;Given a specific &lt;code&gt;DateTime&lt;/code&gt; valu...</td>\n      <td>1.0</td>\n      <td>16790137.0</td>\n      <td>user2370523</td>\n      <td>2022-07-10T00:19:55.237</td>\n      <td>Calculate relative time in C#</td>\n      <td>&lt;c#&gt;&lt;datetime&gt;&lt;time&gt;&lt;datediff&gt;&lt;relative-time-s...</td>\n      <td>41.0</td>\n      <td>3</td>\n      <td>552.0</td>\n      <td>2009-09-04T13:15:59.820</td>\n      <td>CC BY-SA 4.0</td>\n      <td>NaN</td>\n      <td>DateTime\\n2 hours ago\\n3 days ago\\na month ago</td>\n    </tr>\n    <tr>\n      <th>...</th>\n      <td>...</td>\n      <td>...</td>\n      <td>...</td>\n      <td>...</td>\n      <td>...</td>\n      <td>...</td>\n      <td>...</td>\n      <td>...</td>\n      <td>...</td>\n      <td>...</td>\n      <td>...</td>\n      <td>...</td>\n      <td>...</td>\n      <td>...</td>\n      <td>...</td>\n      <td>...</td>\n      <td>...</td>\n      <td>...</td>\n      <td>...</td>\n    </tr>\n    <tr>\n      <th>499996</th>\n      <td>2</td>\n      <td>NaN</td>\n      <td>2009-04-03T02:10:35.270</td>\n      <td>2</td>\n      <td>NaN</td>\n      <td>&lt;p&gt;If we can assume that:&lt;/p&gt;\\n\\n&lt;ul&gt;\\n&lt;li&gt;the...</td>\n      <td>72990.0</td>\n      <td>NaN</td>\n      <td>None</td>\n      <td>None</td>\n      <td>None</td>\n      <td>None</td>\n      <td>NaN</td>\n      <td>0</td>\n      <td>NaN</td>\n      <td>None</td>\n      <td>CC BY-SA 2.5</td>\n      <td>712186.0</td>\n      <td>$round_count = 0;\\n$header_printed = false;\\n$...</td>\n    </tr>\n    <tr>\n      <th>499997</th>\n      <td>2</td>\n      <td>NaN</td>\n      <td>2009-04-03T02:10:49.060</td>\n      <td>1</td>\n      <td>NaN</td>\n      <td>&lt;p&gt;Change:&lt;/p&gt;\\n\\n&lt;pre&gt;&lt;code&gt;for ansSeries in ...</td>\n      <td>9940.0</td>\n      <td>NaN</td>\n      <td>None</td>\n      <td>None</td>\n      <td>None</td>\n      <td>None</td>\n      <td>NaN</td>\n      <td>0</td>\n      <td>NaN</td>\n      <td>None</td>\n      <td>CC BY-SA 2.5</td>\n      <td>712225.0</td>\n      <td>for ansSeries in notmatched:\\n\\nfor ansSeries ...</td>\n    </tr>\n    <tr>\n      <th>499998</th>\n      <td>1</td>\n      <td>799526.0</td>\n      <td>2009-04-03T02:11:16.237</td>\n      <td>4</td>\n      <td>3611.0</td>\n      <td>&lt;p&gt;Here are the first few lines of my page:&lt;/p...</td>\n      <td>63887.0</td>\n      <td>NaN</td>\n      <td>None</td>\n      <td>None</td>\n      <td>Why can't I use session_start() in my php scri...</td>\n      <td>&lt;php&gt;&lt;session&gt;&lt;cookies&gt;&lt;header&gt;</td>\n      <td>2.0</td>\n      <td>2</td>\n      <td>NaN</td>\n      <td>None</td>\n      <td>CC BY-SA 2.5</td>\n      <td>NaN</td>\n      <td>&lt;!DOCTYPE html PUBLIC \"-//W3C//DTD HTML 4.01 T...</td>\n    </tr>\n    <tr>\n      <th>499999</th>\n      <td>2</td>\n      <td>NaN</td>\n      <td>2009-04-03T02:14:04.293</td>\n      <td>5</td>\n      <td>NaN</td>\n      <td>&lt;p&gt;Since, in general, there is more than one p...</td>\n      <td>15168.0</td>\n      <td>NaN</td>\n      <td>None</td>\n      <td>None</td>\n      <td>None</td>\n      <td>None</td>\n      <td>NaN</td>\n      <td>1</td>\n      <td>NaN</td>\n      <td>None</td>\n      <td>CC BY-SA 2.5</td>\n      <td>712322.0</td>\n      <td></td>\n    </tr>\n    <tr>\n      <th>500000</th>\n      <td>2</td>\n      <td>NaN</td>\n      <td>2009-04-03T02:15:39.347</td>\n      <td>1</td>\n      <td>NaN</td>\n      <td>&lt;p&gt;Ugh. Short of writing your own authenticati...</td>\n      <td>85863.0</td>\n      <td>NaN</td>\n      <td>None</td>\n      <td>None</td>\n      <td>None</td>\n      <td>None</td>\n      <td>NaN</td>\n      <td>1</td>\n      <td>NaN</td>\n      <td>None</td>\n      <td>CC BY-SA 2.5</td>\n      <td>712023.0</td>\n      <td>X-LIGHTTPD-send-file\\nX-sendfile\\nmod proxy scgi</td>\n    </tr>\n  </tbody>\n</table>\n<p>500000 rows × 19 columns</p>\n</div>"
     },
     "execution_count": 14,
     "metadata": {},
     "output_type": "execute_result"
    }
   ],
   "source": [
    "pe = PostEmbedding()\n",
    "post_df['code_snippets'] = post_df['Body'].apply(lambda html: pe.get_code(BeautifulSoup(html)))\n",
    "post_df"
   ],
   "metadata": {
    "collapsed": false
   }
  },
  {
   "cell_type": "code",
   "execution_count": 15,
   "outputs": [],
   "source": [
    "import re\n",
    "\n",
    "python_class_name_pattern = r\"class ([a-zA-Z_$][a-zA-Z_$0-9]*)[:(]\"\n",
    "py_func_name_pattern = r\"def ([a-zA-Z_$][a-zA-Z_$0-9]*)\\(\"\n",
    "py_import_pattern = r\"(?m)^(?:from[ ]+(\\S+)[ ]+)?import[ ]+(\\S+)(?:[ ]+as[ ]+\\S+)?[ ]*$\"\n",
    "py_variable_names = r\"([a-zA-Z_$0-9]+)[ ]=\""
   ],
   "metadata": {
    "collapsed": false
   }
  },
  {
   "cell_type": "code",
   "execution_count": 16,
   "outputs": [],
   "source": [
    "def find_code_features(code_snippet: str):\n",
    "    class_names = re.findall(python_class_name_pattern, code_snippet)\n",
    "    func_names = re.findall(py_func_name_pattern, code_snippet)\n",
    "    import_names = list(sum(re.findall(py_import_pattern, code_snippet), ()))\n",
    "    var_names = re.findall(py_variable_names, code_snippet)\n",
    "    # return {\n",
    "    #     'class_names' : class_names,\n",
    "    #     'func_names' : func_names,\n",
    "    #     'import_names' : import_names,\n",
    "    #     'var_names' : var_names\n",
    "    # }\n",
    "    return import_names\n",
    "\n",
    "post_df['import_names'] = post_df['code_snippets'].apply(find_code_features)"
   ],
   "metadata": {
    "collapsed": false
   }
  },
  {
   "cell_type": "code",
   "execution_count": 19,
   "outputs": [
    {
     "data": {
      "text/plain": "                                            code_snippets  \\\nPostId                                                      \n326     Premature end of script headers\\n\\nimport cgi\\...   \n392     from SomeOtherProduct.SomeModule import SomeCl...   \n710     raw_input()\\nraw_input\\nimport sys\\nprint \"\"\"M...   \n716                import msvcrt\\nanswer=msvcrt.getch()\\n   \n720     #!C:\\python25\\python.exe\\nimport msvcrt\\nprint...   \n...                                                   ...   \n499774  import java.io.File;\\n\\npublic class Main\\n{\\n...   \n499834  s=\"hello\"\\ntype(s) == type(\"\")\\n\\ndef firstEle...   \n499929      for (final String code : Locale.getISOCoun...   \n499948  import java.util.*;\\n\\npublic class LocaleTest...   \n499949  import java.util.*;\\nimport java.util.Locale;\\...   \n\n                                    import_names  \nPostId                                            \n326         [, cgi, , MySQLdb, , MySQLdb, , cgi]  \n392     [SomeOtherProduct.SomeModule, SomeClass]  \n710                                      [, sys]  \n716                                   [, msvcrt]  \n720                                   [, msvcrt]  \n...                                          ...  \n499774                         [, java.io.File;]  \n499834                                 [, types]  \n499929     [, java.util.Locale;, , java.util.*;]  \n499948                          [, java.util.*;]  \n499949     [, java.util.*;, , java.util.Locale;]  \n\n[3287 rows x 2 columns]",
      "text/html": "<div>\n<style scoped>\n    .dataframe tbody tr th:only-of-type {\n        vertical-align: middle;\n    }\n\n    .dataframe tbody tr th {\n        vertical-align: top;\n    }\n\n    .dataframe thead th {\n        text-align: right;\n    }\n</style>\n<table border=\"1\" class=\"dataframe\">\n  <thead>\n    <tr style=\"text-align: right;\">\n      <th></th>\n      <th>code_snippets</th>\n      <th>import_names</th>\n    </tr>\n    <tr>\n      <th>PostId</th>\n      <th></th>\n      <th></th>\n    </tr>\n  </thead>\n  <tbody>\n    <tr>\n      <th>326</th>\n      <td>Premature end of script headers\\n\\nimport cgi\\...</td>\n      <td>[, cgi, , MySQLdb, , MySQLdb, , cgi]</td>\n    </tr>\n    <tr>\n      <th>392</th>\n      <td>from SomeOtherProduct.SomeModule import SomeCl...</td>\n      <td>[SomeOtherProduct.SomeModule, SomeClass]</td>\n    </tr>\n    <tr>\n      <th>710</th>\n      <td>raw_input()\\nraw_input\\nimport sys\\nprint \"\"\"M...</td>\n      <td>[, sys]</td>\n    </tr>\n    <tr>\n      <th>716</th>\n      <td>import msvcrt\\nanswer=msvcrt.getch()\\n</td>\n      <td>[, msvcrt]</td>\n    </tr>\n    <tr>\n      <th>720</th>\n      <td>#!C:\\python25\\python.exe\\nimport msvcrt\\nprint...</td>\n      <td>[, msvcrt]</td>\n    </tr>\n    <tr>\n      <th>...</th>\n      <td>...</td>\n      <td>...</td>\n    </tr>\n    <tr>\n      <th>499774</th>\n      <td>import java.io.File;\\n\\npublic class Main\\n{\\n...</td>\n      <td>[, java.io.File;]</td>\n    </tr>\n    <tr>\n      <th>499834</th>\n      <td>s=\"hello\"\\ntype(s) == type(\"\")\\n\\ndef firstEle...</td>\n      <td>[, types]</td>\n    </tr>\n    <tr>\n      <th>499929</th>\n      <td>for (final String code : Locale.getISOCoun...</td>\n      <td>[, java.util.Locale;, , java.util.*;]</td>\n    </tr>\n    <tr>\n      <th>499948</th>\n      <td>import java.util.*;\\n\\npublic class LocaleTest...</td>\n      <td>[, java.util.*;]</td>\n    </tr>\n    <tr>\n      <th>499949</th>\n      <td>import java.util.*;\\nimport java.util.Locale;\\...</td>\n      <td>[, java.util.*;, , java.util.Locale;]</td>\n    </tr>\n  </tbody>\n</table>\n<p>3287 rows × 2 columns</p>\n</div>"
     },
     "execution_count": 19,
     "metadata": {},
     "output_type": "execute_result"
    }
   ],
   "source": [
    "post_df[['code_snippets', 'import_names']].loc[post_df['import_names'].astype(str) != '[]']"
   ],
   "metadata": {
    "collapsed": false
   }
  },
  {
   "cell_type": "code",
   "execution_count": 18,
   "outputs": [
    {
     "data": {
      "text/plain": "code_snippets    object\nimport_names     object\ndtype: object"
     },
     "execution_count": 18,
     "metadata": {},
     "output_type": "execute_result"
    }
   ],
   "source": [
    "a = post_df[['code_snippets', 'import_names']]\n",
    "a.dtypes"
   ],
   "metadata": {
    "collapsed": false
   }
  },
  {
   "cell_type": "markdown",
   "source": [
    "## Building the graph\n",
    "We want to build a user-expertise graph"
   ],
   "metadata": {
    "collapsed": false
   }
  },
  {
   "cell_type": "code",
   "execution_count": null,
   "outputs": [],
   "source": [
    "USER_ID = 653\n",
    "user_df.loc[USER_ID]"
   ],
   "metadata": {
    "collapsed": false
   }
  },
  {
   "cell_type": "code",
   "execution_count": null,
   "outputs": [],
   "source": [
    "questions_by_user = pd.read_sql_query(f\"SELECT * FROM Post WHERE OwnerUserId={USER_ID} AND PostTypeId=1\", db)\n",
    "questions_by_user.set_index('PostId', inplace=True)\n",
    "questions_by_user"
   ],
   "metadata": {
    "collapsed": false
   }
  },
  {
   "cell_type": "code",
   "execution_count": null,
   "outputs": [],
   "source": [
    "answers_by_user = pd.read_sql_query(f\"SELECT * FROM Post WHERE OwnerUserId={USER_ID} AND PostTypeId=2\", db)\n",
    "answers_by_user.set_index('PostId', inplace=True)\n",
    "answers_by_user"
   ],
   "metadata": {
    "collapsed": false
   }
  },
  {
   "cell_type": "code",
   "execution_count": null,
   "outputs": [],
   "source": [
    "comments_by_user = pd.read_sql_query(f\"SELECT * FROM Comment WHERE UserId={USER_ID}\", db)\n",
    "comments_by_user.set_index('CommentId', inplace=True)\n",
    "comments_by_user"
   ],
   "metadata": {
    "collapsed": false
   }
  },
  {
   "cell_type": "markdown",
   "source": [
    "## Tag Embeddings"
   ],
   "metadata": {
    "collapsed": false
   }
  },
  {
   "cell_type": "code",
   "execution_count": null,
   "outputs": [],
   "source": [
    "def parse_tag_list(tag_list: str) -> List[str]:\n",
    "    return tag_list[1:-1].split(\"><\")\n",
    "\n",
    "def get_parent_tags(post_id: int) -> str:\n",
    "    tags = pd.read_sql_query(f\"SELECT Tags FROM Post WHERE PostId={post_id}\", db)\n",
    "    return tags['Tags'].item()"
   ],
   "metadata": {
    "collapsed": false
   }
  },
  {
   "cell_type": "code",
   "execution_count": null,
   "outputs": [],
   "source": [
    "tag_frequency = {}\n",
    "\n",
    "for i, row in questions_by_user.iterrows():\n",
    "    tags = parse_tag_list(row.Tags)\n",
    "    for t in tags:\n",
    "        if t in tag_frequency:\n",
    "            tag_frequency[t] += 1\n",
    "        else:\n",
    "            tag_frequency[t] = 1\n",
    "\n",
    "for i, row in answers_by_user.iterrows():\n",
    "    tag_list = get_parent_tags(row.ParentId)\n",
    "    if tag_list is None:\n",
    "        continue\n",
    "    for t in parse_tag_list(tag_list):\n",
    "        if t in tag_frequency:\n",
    "            tag_frequency[t] += 1\n",
    "        else:\n",
    "            tag_frequency[t] = 1\n",
    "\n",
    "{k: v for k, v in sorted(tag_frequency.items(), key=lambda item: item[1], reverse=True)}"
   ],
   "metadata": {
    "collapsed": false
   }
  },
  {
   "cell_type": "markdown",
   "source": [
    "So we can see there are many categories and for a single user; but there is a lot of variance.\n",
    "Can we create an embedding for tags which reflect similar categories?"
   ],
   "metadata": {
    "collapsed": false
   }
  },
  {
   "cell_type": "markdown",
   "source": [
    "Step 1. Build list of Tag vocabulary"
   ],
   "metadata": {
    "collapsed": false
   }
  },
  {
   "cell_type": "code",
   "execution_count": null,
   "outputs": [],
   "source": [
    "tag_df.head()"
   ],
   "metadata": {
    "collapsed": false
   }
  },
  {
   "cell_type": "code",
   "execution_count": null,
   "outputs": [],
   "source": [
    "tag_df[\"TagName\"].to_csv(\"tag_vocab.csv\", index=False)"
   ],
   "metadata": {
    "collapsed": false
   }
  },
  {
   "cell_type": "code",
   "execution_count": null,
   "outputs": [],
   "source": [
    "tag_vocab = list(set(tag_df[\"TagName\"]))"
   ],
   "metadata": {
    "collapsed": false
   }
  },
  {
   "cell_type": "code",
   "execution_count": null,
   "outputs": [],
   "source": [
    "post_tags = pd.read_sql_query(f\"SELECT Tags FROM Post WHERE PostTypeId=1\", db)\n",
    "post_tags.to_csv(\"all_tags.csv\", index=False)"
   ],
   "metadata": {
    "collapsed": false
   }
  },
  {
   "cell_type": "code",
   "execution_count": null,
   "outputs": [],
   "source": [
    "post_tags = pd.read_csv(\"all_tags.csv\")"
   ],
   "metadata": {
    "collapsed": false
   }
  },
  {
   "cell_type": "code",
   "execution_count": null,
   "outputs": [],
   "source": [
    "tag_list_df = post_tags['Tags'].apply(lambda row: parse_tag_list(row))"
   ],
   "metadata": {
    "collapsed": false
   }
  },
  {
   "cell_type": "code",
   "execution_count": null,
   "outputs": [],
   "source": [
    "combinations = tag_list_df.apply(lambda row: list(itertools.combinations(row, 2)))"
   ],
   "metadata": {
    "collapsed": false
   }
  },
  {
   "cell_type": "code",
   "execution_count": null,
   "outputs": [],
   "source": [
    "combinations = combinations[combinations.astype(str) != '[]']"
   ],
   "metadata": {
    "collapsed": false
   }
  },
  {
   "cell_type": "code",
   "execution_count": null,
   "outputs": [],
   "source": [
    "tag_pairs = []\n",
    "for i in combinations:\n",
    "    tag_pairs += i"
   ],
   "metadata": {
    "collapsed": false
   }
  },
  {
   "cell_type": "code",
   "execution_count": null,
   "outputs": [],
   "source": [
    "device = torch.device(\"cuda\" if torch.cuda.is_available() else \"cpu\")\n",
    "device"
   ],
   "metadata": {
    "collapsed": false
   }
  },
  {
   "cell_type": "code",
   "execution_count": null,
   "outputs": [],
   "source": [
    "import random\n",
    "\n",
    "TRAIN_SIZE = 10000\n",
    "tag_pairs = random.sample(tag_pairs, TRAIN_SIZE)\n",
    "tag_pairs"
   ],
   "metadata": {
    "collapsed": false
   }
  },
  {
   "cell_type": "code",
   "execution_count": null,
   "outputs": [],
   "source": [
    "len(tag_pairs), len(tag_vocab)"
   ],
   "metadata": {
    "collapsed": false
   }
  },
  {
   "cell_type": "code",
   "execution_count": null,
   "outputs": [],
   "source": [
    "tag_to_ix = {tag: i for i, tag in enumerate(tag_vocab)}"
   ],
   "metadata": {
    "collapsed": false
   }
  },
  {
   "cell_type": "code",
   "execution_count": null,
   "outputs": [],
   "source": [
    "class TagEmbedding(nn.Module):\n",
    "\n",
    "    def __init__(self, vocab_size, embedding_dim):\n",
    "        super(TagEmbedding, self).__init__()\n",
    "        self.embedding = nn.Embedding(vocab_size, embedding_dim)\n",
    "        self.linear1 = nn.Linear(embedding_dim, 128)\n",
    "        self.linear2 = nn.Linear(128, vocab_size)\n",
    "\n",
    "    def forward(self, inputs):\n",
    "        embeds = self.embedding(inputs).view((1, -1))\n",
    "        out = F.relu(self.linear1(embeds))\n",
    "        out = self.linear2(out)\n",
    "        log_probs = F.log_softmax(out, dim=1)\n",
    "        return log_probs"
   ],
   "metadata": {
    "collapsed": false
   }
  },
  {
   "cell_type": "code",
   "execution_count": null,
   "outputs": [],
   "source": [
    "losses = []\n",
    "loss_function = nn.NLLLoss()\n",
    "model = TagEmbedding(vocab_size=len(tag_vocab), embedding_dim=20).to(device)\n",
    "optimizer = optim.SGD(model.parameters(), lr=0.001)"
   ],
   "metadata": {
    "collapsed": false
   }
  },
  {
   "cell_type": "code",
   "execution_count": null,
   "outputs": [],
   "source": [
    "from tqdm import tqdm\n",
    "\n",
    "for epoch in range(1):\n",
    "    total_loss = 0\n",
    "    for tag_a, tag_b in tqdm(tag_pairs):\n",
    "        tag_a_id = torch.tensor(tag_to_ix[tag_a], dtype=torch.long).to(device)\n",
    "        model.zero_grad()\n",
    "        log_probs = model(tag_a_id)\n",
    "        loss = loss_function(log_probs.flatten(), torch.tensor(tag_to_ix[tag_b], dtype=torch.long).to(device))\n",
    "        loss.backward()\n",
    "        optimizer.step()\n",
    "        total_loss += loss.item()\n",
    "    losses.append(total_loss)\n"
   ],
   "metadata": {
    "collapsed": false
   }
  },
  {
   "cell_type": "code",
   "execution_count": null,
   "outputs": [],
   "source": [
    "embd_a = model.embedding.weight[tag_to_ix[\"python\"]]\n",
    "embd_b = model.embedding.weight[tag_to_ix[\"java\"]]"
   ],
   "metadata": {
    "collapsed": false
   }
  },
  {
   "cell_type": "code",
   "execution_count": null,
   "outputs": [],
   "source": [
    "sim = torch.nn.CosineSimilarity(dim=0)\n",
    "sim(embd_a, embd_b)"
   ],
   "metadata": {
    "collapsed": false
   }
  },
  {
   "cell_type": "code",
   "execution_count": null,
   "outputs": [],
   "source": [
    "from torch.utils.tensorboard import SummaryWriter\n",
    "writer = SummaryWriter('runs/visualisation2')"
   ],
   "metadata": {
    "collapsed": false
   }
  },
  {
   "cell_type": "code",
   "execution_count": null,
   "outputs": [],
   "source": [
    "tag_vocab"
   ],
   "metadata": {
    "collapsed": false
   }
  },
  {
   "cell_type": "code",
   "execution_count": null,
   "outputs": [],
   "source": [
    "loaded_model = torch.load(\"10mil.pt\", map_location=torch.device('cpu'))\n",
    "writer.add_embedding(loaded_model.embedding.weight,\n",
    "                         metadata  = tag_vocab,\n",
    "                        tag = f'Tag embedding')"
   ],
   "metadata": {
    "collapsed": false
   }
  },
  {
   "cell_type": "code",
   "execution_count": null,
   "outputs": [],
   "source": [
    "writer.close()"
   ],
   "metadata": {
    "collapsed": false
   }
  },
  {
   "cell_type": "code",
   "execution_count": null,
   "outputs": [],
   "source": [],
   "metadata": {
    "collapsed": false
   }
  }
 ],
 "metadata": {
  "kernelspec": {
   "display_name": "Python 3",
   "language": "python",
   "name": "python3"
  },
  "language_info": {
   "codemirror_mode": {
    "name": "ipython",
    "version": 2
   },
   "file_extension": ".py",
   "mimetype": "text/x-python",
   "name": "python",
   "nbconvert_exporter": "python",
   "pygments_lexer": "ipython2",
   "version": "2.7.6"
  }
 },
 "nbformat": 4,
 "nbformat_minor": 0
}
