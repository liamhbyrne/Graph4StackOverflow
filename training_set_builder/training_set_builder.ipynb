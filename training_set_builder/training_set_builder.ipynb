{
 "cells": [
  {
   "cell_type": "code",
   "execution_count": 1,
   "metadata": {
    "collapsed": true
   },
   "outputs": [],
   "source": [
    "import sqlite3\n",
    "\n",
    "# Create your connection.\n",
    "db = sqlite3.connect('../stackoverflow.db')"
   ]
  },
  {
   "cell_type": "code",
   "execution_count": 17,
   "outputs": [],
   "source": [
    "QUESTIONS_RETREIVED = 70000"
   ],
   "metadata": {
    "collapsed": false
   }
  },
  {
   "cell_type": "code",
   "execution_count": 18,
   "outputs": [
    {
     "data": {
      "text/plain": "         PostId  PostTypeId  AcceptedAnswerId             CreationDate  Score  \\\n0           337           1             342.0  2008-08-02T03:35:55.697     82   \n1           469           1            3040.0  2008-08-02T15:11:16.430     47   \n2           502           1            7090.0  2008-08-02T17:01:58.500     58   \n3           535           1             541.0  2008-08-02T18:43:54.787     68   \n4           594           1             595.0  2008-08-03T01:15:08.507     55   \n...         ...         ...               ...                      ...    ...   \n69995  53827601           1        53827671.0  2018-12-18T06:39:38.237     14   \n69996  53829045           1        53829145.0  2018-12-18T08:32:12.813     14   \n69997  53829896           1        53829925.0  2018-12-18T09:26:32.470     11   \n69998  53830081           1        53830333.0  2018-12-18T09:37:15.270     12   \n69999  53832607           1               NaN  2018-12-18T12:03:57.233     11   \n\n       ViewCount                                               Body  \\\n0          10098  <p>I am about to build a piece of a project th...   \n1           4372  <p>I am using the Photoshop's javascript API t...   \n2          17199  <p>I have a cross-platform (Python) applicatio...   \n3           9540  <p>I am starting to work on a hobby project wi...   \n4          57408  <p>There are several ways to iterate over a re...   \n...          ...                                                ...   \n69995      23334  <p>I am getting below error. Is there any way ...   \n69996       1351  <pre><code>variable=\";CREATEDBY~string~1~~72~0...   \n69997      63713  <p>I'm trying with the code from link below to...   \n69998      97349  <p>I am currently trying to compare values fro...   \n69999      30479  <p>I have a list:</p>\\n<pre><code>ueid_list = ...   \n\n       OwnerUserId  LastEditorUserId LastEditorDisplayName  ...  \\\n0            111.0         2336654.0                  None  ...   \n1            147.0         1997093.0                   Ash  ...   \n2            147.0         9780149.0             Adam Mitz  ...   \n3            154.0         7232508.0         Robert Gamble  ...   \n4            116.0             116.0         Mark Harrison  ...   \n...            ...               ...                   ...  ...   \n69995    8930395.0         8930395.0                  None  ...   \n69996    2996372.0           63550.0                  None  ...   \n69997    8410477.0               NaN                  None  ...   \n69998   10805303.0         9698684.0                  None  ...   \n69999   10779037.0           63550.0                  None  ...   \n\n      LastEditorDisplayName             LastEditDate Title  Tags  AnswerCount  \\\n0                      None                     None  None  None         None   \n1                      None                     None  None  None         None   \n2               Jeff Atwood  2015-08-29T23:20:48.107  None  None         None   \n3               user1873471  2013-01-28T03:54:17.217  None  None         None   \n4                      None  2016-10-15T20:47:11.027  None  None         None   \n...                     ...                      ...   ...   ...          ...   \n69995                  None                     None  None  None         None   \n69996                  None  2018-12-18T09:33:34.967  None  None         None   \n69997                  None  2018-12-18T09:31:48.723  None  None         None   \n69998                  None  2020-05-20T13:51:35.490  None  None         None   \n69999                  None  2021-07-20T11:07:51.030  None  None         None   \n\n       CommentCount FavoriteCount CommunityOwnedDate ContentLicense  ParentId  \n0                 1          None               None   CC BY-SA 2.5       337  \n1                 0          None               None   CC BY-SA 2.5       469  \n2                 0          None               None   CC BY-SA 3.0       502  \n3                 4          None               None   CC BY-SA 3.0       535  \n4                 2          None               None   CC BY-SA 3.0       594  \n...             ...           ...                ...            ...       ...  \n69995             1          None               None   CC BY-SA 4.0  53827601  \n69996             6          None               None   CC BY-SA 4.0  53829045  \n69997             0          None               None   CC BY-SA 4.0  53829896  \n69998             0          None               None   CC BY-SA 4.0  53830081  \n69999             0          None               None   CC BY-SA 4.0  53832607  \n\n[70000 rows x 38 columns]",
      "text/html": "<div>\n<style scoped>\n    .dataframe tbody tr th:only-of-type {\n        vertical-align: middle;\n    }\n\n    .dataframe tbody tr th {\n        vertical-align: top;\n    }\n\n    .dataframe thead th {\n        text-align: right;\n    }\n</style>\n<table border=\"1\" class=\"dataframe\">\n  <thead>\n    <tr style=\"text-align: right;\">\n      <th></th>\n      <th>PostId</th>\n      <th>PostTypeId</th>\n      <th>AcceptedAnswerId</th>\n      <th>CreationDate</th>\n      <th>Score</th>\n      <th>ViewCount</th>\n      <th>Body</th>\n      <th>OwnerUserId</th>\n      <th>LastEditorUserId</th>\n      <th>LastEditorDisplayName</th>\n      <th>...</th>\n      <th>LastEditorDisplayName</th>\n      <th>LastEditDate</th>\n      <th>Title</th>\n      <th>Tags</th>\n      <th>AnswerCount</th>\n      <th>CommentCount</th>\n      <th>FavoriteCount</th>\n      <th>CommunityOwnedDate</th>\n      <th>ContentLicense</th>\n      <th>ParentId</th>\n    </tr>\n  </thead>\n  <tbody>\n    <tr>\n      <th>0</th>\n      <td>337</td>\n      <td>1</td>\n      <td>342.0</td>\n      <td>2008-08-02T03:35:55.697</td>\n      <td>82</td>\n      <td>10098</td>\n      <td>&lt;p&gt;I am about to build a piece of a project th...</td>\n      <td>111.0</td>\n      <td>2336654.0</td>\n      <td>None</td>\n      <td>...</td>\n      <td>None</td>\n      <td>None</td>\n      <td>None</td>\n      <td>None</td>\n      <td>None</td>\n      <td>1</td>\n      <td>None</td>\n      <td>None</td>\n      <td>CC BY-SA 2.5</td>\n      <td>337</td>\n    </tr>\n    <tr>\n      <th>1</th>\n      <td>469</td>\n      <td>1</td>\n      <td>3040.0</td>\n      <td>2008-08-02T15:11:16.430</td>\n      <td>47</td>\n      <td>4372</td>\n      <td>&lt;p&gt;I am using the Photoshop's javascript API t...</td>\n      <td>147.0</td>\n      <td>1997093.0</td>\n      <td>Ash</td>\n      <td>...</td>\n      <td>None</td>\n      <td>None</td>\n      <td>None</td>\n      <td>None</td>\n      <td>None</td>\n      <td>0</td>\n      <td>None</td>\n      <td>None</td>\n      <td>CC BY-SA 2.5</td>\n      <td>469</td>\n    </tr>\n    <tr>\n      <th>2</th>\n      <td>502</td>\n      <td>1</td>\n      <td>7090.0</td>\n      <td>2008-08-02T17:01:58.500</td>\n      <td>58</td>\n      <td>17199</td>\n      <td>&lt;p&gt;I have a cross-platform (Python) applicatio...</td>\n      <td>147.0</td>\n      <td>9780149.0</td>\n      <td>Adam Mitz</td>\n      <td>...</td>\n      <td>Jeff Atwood</td>\n      <td>2015-08-29T23:20:48.107</td>\n      <td>None</td>\n      <td>None</td>\n      <td>None</td>\n      <td>0</td>\n      <td>None</td>\n      <td>None</td>\n      <td>CC BY-SA 3.0</td>\n      <td>502</td>\n    </tr>\n    <tr>\n      <th>3</th>\n      <td>535</td>\n      <td>1</td>\n      <td>541.0</td>\n      <td>2008-08-02T18:43:54.787</td>\n      <td>68</td>\n      <td>9540</td>\n      <td>&lt;p&gt;I am starting to work on a hobby project wi...</td>\n      <td>154.0</td>\n      <td>7232508.0</td>\n      <td>Robert Gamble</td>\n      <td>...</td>\n      <td>user1873471</td>\n      <td>2013-01-28T03:54:17.217</td>\n      <td>None</td>\n      <td>None</td>\n      <td>None</td>\n      <td>4</td>\n      <td>None</td>\n      <td>None</td>\n      <td>CC BY-SA 3.0</td>\n      <td>535</td>\n    </tr>\n    <tr>\n      <th>4</th>\n      <td>594</td>\n      <td>1</td>\n      <td>595.0</td>\n      <td>2008-08-03T01:15:08.507</td>\n      <td>55</td>\n      <td>57408</td>\n      <td>&lt;p&gt;There are several ways to iterate over a re...</td>\n      <td>116.0</td>\n      <td>116.0</td>\n      <td>Mark Harrison</td>\n      <td>...</td>\n      <td>None</td>\n      <td>2016-10-15T20:47:11.027</td>\n      <td>None</td>\n      <td>None</td>\n      <td>None</td>\n      <td>2</td>\n      <td>None</td>\n      <td>None</td>\n      <td>CC BY-SA 3.0</td>\n      <td>594</td>\n    </tr>\n    <tr>\n      <th>...</th>\n      <td>...</td>\n      <td>...</td>\n      <td>...</td>\n      <td>...</td>\n      <td>...</td>\n      <td>...</td>\n      <td>...</td>\n      <td>...</td>\n      <td>...</td>\n      <td>...</td>\n      <td>...</td>\n      <td>...</td>\n      <td>...</td>\n      <td>...</td>\n      <td>...</td>\n      <td>...</td>\n      <td>...</td>\n      <td>...</td>\n      <td>...</td>\n      <td>...</td>\n      <td>...</td>\n    </tr>\n    <tr>\n      <th>69995</th>\n      <td>53827601</td>\n      <td>1</td>\n      <td>53827671.0</td>\n      <td>2018-12-18T06:39:38.237</td>\n      <td>14</td>\n      <td>23334</td>\n      <td>&lt;p&gt;I am getting below error. Is there any way ...</td>\n      <td>8930395.0</td>\n      <td>8930395.0</td>\n      <td>None</td>\n      <td>...</td>\n      <td>None</td>\n      <td>None</td>\n      <td>None</td>\n      <td>None</td>\n      <td>None</td>\n      <td>1</td>\n      <td>None</td>\n      <td>None</td>\n      <td>CC BY-SA 4.0</td>\n      <td>53827601</td>\n    </tr>\n    <tr>\n      <th>69996</th>\n      <td>53829045</td>\n      <td>1</td>\n      <td>53829145.0</td>\n      <td>2018-12-18T08:32:12.813</td>\n      <td>14</td>\n      <td>1351</td>\n      <td>&lt;pre&gt;&lt;code&gt;variable=\";CREATEDBY~string~1~~72~0...</td>\n      <td>2996372.0</td>\n      <td>63550.0</td>\n      <td>None</td>\n      <td>...</td>\n      <td>None</td>\n      <td>2018-12-18T09:33:34.967</td>\n      <td>None</td>\n      <td>None</td>\n      <td>None</td>\n      <td>6</td>\n      <td>None</td>\n      <td>None</td>\n      <td>CC BY-SA 4.0</td>\n      <td>53829045</td>\n    </tr>\n    <tr>\n      <th>69997</th>\n      <td>53829896</td>\n      <td>1</td>\n      <td>53829925.0</td>\n      <td>2018-12-18T09:26:32.470</td>\n      <td>11</td>\n      <td>63713</td>\n      <td>&lt;p&gt;I'm trying with the code from link below to...</td>\n      <td>8410477.0</td>\n      <td>NaN</td>\n      <td>None</td>\n      <td>...</td>\n      <td>None</td>\n      <td>2018-12-18T09:31:48.723</td>\n      <td>None</td>\n      <td>None</td>\n      <td>None</td>\n      <td>0</td>\n      <td>None</td>\n      <td>None</td>\n      <td>CC BY-SA 4.0</td>\n      <td>53829896</td>\n    </tr>\n    <tr>\n      <th>69998</th>\n      <td>53830081</td>\n      <td>1</td>\n      <td>53830333.0</td>\n      <td>2018-12-18T09:37:15.270</td>\n      <td>12</td>\n      <td>97349</td>\n      <td>&lt;p&gt;I am currently trying to compare values fro...</td>\n      <td>10805303.0</td>\n      <td>9698684.0</td>\n      <td>None</td>\n      <td>...</td>\n      <td>None</td>\n      <td>2020-05-20T13:51:35.490</td>\n      <td>None</td>\n      <td>None</td>\n      <td>None</td>\n      <td>0</td>\n      <td>None</td>\n      <td>None</td>\n      <td>CC BY-SA 4.0</td>\n      <td>53830081</td>\n    </tr>\n    <tr>\n      <th>69999</th>\n      <td>53832607</td>\n      <td>1</td>\n      <td>NaN</td>\n      <td>2018-12-18T12:03:57.233</td>\n      <td>11</td>\n      <td>30479</td>\n      <td>&lt;p&gt;I have a list:&lt;/p&gt;\\n&lt;pre&gt;&lt;code&gt;ueid_list = ...</td>\n      <td>10779037.0</td>\n      <td>63550.0</td>\n      <td>None</td>\n      <td>...</td>\n      <td>None</td>\n      <td>2021-07-20T11:07:51.030</td>\n      <td>None</td>\n      <td>None</td>\n      <td>None</td>\n      <td>0</td>\n      <td>None</td>\n      <td>None</td>\n      <td>CC BY-SA 4.0</td>\n      <td>53832607</td>\n    </tr>\n  </tbody>\n</table>\n<p>70000 rows × 38 columns</p>\n</div>"
     },
     "execution_count": 18,
     "metadata": {},
     "output_type": "execute_result"
    }
   ],
   "source": [
    "import pandas as pd\n",
    "\n",
    "valid_questions = pd.read_sql_query(f\"\"\"\n",
    "        SELECT * FROM Post Q\n",
    "        INNER JOIN Post A ON Q.PostId = A.ParentId\n",
    "        WHERE (Q.Tags LIKE '%<python>%')\n",
    "        GROUP BY A.ParentId\n",
    "        HAVING SUM(A.Score) > 15\n",
    "        LIMIT {QUESTIONS_RETREIVED}\n",
    "\"\"\", db)\n",
    "#valid_questions.set_index('PostId', inplace=True)\n",
    "valid_questions"
   ],
   "metadata": {
    "collapsed": false
   }
  },
  {
   "cell_type": "code",
   "execution_count": null,
   "outputs": [],
   "source": [],
   "metadata": {
    "collapsed": false
   }
  }
 ],
 "metadata": {
  "kernelspec": {
   "display_name": "Python 3",
   "language": "python",
   "name": "python3"
  },
  "language_info": {
   "codemirror_mode": {
    "name": "ipython",
    "version": 2
   },
   "file_extension": ".py",
   "mimetype": "text/x-python",
   "name": "python",
   "nbconvert_exporter": "python",
   "pygments_lexer": "ipython2",
   "version": "2.7.6"
  }
 },
 "nbformat": 4,
 "nbformat_minor": 0
}
